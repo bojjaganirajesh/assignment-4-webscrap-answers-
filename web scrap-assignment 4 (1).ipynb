{
 "cells": [
  {
   "cell_type": "raw",
   "id": "83973d13",
   "metadata": {},
   "source": [
    "#1.\tScrape the details of most viewed videos on YouTube from Wikipedia.\n",
    "Url = https://en.wikipedia.org/wiki/List_of_most-viewed_YouTube_videos You need to find following details:\n",
    "A)\tRank\n",
    "B)\tName\n",
    "C)\tArtist\n",
    "D)\tUpload date\n",
    "E)\tViews\n",
    "\n"
   ]
  },
  {
   "cell_type": "code",
   "execution_count": 15,
   "id": "6e602fa8",
   "metadata": {},
   "outputs": [],
   "source": [
    "import pandas as pd\n",
    "import selenium\n",
    "from selenium import webdriver\n",
    "from bs4 import BeautifulSoup\n",
    "import warnings\n",
    "warnings.filterwarnings(\"ignore\")\n",
    "import time\n",
    "from selenium.common.exceptions import NoSuchElementException\n"
   ]
  },
  {
   "cell_type": "code",
   "execution_count": 39,
   "id": "0c6e6690",
   "metadata": {},
   "outputs": [],
   "source": [
    "driver = webdriver.Chrome(r\"C:\\Users\\hamsa\\Desktop\\datascience project\\chrome webdriver\\chromedriver.exe\")\n",
    "driver.get(\"https://en.wikipedia.org/wiki/List_of_most-viewed_Indian_YouTube_videos#Top_videos\")"
   ]
  },
  {
   "cell_type": "code",
   "execution_count": 40,
   "id": "9f2498f4",
   "metadata": {},
   "outputs": [],
   "source": [
    "urls= []\n",
    "for i in driver.find_elements_by_xpath('//a[@class=\"mw-jump-link\"]'):\n",
    "    urls.append(i.get_attribute(\"href\"))"
   ]
  },
  {
   "cell_type": "code",
   "execution_count": 41,
   "id": "cdd6aa37",
   "metadata": {},
   "outputs": [
    {
     "data": {
      "text/plain": [
       "2"
      ]
     },
     "execution_count": 41,
     "metadata": {},
     "output_type": "execute_result"
    }
   ],
   "source": [
    "len(urls)"
   ]
  },
  {
   "cell_type": "code",
   "execution_count": 53,
   "id": "c9e89fd8",
   "metadata": {},
   "outputs": [
    {
     "data": {
      "text/plain": [
       "2"
      ]
     },
     "execution_count": 53,
     "metadata": {},
     "output_type": "execute_result"
    }
   ],
   "source": [
    "Rank= [] \n",
    "Name= [] \n",
    "Artist= [] \n",
    "Upload_date= []\n",
    "Views= []\n",
    "\n",
    "for i in urls:\n",
    "    driver.get(i)\n",
    "    \n",
    "    try:\n",
    "        Rank_all = driver.find_element_by_xpath(\"/html/body/div[3]/div[3]/div[5]/div[1]/table[1]/thead/tr/th[1]\")\n",
    "        Rank.append(Rank_all.text)\n",
    "    except:\n",
    "        Rank.append('_')\n",
    "    try:  \n",
    "        Name_title = driver.find_element_by_xpath(\"/html/body/div[3]/div[3]/div[5]/div[1]/table[1]/thead/tr/th[2]\")\n",
    "        Name.append(Name_title.text)\n",
    "    except:\n",
    "        Name.append('_')\n",
    "    try:\n",
    "        Artist_total = driver.find_element_by_xpath('//*[@id=\"mw-content-text\"]/div[1]/table[1]/thead/tr/th[3]')\n",
    "        Artist.append(Artist.text)\n",
    "    except:\n",
    "        Artist.append('-')\n",
    "    try:    \n",
    "        Date= driver.find_element_by_xpath('//*[@id=\"mw-content-text\"]/div[1]/table[1]/thead/tr/th[6]')\n",
    "        Upload_date.append(Date.text)\n",
    "    except:\n",
    "        Upload_date.append('-')\n",
    "    try:\n",
    "        Views_all = driver.find_element_by_xpath('//*[@id=\"mw-content-text\"]/div[1]/table[1]/thead/tr/th[5]')\n",
    "        Views.append(Views.text)\n",
    "    except:\n",
    "        Views.append('-')\n",
    "        \n",
    "   \n",
    "   \n",
    "len(Rank)\n",
    "len(Name)\n",
    "len(Artist)\n",
    "len(Upload_date)\n",
    "len(Views)\n",
    "\n"
   ]
  },
  {
   "cell_type": "code",
   "execution_count": 50,
   "id": "31f1ea71",
   "metadata": {},
   "outputs": [
    {
     "data": {
      "text/html": [
       "<div>\n",
       "<style scoped>\n",
       "    .dataframe tbody tr th:only-of-type {\n",
       "        vertical-align: middle;\n",
       "    }\n",
       "\n",
       "    .dataframe tbody tr th {\n",
       "        vertical-align: top;\n",
       "    }\n",
       "\n",
       "    .dataframe thead th {\n",
       "        text-align: right;\n",
       "    }\n",
       "</style>\n",
       "<table border=\"1\" class=\"dataframe\">\n",
       "  <thead>\n",
       "    <tr style=\"text-align: right;\">\n",
       "      <th></th>\n",
       "      <th>Rank</th>\n",
       "      <th>Name</th>\n",
       "      <th>Artist</th>\n",
       "      <th>Upload_date</th>\n",
       "      <th>Views</th>\n",
       "    </tr>\n",
       "  </thead>\n",
       "  <tbody>\n",
       "    <tr>\n",
       "      <th>0</th>\n",
       "      <td>No.</td>\n",
       "      <td>-</td>\n",
       "      <td>-</td>\n",
       "      <td>Upload date</td>\n",
       "      <td>-</td>\n",
       "    </tr>\n",
       "    <tr>\n",
       "      <th>1</th>\n",
       "      <td>No.</td>\n",
       "      <td>-</td>\n",
       "      <td>-</td>\n",
       "      <td>Upload date</td>\n",
       "      <td>-</td>\n",
       "    </tr>\n",
       "  </tbody>\n",
       "</table>\n",
       "</div>"
      ],
      "text/plain": [
       "  Rank Name Artist  Upload_date Views\n",
       "0  No.    -      -  Upload date     -\n",
       "1  No.    -      -  Upload date     -"
      ]
     },
     "execution_count": 50,
     "metadata": {},
     "output_type": "execute_result"
    }
   ],
   "source": [
    "#making a dataframe\n",
    "\n",
    "product_page = pd.DataFrame({})\n",
    "\n",
    "product_page['Rank']= Rank\n",
    "product_page['Name']= Name\n",
    "product_page['Artist']= Artist\n",
    "product_page['Upload_date']= Upload_date\n",
    "product_page['Views']= Views\n",
    "\n",
    "product_page  "
   ]
  },
  {
   "cell_type": "raw",
   "id": "e4ef35d9",
   "metadata": {},
   "source": [
    "#\n",
    "2.)\tScrape the details team India’s international fixtures from bcci.tv. Url = https://www.bcci.tv/.\n",
    "You need to find following details:\n",
    "A)\tMatch title (I.e. 1st ODI)\n",
    "B)\tSeries\n",
    "C)\tPlace\n",
    "D)\tDate\n",
    "E)\tTime\n",
    "Note: - From bcci.tv home page you have reach to the international fixture page through code.\n"
   ]
  },
  {
   "cell_type": "code",
   "execution_count": 16,
   "id": "a74917d7",
   "metadata": {},
   "outputs": [],
   "source": [
    "import pandas as pd\n",
    "import selenium\n",
    "from selenium import webdriver\n",
    "from selenium.common.exceptions import StaleElementReferenceException, NoSuchElementException"
   ]
  },
  {
   "cell_type": "code",
   "execution_count": 17,
   "id": "ed7f544e",
   "metadata": {},
   "outputs": [],
   "source": [
    "import requests\n",
    "from selenium import webdriver\n",
    "\n",
    "browser = webdriver.Chrome()\n",
    "\n",
    "browser.get(\"https://www.bcci.tv/\")\n",
    "from bs4 import BeautifulSoup"
   ]
  },
  {
   "cell_type": "code",
   "execution_count": 18,
   "id": "13498aa8",
   "metadata": {},
   "outputs": [],
   "source": [
    "names=[]"
   ]
  },
  {
   "cell_type": "code",
   "execution_count": 19,
   "id": "6d2e5643",
   "metadata": {},
   "outputs": [
    {
     "data": {
      "text/plain": [
       "[]"
      ]
     },
     "execution_count": 19,
     "metadata": {},
     "output_type": "execute_result"
    }
   ],
   "source": [
    "name_tags=browser.find_elements_by_xpath(\"//p[@class='fixture__additional-info']\")\n",
    "for i in name_tags:\n",
    "    if i.text is None :\n",
    "        names.append(\"no rating\") \n",
    "    else:\n",
    "        names.append(i.text)\n",
    "names"
   ]
  },
  {
   "cell_type": "code",
   "execution_count": 20,
   "id": "4dfff1ac",
   "metadata": {},
   "outputs": [],
   "source": [
    "series=[]"
   ]
  },
  {
   "cell_type": "code",
   "execution_count": 21,
   "id": "7b352d2e",
   "metadata": {},
   "outputs": [
    {
     "data": {
      "text/plain": [
       "[]"
      ]
     },
     "execution_count": 21,
     "metadata": {},
     "output_type": "execute_result"
    }
   ],
   "source": [
    "series_tags=browser.find_elements_by_xpath(\"//span[@class='u-unskewed-text fixture__format']\")\n",
    "for i in series_tags:\n",
    "    if i.text is None :\n",
    "        series.append(\"no rating\") \n",
    "    else:\n",
    "        series.append(i.text)\n",
    "series"
   ]
  },
  {
   "cell_type": "code",
   "execution_count": 22,
   "id": "bb161f39",
   "metadata": {},
   "outputs": [],
   "source": [
    "date=[]"
   ]
  },
  {
   "cell_type": "code",
   "execution_count": 23,
   "id": "2759000b",
   "metadata": {},
   "outputs": [
    {
     "data": {
      "text/plain": [
       "[]"
      ]
     },
     "execution_count": 23,
     "metadata": {},
     "output_type": "execute_result"
    }
   ],
   "source": [
    "date_tags=browser.find_elements_by_xpath(\"//span[@class='fixture__datetime tablet-only']\")\n",
    "for i in date_tags:\n",
    "    if i.text is None :\n",
    "        date.append(\"no rating\") \n",
    "    else:\n",
    "        date.append(i.text)\n",
    "date"
   ]
  },
  {
   "cell_type": "code",
   "execution_count": 24,
   "id": "cfb6e974",
   "metadata": {},
   "outputs": [],
   "source": [
    "import pandas as pd\n",
    "bcci=pd.DataFrame({})\n",
    "bcci['Names']=names[0:32]\n",
    "bcci['Series']=series[0:32]\n",
    "bcci['Date']=date[0:32]"
   ]
  },
  {
   "cell_type": "code",
   "execution_count": 25,
   "id": "4a6899ca",
   "metadata": {},
   "outputs": [
    {
     "data": {
      "text/html": [
       "<div>\n",
       "<style scoped>\n",
       "    .dataframe tbody tr th:only-of-type {\n",
       "        vertical-align: middle;\n",
       "    }\n",
       "\n",
       "    .dataframe tbody tr th {\n",
       "        vertical-align: top;\n",
       "    }\n",
       "\n",
       "    .dataframe thead th {\n",
       "        text-align: right;\n",
       "    }\n",
       "</style>\n",
       "<table border=\"1\" class=\"dataframe\">\n",
       "  <thead>\n",
       "    <tr style=\"text-align: right;\">\n",
       "      <th></th>\n",
       "      <th>Names</th>\n",
       "      <th>Series</th>\n",
       "      <th>Date</th>\n",
       "    </tr>\n",
       "  </thead>\n",
       "  <tbody>\n",
       "  </tbody>\n",
       "</table>\n",
       "</div>"
      ],
      "text/plain": [
       "Empty DataFrame\n",
       "Columns: [Names, Series, Date]\n",
       "Index: []"
      ]
     },
     "execution_count": 25,
     "metadata": {},
     "output_type": "execute_result"
    }
   ],
   "source": [
    "bcci"
   ]
  },
  {
   "cell_type": "raw",
   "id": "d43f9653",
   "metadata": {},
   "source": [
    "#\n",
    "3.\tScrape the details of selenium exception from guru99.com. Url = https://www.guru99.com/\n",
    "You need to find following details:\n",
    "A)\tName\n",
    "B)\tDescription\n",
    "Note: - From guru99 home page you have to reach to selenium exception handling page through code.\n"
   ]
  },
  {
   "cell_type": "code",
   "execution_count": 26,
   "id": "b5fe9562",
   "metadata": {},
   "outputs": [],
   "source": [
    "import pandas as pd\n",
    "import selenium\n",
    "from selenium import webdriver\n",
    "from selenium.common.exceptions import StaleElementReferenceException, NoSuchElementException"
   ]
  },
  {
   "cell_type": "code",
   "execution_count": 27,
   "id": "235d353f",
   "metadata": {},
   "outputs": [],
   "source": [
    "import requests\n",
    "from selenium import webdriver\n",
    "\n",
    "browser = webdriver.Chrome()\n",
    "\n",
    "browser.get(\" https://www.guru99.com/\")\n",
    "from bs4 import BeautifulSoup"
   ]
  },
  {
   "cell_type": "code",
   "execution_count": 32,
   "id": "09ad387e",
   "metadata": {},
   "outputs": [],
   "source": [
    "names=[]"
   ]
  },
  {
   "cell_type": "code",
   "execution_count": 38,
   "id": "0fe9b32c",
   "metadata": {},
   "outputs": [],
   "source": [
    "name_tags=browser.find_elements_by_xpath(\"//li[@class='fa fa-chevron-circle-right']\")\n",
    "for i in name_tags:\n",
    "    if i.text is None :\n",
    "        names.append(\"no rating\") \n",
    "    else:\n",
    "        names.append(i.text)"
   ]
  },
  {
   "cell_type": "code",
   "execution_count": 39,
   "id": "35c23a13",
   "metadata": {},
   "outputs": [
    {
     "ename": "IndexError",
     "evalue": "list index out of range",
     "output_type": "error",
     "traceback": [
      "\u001b[1;31m---------------------------------------------------------------------------\u001b[0m",
      "\u001b[1;31mIndexError\u001b[0m                                Traceback (most recent call last)",
      "\u001b[1;32m~\\AppData\\Local\\Temp/ipykernel_29492/108518708.py\u001b[0m in \u001b[0;36m<module>\u001b[1;34m\u001b[0m\n\u001b[1;32m----> 1\u001b[1;33m \u001b[0mnames\u001b[0m\u001b[1;33m[\u001b[0m\u001b[1;36m24\u001b[0m\u001b[1;33m]\u001b[0m\u001b[1;33m\u001b[0m\u001b[1;33m\u001b[0m\u001b[0m\n\u001b[0m",
      "\u001b[1;31mIndexError\u001b[0m: list index out of range"
     ]
    }
   ],
   "source": [
    "names[24]"
   ]
  },
  {
   "cell_type": "code",
   "execution_count": 40,
   "id": "1e1544c3",
   "metadata": {},
   "outputs": [],
   "source": [
    "summary=[]"
   ]
  },
  {
   "cell_type": "code",
   "execution_count": 41,
   "id": "873ab3bd",
   "metadata": {},
   "outputs": [],
   "source": [
    "urls=browser.find_elements_by_tag_name('a')\n",
    "UR=[]\n",
    "for i in urls[:1]:\n",
    "    UR.append(i.get_attribute('href'))\n",
    "for url in UR:\n",
    "    browser.get(url)\n",
    "\n",
    "try:\n",
    "    summaries=browser.find_element_by_tag_name('p')\n",
    "    summary.append(summaries.text)\n",
    "except NoSuchElementException   as e:\n",
    "    summary.append(\"No rating\")"
   ]
  },
  {
   "cell_type": "code",
   "execution_count": 37,
   "id": "7706e18e",
   "metadata": {},
   "outputs": [
    {
     "data": {
      "text/plain": [
       "['We make tons of efforts to take boredom out of learning and make it fun']"
      ]
     },
     "execution_count": 37,
     "metadata": {},
     "output_type": "execute_result"
    }
   ],
   "source": [
    "summary"
   ]
  },
  {
   "cell_type": "code",
   "execution_count": 42,
   "id": "73db546e",
   "metadata": {},
   "outputs": [],
   "source": [
    "import pandas as pd\n",
    "books=pd.DataFrame({})\n",
    "books['Names']=names[24:25]\n",
    "books['Summary']=summary[0:1]"
   ]
  },
  {
   "cell_type": "code",
   "execution_count": 43,
   "id": "33962b7a",
   "metadata": {},
   "outputs": [
    {
     "data": {
      "text/html": [
       "<div>\n",
       "<style scoped>\n",
       "    .dataframe tbody tr th:only-of-type {\n",
       "        vertical-align: middle;\n",
       "    }\n",
       "\n",
       "    .dataframe tbody tr th {\n",
       "        vertical-align: top;\n",
       "    }\n",
       "\n",
       "    .dataframe thead th {\n",
       "        text-align: right;\n",
       "    }\n",
       "</style>\n",
       "<table border=\"1\" class=\"dataframe\">\n",
       "  <thead>\n",
       "    <tr style=\"text-align: right;\">\n",
       "      <th></th>\n",
       "      <th>Names</th>\n",
       "      <th>Summary</th>\n",
       "    </tr>\n",
       "  </thead>\n",
       "  <tbody>\n",
       "    <tr>\n",
       "      <th>0</th>\n",
       "      <td>NaN</td>\n",
       "      <td>We make tons of efforts to take boredom out of...</td>\n",
       "    </tr>\n",
       "  </tbody>\n",
       "</table>\n",
       "</div>"
      ],
      "text/plain": [
       "   Names                                            Summary\n",
       "0    NaN  We make tons of efforts to take boredom out of..."
      ]
     },
     "execution_count": 43,
     "metadata": {},
     "output_type": "execute_result"
    }
   ],
   "source": [
    "books"
   ]
  },
  {
   "cell_type": "raw",
   "id": "53cf6afe",
   "metadata": {},
   "source": [
    "#\n",
    "4.\tScrape the details of State-wise GDP of India from statisticstime.com. Url = http://statisticstimes.com/\n",
    "You have to find following details:\n",
    "A)\tRank\n",
    "B)\tState\n",
    "C) GSDP(18-19)\n",
    "D) GSDP(17-18)\n",
    "E)\tShare(2017)\n",
    "F)\tGDP($ billion)\n",
    "Note: - From statisticstimes home page you have to reach to economy page through code.\n"
   ]
  },
  {
   "cell_type": "code",
   "execution_count": 73,
   "id": "57c376c2",
   "metadata": {},
   "outputs": [],
   "source": [
    "import pandas as pd\n",
    "import selenium\n",
    "from selenium import webdriver\n",
    "from selenium.common.exceptions import StaleElementReferenceException, NoSuchElementException"
   ]
  },
  {
   "cell_type": "code",
   "execution_count": 74,
   "id": "ef35c62e",
   "metadata": {},
   "outputs": [],
   "source": [
    "import requests\n",
    "from selenium import webdriver\n",
    "\n",
    "browser = webdriver.Chrome()\n",
    "\n",
    "browser.get(\"https://m.statisticstimes.com/economy/india/indian-states-gdp.php\")\n",
    "from bs4 import BeautifulSoup"
   ]
  },
  {
   "cell_type": "code",
   "execution_count": 75,
   "id": "ebd89a30",
   "metadata": {},
   "outputs": [],
   "source": [
    "ranks=[]"
   ]
  },
  {
   "cell_type": "code",
   "execution_count": 76,
   "id": "9fc64481",
   "metadata": {},
   "outputs": [],
   "source": [
    "rank_tags=browser.find_elements_by_xpath(\"//td[@class='data1']\")\n",
    "for i in rank_tags:\n",
    "    if i.text is None :\n",
    "        ranks.append(\"no rating\") \n",
    "    else:\n",
    "        ranks.append(i.text)"
   ]
  },
  {
   "cell_type": "code",
   "execution_count": 77,
   "id": "f126c6f6",
   "metadata": {},
   "outputs": [
    {
     "data": {
      "text/plain": [
       "['1',\n",
       " '2',\n",
       " '3',\n",
       " '4',\n",
       " '5',\n",
       " '6',\n",
       " '7',\n",
       " '8',\n",
       " '9',\n",
       " '10',\n",
       " '11',\n",
       " '12',\n",
       " '13',\n",
       " '14',\n",
       " '15',\n",
       " '16',\n",
       " '17',\n",
       " '18',\n",
       " '19',\n",
       " '20',\n",
       " '21',\n",
       " '22',\n",
       " '23',\n",
       " '24',\n",
       " '25',\n",
       " '26',\n",
       " '27',\n",
       " '28',\n",
       " '29',\n",
       " '30',\n",
       " '31',\n",
       " '32',\n",
       " '33']"
      ]
     },
     "execution_count": 77,
     "metadata": {},
     "output_type": "execute_result"
    }
   ],
   "source": [
    "ranks[0:33]"
   ]
  },
  {
   "cell_type": "code",
   "execution_count": 78,
   "id": "4fdb0bce",
   "metadata": {},
   "outputs": [],
   "source": [
    "names=[]"
   ]
  },
  {
   "cell_type": "code",
   "execution_count": 247,
   "id": "c6970cd2",
   "metadata": {},
   "outputs": [
    {
     "ename": "MaxRetryError",
     "evalue": "HTTPConnectionPool(host='localhost', port=59922): Max retries exceeded with url: /session/fe9dde51870dd7722c72a80fd58aeb56/elements (Caused by NewConnectionError('<urllib3.connection.HTTPConnection object at 0x000002A5D270BAC0>: Failed to establish a new connection: [WinError 10061] No connection could be made because the target machine actively refused it'))",
     "output_type": "error",
     "traceback": [
      "\u001b[1;31m---------------------------------------------------------------------------\u001b[0m",
      "\u001b[1;31mConnectionRefusedError\u001b[0m                    Traceback (most recent call last)",
      "\u001b[1;32mC:\\ProgramData\\Anaconda3\\lib\\site-packages\\urllib3\\connection.py\u001b[0m in \u001b[0;36m_new_conn\u001b[1;34m(self)\u001b[0m\n\u001b[0;32m    173\u001b[0m         \u001b[1;32mtry\u001b[0m\u001b[1;33m:\u001b[0m\u001b[1;33m\u001b[0m\u001b[1;33m\u001b[0m\u001b[0m\n\u001b[1;32m--> 174\u001b[1;33m             conn = connection.create_connection(\n\u001b[0m\u001b[0;32m    175\u001b[0m                 \u001b[1;33m(\u001b[0m\u001b[0mself\u001b[0m\u001b[1;33m.\u001b[0m\u001b[0m_dns_host\u001b[0m\u001b[1;33m,\u001b[0m \u001b[0mself\u001b[0m\u001b[1;33m.\u001b[0m\u001b[0mport\u001b[0m\u001b[1;33m)\u001b[0m\u001b[1;33m,\u001b[0m \u001b[0mself\u001b[0m\u001b[1;33m.\u001b[0m\u001b[0mtimeout\u001b[0m\u001b[1;33m,\u001b[0m \u001b[1;33m**\u001b[0m\u001b[0mextra_kw\u001b[0m\u001b[1;33m\u001b[0m\u001b[1;33m\u001b[0m\u001b[0m\n",
      "\u001b[1;32mC:\\ProgramData\\Anaconda3\\lib\\site-packages\\urllib3\\util\\connection.py\u001b[0m in \u001b[0;36mcreate_connection\u001b[1;34m(address, timeout, source_address, socket_options)\u001b[0m\n\u001b[0;32m     95\u001b[0m     \u001b[1;32mif\u001b[0m \u001b[0merr\u001b[0m \u001b[1;32mis\u001b[0m \u001b[1;32mnot\u001b[0m \u001b[1;32mNone\u001b[0m\u001b[1;33m:\u001b[0m\u001b[1;33m\u001b[0m\u001b[1;33m\u001b[0m\u001b[0m\n\u001b[1;32m---> 96\u001b[1;33m         \u001b[1;32mraise\u001b[0m \u001b[0merr\u001b[0m\u001b[1;33m\u001b[0m\u001b[1;33m\u001b[0m\u001b[0m\n\u001b[0m\u001b[0;32m     97\u001b[0m \u001b[1;33m\u001b[0m\u001b[0m\n",
      "\u001b[1;32mC:\\ProgramData\\Anaconda3\\lib\\site-packages\\urllib3\\util\\connection.py\u001b[0m in \u001b[0;36mcreate_connection\u001b[1;34m(address, timeout, source_address, socket_options)\u001b[0m\n\u001b[0;32m     85\u001b[0m                 \u001b[0msock\u001b[0m\u001b[1;33m.\u001b[0m\u001b[0mbind\u001b[0m\u001b[1;33m(\u001b[0m\u001b[0msource_address\u001b[0m\u001b[1;33m)\u001b[0m\u001b[1;33m\u001b[0m\u001b[1;33m\u001b[0m\u001b[0m\n\u001b[1;32m---> 86\u001b[1;33m             \u001b[0msock\u001b[0m\u001b[1;33m.\u001b[0m\u001b[0mconnect\u001b[0m\u001b[1;33m(\u001b[0m\u001b[0msa\u001b[0m\u001b[1;33m)\u001b[0m\u001b[1;33m\u001b[0m\u001b[1;33m\u001b[0m\u001b[0m\n\u001b[0m\u001b[0;32m     87\u001b[0m             \u001b[1;32mreturn\u001b[0m \u001b[0msock\u001b[0m\u001b[1;33m\u001b[0m\u001b[1;33m\u001b[0m\u001b[0m\n",
      "\u001b[1;31mConnectionRefusedError\u001b[0m: [WinError 10061] No connection could be made because the target machine actively refused it",
      "\nDuring handling of the above exception, another exception occurred:\n",
      "\u001b[1;31mNewConnectionError\u001b[0m                        Traceback (most recent call last)",
      "\u001b[1;32mC:\\ProgramData\\Anaconda3\\lib\\site-packages\\urllib3\\connectionpool.py\u001b[0m in \u001b[0;36murlopen\u001b[1;34m(self, method, url, body, headers, retries, redirect, assert_same_host, timeout, pool_timeout, release_conn, chunked, body_pos, **response_kw)\u001b[0m\n\u001b[0;32m    698\u001b[0m             \u001b[1;31m# Make the request on the httplib connection object.\u001b[0m\u001b[1;33m\u001b[0m\u001b[1;33m\u001b[0m\u001b[0m\n\u001b[1;32m--> 699\u001b[1;33m             httplib_response = self._make_request(\n\u001b[0m\u001b[0;32m    700\u001b[0m                 \u001b[0mconn\u001b[0m\u001b[1;33m,\u001b[0m\u001b[1;33m\u001b[0m\u001b[1;33m\u001b[0m\u001b[0m\n",
      "\u001b[1;32mC:\\ProgramData\\Anaconda3\\lib\\site-packages\\urllib3\\connectionpool.py\u001b[0m in \u001b[0;36m_make_request\u001b[1;34m(self, conn, method, url, timeout, chunked, **httplib_request_kw)\u001b[0m\n\u001b[0;32m    393\u001b[0m             \u001b[1;32melse\u001b[0m\u001b[1;33m:\u001b[0m\u001b[1;33m\u001b[0m\u001b[1;33m\u001b[0m\u001b[0m\n\u001b[1;32m--> 394\u001b[1;33m                 \u001b[0mconn\u001b[0m\u001b[1;33m.\u001b[0m\u001b[0mrequest\u001b[0m\u001b[1;33m(\u001b[0m\u001b[0mmethod\u001b[0m\u001b[1;33m,\u001b[0m \u001b[0murl\u001b[0m\u001b[1;33m,\u001b[0m \u001b[1;33m**\u001b[0m\u001b[0mhttplib_request_kw\u001b[0m\u001b[1;33m)\u001b[0m\u001b[1;33m\u001b[0m\u001b[1;33m\u001b[0m\u001b[0m\n\u001b[0m\u001b[0;32m    395\u001b[0m \u001b[1;33m\u001b[0m\u001b[0m\n",
      "\u001b[1;32mC:\\ProgramData\\Anaconda3\\lib\\site-packages\\urllib3\\connection.py\u001b[0m in \u001b[0;36mrequest\u001b[1;34m(self, method, url, body, headers)\u001b[0m\n\u001b[0;32m    238\u001b[0m             \u001b[0mheaders\u001b[0m\u001b[1;33m[\u001b[0m\u001b[1;34m\"User-Agent\"\u001b[0m\u001b[1;33m]\u001b[0m \u001b[1;33m=\u001b[0m \u001b[0m_get_default_user_agent\u001b[0m\u001b[1;33m(\u001b[0m\u001b[1;33m)\u001b[0m\u001b[1;33m\u001b[0m\u001b[1;33m\u001b[0m\u001b[0m\n\u001b[1;32m--> 239\u001b[1;33m         \u001b[0msuper\u001b[0m\u001b[1;33m(\u001b[0m\u001b[0mHTTPConnection\u001b[0m\u001b[1;33m,\u001b[0m \u001b[0mself\u001b[0m\u001b[1;33m)\u001b[0m\u001b[1;33m.\u001b[0m\u001b[0mrequest\u001b[0m\u001b[1;33m(\u001b[0m\u001b[0mmethod\u001b[0m\u001b[1;33m,\u001b[0m \u001b[0murl\u001b[0m\u001b[1;33m,\u001b[0m \u001b[0mbody\u001b[0m\u001b[1;33m=\u001b[0m\u001b[0mbody\u001b[0m\u001b[1;33m,\u001b[0m \u001b[0mheaders\u001b[0m\u001b[1;33m=\u001b[0m\u001b[0mheaders\u001b[0m\u001b[1;33m)\u001b[0m\u001b[1;33m\u001b[0m\u001b[1;33m\u001b[0m\u001b[0m\n\u001b[0m\u001b[0;32m    240\u001b[0m \u001b[1;33m\u001b[0m\u001b[0m\n",
      "\u001b[1;32mC:\\ProgramData\\Anaconda3\\lib\\http\\client.py\u001b[0m in \u001b[0;36mrequest\u001b[1;34m(self, method, url, body, headers, encode_chunked)\u001b[0m\n\u001b[0;32m   1278\u001b[0m         \u001b[1;34m\"\"\"Send a complete request to the server.\"\"\"\u001b[0m\u001b[1;33m\u001b[0m\u001b[1;33m\u001b[0m\u001b[0m\n\u001b[1;32m-> 1279\u001b[1;33m         \u001b[0mself\u001b[0m\u001b[1;33m.\u001b[0m\u001b[0m_send_request\u001b[0m\u001b[1;33m(\u001b[0m\u001b[0mmethod\u001b[0m\u001b[1;33m,\u001b[0m \u001b[0murl\u001b[0m\u001b[1;33m,\u001b[0m \u001b[0mbody\u001b[0m\u001b[1;33m,\u001b[0m \u001b[0mheaders\u001b[0m\u001b[1;33m,\u001b[0m \u001b[0mencode_chunked\u001b[0m\u001b[1;33m)\u001b[0m\u001b[1;33m\u001b[0m\u001b[1;33m\u001b[0m\u001b[0m\n\u001b[0m\u001b[0;32m   1280\u001b[0m \u001b[1;33m\u001b[0m\u001b[0m\n",
      "\u001b[1;32mC:\\ProgramData\\Anaconda3\\lib\\http\\client.py\u001b[0m in \u001b[0;36m_send_request\u001b[1;34m(self, method, url, body, headers, encode_chunked)\u001b[0m\n\u001b[0;32m   1324\u001b[0m             \u001b[0mbody\u001b[0m \u001b[1;33m=\u001b[0m \u001b[0m_encode\u001b[0m\u001b[1;33m(\u001b[0m\u001b[0mbody\u001b[0m\u001b[1;33m,\u001b[0m \u001b[1;34m'body'\u001b[0m\u001b[1;33m)\u001b[0m\u001b[1;33m\u001b[0m\u001b[1;33m\u001b[0m\u001b[0m\n\u001b[1;32m-> 1325\u001b[1;33m         \u001b[0mself\u001b[0m\u001b[1;33m.\u001b[0m\u001b[0mendheaders\u001b[0m\u001b[1;33m(\u001b[0m\u001b[0mbody\u001b[0m\u001b[1;33m,\u001b[0m \u001b[0mencode_chunked\u001b[0m\u001b[1;33m=\u001b[0m\u001b[0mencode_chunked\u001b[0m\u001b[1;33m)\u001b[0m\u001b[1;33m\u001b[0m\u001b[1;33m\u001b[0m\u001b[0m\n\u001b[0m\u001b[0;32m   1326\u001b[0m \u001b[1;33m\u001b[0m\u001b[0m\n",
      "\u001b[1;32mC:\\ProgramData\\Anaconda3\\lib\\http\\client.py\u001b[0m in \u001b[0;36mendheaders\u001b[1;34m(self, message_body, encode_chunked)\u001b[0m\n\u001b[0;32m   1273\u001b[0m             \u001b[1;32mraise\u001b[0m \u001b[0mCannotSendHeader\u001b[0m\u001b[1;33m(\u001b[0m\u001b[1;33m)\u001b[0m\u001b[1;33m\u001b[0m\u001b[1;33m\u001b[0m\u001b[0m\n\u001b[1;32m-> 1274\u001b[1;33m         \u001b[0mself\u001b[0m\u001b[1;33m.\u001b[0m\u001b[0m_send_output\u001b[0m\u001b[1;33m(\u001b[0m\u001b[0mmessage_body\u001b[0m\u001b[1;33m,\u001b[0m \u001b[0mencode_chunked\u001b[0m\u001b[1;33m=\u001b[0m\u001b[0mencode_chunked\u001b[0m\u001b[1;33m)\u001b[0m\u001b[1;33m\u001b[0m\u001b[1;33m\u001b[0m\u001b[0m\n\u001b[0m\u001b[0;32m   1275\u001b[0m \u001b[1;33m\u001b[0m\u001b[0m\n",
      "\u001b[1;32mC:\\ProgramData\\Anaconda3\\lib\\http\\client.py\u001b[0m in \u001b[0;36m_send_output\u001b[1;34m(self, message_body, encode_chunked)\u001b[0m\n\u001b[0;32m   1033\u001b[0m         \u001b[1;32mdel\u001b[0m \u001b[0mself\u001b[0m\u001b[1;33m.\u001b[0m\u001b[0m_buffer\u001b[0m\u001b[1;33m[\u001b[0m\u001b[1;33m:\u001b[0m\u001b[1;33m]\u001b[0m\u001b[1;33m\u001b[0m\u001b[1;33m\u001b[0m\u001b[0m\n\u001b[1;32m-> 1034\u001b[1;33m         \u001b[0mself\u001b[0m\u001b[1;33m.\u001b[0m\u001b[0msend\u001b[0m\u001b[1;33m(\u001b[0m\u001b[0mmsg\u001b[0m\u001b[1;33m)\u001b[0m\u001b[1;33m\u001b[0m\u001b[1;33m\u001b[0m\u001b[0m\n\u001b[0m\u001b[0;32m   1035\u001b[0m \u001b[1;33m\u001b[0m\u001b[0m\n",
      "\u001b[1;32mC:\\ProgramData\\Anaconda3\\lib\\http\\client.py\u001b[0m in \u001b[0;36msend\u001b[1;34m(self, data)\u001b[0m\n\u001b[0;32m    973\u001b[0m             \u001b[1;32mif\u001b[0m \u001b[0mself\u001b[0m\u001b[1;33m.\u001b[0m\u001b[0mauto_open\u001b[0m\u001b[1;33m:\u001b[0m\u001b[1;33m\u001b[0m\u001b[1;33m\u001b[0m\u001b[0m\n\u001b[1;32m--> 974\u001b[1;33m                 \u001b[0mself\u001b[0m\u001b[1;33m.\u001b[0m\u001b[0mconnect\u001b[0m\u001b[1;33m(\u001b[0m\u001b[1;33m)\u001b[0m\u001b[1;33m\u001b[0m\u001b[1;33m\u001b[0m\u001b[0m\n\u001b[0m\u001b[0;32m    975\u001b[0m             \u001b[1;32melse\u001b[0m\u001b[1;33m:\u001b[0m\u001b[1;33m\u001b[0m\u001b[1;33m\u001b[0m\u001b[0m\n",
      "\u001b[1;32mC:\\ProgramData\\Anaconda3\\lib\\site-packages\\urllib3\\connection.py\u001b[0m in \u001b[0;36mconnect\u001b[1;34m(self)\u001b[0m\n\u001b[0;32m    204\u001b[0m     \u001b[1;32mdef\u001b[0m \u001b[0mconnect\u001b[0m\u001b[1;33m(\u001b[0m\u001b[0mself\u001b[0m\u001b[1;33m)\u001b[0m\u001b[1;33m:\u001b[0m\u001b[1;33m\u001b[0m\u001b[1;33m\u001b[0m\u001b[0m\n\u001b[1;32m--> 205\u001b[1;33m         \u001b[0mconn\u001b[0m \u001b[1;33m=\u001b[0m \u001b[0mself\u001b[0m\u001b[1;33m.\u001b[0m\u001b[0m_new_conn\u001b[0m\u001b[1;33m(\u001b[0m\u001b[1;33m)\u001b[0m\u001b[1;33m\u001b[0m\u001b[1;33m\u001b[0m\u001b[0m\n\u001b[0m\u001b[0;32m    206\u001b[0m         \u001b[0mself\u001b[0m\u001b[1;33m.\u001b[0m\u001b[0m_prepare_conn\u001b[0m\u001b[1;33m(\u001b[0m\u001b[0mconn\u001b[0m\u001b[1;33m)\u001b[0m\u001b[1;33m\u001b[0m\u001b[1;33m\u001b[0m\u001b[0m\n",
      "\u001b[1;32mC:\\ProgramData\\Anaconda3\\lib\\site-packages\\urllib3\\connection.py\u001b[0m in \u001b[0;36m_new_conn\u001b[1;34m(self)\u001b[0m\n\u001b[0;32m    185\u001b[0m         \u001b[1;32mexcept\u001b[0m \u001b[0mSocketError\u001b[0m \u001b[1;32mas\u001b[0m \u001b[0me\u001b[0m\u001b[1;33m:\u001b[0m\u001b[1;33m\u001b[0m\u001b[1;33m\u001b[0m\u001b[0m\n\u001b[1;32m--> 186\u001b[1;33m             raise NewConnectionError(\n\u001b[0m\u001b[0;32m    187\u001b[0m                 \u001b[0mself\u001b[0m\u001b[1;33m,\u001b[0m \u001b[1;34m\"Failed to establish a new connection: %s\"\u001b[0m \u001b[1;33m%\u001b[0m \u001b[0me\u001b[0m\u001b[1;33m\u001b[0m\u001b[1;33m\u001b[0m\u001b[0m\n",
      "\u001b[1;31mNewConnectionError\u001b[0m: <urllib3.connection.HTTPConnection object at 0x000002A5D270BAC0>: Failed to establish a new connection: [WinError 10061] No connection could be made because the target machine actively refused it",
      "\nDuring handling of the above exception, another exception occurred:\n",
      "\u001b[1;31mMaxRetryError\u001b[0m                             Traceback (most recent call last)",
      "\u001b[1;32m~\\AppData\\Local\\Temp/ipykernel_29492/3185187567.py\u001b[0m in \u001b[0;36m<module>\u001b[1;34m\u001b[0m\n\u001b[1;32m----> 1\u001b[1;33m \u001b[0mname_tags\u001b[0m\u001b[1;33m=\u001b[0m\u001b[0mbrowser\u001b[0m\u001b[1;33m.\u001b[0m\u001b[0mfind_elements_by_xpath\u001b[0m\u001b[1;33m(\u001b[0m\u001b[1;34m\"//td[@class='name']\"\u001b[0m\u001b[1;33m)\u001b[0m\u001b[1;33m\u001b[0m\u001b[1;33m\u001b[0m\u001b[0m\n\u001b[0m\u001b[0;32m      2\u001b[0m \u001b[1;32mfor\u001b[0m \u001b[0mi\u001b[0m \u001b[1;32min\u001b[0m \u001b[0mname_tags\u001b[0m\u001b[1;33m:\u001b[0m\u001b[1;33m\u001b[0m\u001b[1;33m\u001b[0m\u001b[0m\n\u001b[0;32m      3\u001b[0m     \u001b[1;32mif\u001b[0m \u001b[0mi\u001b[0m\u001b[1;33m.\u001b[0m\u001b[0mtext\u001b[0m \u001b[1;32mis\u001b[0m \u001b[1;32mNone\u001b[0m \u001b[1;33m:\u001b[0m\u001b[1;33m\u001b[0m\u001b[1;33m\u001b[0m\u001b[0m\n\u001b[0;32m      4\u001b[0m         \u001b[0mnames\u001b[0m\u001b[1;33m.\u001b[0m\u001b[0mappend\u001b[0m\u001b[1;33m(\u001b[0m\u001b[1;34m\"no rating\"\u001b[0m\u001b[1;33m)\u001b[0m\u001b[1;33m\u001b[0m\u001b[1;33m\u001b[0m\u001b[0m\n\u001b[0;32m      5\u001b[0m     \u001b[1;32melse\u001b[0m\u001b[1;33m:\u001b[0m\u001b[1;33m\u001b[0m\u001b[1;33m\u001b[0m\u001b[0m\n",
      "\u001b[1;32mC:\\ProgramData\\Anaconda3\\lib\\site-packages\\selenium\\webdriver\\remote\\webdriver.py\u001b[0m in \u001b[0;36mfind_elements_by_xpath\u001b[1;34m(self, xpath)\u001b[0m\n\u001b[0;32m    547\u001b[0m             \u001b[0mstacklevel\u001b[0m\u001b[1;33m=\u001b[0m\u001b[1;36m2\u001b[0m\u001b[1;33m,\u001b[0m\u001b[1;33m\u001b[0m\u001b[1;33m\u001b[0m\u001b[0m\n\u001b[0;32m    548\u001b[0m         )\n\u001b[1;32m--> 549\u001b[1;33m         \u001b[1;32mreturn\u001b[0m \u001b[0mself\u001b[0m\u001b[1;33m.\u001b[0m\u001b[0mfind_elements\u001b[0m\u001b[1;33m(\u001b[0m\u001b[0mby\u001b[0m\u001b[1;33m=\u001b[0m\u001b[0mBy\u001b[0m\u001b[1;33m.\u001b[0m\u001b[0mXPATH\u001b[0m\u001b[1;33m,\u001b[0m \u001b[0mvalue\u001b[0m\u001b[1;33m=\u001b[0m\u001b[0mxpath\u001b[0m\u001b[1;33m)\u001b[0m\u001b[1;33m\u001b[0m\u001b[1;33m\u001b[0m\u001b[0m\n\u001b[0m\u001b[0;32m    550\u001b[0m \u001b[1;33m\u001b[0m\u001b[0m\n\u001b[0;32m    551\u001b[0m     \u001b[1;32mdef\u001b[0m \u001b[0mfind_element_by_link_text\u001b[0m\u001b[1;33m(\u001b[0m\u001b[0mself\u001b[0m\u001b[1;33m,\u001b[0m \u001b[0mlink_text\u001b[0m\u001b[1;33m)\u001b[0m \u001b[1;33m->\u001b[0m \u001b[0mWebElement\u001b[0m\u001b[1;33m:\u001b[0m\u001b[1;33m\u001b[0m\u001b[1;33m\u001b[0m\u001b[0m\n",
      "\u001b[1;32mC:\\ProgramData\\Anaconda3\\lib\\site-packages\\selenium\\webdriver\\remote\\webdriver.py\u001b[0m in \u001b[0;36mfind_elements\u001b[1;34m(self, by, value)\u001b[0m\n\u001b[0;32m   1282\u001b[0m         \u001b[1;31m# Return empty list if driver returns null\u001b[0m\u001b[1;33m\u001b[0m\u001b[1;33m\u001b[0m\u001b[0m\n\u001b[0;32m   1283\u001b[0m         \u001b[1;31m# See https://github.com/SeleniumHQ/selenium/issues/4555\u001b[0m\u001b[1;33m\u001b[0m\u001b[1;33m\u001b[0m\u001b[0m\n\u001b[1;32m-> 1284\u001b[1;33m         return self.execute(Command.FIND_ELEMENTS, {\n\u001b[0m\u001b[0;32m   1285\u001b[0m             \u001b[1;34m'using'\u001b[0m\u001b[1;33m:\u001b[0m \u001b[0mby\u001b[0m\u001b[1;33m,\u001b[0m\u001b[1;33m\u001b[0m\u001b[1;33m\u001b[0m\u001b[0m\n\u001b[0;32m   1286\u001b[0m             'value': value})['value'] or []\n",
      "\u001b[1;32mC:\\ProgramData\\Anaconda3\\lib\\site-packages\\selenium\\webdriver\\remote\\webdriver.py\u001b[0m in \u001b[0;36mexecute\u001b[1;34m(self, driver_command, params)\u001b[0m\n\u001b[0;32m    426\u001b[0m \u001b[1;33m\u001b[0m\u001b[0m\n\u001b[0;32m    427\u001b[0m         \u001b[0mparams\u001b[0m \u001b[1;33m=\u001b[0m \u001b[0mself\u001b[0m\u001b[1;33m.\u001b[0m\u001b[0m_wrap_value\u001b[0m\u001b[1;33m(\u001b[0m\u001b[0mparams\u001b[0m\u001b[1;33m)\u001b[0m\u001b[1;33m\u001b[0m\u001b[1;33m\u001b[0m\u001b[0m\n\u001b[1;32m--> 428\u001b[1;33m         \u001b[0mresponse\u001b[0m \u001b[1;33m=\u001b[0m \u001b[0mself\u001b[0m\u001b[1;33m.\u001b[0m\u001b[0mcommand_executor\u001b[0m\u001b[1;33m.\u001b[0m\u001b[0mexecute\u001b[0m\u001b[1;33m(\u001b[0m\u001b[0mdriver_command\u001b[0m\u001b[1;33m,\u001b[0m \u001b[0mparams\u001b[0m\u001b[1;33m)\u001b[0m\u001b[1;33m\u001b[0m\u001b[1;33m\u001b[0m\u001b[0m\n\u001b[0m\u001b[0;32m    429\u001b[0m         \u001b[1;32mif\u001b[0m \u001b[0mresponse\u001b[0m\u001b[1;33m:\u001b[0m\u001b[1;33m\u001b[0m\u001b[1;33m\u001b[0m\u001b[0m\n\u001b[0;32m    430\u001b[0m             \u001b[0mself\u001b[0m\u001b[1;33m.\u001b[0m\u001b[0merror_handler\u001b[0m\u001b[1;33m.\u001b[0m\u001b[0mcheck_response\u001b[0m\u001b[1;33m(\u001b[0m\u001b[0mresponse\u001b[0m\u001b[1;33m)\u001b[0m\u001b[1;33m\u001b[0m\u001b[1;33m\u001b[0m\u001b[0m\n",
      "\u001b[1;32mC:\\ProgramData\\Anaconda3\\lib\\site-packages\\selenium\\webdriver\\remote\\remote_connection.py\u001b[0m in \u001b[0;36mexecute\u001b[1;34m(self, command, params)\u001b[0m\n\u001b[0;32m    345\u001b[0m         \u001b[0mdata\u001b[0m \u001b[1;33m=\u001b[0m \u001b[0mutils\u001b[0m\u001b[1;33m.\u001b[0m\u001b[0mdump_json\u001b[0m\u001b[1;33m(\u001b[0m\u001b[0mparams\u001b[0m\u001b[1;33m)\u001b[0m\u001b[1;33m\u001b[0m\u001b[1;33m\u001b[0m\u001b[0m\n\u001b[0;32m    346\u001b[0m         \u001b[0murl\u001b[0m \u001b[1;33m=\u001b[0m \u001b[1;34mf\"{self._url}{path}\"\u001b[0m\u001b[1;33m\u001b[0m\u001b[1;33m\u001b[0m\u001b[0m\n\u001b[1;32m--> 347\u001b[1;33m         \u001b[1;32mreturn\u001b[0m \u001b[0mself\u001b[0m\u001b[1;33m.\u001b[0m\u001b[0m_request\u001b[0m\u001b[1;33m(\u001b[0m\u001b[0mcommand_info\u001b[0m\u001b[1;33m[\u001b[0m\u001b[1;36m0\u001b[0m\u001b[1;33m]\u001b[0m\u001b[1;33m,\u001b[0m \u001b[0murl\u001b[0m\u001b[1;33m,\u001b[0m \u001b[0mbody\u001b[0m\u001b[1;33m=\u001b[0m\u001b[0mdata\u001b[0m\u001b[1;33m)\u001b[0m\u001b[1;33m\u001b[0m\u001b[1;33m\u001b[0m\u001b[0m\n\u001b[0m\u001b[0;32m    348\u001b[0m \u001b[1;33m\u001b[0m\u001b[0m\n\u001b[0;32m    349\u001b[0m     \u001b[1;32mdef\u001b[0m \u001b[0m_request\u001b[0m\u001b[1;33m(\u001b[0m\u001b[0mself\u001b[0m\u001b[1;33m,\u001b[0m \u001b[0mmethod\u001b[0m\u001b[1;33m,\u001b[0m \u001b[0murl\u001b[0m\u001b[1;33m,\u001b[0m \u001b[0mbody\u001b[0m\u001b[1;33m=\u001b[0m\u001b[1;32mNone\u001b[0m\u001b[1;33m)\u001b[0m\u001b[1;33m:\u001b[0m\u001b[1;33m\u001b[0m\u001b[1;33m\u001b[0m\u001b[0m\n",
      "\u001b[1;32mC:\\ProgramData\\Anaconda3\\lib\\site-packages\\selenium\\webdriver\\remote\\remote_connection.py\u001b[0m in \u001b[0;36m_request\u001b[1;34m(self, method, url, body)\u001b[0m\n\u001b[0;32m    367\u001b[0m \u001b[1;33m\u001b[0m\u001b[0m\n\u001b[0;32m    368\u001b[0m         \u001b[1;32mif\u001b[0m \u001b[0mself\u001b[0m\u001b[1;33m.\u001b[0m\u001b[0mkeep_alive\u001b[0m\u001b[1;33m:\u001b[0m\u001b[1;33m\u001b[0m\u001b[1;33m\u001b[0m\u001b[0m\n\u001b[1;32m--> 369\u001b[1;33m             \u001b[0mresponse\u001b[0m \u001b[1;33m=\u001b[0m \u001b[0mself\u001b[0m\u001b[1;33m.\u001b[0m\u001b[0m_conn\u001b[0m\u001b[1;33m.\u001b[0m\u001b[0mrequest\u001b[0m\u001b[1;33m(\u001b[0m\u001b[0mmethod\u001b[0m\u001b[1;33m,\u001b[0m \u001b[0murl\u001b[0m\u001b[1;33m,\u001b[0m \u001b[0mbody\u001b[0m\u001b[1;33m=\u001b[0m\u001b[0mbody\u001b[0m\u001b[1;33m,\u001b[0m \u001b[0mheaders\u001b[0m\u001b[1;33m=\u001b[0m\u001b[0mheaders\u001b[0m\u001b[1;33m)\u001b[0m\u001b[1;33m\u001b[0m\u001b[1;33m\u001b[0m\u001b[0m\n\u001b[0m\u001b[0;32m    370\u001b[0m             \u001b[0mstatuscode\u001b[0m \u001b[1;33m=\u001b[0m \u001b[0mresponse\u001b[0m\u001b[1;33m.\u001b[0m\u001b[0mstatus\u001b[0m\u001b[1;33m\u001b[0m\u001b[1;33m\u001b[0m\u001b[0m\n\u001b[0;32m    371\u001b[0m         \u001b[1;32melse\u001b[0m\u001b[1;33m:\u001b[0m\u001b[1;33m\u001b[0m\u001b[1;33m\u001b[0m\u001b[0m\n",
      "\u001b[1;32mC:\\ProgramData\\Anaconda3\\lib\\site-packages\\urllib3\\request.py\u001b[0m in \u001b[0;36mrequest\u001b[1;34m(self, method, url, fields, headers, **urlopen_kw)\u001b[0m\n\u001b[0;32m     76\u001b[0m             )\n\u001b[0;32m     77\u001b[0m         \u001b[1;32melse\u001b[0m\u001b[1;33m:\u001b[0m\u001b[1;33m\u001b[0m\u001b[1;33m\u001b[0m\u001b[0m\n\u001b[1;32m---> 78\u001b[1;33m             return self.request_encode_body(\n\u001b[0m\u001b[0;32m     79\u001b[0m                 \u001b[0mmethod\u001b[0m\u001b[1;33m,\u001b[0m \u001b[0murl\u001b[0m\u001b[1;33m,\u001b[0m \u001b[0mfields\u001b[0m\u001b[1;33m=\u001b[0m\u001b[0mfields\u001b[0m\u001b[1;33m,\u001b[0m \u001b[0mheaders\u001b[0m\u001b[1;33m=\u001b[0m\u001b[0mheaders\u001b[0m\u001b[1;33m,\u001b[0m \u001b[1;33m**\u001b[0m\u001b[0murlopen_kw\u001b[0m\u001b[1;33m\u001b[0m\u001b[1;33m\u001b[0m\u001b[0m\n\u001b[0;32m     80\u001b[0m             )\n",
      "\u001b[1;32mC:\\ProgramData\\Anaconda3\\lib\\site-packages\\urllib3\\request.py\u001b[0m in \u001b[0;36mrequest_encode_body\u001b[1;34m(self, method, url, fields, headers, encode_multipart, multipart_boundary, **urlopen_kw)\u001b[0m\n\u001b[0;32m    168\u001b[0m         \u001b[0mextra_kw\u001b[0m\u001b[1;33m.\u001b[0m\u001b[0mupdate\u001b[0m\u001b[1;33m(\u001b[0m\u001b[0murlopen_kw\u001b[0m\u001b[1;33m)\u001b[0m\u001b[1;33m\u001b[0m\u001b[1;33m\u001b[0m\u001b[0m\n\u001b[0;32m    169\u001b[0m \u001b[1;33m\u001b[0m\u001b[0m\n\u001b[1;32m--> 170\u001b[1;33m         \u001b[1;32mreturn\u001b[0m \u001b[0mself\u001b[0m\u001b[1;33m.\u001b[0m\u001b[0murlopen\u001b[0m\u001b[1;33m(\u001b[0m\u001b[0mmethod\u001b[0m\u001b[1;33m,\u001b[0m \u001b[0murl\u001b[0m\u001b[1;33m,\u001b[0m \u001b[1;33m**\u001b[0m\u001b[0mextra_kw\u001b[0m\u001b[1;33m)\u001b[0m\u001b[1;33m\u001b[0m\u001b[1;33m\u001b[0m\u001b[0m\n\u001b[0m",
      "\u001b[1;32mC:\\ProgramData\\Anaconda3\\lib\\site-packages\\urllib3\\poolmanager.py\u001b[0m in \u001b[0;36murlopen\u001b[1;34m(self, method, url, redirect, **kw)\u001b[0m\n\u001b[0;32m    373\u001b[0m             \u001b[0mresponse\u001b[0m \u001b[1;33m=\u001b[0m \u001b[0mconn\u001b[0m\u001b[1;33m.\u001b[0m\u001b[0murlopen\u001b[0m\u001b[1;33m(\u001b[0m\u001b[0mmethod\u001b[0m\u001b[1;33m,\u001b[0m \u001b[0murl\u001b[0m\u001b[1;33m,\u001b[0m \u001b[1;33m**\u001b[0m\u001b[0mkw\u001b[0m\u001b[1;33m)\u001b[0m\u001b[1;33m\u001b[0m\u001b[1;33m\u001b[0m\u001b[0m\n\u001b[0;32m    374\u001b[0m         \u001b[1;32melse\u001b[0m\u001b[1;33m:\u001b[0m\u001b[1;33m\u001b[0m\u001b[1;33m\u001b[0m\u001b[0m\n\u001b[1;32m--> 375\u001b[1;33m             \u001b[0mresponse\u001b[0m \u001b[1;33m=\u001b[0m \u001b[0mconn\u001b[0m\u001b[1;33m.\u001b[0m\u001b[0murlopen\u001b[0m\u001b[1;33m(\u001b[0m\u001b[0mmethod\u001b[0m\u001b[1;33m,\u001b[0m \u001b[0mu\u001b[0m\u001b[1;33m.\u001b[0m\u001b[0mrequest_uri\u001b[0m\u001b[1;33m,\u001b[0m \u001b[1;33m**\u001b[0m\u001b[0mkw\u001b[0m\u001b[1;33m)\u001b[0m\u001b[1;33m\u001b[0m\u001b[1;33m\u001b[0m\u001b[0m\n\u001b[0m\u001b[0;32m    376\u001b[0m \u001b[1;33m\u001b[0m\u001b[0m\n\u001b[0;32m    377\u001b[0m         \u001b[0mredirect_location\u001b[0m \u001b[1;33m=\u001b[0m \u001b[0mredirect\u001b[0m \u001b[1;32mand\u001b[0m \u001b[0mresponse\u001b[0m\u001b[1;33m.\u001b[0m\u001b[0mget_redirect_location\u001b[0m\u001b[1;33m(\u001b[0m\u001b[1;33m)\u001b[0m\u001b[1;33m\u001b[0m\u001b[1;33m\u001b[0m\u001b[0m\n",
      "\u001b[1;32mC:\\ProgramData\\Anaconda3\\lib\\site-packages\\urllib3\\connectionpool.py\u001b[0m in \u001b[0;36murlopen\u001b[1;34m(self, method, url, body, headers, retries, redirect, assert_same_host, timeout, pool_timeout, release_conn, chunked, body_pos, **response_kw)\u001b[0m\n\u001b[0;32m    781\u001b[0m                 \u001b[1;34m\"Retrying (%r) after connection broken by '%r': %s\"\u001b[0m\u001b[1;33m,\u001b[0m \u001b[0mretries\u001b[0m\u001b[1;33m,\u001b[0m \u001b[0merr\u001b[0m\u001b[1;33m,\u001b[0m \u001b[0murl\u001b[0m\u001b[1;33m\u001b[0m\u001b[1;33m\u001b[0m\u001b[0m\n\u001b[0;32m    782\u001b[0m             )\n\u001b[1;32m--> 783\u001b[1;33m             return self.urlopen(\n\u001b[0m\u001b[0;32m    784\u001b[0m                 \u001b[0mmethod\u001b[0m\u001b[1;33m,\u001b[0m\u001b[1;33m\u001b[0m\u001b[1;33m\u001b[0m\u001b[0m\n\u001b[0;32m    785\u001b[0m                 \u001b[0murl\u001b[0m\u001b[1;33m,\u001b[0m\u001b[1;33m\u001b[0m\u001b[1;33m\u001b[0m\u001b[0m\n",
      "\u001b[1;32mC:\\ProgramData\\Anaconda3\\lib\\site-packages\\urllib3\\connectionpool.py\u001b[0m in \u001b[0;36murlopen\u001b[1;34m(self, method, url, body, headers, retries, redirect, assert_same_host, timeout, pool_timeout, release_conn, chunked, body_pos, **response_kw)\u001b[0m\n\u001b[0;32m    781\u001b[0m                 \u001b[1;34m\"Retrying (%r) after connection broken by '%r': %s\"\u001b[0m\u001b[1;33m,\u001b[0m \u001b[0mretries\u001b[0m\u001b[1;33m,\u001b[0m \u001b[0merr\u001b[0m\u001b[1;33m,\u001b[0m \u001b[0murl\u001b[0m\u001b[1;33m\u001b[0m\u001b[1;33m\u001b[0m\u001b[0m\n\u001b[0;32m    782\u001b[0m             )\n\u001b[1;32m--> 783\u001b[1;33m             return self.urlopen(\n\u001b[0m\u001b[0;32m    784\u001b[0m                 \u001b[0mmethod\u001b[0m\u001b[1;33m,\u001b[0m\u001b[1;33m\u001b[0m\u001b[1;33m\u001b[0m\u001b[0m\n\u001b[0;32m    785\u001b[0m                 \u001b[0murl\u001b[0m\u001b[1;33m,\u001b[0m\u001b[1;33m\u001b[0m\u001b[1;33m\u001b[0m\u001b[0m\n",
      "\u001b[1;32mC:\\ProgramData\\Anaconda3\\lib\\site-packages\\urllib3\\connectionpool.py\u001b[0m in \u001b[0;36murlopen\u001b[1;34m(self, method, url, body, headers, retries, redirect, assert_same_host, timeout, pool_timeout, release_conn, chunked, body_pos, **response_kw)\u001b[0m\n\u001b[0;32m    781\u001b[0m                 \u001b[1;34m\"Retrying (%r) after connection broken by '%r': %s\"\u001b[0m\u001b[1;33m,\u001b[0m \u001b[0mretries\u001b[0m\u001b[1;33m,\u001b[0m \u001b[0merr\u001b[0m\u001b[1;33m,\u001b[0m \u001b[0murl\u001b[0m\u001b[1;33m\u001b[0m\u001b[1;33m\u001b[0m\u001b[0m\n\u001b[0;32m    782\u001b[0m             )\n\u001b[1;32m--> 783\u001b[1;33m             return self.urlopen(\n\u001b[0m\u001b[0;32m    784\u001b[0m                 \u001b[0mmethod\u001b[0m\u001b[1;33m,\u001b[0m\u001b[1;33m\u001b[0m\u001b[1;33m\u001b[0m\u001b[0m\n\u001b[0;32m    785\u001b[0m                 \u001b[0murl\u001b[0m\u001b[1;33m,\u001b[0m\u001b[1;33m\u001b[0m\u001b[1;33m\u001b[0m\u001b[0m\n",
      "\u001b[1;32mC:\\ProgramData\\Anaconda3\\lib\\site-packages\\urllib3\\connectionpool.py\u001b[0m in \u001b[0;36murlopen\u001b[1;34m(self, method, url, body, headers, retries, redirect, assert_same_host, timeout, pool_timeout, release_conn, chunked, body_pos, **response_kw)\u001b[0m\n\u001b[0;32m    753\u001b[0m                 \u001b[0me\u001b[0m \u001b[1;33m=\u001b[0m \u001b[0mProtocolError\u001b[0m\u001b[1;33m(\u001b[0m\u001b[1;34m\"Connection aborted.\"\u001b[0m\u001b[1;33m,\u001b[0m \u001b[0me\u001b[0m\u001b[1;33m)\u001b[0m\u001b[1;33m\u001b[0m\u001b[1;33m\u001b[0m\u001b[0m\n\u001b[0;32m    754\u001b[0m \u001b[1;33m\u001b[0m\u001b[0m\n\u001b[1;32m--> 755\u001b[1;33m             retries = retries.increment(\n\u001b[0m\u001b[0;32m    756\u001b[0m                 \u001b[0mmethod\u001b[0m\u001b[1;33m,\u001b[0m \u001b[0murl\u001b[0m\u001b[1;33m,\u001b[0m \u001b[0merror\u001b[0m\u001b[1;33m=\u001b[0m\u001b[0me\u001b[0m\u001b[1;33m,\u001b[0m \u001b[0m_pool\u001b[0m\u001b[1;33m=\u001b[0m\u001b[0mself\u001b[0m\u001b[1;33m,\u001b[0m \u001b[0m_stacktrace\u001b[0m\u001b[1;33m=\u001b[0m\u001b[0msys\u001b[0m\u001b[1;33m.\u001b[0m\u001b[0mexc_info\u001b[0m\u001b[1;33m(\u001b[0m\u001b[1;33m)\u001b[0m\u001b[1;33m[\u001b[0m\u001b[1;36m2\u001b[0m\u001b[1;33m]\u001b[0m\u001b[1;33m\u001b[0m\u001b[1;33m\u001b[0m\u001b[0m\n\u001b[0;32m    757\u001b[0m             )\n",
      "\u001b[1;32mC:\\ProgramData\\Anaconda3\\lib\\site-packages\\urllib3\\util\\retry.py\u001b[0m in \u001b[0;36mincrement\u001b[1;34m(self, method, url, response, error, _pool, _stacktrace)\u001b[0m\n\u001b[0;32m    572\u001b[0m \u001b[1;33m\u001b[0m\u001b[0m\n\u001b[0;32m    573\u001b[0m         \u001b[1;32mif\u001b[0m \u001b[0mnew_retry\u001b[0m\u001b[1;33m.\u001b[0m\u001b[0mis_exhausted\u001b[0m\u001b[1;33m(\u001b[0m\u001b[1;33m)\u001b[0m\u001b[1;33m:\u001b[0m\u001b[1;33m\u001b[0m\u001b[1;33m\u001b[0m\u001b[0m\n\u001b[1;32m--> 574\u001b[1;33m             \u001b[1;32mraise\u001b[0m \u001b[0mMaxRetryError\u001b[0m\u001b[1;33m(\u001b[0m\u001b[0m_pool\u001b[0m\u001b[1;33m,\u001b[0m \u001b[0murl\u001b[0m\u001b[1;33m,\u001b[0m \u001b[0merror\u001b[0m \u001b[1;32mor\u001b[0m \u001b[0mResponseError\u001b[0m\u001b[1;33m(\u001b[0m\u001b[0mcause\u001b[0m\u001b[1;33m)\u001b[0m\u001b[1;33m)\u001b[0m\u001b[1;33m\u001b[0m\u001b[1;33m\u001b[0m\u001b[0m\n\u001b[0m\u001b[0;32m    575\u001b[0m \u001b[1;33m\u001b[0m\u001b[0m\n\u001b[0;32m    576\u001b[0m         \u001b[0mlog\u001b[0m\u001b[1;33m.\u001b[0m\u001b[0mdebug\u001b[0m\u001b[1;33m(\u001b[0m\u001b[1;34m\"Incremented Retry for (url='%s'): %r\"\u001b[0m\u001b[1;33m,\u001b[0m \u001b[0murl\u001b[0m\u001b[1;33m,\u001b[0m \u001b[0mnew_retry\u001b[0m\u001b[1;33m)\u001b[0m\u001b[1;33m\u001b[0m\u001b[1;33m\u001b[0m\u001b[0m\n",
      "\u001b[1;31mMaxRetryError\u001b[0m: HTTPConnectionPool(host='localhost', port=59922): Max retries exceeded with url: /session/fe9dde51870dd7722c72a80fd58aeb56/elements (Caused by NewConnectionError('<urllib3.connection.HTTPConnection object at 0x000002A5D270BAC0>: Failed to establish a new connection: [WinError 10061] No connection could be made because the target machine actively refused it'))"
     ]
    }
   ],
   "source": [
    "name_tags=browser.find_elements_by_xpath(\"//td[@class='name']\")\n",
    "for i in name_tags:\n",
    "    if i.text is None :\n",
    "        names.append(\"no rating\") \n",
    "    else:\n",
    "        names.append(i.text)"
   ]
  },
  {
   "cell_type": "code",
   "execution_count": null,
   "id": "867aa40f",
   "metadata": {},
   "outputs": [],
   "source": [
    "names[0:33]"
   ]
  },
  {
   "cell_type": "code",
   "execution_count": null,
   "id": "9ebb975e",
   "metadata": {},
   "outputs": [],
   "source": [
    "gsdp19=[]"
   ]
  },
  {
   "cell_type": "code",
   "execution_count": null,
   "id": "5ca765f3",
   "metadata": {},
   "outputs": [],
   "source": [
    "gsdp19_tags=browser.find_elements_by_xpath(\"//td[@class='data']\")\n",
    "for i in gsdp19_tags:\n",
    "    if i.text is None :\n",
    "        gsdp19.append(\"no rating\") \n",
    "    else:\n",
    "        gsdp19.append(i.text)"
   ]
  },
  {
   "cell_type": "code",
   "execution_count": null,
   "id": "4b85a4e2",
   "metadata": {},
   "outputs": [],
   "source": [
    "gsdp19"
   ]
  },
  {
   "cell_type": "code",
   "execution_count": null,
   "id": "ab72f58c",
   "metadata": {},
   "outputs": [],
   "source": [
    "gsdp19.pop(1)"
   ]
  },
  {
   "cell_type": "code",
   "execution_count": null,
   "id": "681fac60",
   "metadata": {},
   "outputs": [],
   "source": [
    "gsdp19.pop(1)"
   ]
  },
  {
   "cell_type": "code",
   "execution_count": null,
   "id": "525716b0",
   "metadata": {},
   "outputs": [],
   "source": [
    "gsdp19.pop(1)"
   ]
  },
  {
   "cell_type": "code",
   "execution_count": null,
   "id": "d975314c",
   "metadata": {},
   "outputs": [],
   "source": [
    "gsdp19.pop(1)"
   ]
  },
  {
   "cell_type": "code",
   "execution_count": null,
   "id": "b6169531",
   "metadata": {},
   "outputs": [],
   "source": [
    "gsdp19.pop(2)"
   ]
  },
  {
   "cell_type": "code",
   "execution_count": null,
   "id": "ed6042f1",
   "metadata": {},
   "outputs": [],
   "source": [
    "gsdp19.pop(2)"
   ]
  },
  {
   "cell_type": "code",
   "execution_count": null,
   "id": "07e0da25",
   "metadata": {},
   "outputs": [],
   "source": [
    "gsdp19.pop(2)"
   ]
  },
  {
   "cell_type": "code",
   "execution_count": null,
   "id": "c15f73ba",
   "metadata": {},
   "outputs": [],
   "source": [
    "gsdp19.pop(2)"
   ]
  },
  {
   "cell_type": "code",
   "execution_count": null,
   "id": "583d2cc3",
   "metadata": {},
   "outputs": [],
   "source": [
    "gsdp19.pop(3)\n"
   ]
  },
  {
   "cell_type": "code",
   "execution_count": null,
   "id": "19c9b620",
   "metadata": {},
   "outputs": [],
   "source": [
    "gsdp19.pop(3)"
   ]
  },
  {
   "cell_type": "code",
   "execution_count": null,
   "id": "6514c6d0",
   "metadata": {},
   "outputs": [],
   "source": [
    "gsdp19.pop(3)"
   ]
  },
  {
   "cell_type": "code",
   "execution_count": null,
   "id": "1a71da75",
   "metadata": {},
   "outputs": [],
   "source": [
    "gsdp19.pop(3)"
   ]
  },
  {
   "cell_type": "code",
   "execution_count": null,
   "id": "add5f7f6",
   "metadata": {},
   "outputs": [],
   "source": [
    "gsdp19.pop(3)"
   ]
  },
  {
   "cell_type": "code",
   "execution_count": null,
   "id": "8de47aea",
   "metadata": {},
   "outputs": [],
   "source": [
    "gsdp19.pop(3)"
   ]
  },
  {
   "cell_type": "code",
   "execution_count": null,
   "id": "923390d3",
   "metadata": {},
   "outputs": [],
   "source": [
    "gsdp19.pop(3)"
   ]
  },
  {
   "cell_type": "code",
   "execution_count": null,
   "id": "07e6fd96",
   "metadata": {},
   "outputs": [],
   "source": [
    "gsdp19.pop(3)"
   ]
  },
  {
   "cell_type": "code",
   "execution_count": null,
   "id": "511207f7",
   "metadata": {},
   "outputs": [],
   "source": [
    "gsdp19.pop(3)"
   ]
  },
  {
   "cell_type": "code",
   "execution_count": null,
   "id": "966f2b40",
   "metadata": {},
   "outputs": [],
   "source": [
    "gsdp19.pop(4)"
   ]
  },
  {
   "cell_type": "code",
   "execution_count": null,
   "id": "0bdc6852",
   "metadata": {},
   "outputs": [],
   "source": [
    "gsdp19.pop(4)"
   ]
  },
  {
   "cell_type": "code",
   "execution_count": null,
   "id": "02c6478f",
   "metadata": {},
   "outputs": [],
   "source": [
    "gsdp19.pop(4)"
   ]
  },
  {
   "cell_type": "code",
   "execution_count": null,
   "id": "a88ee530",
   "metadata": {},
   "outputs": [],
   "source": [
    "gsdp19.pop(4)"
   ]
  },
  {
   "cell_type": "code",
   "execution_count": null,
   "id": "381328fa",
   "metadata": {},
   "outputs": [],
   "source": [
    "gsdp19.pop(5)"
   ]
  },
  {
   "cell_type": "code",
   "execution_count": null,
   "id": "e935676e",
   "metadata": {},
   "outputs": [],
   "source": [
    "gsdp19.pop(5)"
   ]
  },
  {
   "cell_type": "code",
   "execution_count": null,
   "id": "1c39ede5",
   "metadata": {},
   "outputs": [],
   "source": [
    "gsdp19.pop(5)"
   ]
  },
  {
   "cell_type": "code",
   "execution_count": null,
   "id": "542cfb18",
   "metadata": {},
   "outputs": [],
   "source": [
    "gsdp19.pop(5)"
   ]
  },
  {
   "cell_type": "code",
   "execution_count": null,
   "id": "e740a96b",
   "metadata": {},
   "outputs": [],
   "source": [
    "gsdp19.pop(6)"
   ]
  },
  {
   "cell_type": "code",
   "execution_count": null,
   "id": "5dfc3c5a",
   "metadata": {},
   "outputs": [],
   "source": [
    "gsdp19.pop(6)\n"
   ]
  },
  {
   "cell_type": "code",
   "execution_count": null,
   "id": "cccc201d",
   "metadata": {},
   "outputs": [],
   "source": [
    "gsdp19.pop(6)"
   ]
  },
  {
   "cell_type": "code",
   "execution_count": null,
   "id": "2b209de2",
   "metadata": {},
   "outputs": [],
   "source": [
    "gsdp19.pop(6)"
   ]
  },
  {
   "cell_type": "code",
   "execution_count": null,
   "id": "91b6af8b",
   "metadata": {},
   "outputs": [],
   "source": [
    "gsdp19.pop(7)"
   ]
  },
  {
   "cell_type": "code",
   "execution_count": null,
   "id": "3403db68",
   "metadata": {},
   "outputs": [],
   "source": [
    "gsdp19.pop(7)"
   ]
  },
  {
   "cell_type": "code",
   "execution_count": null,
   "id": "bf30733a",
   "metadata": {},
   "outputs": [],
   "source": [
    "gsdp19.pop(7)"
   ]
  },
  {
   "cell_type": "code",
   "execution_count": null,
   "id": "707229e4",
   "metadata": {},
   "outputs": [],
   "source": [
    "gsdp19.pop(7)"
   ]
  },
  {
   "cell_type": "code",
   "execution_count": null,
   "id": "69d6025c",
   "metadata": {},
   "outputs": [],
   "source": [
    "gsdp19.pop(8)"
   ]
  },
  {
   "cell_type": "code",
   "execution_count": null,
   "id": "d1414a53",
   "metadata": {},
   "outputs": [],
   "source": [
    "gsdp19.pop(8)"
   ]
  },
  {
   "cell_type": "code",
   "execution_count": null,
   "id": "5820afb3",
   "metadata": {},
   "outputs": [],
   "source": [
    "gsdp19.pop(8)"
   ]
  },
  {
   "cell_type": "code",
   "execution_count": null,
   "id": "a1f822ed",
   "metadata": {},
   "outputs": [],
   "source": [
    "gsdp19.pop(8)"
   ]
  },
  {
   "cell_type": "code",
   "execution_count": null,
   "id": "f347ce1f",
   "metadata": {},
   "outputs": [],
   "source": [
    "gsdp19.pop(9)"
   ]
  },
  {
   "cell_type": "code",
   "execution_count": null,
   "id": "04cf9b5f",
   "metadata": {},
   "outputs": [],
   "source": [
    "gsdp19.pop(9)"
   ]
  },
  {
   "cell_type": "code",
   "execution_count": null,
   "id": "ff286265",
   "metadata": {},
   "outputs": [],
   "source": [
    "gsdp19.pop(9)"
   ]
  },
  {
   "cell_type": "code",
   "execution_count": null,
   "id": "176b65ce",
   "metadata": {},
   "outputs": [],
   "source": [
    "gsdp19.pop(9)"
   ]
  },
  {
   "cell_type": "code",
   "execution_count": null,
   "id": "a0901d1a",
   "metadata": {},
   "outputs": [],
   "source": [
    "gsdp19.pop(10)"
   ]
  },
  {
   "cell_type": "code",
   "execution_count": null,
   "id": "7fbe0497",
   "metadata": {},
   "outputs": [],
   "source": [
    "gsdp19.pop(10)"
   ]
  },
  {
   "cell_type": "code",
   "execution_count": null,
   "id": "5d816a52",
   "metadata": {},
   "outputs": [],
   "source": [
    "gsdp19.pop(10)"
   ]
  },
  {
   "cell_type": "code",
   "execution_count": null,
   "id": "09aa3d7a",
   "metadata": {},
   "outputs": [],
   "source": [
    "gsdp19.pop(10)"
   ]
  },
  {
   "cell_type": "code",
   "execution_count": null,
   "id": "878b05b0",
   "metadata": {},
   "outputs": [],
   "source": [
    "gsdp19[0:10]"
   ]
  },
  {
   "cell_type": "code",
   "execution_count": null,
   "id": "bdbfa1d0",
   "metadata": {},
   "outputs": [],
   "source": [
    "share=[]"
   ]
  },
  {
   "cell_type": "code",
   "execution_count": null,
   "id": "6f816972",
   "metadata": {},
   "outputs": [],
   "source": [
    "share_tags=browser.find_elements_by_xpath(\"//td[@class='data']\")\n",
    "for i in share_tags:\n",
    "    if i.text is None :\n",
    "        share.append(\"no rating\") \n",
    "    else:\n",
    "        share.append(i.text)"
   ]
  },
  {
   "cell_type": "code",
   "execution_count": null,
   "id": "f36513cd",
   "metadata": {},
   "outputs": [],
   "source": [
    "share.pop(0)"
   ]
  },
  {
   "cell_type": "code",
   "execution_count": null,
   "id": "d5b6576b",
   "metadata": {},
   "outputs": [],
   "source": [
    "share.pop(1)"
   ]
  },
  {
   "cell_type": "code",
   "execution_count": null,
   "id": "5ec30289",
   "metadata": {},
   "outputs": [],
   "source": [
    "share.pop(1)"
   ]
  },
  {
   "cell_type": "code",
   "execution_count": null,
   "id": "3007e562",
   "metadata": {},
   "outputs": [],
   "source": [
    "share.pop(1)"
   ]
  },
  {
   "cell_type": "code",
   "execution_count": null,
   "id": "bf9aaec0",
   "metadata": {},
   "outputs": [],
   "source": [
    "share.pop(1)"
   ]
  },
  {
   "cell_type": "code",
   "execution_count": null,
   "id": "3a67c73a",
   "metadata": {},
   "outputs": [],
   "source": [
    "share.pop(2)"
   ]
  },
  {
   "cell_type": "code",
   "execution_count": null,
   "id": "4230ce41",
   "metadata": {},
   "outputs": [],
   "source": [
    "share.pop(2)"
   ]
  },
  {
   "cell_type": "code",
   "execution_count": null,
   "id": "de74d47e",
   "metadata": {},
   "outputs": [],
   "source": [
    "share.pop(2)"
   ]
  },
  {
   "cell_type": "code",
   "execution_count": null,
   "id": "d1177e28",
   "metadata": {},
   "outputs": [],
   "source": [
    "share.pop(2)"
   ]
  },
  {
   "cell_type": "code",
   "execution_count": null,
   "id": "ff98083f",
   "metadata": {},
   "outputs": [],
   "source": [
    "share.pop(3)"
   ]
  },
  {
   "cell_type": "code",
   "execution_count": null,
   "id": "d7ac7ff0",
   "metadata": {},
   "outputs": [],
   "source": [
    "share.pop(3)"
   ]
  },
  {
   "cell_type": "code",
   "execution_count": null,
   "id": "de669c1f",
   "metadata": {},
   "outputs": [],
   "source": [
    "share.pop(3)"
   ]
  },
  {
   "cell_type": "code",
   "execution_count": null,
   "id": "fe1c786f",
   "metadata": {},
   "outputs": [],
   "source": [
    "share.pop(3)"
   ]
  },
  {
   "cell_type": "code",
   "execution_count": null,
   "id": "65b927a8",
   "metadata": {},
   "outputs": [],
   "source": [
    "share.pop(4)"
   ]
  },
  {
   "cell_type": "code",
   "execution_count": null,
   "id": "12108a9d",
   "metadata": {},
   "outputs": [],
   "source": [
    "share.pop(4)"
   ]
  },
  {
   "cell_type": "code",
   "execution_count": null,
   "id": "e6945879",
   "metadata": {},
   "outputs": [],
   "source": [
    "share.pop(4)"
   ]
  },
  {
   "cell_type": "code",
   "execution_count": null,
   "id": "64f967b9",
   "metadata": {},
   "outputs": [],
   "source": [
    "share.pop(4)"
   ]
  },
  {
   "cell_type": "code",
   "execution_count": null,
   "id": "612c2445",
   "metadata": {},
   "outputs": [],
   "source": [
    "share.pop(5)"
   ]
  },
  {
   "cell_type": "code",
   "execution_count": null,
   "id": "a37bad5c",
   "metadata": {},
   "outputs": [],
   "source": [
    "share.pop(5)"
   ]
  },
  {
   "cell_type": "code",
   "execution_count": null,
   "id": "1b27fa06",
   "metadata": {},
   "outputs": [],
   "source": [
    "share.pop(5)"
   ]
  },
  {
   "cell_type": "code",
   "execution_count": 248,
   "id": "a285f19e",
   "metadata": {},
   "outputs": [
    {
     "ename": "IndexError",
     "evalue": "pop from empty list",
     "output_type": "error",
     "traceback": [
      "\u001b[1;31m---------------------------------------------------------------------------\u001b[0m",
      "\u001b[1;31mIndexError\u001b[0m                                Traceback (most recent call last)",
      "\u001b[1;32m~\\AppData\\Local\\Temp/ipykernel_29492/1302928070.py\u001b[0m in \u001b[0;36m<module>\u001b[1;34m\u001b[0m\n\u001b[1;32m----> 1\u001b[1;33m \u001b[0mshare\u001b[0m\u001b[1;33m.\u001b[0m\u001b[0mpop\u001b[0m\u001b[1;33m(\u001b[0m\u001b[1;36m5\u001b[0m\u001b[1;33m)\u001b[0m\u001b[1;33m\u001b[0m\u001b[1;33m\u001b[0m\u001b[0m\n\u001b[0m",
      "\u001b[1;31mIndexError\u001b[0m: pop from empty list"
     ]
    }
   ],
   "source": [
    "share.pop(5)"
   ]
  },
  {
   "cell_type": "code",
   "execution_count": 249,
   "id": "a3bb4e39",
   "metadata": {},
   "outputs": [
    {
     "ename": "IndexError",
     "evalue": "pop from empty list",
     "output_type": "error",
     "traceback": [
      "\u001b[1;31m---------------------------------------------------------------------------\u001b[0m",
      "\u001b[1;31mIndexError\u001b[0m                                Traceback (most recent call last)",
      "\u001b[1;32m~\\AppData\\Local\\Temp/ipykernel_29492/2405628314.py\u001b[0m in \u001b[0;36m<module>\u001b[1;34m\u001b[0m\n\u001b[1;32m----> 1\u001b[1;33m \u001b[0mshare\u001b[0m\u001b[1;33m.\u001b[0m\u001b[0mpop\u001b[0m\u001b[1;33m(\u001b[0m\u001b[1;36m6\u001b[0m\u001b[1;33m)\u001b[0m\u001b[1;33m\u001b[0m\u001b[1;33m\u001b[0m\u001b[0m\n\u001b[0m",
      "\u001b[1;31mIndexError\u001b[0m: pop from empty list"
     ]
    }
   ],
   "source": [
    "share.pop(6)"
   ]
  },
  {
   "cell_type": "code",
   "execution_count": 250,
   "id": "5dce5f87",
   "metadata": {},
   "outputs": [
    {
     "ename": "IndexError",
     "evalue": "pop from empty list",
     "output_type": "error",
     "traceback": [
      "\u001b[1;31m---------------------------------------------------------------------------\u001b[0m",
      "\u001b[1;31mIndexError\u001b[0m                                Traceback (most recent call last)",
      "\u001b[1;32m~\\AppData\\Local\\Temp/ipykernel_29492/2405628314.py\u001b[0m in \u001b[0;36m<module>\u001b[1;34m\u001b[0m\n\u001b[1;32m----> 1\u001b[1;33m \u001b[0mshare\u001b[0m\u001b[1;33m.\u001b[0m\u001b[0mpop\u001b[0m\u001b[1;33m(\u001b[0m\u001b[1;36m6\u001b[0m\u001b[1;33m)\u001b[0m\u001b[1;33m\u001b[0m\u001b[1;33m\u001b[0m\u001b[0m\n\u001b[0m",
      "\u001b[1;31mIndexError\u001b[0m: pop from empty list"
     ]
    }
   ],
   "source": [
    "share.pop(6)"
   ]
  },
  {
   "cell_type": "code",
   "execution_count": 251,
   "id": "ef03c11d",
   "metadata": {},
   "outputs": [
    {
     "ename": "IndexError",
     "evalue": "pop from empty list",
     "output_type": "error",
     "traceback": [
      "\u001b[1;31m---------------------------------------------------------------------------\u001b[0m",
      "\u001b[1;31mIndexError\u001b[0m                                Traceback (most recent call last)",
      "\u001b[1;32m~\\AppData\\Local\\Temp/ipykernel_29492/2405628314.py\u001b[0m in \u001b[0;36m<module>\u001b[1;34m\u001b[0m\n\u001b[1;32m----> 1\u001b[1;33m \u001b[0mshare\u001b[0m\u001b[1;33m.\u001b[0m\u001b[0mpop\u001b[0m\u001b[1;33m(\u001b[0m\u001b[1;36m6\u001b[0m\u001b[1;33m)\u001b[0m\u001b[1;33m\u001b[0m\u001b[1;33m\u001b[0m\u001b[0m\n\u001b[0m",
      "\u001b[1;31mIndexError\u001b[0m: pop from empty list"
     ]
    }
   ],
   "source": [
    "share.pop(6)"
   ]
  },
  {
   "cell_type": "code",
   "execution_count": 252,
   "id": "33169c2a",
   "metadata": {},
   "outputs": [
    {
     "ename": "IndexError",
     "evalue": "pop from empty list",
     "output_type": "error",
     "traceback": [
      "\u001b[1;31m---------------------------------------------------------------------------\u001b[0m",
      "\u001b[1;31mIndexError\u001b[0m                                Traceback (most recent call last)",
      "\u001b[1;32m~\\AppData\\Local\\Temp/ipykernel_29492/2405628314.py\u001b[0m in \u001b[0;36m<module>\u001b[1;34m\u001b[0m\n\u001b[1;32m----> 1\u001b[1;33m \u001b[0mshare\u001b[0m\u001b[1;33m.\u001b[0m\u001b[0mpop\u001b[0m\u001b[1;33m(\u001b[0m\u001b[1;36m6\u001b[0m\u001b[1;33m)\u001b[0m\u001b[1;33m\u001b[0m\u001b[1;33m\u001b[0m\u001b[0m\n\u001b[0m",
      "\u001b[1;31mIndexError\u001b[0m: pop from empty list"
     ]
    }
   ],
   "source": [
    "share.pop(6)"
   ]
  },
  {
   "cell_type": "code",
   "execution_count": 253,
   "id": "43b1ed27",
   "metadata": {},
   "outputs": [
    {
     "ename": "IndexError",
     "evalue": "pop from empty list",
     "output_type": "error",
     "traceback": [
      "\u001b[1;31m---------------------------------------------------------------------------\u001b[0m",
      "\u001b[1;31mIndexError\u001b[0m                                Traceback (most recent call last)",
      "\u001b[1;32m~\\AppData\\Local\\Temp/ipykernel_29492/3622724915.py\u001b[0m in \u001b[0;36m<module>\u001b[1;34m\u001b[0m\n\u001b[1;32m----> 1\u001b[1;33m \u001b[0mshare\u001b[0m\u001b[1;33m.\u001b[0m\u001b[0mpop\u001b[0m\u001b[1;33m(\u001b[0m\u001b[1;36m7\u001b[0m\u001b[1;33m)\u001b[0m\u001b[1;33m\u001b[0m\u001b[1;33m\u001b[0m\u001b[0m\n\u001b[0m",
      "\u001b[1;31mIndexError\u001b[0m: pop from empty list"
     ]
    }
   ],
   "source": [
    "share.pop(7)"
   ]
  },
  {
   "cell_type": "code",
   "execution_count": 254,
   "id": "6200e266",
   "metadata": {},
   "outputs": [
    {
     "ename": "IndexError",
     "evalue": "pop from empty list",
     "output_type": "error",
     "traceback": [
      "\u001b[1;31m---------------------------------------------------------------------------\u001b[0m",
      "\u001b[1;31mIndexError\u001b[0m                                Traceback (most recent call last)",
      "\u001b[1;32m~\\AppData\\Local\\Temp/ipykernel_29492/3622724915.py\u001b[0m in \u001b[0;36m<module>\u001b[1;34m\u001b[0m\n\u001b[1;32m----> 1\u001b[1;33m \u001b[0mshare\u001b[0m\u001b[1;33m.\u001b[0m\u001b[0mpop\u001b[0m\u001b[1;33m(\u001b[0m\u001b[1;36m7\u001b[0m\u001b[1;33m)\u001b[0m\u001b[1;33m\u001b[0m\u001b[1;33m\u001b[0m\u001b[0m\n\u001b[0m",
      "\u001b[1;31mIndexError\u001b[0m: pop from empty list"
     ]
    }
   ],
   "source": [
    "share.pop(7)"
   ]
  },
  {
   "cell_type": "code",
   "execution_count": 255,
   "id": "633048cb",
   "metadata": {},
   "outputs": [
    {
     "ename": "IndexError",
     "evalue": "pop from empty list",
     "output_type": "error",
     "traceback": [
      "\u001b[1;31m---------------------------------------------------------------------------\u001b[0m",
      "\u001b[1;31mIndexError\u001b[0m                                Traceback (most recent call last)",
      "\u001b[1;32m~\\AppData\\Local\\Temp/ipykernel_29492/3622724915.py\u001b[0m in \u001b[0;36m<module>\u001b[1;34m\u001b[0m\n\u001b[1;32m----> 1\u001b[1;33m \u001b[0mshare\u001b[0m\u001b[1;33m.\u001b[0m\u001b[0mpop\u001b[0m\u001b[1;33m(\u001b[0m\u001b[1;36m7\u001b[0m\u001b[1;33m)\u001b[0m\u001b[1;33m\u001b[0m\u001b[1;33m\u001b[0m\u001b[0m\n\u001b[0m",
      "\u001b[1;31mIndexError\u001b[0m: pop from empty list"
     ]
    }
   ],
   "source": [
    "share.pop(7)"
   ]
  },
  {
   "cell_type": "code",
   "execution_count": 256,
   "id": "aa073002",
   "metadata": {},
   "outputs": [
    {
     "ename": "IndexError",
     "evalue": "pop from empty list",
     "output_type": "error",
     "traceback": [
      "\u001b[1;31m---------------------------------------------------------------------------\u001b[0m",
      "\u001b[1;31mIndexError\u001b[0m                                Traceback (most recent call last)",
      "\u001b[1;32m~\\AppData\\Local\\Temp/ipykernel_29492/3622724915.py\u001b[0m in \u001b[0;36m<module>\u001b[1;34m\u001b[0m\n\u001b[1;32m----> 1\u001b[1;33m \u001b[0mshare\u001b[0m\u001b[1;33m.\u001b[0m\u001b[0mpop\u001b[0m\u001b[1;33m(\u001b[0m\u001b[1;36m7\u001b[0m\u001b[1;33m)\u001b[0m\u001b[1;33m\u001b[0m\u001b[1;33m\u001b[0m\u001b[0m\n\u001b[0m",
      "\u001b[1;31mIndexError\u001b[0m: pop from empty list"
     ]
    }
   ],
   "source": [
    "share.pop(7)"
   ]
  },
  {
   "cell_type": "code",
   "execution_count": 257,
   "id": "f2b75aca",
   "metadata": {},
   "outputs": [
    {
     "ename": "IndexError",
     "evalue": "pop from empty list",
     "output_type": "error",
     "traceback": [
      "\u001b[1;31m---------------------------------------------------------------------------\u001b[0m",
      "\u001b[1;31mIndexError\u001b[0m                                Traceback (most recent call last)",
      "\u001b[1;32m~\\AppData\\Local\\Temp/ipykernel_29492/3390945467.py\u001b[0m in \u001b[0;36m<module>\u001b[1;34m\u001b[0m\n\u001b[1;32m----> 1\u001b[1;33m \u001b[0mshare\u001b[0m\u001b[1;33m.\u001b[0m\u001b[0mpop\u001b[0m\u001b[1;33m(\u001b[0m\u001b[1;36m8\u001b[0m\u001b[1;33m)\u001b[0m\u001b[1;33m\u001b[0m\u001b[1;33m\u001b[0m\u001b[0m\n\u001b[0m",
      "\u001b[1;31mIndexError\u001b[0m: pop from empty list"
     ]
    }
   ],
   "source": [
    "share.pop(8)"
   ]
  },
  {
   "cell_type": "code",
   "execution_count": null,
   "id": "cd0f45a3",
   "metadata": {},
   "outputs": [],
   "source": [
    "share.pop(8)"
   ]
  },
  {
   "cell_type": "code",
   "execution_count": 258,
   "id": "de45b4e0",
   "metadata": {},
   "outputs": [
    {
     "ename": "IndexError",
     "evalue": "pop from empty list",
     "output_type": "error",
     "traceback": [
      "\u001b[1;31m---------------------------------------------------------------------------\u001b[0m",
      "\u001b[1;31mIndexError\u001b[0m                                Traceback (most recent call last)",
      "\u001b[1;32m~\\AppData\\Local\\Temp/ipykernel_29492/3390945467.py\u001b[0m in \u001b[0;36m<module>\u001b[1;34m\u001b[0m\n\u001b[1;32m----> 1\u001b[1;33m \u001b[0mshare\u001b[0m\u001b[1;33m.\u001b[0m\u001b[0mpop\u001b[0m\u001b[1;33m(\u001b[0m\u001b[1;36m8\u001b[0m\u001b[1;33m)\u001b[0m\u001b[1;33m\u001b[0m\u001b[1;33m\u001b[0m\u001b[0m\n\u001b[0m",
      "\u001b[1;31mIndexError\u001b[0m: pop from empty list"
     ]
    }
   ],
   "source": [
    "share.pop(8)"
   ]
  },
  {
   "cell_type": "code",
   "execution_count": 259,
   "id": "5150460b",
   "metadata": {},
   "outputs": [
    {
     "ename": "IndexError",
     "evalue": "pop from empty list",
     "output_type": "error",
     "traceback": [
      "\u001b[1;31m---------------------------------------------------------------------------\u001b[0m",
      "\u001b[1;31mIndexError\u001b[0m                                Traceback (most recent call last)",
      "\u001b[1;32m~\\AppData\\Local\\Temp/ipykernel_29492/3390945467.py\u001b[0m in \u001b[0;36m<module>\u001b[1;34m\u001b[0m\n\u001b[1;32m----> 1\u001b[1;33m \u001b[0mshare\u001b[0m\u001b[1;33m.\u001b[0m\u001b[0mpop\u001b[0m\u001b[1;33m(\u001b[0m\u001b[1;36m8\u001b[0m\u001b[1;33m)\u001b[0m\u001b[1;33m\u001b[0m\u001b[1;33m\u001b[0m\u001b[0m\n\u001b[0m",
      "\u001b[1;31mIndexError\u001b[0m: pop from empty list"
     ]
    }
   ],
   "source": [
    "share.pop(8)"
   ]
  },
  {
   "cell_type": "code",
   "execution_count": 260,
   "id": "7bd98617",
   "metadata": {},
   "outputs": [
    {
     "ename": "IndexError",
     "evalue": "pop from empty list",
     "output_type": "error",
     "traceback": [
      "\u001b[1;31m---------------------------------------------------------------------------\u001b[0m",
      "\u001b[1;31mIndexError\u001b[0m                                Traceback (most recent call last)",
      "\u001b[1;32m~\\AppData\\Local\\Temp/ipykernel_29492/3934022383.py\u001b[0m in \u001b[0;36m<module>\u001b[1;34m\u001b[0m\n\u001b[1;32m----> 1\u001b[1;33m \u001b[0mshare\u001b[0m\u001b[1;33m.\u001b[0m\u001b[0mpop\u001b[0m\u001b[1;33m(\u001b[0m\u001b[1;36m9\u001b[0m\u001b[1;33m)\u001b[0m\u001b[1;33m\u001b[0m\u001b[1;33m\u001b[0m\u001b[0m\n\u001b[0m",
      "\u001b[1;31mIndexError\u001b[0m: pop from empty list"
     ]
    }
   ],
   "source": [
    "share.pop(9)"
   ]
  },
  {
   "cell_type": "code",
   "execution_count": 261,
   "id": "4998813e",
   "metadata": {},
   "outputs": [
    {
     "ename": "IndexError",
     "evalue": "pop from empty list",
     "output_type": "error",
     "traceback": [
      "\u001b[1;31m---------------------------------------------------------------------------\u001b[0m",
      "\u001b[1;31mIndexError\u001b[0m                                Traceback (most recent call last)",
      "\u001b[1;32m~\\AppData\\Local\\Temp/ipykernel_29492/3934022383.py\u001b[0m in \u001b[0;36m<module>\u001b[1;34m\u001b[0m\n\u001b[1;32m----> 1\u001b[1;33m \u001b[0mshare\u001b[0m\u001b[1;33m.\u001b[0m\u001b[0mpop\u001b[0m\u001b[1;33m(\u001b[0m\u001b[1;36m9\u001b[0m\u001b[1;33m)\u001b[0m\u001b[1;33m\u001b[0m\u001b[1;33m\u001b[0m\u001b[0m\n\u001b[0m",
      "\u001b[1;31mIndexError\u001b[0m: pop from empty list"
     ]
    }
   ],
   "source": [
    "share.pop(9)"
   ]
  },
  {
   "cell_type": "code",
   "execution_count": 262,
   "id": "0acea7c3",
   "metadata": {},
   "outputs": [
    {
     "ename": "IndexError",
     "evalue": "pop from empty list",
     "output_type": "error",
     "traceback": [
      "\u001b[1;31m---------------------------------------------------------------------------\u001b[0m",
      "\u001b[1;31mIndexError\u001b[0m                                Traceback (most recent call last)",
      "\u001b[1;32m~\\AppData\\Local\\Temp/ipykernel_29492/3934022383.py\u001b[0m in \u001b[0;36m<module>\u001b[1;34m\u001b[0m\n\u001b[1;32m----> 1\u001b[1;33m \u001b[0mshare\u001b[0m\u001b[1;33m.\u001b[0m\u001b[0mpop\u001b[0m\u001b[1;33m(\u001b[0m\u001b[1;36m9\u001b[0m\u001b[1;33m)\u001b[0m\u001b[1;33m\u001b[0m\u001b[1;33m\u001b[0m\u001b[0m\n\u001b[0m",
      "\u001b[1;31mIndexError\u001b[0m: pop from empty list"
     ]
    }
   ],
   "source": [
    "share.pop(9)"
   ]
  },
  {
   "cell_type": "code",
   "execution_count": 263,
   "id": "e5c64830",
   "metadata": {},
   "outputs": [
    {
     "ename": "IndexError",
     "evalue": "pop from empty list",
     "output_type": "error",
     "traceback": [
      "\u001b[1;31m---------------------------------------------------------------------------\u001b[0m",
      "\u001b[1;31mIndexError\u001b[0m                                Traceback (most recent call last)",
      "\u001b[1;32m~\\AppData\\Local\\Temp/ipykernel_29492/3934022383.py\u001b[0m in \u001b[0;36m<module>\u001b[1;34m\u001b[0m\n\u001b[1;32m----> 1\u001b[1;33m \u001b[0mshare\u001b[0m\u001b[1;33m.\u001b[0m\u001b[0mpop\u001b[0m\u001b[1;33m(\u001b[0m\u001b[1;36m9\u001b[0m\u001b[1;33m)\u001b[0m\u001b[1;33m\u001b[0m\u001b[1;33m\u001b[0m\u001b[0m\n\u001b[0m",
      "\u001b[1;31mIndexError\u001b[0m: pop from empty list"
     ]
    }
   ],
   "source": [
    "share.pop(9)"
   ]
  },
  {
   "cell_type": "code",
   "execution_count": 264,
   "id": "8f38b09d",
   "metadata": {},
   "outputs": [
    {
     "ename": "IndexError",
     "evalue": "pop from empty list",
     "output_type": "error",
     "traceback": [
      "\u001b[1;31m---------------------------------------------------------------------------\u001b[0m",
      "\u001b[1;31mIndexError\u001b[0m                                Traceback (most recent call last)",
      "\u001b[1;32m~\\AppData\\Local\\Temp/ipykernel_29492/22330097.py\u001b[0m in \u001b[0;36m<module>\u001b[1;34m\u001b[0m\n\u001b[1;32m----> 1\u001b[1;33m \u001b[0mshare\u001b[0m\u001b[1;33m.\u001b[0m\u001b[0mpop\u001b[0m\u001b[1;33m(\u001b[0m\u001b[1;36m10\u001b[0m\u001b[1;33m)\u001b[0m\u001b[1;33m\u001b[0m\u001b[1;33m\u001b[0m\u001b[0m\n\u001b[0m",
      "\u001b[1;31mIndexError\u001b[0m: pop from empty list"
     ]
    }
   ],
   "source": [
    "share.pop(10)"
   ]
  },
  {
   "cell_type": "code",
   "execution_count": 265,
   "id": "619ab3af",
   "metadata": {},
   "outputs": [
    {
     "ename": "IndexError",
     "evalue": "pop from empty list",
     "output_type": "error",
     "traceback": [
      "\u001b[1;31m---------------------------------------------------------------------------\u001b[0m",
      "\u001b[1;31mIndexError\u001b[0m                                Traceback (most recent call last)",
      "\u001b[1;32m~\\AppData\\Local\\Temp/ipykernel_29492/22330097.py\u001b[0m in \u001b[0;36m<module>\u001b[1;34m\u001b[0m\n\u001b[1;32m----> 1\u001b[1;33m \u001b[0mshare\u001b[0m\u001b[1;33m.\u001b[0m\u001b[0mpop\u001b[0m\u001b[1;33m(\u001b[0m\u001b[1;36m10\u001b[0m\u001b[1;33m)\u001b[0m\u001b[1;33m\u001b[0m\u001b[1;33m\u001b[0m\u001b[0m\n\u001b[0m",
      "\u001b[1;31mIndexError\u001b[0m: pop from empty list"
     ]
    }
   ],
   "source": [
    "share.pop(10)"
   ]
  },
  {
   "cell_type": "code",
   "execution_count": 266,
   "id": "3fc9ec3f",
   "metadata": {},
   "outputs": [
    {
     "ename": "IndexError",
     "evalue": "pop from empty list",
     "output_type": "error",
     "traceback": [
      "\u001b[1;31m---------------------------------------------------------------------------\u001b[0m",
      "\u001b[1;31mIndexError\u001b[0m                                Traceback (most recent call last)",
      "\u001b[1;32m~\\AppData\\Local\\Temp/ipykernel_29492/22330097.py\u001b[0m in \u001b[0;36m<module>\u001b[1;34m\u001b[0m\n\u001b[1;32m----> 1\u001b[1;33m \u001b[0mshare\u001b[0m\u001b[1;33m.\u001b[0m\u001b[0mpop\u001b[0m\u001b[1;33m(\u001b[0m\u001b[1;36m10\u001b[0m\u001b[1;33m)\u001b[0m\u001b[1;33m\u001b[0m\u001b[1;33m\u001b[0m\u001b[0m\n\u001b[0m",
      "\u001b[1;31mIndexError\u001b[0m: pop from empty list"
     ]
    }
   ],
   "source": [
    "share.pop(10)"
   ]
  },
  {
   "cell_type": "code",
   "execution_count": 267,
   "id": "9f89785e",
   "metadata": {},
   "outputs": [
    {
     "ename": "IndexError",
     "evalue": "pop from empty list",
     "output_type": "error",
     "traceback": [
      "\u001b[1;31m---------------------------------------------------------------------------\u001b[0m",
      "\u001b[1;31mIndexError\u001b[0m                                Traceback (most recent call last)",
      "\u001b[1;32m~\\AppData\\Local\\Temp/ipykernel_29492/22330097.py\u001b[0m in \u001b[0;36m<module>\u001b[1;34m\u001b[0m\n\u001b[1;32m----> 1\u001b[1;33m \u001b[0mshare\u001b[0m\u001b[1;33m.\u001b[0m\u001b[0mpop\u001b[0m\u001b[1;33m(\u001b[0m\u001b[1;36m10\u001b[0m\u001b[1;33m)\u001b[0m\u001b[1;33m\u001b[0m\u001b[1;33m\u001b[0m\u001b[0m\n\u001b[0m",
      "\u001b[1;31mIndexError\u001b[0m: pop from empty list"
     ]
    }
   ],
   "source": [
    "share.pop(10)"
   ]
  },
  {
   "cell_type": "code",
   "execution_count": 268,
   "id": "e2f490e7",
   "metadata": {},
   "outputs": [
    {
     "data": {
      "text/plain": [
       "[]"
      ]
     },
     "execution_count": 268,
     "metadata": {},
     "output_type": "execute_result"
    }
   ],
   "source": [
    "share[0:10]"
   ]
  },
  {
   "cell_type": "code",
   "execution_count": 269,
   "id": "a869fa03",
   "metadata": {},
   "outputs": [],
   "source": [
    "gsdp18=[]"
   ]
  },
  {
   "cell_type": "code",
   "execution_count": 270,
   "id": "e6f5cf0d",
   "metadata": {},
   "outputs": [
    {
     "ename": "MaxRetryError",
     "evalue": "HTTPConnectionPool(host='localhost', port=59922): Max retries exceeded with url: /session/fe9dde51870dd7722c72a80fd58aeb56/elements (Caused by NewConnectionError('<urllib3.connection.HTTPConnection object at 0x000002A5D283C580>: Failed to establish a new connection: [WinError 10061] No connection could be made because the target machine actively refused it'))",
     "output_type": "error",
     "traceback": [
      "\u001b[1;31m---------------------------------------------------------------------------\u001b[0m",
      "\u001b[1;31mConnectionRefusedError\u001b[0m                    Traceback (most recent call last)",
      "\u001b[1;32mC:\\ProgramData\\Anaconda3\\lib\\site-packages\\urllib3\\connection.py\u001b[0m in \u001b[0;36m_new_conn\u001b[1;34m(self)\u001b[0m\n\u001b[0;32m    173\u001b[0m         \u001b[1;32mtry\u001b[0m\u001b[1;33m:\u001b[0m\u001b[1;33m\u001b[0m\u001b[1;33m\u001b[0m\u001b[0m\n\u001b[1;32m--> 174\u001b[1;33m             conn = connection.create_connection(\n\u001b[0m\u001b[0;32m    175\u001b[0m                 \u001b[1;33m(\u001b[0m\u001b[0mself\u001b[0m\u001b[1;33m.\u001b[0m\u001b[0m_dns_host\u001b[0m\u001b[1;33m,\u001b[0m \u001b[0mself\u001b[0m\u001b[1;33m.\u001b[0m\u001b[0mport\u001b[0m\u001b[1;33m)\u001b[0m\u001b[1;33m,\u001b[0m \u001b[0mself\u001b[0m\u001b[1;33m.\u001b[0m\u001b[0mtimeout\u001b[0m\u001b[1;33m,\u001b[0m \u001b[1;33m**\u001b[0m\u001b[0mextra_kw\u001b[0m\u001b[1;33m\u001b[0m\u001b[1;33m\u001b[0m\u001b[0m\n",
      "\u001b[1;32mC:\\ProgramData\\Anaconda3\\lib\\site-packages\\urllib3\\util\\connection.py\u001b[0m in \u001b[0;36mcreate_connection\u001b[1;34m(address, timeout, source_address, socket_options)\u001b[0m\n\u001b[0;32m     95\u001b[0m     \u001b[1;32mif\u001b[0m \u001b[0merr\u001b[0m \u001b[1;32mis\u001b[0m \u001b[1;32mnot\u001b[0m \u001b[1;32mNone\u001b[0m\u001b[1;33m:\u001b[0m\u001b[1;33m\u001b[0m\u001b[1;33m\u001b[0m\u001b[0m\n\u001b[1;32m---> 96\u001b[1;33m         \u001b[1;32mraise\u001b[0m \u001b[0merr\u001b[0m\u001b[1;33m\u001b[0m\u001b[1;33m\u001b[0m\u001b[0m\n\u001b[0m\u001b[0;32m     97\u001b[0m \u001b[1;33m\u001b[0m\u001b[0m\n",
      "\u001b[1;32mC:\\ProgramData\\Anaconda3\\lib\\site-packages\\urllib3\\util\\connection.py\u001b[0m in \u001b[0;36mcreate_connection\u001b[1;34m(address, timeout, source_address, socket_options)\u001b[0m\n\u001b[0;32m     85\u001b[0m                 \u001b[0msock\u001b[0m\u001b[1;33m.\u001b[0m\u001b[0mbind\u001b[0m\u001b[1;33m(\u001b[0m\u001b[0msource_address\u001b[0m\u001b[1;33m)\u001b[0m\u001b[1;33m\u001b[0m\u001b[1;33m\u001b[0m\u001b[0m\n\u001b[1;32m---> 86\u001b[1;33m             \u001b[0msock\u001b[0m\u001b[1;33m.\u001b[0m\u001b[0mconnect\u001b[0m\u001b[1;33m(\u001b[0m\u001b[0msa\u001b[0m\u001b[1;33m)\u001b[0m\u001b[1;33m\u001b[0m\u001b[1;33m\u001b[0m\u001b[0m\n\u001b[0m\u001b[0;32m     87\u001b[0m             \u001b[1;32mreturn\u001b[0m \u001b[0msock\u001b[0m\u001b[1;33m\u001b[0m\u001b[1;33m\u001b[0m\u001b[0m\n",
      "\u001b[1;31mConnectionRefusedError\u001b[0m: [WinError 10061] No connection could be made because the target machine actively refused it",
      "\nDuring handling of the above exception, another exception occurred:\n",
      "\u001b[1;31mNewConnectionError\u001b[0m                        Traceback (most recent call last)",
      "\u001b[1;32mC:\\ProgramData\\Anaconda3\\lib\\site-packages\\urllib3\\connectionpool.py\u001b[0m in \u001b[0;36murlopen\u001b[1;34m(self, method, url, body, headers, retries, redirect, assert_same_host, timeout, pool_timeout, release_conn, chunked, body_pos, **response_kw)\u001b[0m\n\u001b[0;32m    698\u001b[0m             \u001b[1;31m# Make the request on the httplib connection object.\u001b[0m\u001b[1;33m\u001b[0m\u001b[1;33m\u001b[0m\u001b[0m\n\u001b[1;32m--> 699\u001b[1;33m             httplib_response = self._make_request(\n\u001b[0m\u001b[0;32m    700\u001b[0m                 \u001b[0mconn\u001b[0m\u001b[1;33m,\u001b[0m\u001b[1;33m\u001b[0m\u001b[1;33m\u001b[0m\u001b[0m\n",
      "\u001b[1;32mC:\\ProgramData\\Anaconda3\\lib\\site-packages\\urllib3\\connectionpool.py\u001b[0m in \u001b[0;36m_make_request\u001b[1;34m(self, conn, method, url, timeout, chunked, **httplib_request_kw)\u001b[0m\n\u001b[0;32m    393\u001b[0m             \u001b[1;32melse\u001b[0m\u001b[1;33m:\u001b[0m\u001b[1;33m\u001b[0m\u001b[1;33m\u001b[0m\u001b[0m\n\u001b[1;32m--> 394\u001b[1;33m                 \u001b[0mconn\u001b[0m\u001b[1;33m.\u001b[0m\u001b[0mrequest\u001b[0m\u001b[1;33m(\u001b[0m\u001b[0mmethod\u001b[0m\u001b[1;33m,\u001b[0m \u001b[0murl\u001b[0m\u001b[1;33m,\u001b[0m \u001b[1;33m**\u001b[0m\u001b[0mhttplib_request_kw\u001b[0m\u001b[1;33m)\u001b[0m\u001b[1;33m\u001b[0m\u001b[1;33m\u001b[0m\u001b[0m\n\u001b[0m\u001b[0;32m    395\u001b[0m \u001b[1;33m\u001b[0m\u001b[0m\n",
      "\u001b[1;32mC:\\ProgramData\\Anaconda3\\lib\\site-packages\\urllib3\\connection.py\u001b[0m in \u001b[0;36mrequest\u001b[1;34m(self, method, url, body, headers)\u001b[0m\n\u001b[0;32m    238\u001b[0m             \u001b[0mheaders\u001b[0m\u001b[1;33m[\u001b[0m\u001b[1;34m\"User-Agent\"\u001b[0m\u001b[1;33m]\u001b[0m \u001b[1;33m=\u001b[0m \u001b[0m_get_default_user_agent\u001b[0m\u001b[1;33m(\u001b[0m\u001b[1;33m)\u001b[0m\u001b[1;33m\u001b[0m\u001b[1;33m\u001b[0m\u001b[0m\n\u001b[1;32m--> 239\u001b[1;33m         \u001b[0msuper\u001b[0m\u001b[1;33m(\u001b[0m\u001b[0mHTTPConnection\u001b[0m\u001b[1;33m,\u001b[0m \u001b[0mself\u001b[0m\u001b[1;33m)\u001b[0m\u001b[1;33m.\u001b[0m\u001b[0mrequest\u001b[0m\u001b[1;33m(\u001b[0m\u001b[0mmethod\u001b[0m\u001b[1;33m,\u001b[0m \u001b[0murl\u001b[0m\u001b[1;33m,\u001b[0m \u001b[0mbody\u001b[0m\u001b[1;33m=\u001b[0m\u001b[0mbody\u001b[0m\u001b[1;33m,\u001b[0m \u001b[0mheaders\u001b[0m\u001b[1;33m=\u001b[0m\u001b[0mheaders\u001b[0m\u001b[1;33m)\u001b[0m\u001b[1;33m\u001b[0m\u001b[1;33m\u001b[0m\u001b[0m\n\u001b[0m\u001b[0;32m    240\u001b[0m \u001b[1;33m\u001b[0m\u001b[0m\n",
      "\u001b[1;32mC:\\ProgramData\\Anaconda3\\lib\\http\\client.py\u001b[0m in \u001b[0;36mrequest\u001b[1;34m(self, method, url, body, headers, encode_chunked)\u001b[0m\n\u001b[0;32m   1278\u001b[0m         \u001b[1;34m\"\"\"Send a complete request to the server.\"\"\"\u001b[0m\u001b[1;33m\u001b[0m\u001b[1;33m\u001b[0m\u001b[0m\n\u001b[1;32m-> 1279\u001b[1;33m         \u001b[0mself\u001b[0m\u001b[1;33m.\u001b[0m\u001b[0m_send_request\u001b[0m\u001b[1;33m(\u001b[0m\u001b[0mmethod\u001b[0m\u001b[1;33m,\u001b[0m \u001b[0murl\u001b[0m\u001b[1;33m,\u001b[0m \u001b[0mbody\u001b[0m\u001b[1;33m,\u001b[0m \u001b[0mheaders\u001b[0m\u001b[1;33m,\u001b[0m \u001b[0mencode_chunked\u001b[0m\u001b[1;33m)\u001b[0m\u001b[1;33m\u001b[0m\u001b[1;33m\u001b[0m\u001b[0m\n\u001b[0m\u001b[0;32m   1280\u001b[0m \u001b[1;33m\u001b[0m\u001b[0m\n",
      "\u001b[1;32mC:\\ProgramData\\Anaconda3\\lib\\http\\client.py\u001b[0m in \u001b[0;36m_send_request\u001b[1;34m(self, method, url, body, headers, encode_chunked)\u001b[0m\n\u001b[0;32m   1324\u001b[0m             \u001b[0mbody\u001b[0m \u001b[1;33m=\u001b[0m \u001b[0m_encode\u001b[0m\u001b[1;33m(\u001b[0m\u001b[0mbody\u001b[0m\u001b[1;33m,\u001b[0m \u001b[1;34m'body'\u001b[0m\u001b[1;33m)\u001b[0m\u001b[1;33m\u001b[0m\u001b[1;33m\u001b[0m\u001b[0m\n\u001b[1;32m-> 1325\u001b[1;33m         \u001b[0mself\u001b[0m\u001b[1;33m.\u001b[0m\u001b[0mendheaders\u001b[0m\u001b[1;33m(\u001b[0m\u001b[0mbody\u001b[0m\u001b[1;33m,\u001b[0m \u001b[0mencode_chunked\u001b[0m\u001b[1;33m=\u001b[0m\u001b[0mencode_chunked\u001b[0m\u001b[1;33m)\u001b[0m\u001b[1;33m\u001b[0m\u001b[1;33m\u001b[0m\u001b[0m\n\u001b[0m\u001b[0;32m   1326\u001b[0m \u001b[1;33m\u001b[0m\u001b[0m\n",
      "\u001b[1;32mC:\\ProgramData\\Anaconda3\\lib\\http\\client.py\u001b[0m in \u001b[0;36mendheaders\u001b[1;34m(self, message_body, encode_chunked)\u001b[0m\n\u001b[0;32m   1273\u001b[0m             \u001b[1;32mraise\u001b[0m \u001b[0mCannotSendHeader\u001b[0m\u001b[1;33m(\u001b[0m\u001b[1;33m)\u001b[0m\u001b[1;33m\u001b[0m\u001b[1;33m\u001b[0m\u001b[0m\n\u001b[1;32m-> 1274\u001b[1;33m         \u001b[0mself\u001b[0m\u001b[1;33m.\u001b[0m\u001b[0m_send_output\u001b[0m\u001b[1;33m(\u001b[0m\u001b[0mmessage_body\u001b[0m\u001b[1;33m,\u001b[0m \u001b[0mencode_chunked\u001b[0m\u001b[1;33m=\u001b[0m\u001b[0mencode_chunked\u001b[0m\u001b[1;33m)\u001b[0m\u001b[1;33m\u001b[0m\u001b[1;33m\u001b[0m\u001b[0m\n\u001b[0m\u001b[0;32m   1275\u001b[0m \u001b[1;33m\u001b[0m\u001b[0m\n",
      "\u001b[1;32mC:\\ProgramData\\Anaconda3\\lib\\http\\client.py\u001b[0m in \u001b[0;36m_send_output\u001b[1;34m(self, message_body, encode_chunked)\u001b[0m\n\u001b[0;32m   1033\u001b[0m         \u001b[1;32mdel\u001b[0m \u001b[0mself\u001b[0m\u001b[1;33m.\u001b[0m\u001b[0m_buffer\u001b[0m\u001b[1;33m[\u001b[0m\u001b[1;33m:\u001b[0m\u001b[1;33m]\u001b[0m\u001b[1;33m\u001b[0m\u001b[1;33m\u001b[0m\u001b[0m\n\u001b[1;32m-> 1034\u001b[1;33m         \u001b[0mself\u001b[0m\u001b[1;33m.\u001b[0m\u001b[0msend\u001b[0m\u001b[1;33m(\u001b[0m\u001b[0mmsg\u001b[0m\u001b[1;33m)\u001b[0m\u001b[1;33m\u001b[0m\u001b[1;33m\u001b[0m\u001b[0m\n\u001b[0m\u001b[0;32m   1035\u001b[0m \u001b[1;33m\u001b[0m\u001b[0m\n",
      "\u001b[1;32mC:\\ProgramData\\Anaconda3\\lib\\http\\client.py\u001b[0m in \u001b[0;36msend\u001b[1;34m(self, data)\u001b[0m\n\u001b[0;32m    973\u001b[0m             \u001b[1;32mif\u001b[0m \u001b[0mself\u001b[0m\u001b[1;33m.\u001b[0m\u001b[0mauto_open\u001b[0m\u001b[1;33m:\u001b[0m\u001b[1;33m\u001b[0m\u001b[1;33m\u001b[0m\u001b[0m\n\u001b[1;32m--> 974\u001b[1;33m                 \u001b[0mself\u001b[0m\u001b[1;33m.\u001b[0m\u001b[0mconnect\u001b[0m\u001b[1;33m(\u001b[0m\u001b[1;33m)\u001b[0m\u001b[1;33m\u001b[0m\u001b[1;33m\u001b[0m\u001b[0m\n\u001b[0m\u001b[0;32m    975\u001b[0m             \u001b[1;32melse\u001b[0m\u001b[1;33m:\u001b[0m\u001b[1;33m\u001b[0m\u001b[1;33m\u001b[0m\u001b[0m\n",
      "\u001b[1;32mC:\\ProgramData\\Anaconda3\\lib\\site-packages\\urllib3\\connection.py\u001b[0m in \u001b[0;36mconnect\u001b[1;34m(self)\u001b[0m\n\u001b[0;32m    204\u001b[0m     \u001b[1;32mdef\u001b[0m \u001b[0mconnect\u001b[0m\u001b[1;33m(\u001b[0m\u001b[0mself\u001b[0m\u001b[1;33m)\u001b[0m\u001b[1;33m:\u001b[0m\u001b[1;33m\u001b[0m\u001b[1;33m\u001b[0m\u001b[0m\n\u001b[1;32m--> 205\u001b[1;33m         \u001b[0mconn\u001b[0m \u001b[1;33m=\u001b[0m \u001b[0mself\u001b[0m\u001b[1;33m.\u001b[0m\u001b[0m_new_conn\u001b[0m\u001b[1;33m(\u001b[0m\u001b[1;33m)\u001b[0m\u001b[1;33m\u001b[0m\u001b[1;33m\u001b[0m\u001b[0m\n\u001b[0m\u001b[0;32m    206\u001b[0m         \u001b[0mself\u001b[0m\u001b[1;33m.\u001b[0m\u001b[0m_prepare_conn\u001b[0m\u001b[1;33m(\u001b[0m\u001b[0mconn\u001b[0m\u001b[1;33m)\u001b[0m\u001b[1;33m\u001b[0m\u001b[1;33m\u001b[0m\u001b[0m\n",
      "\u001b[1;32mC:\\ProgramData\\Anaconda3\\lib\\site-packages\\urllib3\\connection.py\u001b[0m in \u001b[0;36m_new_conn\u001b[1;34m(self)\u001b[0m\n\u001b[0;32m    185\u001b[0m         \u001b[1;32mexcept\u001b[0m \u001b[0mSocketError\u001b[0m \u001b[1;32mas\u001b[0m \u001b[0me\u001b[0m\u001b[1;33m:\u001b[0m\u001b[1;33m\u001b[0m\u001b[1;33m\u001b[0m\u001b[0m\n\u001b[1;32m--> 186\u001b[1;33m             raise NewConnectionError(\n\u001b[0m\u001b[0;32m    187\u001b[0m                 \u001b[0mself\u001b[0m\u001b[1;33m,\u001b[0m \u001b[1;34m\"Failed to establish a new connection: %s\"\u001b[0m \u001b[1;33m%\u001b[0m \u001b[0me\u001b[0m\u001b[1;33m\u001b[0m\u001b[1;33m\u001b[0m\u001b[0m\n",
      "\u001b[1;31mNewConnectionError\u001b[0m: <urllib3.connection.HTTPConnection object at 0x000002A5D283C580>: Failed to establish a new connection: [WinError 10061] No connection could be made because the target machine actively refused it",
      "\nDuring handling of the above exception, another exception occurred:\n",
      "\u001b[1;31mMaxRetryError\u001b[0m                             Traceback (most recent call last)",
      "\u001b[1;32m~\\AppData\\Local\\Temp/ipykernel_29492/1239875741.py\u001b[0m in \u001b[0;36m<module>\u001b[1;34m\u001b[0m\n\u001b[1;32m----> 1\u001b[1;33m \u001b[0mgsdp18_tags\u001b[0m\u001b[1;33m=\u001b[0m\u001b[0mbrowser\u001b[0m\u001b[1;33m.\u001b[0m\u001b[0mfind_elements_by_xpath\u001b[0m\u001b[1;33m(\u001b[0m\u001b[1;34m\"//td[@class='data sorting_1']\"\u001b[0m\u001b[1;33m)\u001b[0m\u001b[1;33m\u001b[0m\u001b[1;33m\u001b[0m\u001b[0m\n\u001b[0m\u001b[0;32m      2\u001b[0m \u001b[1;32mfor\u001b[0m \u001b[0mi\u001b[0m \u001b[1;32min\u001b[0m \u001b[0mgsdp18_tags\u001b[0m\u001b[1;33m:\u001b[0m\u001b[1;33m\u001b[0m\u001b[1;33m\u001b[0m\u001b[0m\n\u001b[0;32m      3\u001b[0m     \u001b[1;32mif\u001b[0m \u001b[0mi\u001b[0m\u001b[1;33m.\u001b[0m\u001b[0mtext\u001b[0m \u001b[1;32mis\u001b[0m \u001b[1;32mNone\u001b[0m \u001b[1;33m:\u001b[0m\u001b[1;33m\u001b[0m\u001b[1;33m\u001b[0m\u001b[0m\n\u001b[0;32m      4\u001b[0m         \u001b[0mgsdp18\u001b[0m\u001b[1;33m.\u001b[0m\u001b[0mappend\u001b[0m\u001b[1;33m(\u001b[0m\u001b[1;34m\"no rating\"\u001b[0m\u001b[1;33m)\u001b[0m\u001b[1;33m\u001b[0m\u001b[1;33m\u001b[0m\u001b[0m\n\u001b[0;32m      5\u001b[0m     \u001b[1;32melse\u001b[0m\u001b[1;33m:\u001b[0m\u001b[1;33m\u001b[0m\u001b[1;33m\u001b[0m\u001b[0m\n",
      "\u001b[1;32mC:\\ProgramData\\Anaconda3\\lib\\site-packages\\selenium\\webdriver\\remote\\webdriver.py\u001b[0m in \u001b[0;36mfind_elements_by_xpath\u001b[1;34m(self, xpath)\u001b[0m\n\u001b[0;32m    547\u001b[0m             \u001b[0mstacklevel\u001b[0m\u001b[1;33m=\u001b[0m\u001b[1;36m2\u001b[0m\u001b[1;33m,\u001b[0m\u001b[1;33m\u001b[0m\u001b[1;33m\u001b[0m\u001b[0m\n\u001b[0;32m    548\u001b[0m         )\n\u001b[1;32m--> 549\u001b[1;33m         \u001b[1;32mreturn\u001b[0m \u001b[0mself\u001b[0m\u001b[1;33m.\u001b[0m\u001b[0mfind_elements\u001b[0m\u001b[1;33m(\u001b[0m\u001b[0mby\u001b[0m\u001b[1;33m=\u001b[0m\u001b[0mBy\u001b[0m\u001b[1;33m.\u001b[0m\u001b[0mXPATH\u001b[0m\u001b[1;33m,\u001b[0m \u001b[0mvalue\u001b[0m\u001b[1;33m=\u001b[0m\u001b[0mxpath\u001b[0m\u001b[1;33m)\u001b[0m\u001b[1;33m\u001b[0m\u001b[1;33m\u001b[0m\u001b[0m\n\u001b[0m\u001b[0;32m    550\u001b[0m \u001b[1;33m\u001b[0m\u001b[0m\n\u001b[0;32m    551\u001b[0m     \u001b[1;32mdef\u001b[0m \u001b[0mfind_element_by_link_text\u001b[0m\u001b[1;33m(\u001b[0m\u001b[0mself\u001b[0m\u001b[1;33m,\u001b[0m \u001b[0mlink_text\u001b[0m\u001b[1;33m)\u001b[0m \u001b[1;33m->\u001b[0m \u001b[0mWebElement\u001b[0m\u001b[1;33m:\u001b[0m\u001b[1;33m\u001b[0m\u001b[1;33m\u001b[0m\u001b[0m\n",
      "\u001b[1;32mC:\\ProgramData\\Anaconda3\\lib\\site-packages\\selenium\\webdriver\\remote\\webdriver.py\u001b[0m in \u001b[0;36mfind_elements\u001b[1;34m(self, by, value)\u001b[0m\n\u001b[0;32m   1282\u001b[0m         \u001b[1;31m# Return empty list if driver returns null\u001b[0m\u001b[1;33m\u001b[0m\u001b[1;33m\u001b[0m\u001b[0m\n\u001b[0;32m   1283\u001b[0m         \u001b[1;31m# See https://github.com/SeleniumHQ/selenium/issues/4555\u001b[0m\u001b[1;33m\u001b[0m\u001b[1;33m\u001b[0m\u001b[0m\n\u001b[1;32m-> 1284\u001b[1;33m         return self.execute(Command.FIND_ELEMENTS, {\n\u001b[0m\u001b[0;32m   1285\u001b[0m             \u001b[1;34m'using'\u001b[0m\u001b[1;33m:\u001b[0m \u001b[0mby\u001b[0m\u001b[1;33m,\u001b[0m\u001b[1;33m\u001b[0m\u001b[1;33m\u001b[0m\u001b[0m\n\u001b[0;32m   1286\u001b[0m             'value': value})['value'] or []\n",
      "\u001b[1;32mC:\\ProgramData\\Anaconda3\\lib\\site-packages\\selenium\\webdriver\\remote\\webdriver.py\u001b[0m in \u001b[0;36mexecute\u001b[1;34m(self, driver_command, params)\u001b[0m\n\u001b[0;32m    426\u001b[0m \u001b[1;33m\u001b[0m\u001b[0m\n\u001b[0;32m    427\u001b[0m         \u001b[0mparams\u001b[0m \u001b[1;33m=\u001b[0m \u001b[0mself\u001b[0m\u001b[1;33m.\u001b[0m\u001b[0m_wrap_value\u001b[0m\u001b[1;33m(\u001b[0m\u001b[0mparams\u001b[0m\u001b[1;33m)\u001b[0m\u001b[1;33m\u001b[0m\u001b[1;33m\u001b[0m\u001b[0m\n\u001b[1;32m--> 428\u001b[1;33m         \u001b[0mresponse\u001b[0m \u001b[1;33m=\u001b[0m \u001b[0mself\u001b[0m\u001b[1;33m.\u001b[0m\u001b[0mcommand_executor\u001b[0m\u001b[1;33m.\u001b[0m\u001b[0mexecute\u001b[0m\u001b[1;33m(\u001b[0m\u001b[0mdriver_command\u001b[0m\u001b[1;33m,\u001b[0m \u001b[0mparams\u001b[0m\u001b[1;33m)\u001b[0m\u001b[1;33m\u001b[0m\u001b[1;33m\u001b[0m\u001b[0m\n\u001b[0m\u001b[0;32m    429\u001b[0m         \u001b[1;32mif\u001b[0m \u001b[0mresponse\u001b[0m\u001b[1;33m:\u001b[0m\u001b[1;33m\u001b[0m\u001b[1;33m\u001b[0m\u001b[0m\n\u001b[0;32m    430\u001b[0m             \u001b[0mself\u001b[0m\u001b[1;33m.\u001b[0m\u001b[0merror_handler\u001b[0m\u001b[1;33m.\u001b[0m\u001b[0mcheck_response\u001b[0m\u001b[1;33m(\u001b[0m\u001b[0mresponse\u001b[0m\u001b[1;33m)\u001b[0m\u001b[1;33m\u001b[0m\u001b[1;33m\u001b[0m\u001b[0m\n",
      "\u001b[1;32mC:\\ProgramData\\Anaconda3\\lib\\site-packages\\selenium\\webdriver\\remote\\remote_connection.py\u001b[0m in \u001b[0;36mexecute\u001b[1;34m(self, command, params)\u001b[0m\n\u001b[0;32m    345\u001b[0m         \u001b[0mdata\u001b[0m \u001b[1;33m=\u001b[0m \u001b[0mutils\u001b[0m\u001b[1;33m.\u001b[0m\u001b[0mdump_json\u001b[0m\u001b[1;33m(\u001b[0m\u001b[0mparams\u001b[0m\u001b[1;33m)\u001b[0m\u001b[1;33m\u001b[0m\u001b[1;33m\u001b[0m\u001b[0m\n\u001b[0;32m    346\u001b[0m         \u001b[0murl\u001b[0m \u001b[1;33m=\u001b[0m \u001b[1;34mf\"{self._url}{path}\"\u001b[0m\u001b[1;33m\u001b[0m\u001b[1;33m\u001b[0m\u001b[0m\n\u001b[1;32m--> 347\u001b[1;33m         \u001b[1;32mreturn\u001b[0m \u001b[0mself\u001b[0m\u001b[1;33m.\u001b[0m\u001b[0m_request\u001b[0m\u001b[1;33m(\u001b[0m\u001b[0mcommand_info\u001b[0m\u001b[1;33m[\u001b[0m\u001b[1;36m0\u001b[0m\u001b[1;33m]\u001b[0m\u001b[1;33m,\u001b[0m \u001b[0murl\u001b[0m\u001b[1;33m,\u001b[0m \u001b[0mbody\u001b[0m\u001b[1;33m=\u001b[0m\u001b[0mdata\u001b[0m\u001b[1;33m)\u001b[0m\u001b[1;33m\u001b[0m\u001b[1;33m\u001b[0m\u001b[0m\n\u001b[0m\u001b[0;32m    348\u001b[0m \u001b[1;33m\u001b[0m\u001b[0m\n\u001b[0;32m    349\u001b[0m     \u001b[1;32mdef\u001b[0m \u001b[0m_request\u001b[0m\u001b[1;33m(\u001b[0m\u001b[0mself\u001b[0m\u001b[1;33m,\u001b[0m \u001b[0mmethod\u001b[0m\u001b[1;33m,\u001b[0m \u001b[0murl\u001b[0m\u001b[1;33m,\u001b[0m \u001b[0mbody\u001b[0m\u001b[1;33m=\u001b[0m\u001b[1;32mNone\u001b[0m\u001b[1;33m)\u001b[0m\u001b[1;33m:\u001b[0m\u001b[1;33m\u001b[0m\u001b[1;33m\u001b[0m\u001b[0m\n",
      "\u001b[1;32mC:\\ProgramData\\Anaconda3\\lib\\site-packages\\selenium\\webdriver\\remote\\remote_connection.py\u001b[0m in \u001b[0;36m_request\u001b[1;34m(self, method, url, body)\u001b[0m\n\u001b[0;32m    367\u001b[0m \u001b[1;33m\u001b[0m\u001b[0m\n\u001b[0;32m    368\u001b[0m         \u001b[1;32mif\u001b[0m \u001b[0mself\u001b[0m\u001b[1;33m.\u001b[0m\u001b[0mkeep_alive\u001b[0m\u001b[1;33m:\u001b[0m\u001b[1;33m\u001b[0m\u001b[1;33m\u001b[0m\u001b[0m\n\u001b[1;32m--> 369\u001b[1;33m             \u001b[0mresponse\u001b[0m \u001b[1;33m=\u001b[0m \u001b[0mself\u001b[0m\u001b[1;33m.\u001b[0m\u001b[0m_conn\u001b[0m\u001b[1;33m.\u001b[0m\u001b[0mrequest\u001b[0m\u001b[1;33m(\u001b[0m\u001b[0mmethod\u001b[0m\u001b[1;33m,\u001b[0m \u001b[0murl\u001b[0m\u001b[1;33m,\u001b[0m \u001b[0mbody\u001b[0m\u001b[1;33m=\u001b[0m\u001b[0mbody\u001b[0m\u001b[1;33m,\u001b[0m \u001b[0mheaders\u001b[0m\u001b[1;33m=\u001b[0m\u001b[0mheaders\u001b[0m\u001b[1;33m)\u001b[0m\u001b[1;33m\u001b[0m\u001b[1;33m\u001b[0m\u001b[0m\n\u001b[0m\u001b[0;32m    370\u001b[0m             \u001b[0mstatuscode\u001b[0m \u001b[1;33m=\u001b[0m \u001b[0mresponse\u001b[0m\u001b[1;33m.\u001b[0m\u001b[0mstatus\u001b[0m\u001b[1;33m\u001b[0m\u001b[1;33m\u001b[0m\u001b[0m\n\u001b[0;32m    371\u001b[0m         \u001b[1;32melse\u001b[0m\u001b[1;33m:\u001b[0m\u001b[1;33m\u001b[0m\u001b[1;33m\u001b[0m\u001b[0m\n",
      "\u001b[1;32mC:\\ProgramData\\Anaconda3\\lib\\site-packages\\urllib3\\request.py\u001b[0m in \u001b[0;36mrequest\u001b[1;34m(self, method, url, fields, headers, **urlopen_kw)\u001b[0m\n\u001b[0;32m     76\u001b[0m             )\n\u001b[0;32m     77\u001b[0m         \u001b[1;32melse\u001b[0m\u001b[1;33m:\u001b[0m\u001b[1;33m\u001b[0m\u001b[1;33m\u001b[0m\u001b[0m\n\u001b[1;32m---> 78\u001b[1;33m             return self.request_encode_body(\n\u001b[0m\u001b[0;32m     79\u001b[0m                 \u001b[0mmethod\u001b[0m\u001b[1;33m,\u001b[0m \u001b[0murl\u001b[0m\u001b[1;33m,\u001b[0m \u001b[0mfields\u001b[0m\u001b[1;33m=\u001b[0m\u001b[0mfields\u001b[0m\u001b[1;33m,\u001b[0m \u001b[0mheaders\u001b[0m\u001b[1;33m=\u001b[0m\u001b[0mheaders\u001b[0m\u001b[1;33m,\u001b[0m \u001b[1;33m**\u001b[0m\u001b[0murlopen_kw\u001b[0m\u001b[1;33m\u001b[0m\u001b[1;33m\u001b[0m\u001b[0m\n\u001b[0;32m     80\u001b[0m             )\n",
      "\u001b[1;32mC:\\ProgramData\\Anaconda3\\lib\\site-packages\\urllib3\\request.py\u001b[0m in \u001b[0;36mrequest_encode_body\u001b[1;34m(self, method, url, fields, headers, encode_multipart, multipart_boundary, **urlopen_kw)\u001b[0m\n\u001b[0;32m    168\u001b[0m         \u001b[0mextra_kw\u001b[0m\u001b[1;33m.\u001b[0m\u001b[0mupdate\u001b[0m\u001b[1;33m(\u001b[0m\u001b[0murlopen_kw\u001b[0m\u001b[1;33m)\u001b[0m\u001b[1;33m\u001b[0m\u001b[1;33m\u001b[0m\u001b[0m\n\u001b[0;32m    169\u001b[0m \u001b[1;33m\u001b[0m\u001b[0m\n\u001b[1;32m--> 170\u001b[1;33m         \u001b[1;32mreturn\u001b[0m \u001b[0mself\u001b[0m\u001b[1;33m.\u001b[0m\u001b[0murlopen\u001b[0m\u001b[1;33m(\u001b[0m\u001b[0mmethod\u001b[0m\u001b[1;33m,\u001b[0m \u001b[0murl\u001b[0m\u001b[1;33m,\u001b[0m \u001b[1;33m**\u001b[0m\u001b[0mextra_kw\u001b[0m\u001b[1;33m)\u001b[0m\u001b[1;33m\u001b[0m\u001b[1;33m\u001b[0m\u001b[0m\n\u001b[0m",
      "\u001b[1;32mC:\\ProgramData\\Anaconda3\\lib\\site-packages\\urllib3\\poolmanager.py\u001b[0m in \u001b[0;36murlopen\u001b[1;34m(self, method, url, redirect, **kw)\u001b[0m\n\u001b[0;32m    373\u001b[0m             \u001b[0mresponse\u001b[0m \u001b[1;33m=\u001b[0m \u001b[0mconn\u001b[0m\u001b[1;33m.\u001b[0m\u001b[0murlopen\u001b[0m\u001b[1;33m(\u001b[0m\u001b[0mmethod\u001b[0m\u001b[1;33m,\u001b[0m \u001b[0murl\u001b[0m\u001b[1;33m,\u001b[0m \u001b[1;33m**\u001b[0m\u001b[0mkw\u001b[0m\u001b[1;33m)\u001b[0m\u001b[1;33m\u001b[0m\u001b[1;33m\u001b[0m\u001b[0m\n\u001b[0;32m    374\u001b[0m         \u001b[1;32melse\u001b[0m\u001b[1;33m:\u001b[0m\u001b[1;33m\u001b[0m\u001b[1;33m\u001b[0m\u001b[0m\n\u001b[1;32m--> 375\u001b[1;33m             \u001b[0mresponse\u001b[0m \u001b[1;33m=\u001b[0m \u001b[0mconn\u001b[0m\u001b[1;33m.\u001b[0m\u001b[0murlopen\u001b[0m\u001b[1;33m(\u001b[0m\u001b[0mmethod\u001b[0m\u001b[1;33m,\u001b[0m \u001b[0mu\u001b[0m\u001b[1;33m.\u001b[0m\u001b[0mrequest_uri\u001b[0m\u001b[1;33m,\u001b[0m \u001b[1;33m**\u001b[0m\u001b[0mkw\u001b[0m\u001b[1;33m)\u001b[0m\u001b[1;33m\u001b[0m\u001b[1;33m\u001b[0m\u001b[0m\n\u001b[0m\u001b[0;32m    376\u001b[0m \u001b[1;33m\u001b[0m\u001b[0m\n\u001b[0;32m    377\u001b[0m         \u001b[0mredirect_location\u001b[0m \u001b[1;33m=\u001b[0m \u001b[0mredirect\u001b[0m \u001b[1;32mand\u001b[0m \u001b[0mresponse\u001b[0m\u001b[1;33m.\u001b[0m\u001b[0mget_redirect_location\u001b[0m\u001b[1;33m(\u001b[0m\u001b[1;33m)\u001b[0m\u001b[1;33m\u001b[0m\u001b[1;33m\u001b[0m\u001b[0m\n",
      "\u001b[1;32mC:\\ProgramData\\Anaconda3\\lib\\site-packages\\urllib3\\connectionpool.py\u001b[0m in \u001b[0;36murlopen\u001b[1;34m(self, method, url, body, headers, retries, redirect, assert_same_host, timeout, pool_timeout, release_conn, chunked, body_pos, **response_kw)\u001b[0m\n\u001b[0;32m    781\u001b[0m                 \u001b[1;34m\"Retrying (%r) after connection broken by '%r': %s\"\u001b[0m\u001b[1;33m,\u001b[0m \u001b[0mretries\u001b[0m\u001b[1;33m,\u001b[0m \u001b[0merr\u001b[0m\u001b[1;33m,\u001b[0m \u001b[0murl\u001b[0m\u001b[1;33m\u001b[0m\u001b[1;33m\u001b[0m\u001b[0m\n\u001b[0;32m    782\u001b[0m             )\n\u001b[1;32m--> 783\u001b[1;33m             return self.urlopen(\n\u001b[0m\u001b[0;32m    784\u001b[0m                 \u001b[0mmethod\u001b[0m\u001b[1;33m,\u001b[0m\u001b[1;33m\u001b[0m\u001b[1;33m\u001b[0m\u001b[0m\n\u001b[0;32m    785\u001b[0m                 \u001b[0murl\u001b[0m\u001b[1;33m,\u001b[0m\u001b[1;33m\u001b[0m\u001b[1;33m\u001b[0m\u001b[0m\n",
      "\u001b[1;32mC:\\ProgramData\\Anaconda3\\lib\\site-packages\\urllib3\\connectionpool.py\u001b[0m in \u001b[0;36murlopen\u001b[1;34m(self, method, url, body, headers, retries, redirect, assert_same_host, timeout, pool_timeout, release_conn, chunked, body_pos, **response_kw)\u001b[0m\n\u001b[0;32m    781\u001b[0m                 \u001b[1;34m\"Retrying (%r) after connection broken by '%r': %s\"\u001b[0m\u001b[1;33m,\u001b[0m \u001b[0mretries\u001b[0m\u001b[1;33m,\u001b[0m \u001b[0merr\u001b[0m\u001b[1;33m,\u001b[0m \u001b[0murl\u001b[0m\u001b[1;33m\u001b[0m\u001b[1;33m\u001b[0m\u001b[0m\n\u001b[0;32m    782\u001b[0m             )\n\u001b[1;32m--> 783\u001b[1;33m             return self.urlopen(\n\u001b[0m\u001b[0;32m    784\u001b[0m                 \u001b[0mmethod\u001b[0m\u001b[1;33m,\u001b[0m\u001b[1;33m\u001b[0m\u001b[1;33m\u001b[0m\u001b[0m\n\u001b[0;32m    785\u001b[0m                 \u001b[0murl\u001b[0m\u001b[1;33m,\u001b[0m\u001b[1;33m\u001b[0m\u001b[1;33m\u001b[0m\u001b[0m\n",
      "\u001b[1;32mC:\\ProgramData\\Anaconda3\\lib\\site-packages\\urllib3\\connectionpool.py\u001b[0m in \u001b[0;36murlopen\u001b[1;34m(self, method, url, body, headers, retries, redirect, assert_same_host, timeout, pool_timeout, release_conn, chunked, body_pos, **response_kw)\u001b[0m\n\u001b[0;32m    781\u001b[0m                 \u001b[1;34m\"Retrying (%r) after connection broken by '%r': %s\"\u001b[0m\u001b[1;33m,\u001b[0m \u001b[0mretries\u001b[0m\u001b[1;33m,\u001b[0m \u001b[0merr\u001b[0m\u001b[1;33m,\u001b[0m \u001b[0murl\u001b[0m\u001b[1;33m\u001b[0m\u001b[1;33m\u001b[0m\u001b[0m\n\u001b[0;32m    782\u001b[0m             )\n\u001b[1;32m--> 783\u001b[1;33m             return self.urlopen(\n\u001b[0m\u001b[0;32m    784\u001b[0m                 \u001b[0mmethod\u001b[0m\u001b[1;33m,\u001b[0m\u001b[1;33m\u001b[0m\u001b[1;33m\u001b[0m\u001b[0m\n\u001b[0;32m    785\u001b[0m                 \u001b[0murl\u001b[0m\u001b[1;33m,\u001b[0m\u001b[1;33m\u001b[0m\u001b[1;33m\u001b[0m\u001b[0m\n",
      "\u001b[1;32mC:\\ProgramData\\Anaconda3\\lib\\site-packages\\urllib3\\connectionpool.py\u001b[0m in \u001b[0;36murlopen\u001b[1;34m(self, method, url, body, headers, retries, redirect, assert_same_host, timeout, pool_timeout, release_conn, chunked, body_pos, **response_kw)\u001b[0m\n\u001b[0;32m    753\u001b[0m                 \u001b[0me\u001b[0m \u001b[1;33m=\u001b[0m \u001b[0mProtocolError\u001b[0m\u001b[1;33m(\u001b[0m\u001b[1;34m\"Connection aborted.\"\u001b[0m\u001b[1;33m,\u001b[0m \u001b[0me\u001b[0m\u001b[1;33m)\u001b[0m\u001b[1;33m\u001b[0m\u001b[1;33m\u001b[0m\u001b[0m\n\u001b[0;32m    754\u001b[0m \u001b[1;33m\u001b[0m\u001b[0m\n\u001b[1;32m--> 755\u001b[1;33m             retries = retries.increment(\n\u001b[0m\u001b[0;32m    756\u001b[0m                 \u001b[0mmethod\u001b[0m\u001b[1;33m,\u001b[0m \u001b[0murl\u001b[0m\u001b[1;33m,\u001b[0m \u001b[0merror\u001b[0m\u001b[1;33m=\u001b[0m\u001b[0me\u001b[0m\u001b[1;33m,\u001b[0m \u001b[0m_pool\u001b[0m\u001b[1;33m=\u001b[0m\u001b[0mself\u001b[0m\u001b[1;33m,\u001b[0m \u001b[0m_stacktrace\u001b[0m\u001b[1;33m=\u001b[0m\u001b[0msys\u001b[0m\u001b[1;33m.\u001b[0m\u001b[0mexc_info\u001b[0m\u001b[1;33m(\u001b[0m\u001b[1;33m)\u001b[0m\u001b[1;33m[\u001b[0m\u001b[1;36m2\u001b[0m\u001b[1;33m]\u001b[0m\u001b[1;33m\u001b[0m\u001b[1;33m\u001b[0m\u001b[0m\n\u001b[0;32m    757\u001b[0m             )\n",
      "\u001b[1;32mC:\\ProgramData\\Anaconda3\\lib\\site-packages\\urllib3\\util\\retry.py\u001b[0m in \u001b[0;36mincrement\u001b[1;34m(self, method, url, response, error, _pool, _stacktrace)\u001b[0m\n\u001b[0;32m    572\u001b[0m \u001b[1;33m\u001b[0m\u001b[0m\n\u001b[0;32m    573\u001b[0m         \u001b[1;32mif\u001b[0m \u001b[0mnew_retry\u001b[0m\u001b[1;33m.\u001b[0m\u001b[0mis_exhausted\u001b[0m\u001b[1;33m(\u001b[0m\u001b[1;33m)\u001b[0m\u001b[1;33m:\u001b[0m\u001b[1;33m\u001b[0m\u001b[1;33m\u001b[0m\u001b[0m\n\u001b[1;32m--> 574\u001b[1;33m             \u001b[1;32mraise\u001b[0m \u001b[0mMaxRetryError\u001b[0m\u001b[1;33m(\u001b[0m\u001b[0m_pool\u001b[0m\u001b[1;33m,\u001b[0m \u001b[0murl\u001b[0m\u001b[1;33m,\u001b[0m \u001b[0merror\u001b[0m \u001b[1;32mor\u001b[0m \u001b[0mResponseError\u001b[0m\u001b[1;33m(\u001b[0m\u001b[0mcause\u001b[0m\u001b[1;33m)\u001b[0m\u001b[1;33m)\u001b[0m\u001b[1;33m\u001b[0m\u001b[1;33m\u001b[0m\u001b[0m\n\u001b[0m\u001b[0;32m    575\u001b[0m \u001b[1;33m\u001b[0m\u001b[0m\n\u001b[0;32m    576\u001b[0m         \u001b[0mlog\u001b[0m\u001b[1;33m.\u001b[0m\u001b[0mdebug\u001b[0m\u001b[1;33m(\u001b[0m\u001b[1;34m\"Incremented Retry for (url='%s'): %r\"\u001b[0m\u001b[1;33m,\u001b[0m \u001b[0murl\u001b[0m\u001b[1;33m,\u001b[0m \u001b[0mnew_retry\u001b[0m\u001b[1;33m)\u001b[0m\u001b[1;33m\u001b[0m\u001b[1;33m\u001b[0m\u001b[0m\n",
      "\u001b[1;31mMaxRetryError\u001b[0m: HTTPConnectionPool(host='localhost', port=59922): Max retries exceeded with url: /session/fe9dde51870dd7722c72a80fd58aeb56/elements (Caused by NewConnectionError('<urllib3.connection.HTTPConnection object at 0x000002A5D283C580>: Failed to establish a new connection: [WinError 10061] No connection could be made because the target machine actively refused it'))"
     ]
    }
   ],
   "source": [
    "gsdp18_tags=browser.find_elements_by_xpath(\"//td[@class='data sorting_1']\")\n",
    "for i in gsdp18_tags:\n",
    "    if i.text is None :\n",
    "        gsdp18.append(\"no rating\") \n",
    "    else:\n",
    "        gsdp18.append(i.text)"
   ]
  },
  {
   "cell_type": "code",
   "execution_count": null,
   "id": "861e3d06",
   "metadata": {},
   "outputs": [],
   "source": [
    "gsdpbi.pop(0)"
   ]
  },
  {
   "cell_type": "code",
   "execution_count": null,
   "id": "c65f0e5f",
   "metadata": {},
   "outputs": [],
   "source": [
    "gsdpbi.pop(0)"
   ]
  },
  {
   "cell_type": "code",
   "execution_count": null,
   "id": "9a808b58",
   "metadata": {},
   "outputs": [],
   "source": [
    "gsdpbi.pop(1)"
   ]
  },
  {
   "cell_type": "code",
   "execution_count": null,
   "id": "c6d69f8c",
   "metadata": {},
   "outputs": [],
   "source": [
    "gsdpbi.pop(1)"
   ]
  },
  {
   "cell_type": "code",
   "execution_count": null,
   "id": "d582e0b4",
   "metadata": {},
   "outputs": [],
   "source": [
    "gsdpbi.pop(1)"
   ]
  },
  {
   "cell_type": "code",
   "execution_count": null,
   "id": "c664aa14",
   "metadata": {},
   "outputs": [],
   "source": [
    "gsdpbi.pop(1)"
   ]
  },
  {
   "cell_type": "code",
   "execution_count": null,
   "id": "6f3f9037",
   "metadata": {},
   "outputs": [],
   "source": [
    "gsdpbi.pop(2)"
   ]
  },
  {
   "cell_type": "code",
   "execution_count": null,
   "id": "1e350f99",
   "metadata": {},
   "outputs": [],
   "source": [
    "gsdpbi.pop(2)"
   ]
  },
  {
   "cell_type": "code",
   "execution_count": null,
   "id": "f068f0ed",
   "metadata": {},
   "outputs": [],
   "source": [
    "gsdpbi.pop(2)"
   ]
  },
  {
   "cell_type": "code",
   "execution_count": null,
   "id": "fd0068c1",
   "metadata": {},
   "outputs": [],
   "source": [
    "gsdpbi.pop(2)"
   ]
  },
  {
   "cell_type": "code",
   "execution_count": null,
   "id": "41145481",
   "metadata": {},
   "outputs": [],
   "source": [
    "gsdpbi.pop(3)"
   ]
  },
  {
   "cell_type": "code",
   "execution_count": null,
   "id": "5f4b4cb9",
   "metadata": {},
   "outputs": [],
   "source": [
    "gsdpbi.pop(3)"
   ]
  },
  {
   "cell_type": "code",
   "execution_count": null,
   "id": "c3899162",
   "metadata": {},
   "outputs": [],
   "source": [
    "gsdpbi.pop(3)"
   ]
  },
  {
   "cell_type": "code",
   "execution_count": null,
   "id": "91711ba8",
   "metadata": {},
   "outputs": [],
   "source": [
    "gsdpbi.pop(3)"
   ]
  },
  {
   "cell_type": "code",
   "execution_count": null,
   "id": "da5f2d78",
   "metadata": {},
   "outputs": [],
   "source": [
    "gsdpbi.pop(4)"
   ]
  },
  {
   "cell_type": "code",
   "execution_count": null,
   "id": "46ba40f7",
   "metadata": {},
   "outputs": [],
   "source": [
    "gsdpbi.pop(4)"
   ]
  },
  {
   "cell_type": "code",
   "execution_count": null,
   "id": "b8caeb8e",
   "metadata": {},
   "outputs": [],
   "source": [
    "gsdpbi.pop(4)"
   ]
  },
  {
   "cell_type": "code",
   "execution_count": null,
   "id": "9fc1df70",
   "metadata": {},
   "outputs": [],
   "source": [
    "gsdpbi.pop(4)"
   ]
  },
  {
   "cell_type": "code",
   "execution_count": null,
   "id": "a2cd7ec7",
   "metadata": {},
   "outputs": [],
   "source": [
    "gsdpbi.pop(5)"
   ]
  },
  {
   "cell_type": "code",
   "execution_count": null,
   "id": "44a845ca",
   "metadata": {},
   "outputs": [],
   "source": [
    "gsdpbi.pop(5)"
   ]
  },
  {
   "cell_type": "code",
   "execution_count": null,
   "id": "60d4a8b4",
   "metadata": {},
   "outputs": [],
   "source": [
    "gsdpbi.pop(5)"
   ]
  },
  {
   "cell_type": "code",
   "execution_count": null,
   "id": "906b391e",
   "metadata": {},
   "outputs": [],
   "source": [
    "gsdpbi.pop(5)"
   ]
  },
  {
   "cell_type": "code",
   "execution_count": null,
   "id": "25bf0cd1",
   "metadata": {},
   "outputs": [],
   "source": [
    "gsdpbi.pop(6)"
   ]
  },
  {
   "cell_type": "code",
   "execution_count": null,
   "id": "b10925a9",
   "metadata": {},
   "outputs": [],
   "source": [
    "gsdpbi.pop(6)"
   ]
  },
  {
   "cell_type": "code",
   "execution_count": null,
   "id": "0f62a9c2",
   "metadata": {},
   "outputs": [],
   "source": [
    "gsdpbi.pop(6)"
   ]
  },
  {
   "cell_type": "code",
   "execution_count": null,
   "id": "6f509df0",
   "metadata": {},
   "outputs": [],
   "source": [
    "gsdpbi.pop(6)"
   ]
  },
  {
   "cell_type": "code",
   "execution_count": null,
   "id": "0a0d448a",
   "metadata": {},
   "outputs": [],
   "source": [
    "gsdpbi.pop(7)"
   ]
  },
  {
   "cell_type": "code",
   "execution_count": null,
   "id": "6c26c0a2",
   "metadata": {},
   "outputs": [],
   "source": [
    "gsdpbi.pop(7)"
   ]
  },
  {
   "cell_type": "code",
   "execution_count": null,
   "id": "2d19ce56",
   "metadata": {},
   "outputs": [],
   "source": [
    "gsdpbi.pop(7)"
   ]
  },
  {
   "cell_type": "code",
   "execution_count": null,
   "id": "c409ad76",
   "metadata": {},
   "outputs": [],
   "source": [
    "gsdpbi.pop(7)"
   ]
  },
  {
   "cell_type": "code",
   "execution_count": null,
   "id": "d6e2314c",
   "metadata": {},
   "outputs": [],
   "source": [
    "gsdpbi.pop(8)"
   ]
  },
  {
   "cell_type": "code",
   "execution_count": null,
   "id": "7b1b00c7",
   "metadata": {},
   "outputs": [],
   "source": [
    "gsdpbi.pop(8)"
   ]
  },
  {
   "cell_type": "code",
   "execution_count": null,
   "id": "2216c4f4",
   "metadata": {},
   "outputs": [],
   "source": [
    "gsdpbi.pop(8)"
   ]
  },
  {
   "cell_type": "code",
   "execution_count": null,
   "id": "1137ed93",
   "metadata": {},
   "outputs": [],
   "source": [
    "gsdpbi.pop(8)"
   ]
  },
  {
   "cell_type": "code",
   "execution_count": null,
   "id": "3f2e18c1",
   "metadata": {},
   "outputs": [],
   "source": [
    "gsdpbi.pop(9)"
   ]
  },
  {
   "cell_type": "code",
   "execution_count": null,
   "id": "de241f7b",
   "metadata": {},
   "outputs": [],
   "source": [
    "gsdpbi.pop(9)"
   ]
  },
  {
   "cell_type": "code",
   "execution_count": null,
   "id": "7573d7bf",
   "metadata": {},
   "outputs": [],
   "source": [
    "gsdpbi.pop(9)"
   ]
  },
  {
   "cell_type": "code",
   "execution_count": null,
   "id": "942ff28e",
   "metadata": {},
   "outputs": [],
   "source": [
    "gsdpbi.pop(9)"
   ]
  },
  {
   "cell_type": "code",
   "execution_count": null,
   "id": "860ad930",
   "metadata": {},
   "outputs": [],
   "source": [
    "gsdpbi.pop(10)"
   ]
  },
  {
   "cell_type": "code",
   "execution_count": null,
   "id": "4008ee25",
   "metadata": {},
   "outputs": [],
   "source": [
    "gsdpbi.pop(10)"
   ]
  },
  {
   "cell_type": "code",
   "execution_count": null,
   "id": "32946b0d",
   "metadata": {},
   "outputs": [],
   "source": [
    "gsdpbi.pop(10)"
   ]
  },
  {
   "cell_type": "code",
   "execution_count": 271,
   "id": "5c55290b",
   "metadata": {},
   "outputs": [
    {
     "ename": "IndexError",
     "evalue": "pop from empty list",
     "output_type": "error",
     "traceback": [
      "\u001b[1;31m---------------------------------------------------------------------------\u001b[0m",
      "\u001b[1;31mIndexError\u001b[0m                                Traceback (most recent call last)",
      "\u001b[1;32m~\\AppData\\Local\\Temp/ipykernel_29492/1010801503.py\u001b[0m in \u001b[0;36m<module>\u001b[1;34m\u001b[0m\n\u001b[1;32m----> 1\u001b[1;33m \u001b[0mgsdpbi\u001b[0m\u001b[1;33m.\u001b[0m\u001b[0mpop\u001b[0m\u001b[1;33m(\u001b[0m\u001b[1;36m10\u001b[0m\u001b[1;33m)\u001b[0m\u001b[1;33m\u001b[0m\u001b[1;33m\u001b[0m\u001b[0m\n\u001b[0m",
      "\u001b[1;31mIndexError\u001b[0m: pop from empty list"
     ]
    }
   ],
   "source": [
    "gsdpbi.pop(10)"
   ]
  },
  {
   "cell_type": "code",
   "execution_count": 272,
   "id": "e7c4216a",
   "metadata": {},
   "outputs": [
    {
     "data": {
      "text/plain": [
       "[]"
      ]
     },
     "execution_count": 272,
     "metadata": {},
     "output_type": "execute_result"
    }
   ],
   "source": [
    "gsdpbi[0:10]"
   ]
  },
  {
   "cell_type": "code",
   "execution_count": 273,
   "id": "9d763c5a",
   "metadata": {},
   "outputs": [
    {
     "ename": "ValueError",
     "evalue": "Length of values (0) does not match length of index (10)",
     "output_type": "error",
     "traceback": [
      "\u001b[1;31m---------------------------------------------------------------------------\u001b[0m",
      "\u001b[1;31mValueError\u001b[0m                                Traceback (most recent call last)",
      "\u001b[1;32m~\\AppData\\Local\\Temp/ipykernel_29492/1266626521.py\u001b[0m in \u001b[0;36m<module>\u001b[1;34m\u001b[0m\n\u001b[0;32m      4\u001b[0m \u001b[0mstats\u001b[0m\u001b[1;33m[\u001b[0m\u001b[1;34m'Names'\u001b[0m\u001b[1;33m]\u001b[0m\u001b[1;33m=\u001b[0m\u001b[0mnames\u001b[0m\u001b[1;33m[\u001b[0m\u001b[1;36m0\u001b[0m\u001b[1;33m:\u001b[0m\u001b[1;36m10\u001b[0m\u001b[1;33m]\u001b[0m\u001b[1;33m\u001b[0m\u001b[1;33m\u001b[0m\u001b[0m\n\u001b[0;32m      5\u001b[0m \u001b[0mstats\u001b[0m\u001b[1;33m[\u001b[0m\u001b[1;34m'gsdp19'\u001b[0m\u001b[1;33m]\u001b[0m\u001b[1;33m=\u001b[0m\u001b[0mgsdp19\u001b[0m\u001b[1;33m[\u001b[0m\u001b[1;36m0\u001b[0m\u001b[1;33m:\u001b[0m\u001b[1;36m10\u001b[0m\u001b[1;33m]\u001b[0m\u001b[1;33m\u001b[0m\u001b[1;33m\u001b[0m\u001b[0m\n\u001b[1;32m----> 6\u001b[1;33m \u001b[0mstats\u001b[0m\u001b[1;33m[\u001b[0m\u001b[1;34m'gsdp18'\u001b[0m\u001b[1;33m]\u001b[0m\u001b[1;33m=\u001b[0m\u001b[0mgsdp18\u001b[0m\u001b[1;33m[\u001b[0m\u001b[1;36m0\u001b[0m\u001b[1;33m:\u001b[0m\u001b[1;36m10\u001b[0m\u001b[1;33m]\u001b[0m\u001b[1;33m\u001b[0m\u001b[1;33m\u001b[0m\u001b[0m\n\u001b[0m\u001b[0;32m      7\u001b[0m \u001b[0mstats\u001b[0m\u001b[1;33m[\u001b[0m\u001b[1;34m'gsdpbi'\u001b[0m\u001b[1;33m]\u001b[0m\u001b[1;33m=\u001b[0m\u001b[0mgsdp18\u001b[0m\u001b[1;33m[\u001b[0m\u001b[1;36m0\u001b[0m\u001b[1;33m:\u001b[0m\u001b[1;36m10\u001b[0m\u001b[1;33m]\u001b[0m\u001b[1;33m\u001b[0m\u001b[1;33m\u001b[0m\u001b[0m\n",
      "\u001b[1;32mC:\\ProgramData\\Anaconda3\\lib\\site-packages\\pandas\\core\\frame.py\u001b[0m in \u001b[0;36m__setitem__\u001b[1;34m(self, key, value)\u001b[0m\n\u001b[0;32m   3610\u001b[0m         \u001b[1;32melse\u001b[0m\u001b[1;33m:\u001b[0m\u001b[1;33m\u001b[0m\u001b[1;33m\u001b[0m\u001b[0m\n\u001b[0;32m   3611\u001b[0m             \u001b[1;31m# set column\u001b[0m\u001b[1;33m\u001b[0m\u001b[1;33m\u001b[0m\u001b[0m\n\u001b[1;32m-> 3612\u001b[1;33m             \u001b[0mself\u001b[0m\u001b[1;33m.\u001b[0m\u001b[0m_set_item\u001b[0m\u001b[1;33m(\u001b[0m\u001b[0mkey\u001b[0m\u001b[1;33m,\u001b[0m \u001b[0mvalue\u001b[0m\u001b[1;33m)\u001b[0m\u001b[1;33m\u001b[0m\u001b[1;33m\u001b[0m\u001b[0m\n\u001b[0m\u001b[0;32m   3613\u001b[0m \u001b[1;33m\u001b[0m\u001b[0m\n\u001b[0;32m   3614\u001b[0m     \u001b[1;32mdef\u001b[0m \u001b[0m_setitem_slice\u001b[0m\u001b[1;33m(\u001b[0m\u001b[0mself\u001b[0m\u001b[1;33m,\u001b[0m \u001b[0mkey\u001b[0m\u001b[1;33m:\u001b[0m \u001b[0mslice\u001b[0m\u001b[1;33m,\u001b[0m \u001b[0mvalue\u001b[0m\u001b[1;33m)\u001b[0m\u001b[1;33m:\u001b[0m\u001b[1;33m\u001b[0m\u001b[1;33m\u001b[0m\u001b[0m\n",
      "\u001b[1;32mC:\\ProgramData\\Anaconda3\\lib\\site-packages\\pandas\\core\\frame.py\u001b[0m in \u001b[0;36m_set_item\u001b[1;34m(self, key, value)\u001b[0m\n\u001b[0;32m   3782\u001b[0m         \u001b[0mensure\u001b[0m \u001b[0mhomogeneity\u001b[0m\u001b[1;33m.\u001b[0m\u001b[1;33m\u001b[0m\u001b[1;33m\u001b[0m\u001b[0m\n\u001b[0;32m   3783\u001b[0m         \"\"\"\n\u001b[1;32m-> 3784\u001b[1;33m         \u001b[0mvalue\u001b[0m \u001b[1;33m=\u001b[0m \u001b[0mself\u001b[0m\u001b[1;33m.\u001b[0m\u001b[0m_sanitize_column\u001b[0m\u001b[1;33m(\u001b[0m\u001b[0mvalue\u001b[0m\u001b[1;33m)\u001b[0m\u001b[1;33m\u001b[0m\u001b[1;33m\u001b[0m\u001b[0m\n\u001b[0m\u001b[0;32m   3785\u001b[0m \u001b[1;33m\u001b[0m\u001b[0m\n\u001b[0;32m   3786\u001b[0m         if (\n",
      "\u001b[1;32mC:\\ProgramData\\Anaconda3\\lib\\site-packages\\pandas\\core\\frame.py\u001b[0m in \u001b[0;36m_sanitize_column\u001b[1;34m(self, value)\u001b[0m\n\u001b[0;32m   4507\u001b[0m \u001b[1;33m\u001b[0m\u001b[0m\n\u001b[0;32m   4508\u001b[0m         \u001b[1;32mif\u001b[0m \u001b[0mis_list_like\u001b[0m\u001b[1;33m(\u001b[0m\u001b[0mvalue\u001b[0m\u001b[1;33m)\u001b[0m\u001b[1;33m:\u001b[0m\u001b[1;33m\u001b[0m\u001b[1;33m\u001b[0m\u001b[0m\n\u001b[1;32m-> 4509\u001b[1;33m             \u001b[0mcom\u001b[0m\u001b[1;33m.\u001b[0m\u001b[0mrequire_length_match\u001b[0m\u001b[1;33m(\u001b[0m\u001b[0mvalue\u001b[0m\u001b[1;33m,\u001b[0m \u001b[0mself\u001b[0m\u001b[1;33m.\u001b[0m\u001b[0mindex\u001b[0m\u001b[1;33m)\u001b[0m\u001b[1;33m\u001b[0m\u001b[1;33m\u001b[0m\u001b[0m\n\u001b[0m\u001b[0;32m   4510\u001b[0m         \u001b[1;32mreturn\u001b[0m \u001b[0msanitize_array\u001b[0m\u001b[1;33m(\u001b[0m\u001b[0mvalue\u001b[0m\u001b[1;33m,\u001b[0m \u001b[0mself\u001b[0m\u001b[1;33m.\u001b[0m\u001b[0mindex\u001b[0m\u001b[1;33m,\u001b[0m \u001b[0mcopy\u001b[0m\u001b[1;33m=\u001b[0m\u001b[1;32mTrue\u001b[0m\u001b[1;33m,\u001b[0m \u001b[0mallow_2d\u001b[0m\u001b[1;33m=\u001b[0m\u001b[1;32mTrue\u001b[0m\u001b[1;33m)\u001b[0m\u001b[1;33m\u001b[0m\u001b[1;33m\u001b[0m\u001b[0m\n\u001b[0;32m   4511\u001b[0m \u001b[1;33m\u001b[0m\u001b[0m\n",
      "\u001b[1;32mC:\\ProgramData\\Anaconda3\\lib\\site-packages\\pandas\\core\\common.py\u001b[0m in \u001b[0;36mrequire_length_match\u001b[1;34m(data, index)\u001b[0m\n\u001b[0;32m    529\u001b[0m     \"\"\"\n\u001b[0;32m    530\u001b[0m     \u001b[1;32mif\u001b[0m \u001b[0mlen\u001b[0m\u001b[1;33m(\u001b[0m\u001b[0mdata\u001b[0m\u001b[1;33m)\u001b[0m \u001b[1;33m!=\u001b[0m \u001b[0mlen\u001b[0m\u001b[1;33m(\u001b[0m\u001b[0mindex\u001b[0m\u001b[1;33m)\u001b[0m\u001b[1;33m:\u001b[0m\u001b[1;33m\u001b[0m\u001b[1;33m\u001b[0m\u001b[0m\n\u001b[1;32m--> 531\u001b[1;33m         raise ValueError(\n\u001b[0m\u001b[0;32m    532\u001b[0m             \u001b[1;34m\"Length of values \"\u001b[0m\u001b[1;33m\u001b[0m\u001b[1;33m\u001b[0m\u001b[0m\n\u001b[0;32m    533\u001b[0m             \u001b[1;34mf\"({len(data)}) \"\u001b[0m\u001b[1;33m\u001b[0m\u001b[1;33m\u001b[0m\u001b[0m\n",
      "\u001b[1;31mValueError\u001b[0m: Length of values (0) does not match length of index (10)"
     ]
    }
   ],
   "source": [
    "import pandas as pd\n",
    "stats=pd.DataFrame({})\n",
    "stats['Rank']=ranks[0:10]\n",
    "stats['Names']=names[0:10]\n",
    "stats['gsdp19']=gsdp19[0:10]\n",
    "stats['gsdp18']=gsdp18[0:10]\n",
    "stats['gsdpbi']=gsdp18[0:10]"
   ]
  },
  {
   "cell_type": "code",
   "execution_count": 274,
   "id": "19127f2b",
   "metadata": {},
   "outputs": [
    {
     "data": {
      "text/html": [
       "<div>\n",
       "<style scoped>\n",
       "    .dataframe tbody tr th:only-of-type {\n",
       "        vertical-align: middle;\n",
       "    }\n",
       "\n",
       "    .dataframe tbody tr th {\n",
       "        vertical-align: top;\n",
       "    }\n",
       "\n",
       "    .dataframe thead th {\n",
       "        text-align: right;\n",
       "    }\n",
       "</style>\n",
       "<table border=\"1\" class=\"dataframe\">\n",
       "  <thead>\n",
       "    <tr style=\"text-align: right;\">\n",
       "      <th></th>\n",
       "      <th>Rank</th>\n",
       "      <th>Names</th>\n",
       "      <th>gsdp19</th>\n",
       "    </tr>\n",
       "  </thead>\n",
       "  <tbody>\n",
       "    <tr>\n",
       "      <th>0</th>\n",
       "      <td>1</td>\n",
       "      <td>Maharashtra</td>\n",
       "      <td>-</td>\n",
       "    </tr>\n",
       "    <tr>\n",
       "      <th>1</th>\n",
       "      <td>2</td>\n",
       "      <td>Tamil Nadu</td>\n",
       "      <td>1,845,853</td>\n",
       "    </tr>\n",
       "    <tr>\n",
       "      <th>2</th>\n",
       "      <td>3</td>\n",
       "      <td>Uttar Pradesh</td>\n",
       "      <td>1,687,818</td>\n",
       "    </tr>\n",
       "    <tr>\n",
       "      <th>3</th>\n",
       "      <td>4</td>\n",
       "      <td>Gujarat</td>\n",
       "      <td>1,631,977</td>\n",
       "    </tr>\n",
       "    <tr>\n",
       "      <th>4</th>\n",
       "      <td>5</td>\n",
       "      <td>Karnataka</td>\n",
       "      <td>1,253,832</td>\n",
       "    </tr>\n",
       "    <tr>\n",
       "      <th>5</th>\n",
       "      <td>6</td>\n",
       "      <td>West Bengal</td>\n",
       "      <td>1,020,989</td>\n",
       "    </tr>\n",
       "    <tr>\n",
       "      <th>6</th>\n",
       "      <td>7</td>\n",
       "      <td>Rajasthan</td>\n",
       "      <td>969,604</td>\n",
       "    </tr>\n",
       "    <tr>\n",
       "      <th>7</th>\n",
       "      <td>8</td>\n",
       "      <td>Andhra Pradesh</td>\n",
       "      <td>117.703</td>\n",
       "    </tr>\n",
       "    <tr>\n",
       "      <th>8</th>\n",
       "      <td>9</td>\n",
       "      <td>Telangana</td>\n",
       "      <td>111.519</td>\n",
       "    </tr>\n",
       "    <tr>\n",
       "      <th>9</th>\n",
       "      <td>10</td>\n",
       "      <td>Madhya Pradesh</td>\n",
       "      <td>80.562</td>\n",
       "    </tr>\n",
       "  </tbody>\n",
       "</table>\n",
       "</div>"
      ],
      "text/plain": [
       "  Rank           Names     gsdp19\n",
       "0    1     Maharashtra          -\n",
       "1    2      Tamil Nadu  1,845,853\n",
       "2    3   Uttar Pradesh  1,687,818\n",
       "3    4         Gujarat  1,631,977\n",
       "4    5       Karnataka  1,253,832\n",
       "5    6     West Bengal  1,020,989\n",
       "6    7       Rajasthan    969,604\n",
       "7    8  Andhra Pradesh    117.703\n",
       "8    9       Telangana    111.519\n",
       "9   10  Madhya Pradesh     80.562"
      ]
     },
     "execution_count": 274,
     "metadata": {},
     "output_type": "execute_result"
    }
   ],
   "source": [
    "stats"
   ]
  },
  {
   "cell_type": "raw",
   "id": "9b3ab7c4",
   "metadata": {},
   "source": [
    "#\n",
    "5.\tScrape the details of trending repositories on Github.com. Url = https://github.com/\n",
    "You have to find the following details:\n",
    "A)\tRepository title\n",
    "B)\tRepository description\n",
    "C)\tContributors count\n",
    "D)\tLanguage used\n"
   ]
  },
  {
   "cell_type": "code",
   "execution_count": 291,
   "id": "53ddda8b",
   "metadata": {},
   "outputs": [],
   "source": [
    "import pandas as pd\n",
    "import selenium\n",
    "from selenium import webdriver\n",
    "from selenium.common.exceptions import StaleElementReferenceException, NoSuchElementException"
   ]
  },
  {
   "cell_type": "code",
   "execution_count": 292,
   "id": "b0a68b2a",
   "metadata": {},
   "outputs": [],
   "source": [
    "import requests\n",
    "from selenium import webdriver\n",
    "\n",
    "browser = webdriver.Chrome()\n",
    "\n",
    "browser.get(\"https://github.com/trending\")\n",
    "from bs4 import BeautifulSoup"
   ]
  },
  {
   "cell_type": "code",
   "execution_count": 293,
   "id": "19ca61a3",
   "metadata": {},
   "outputs": [],
   "source": [
    "title=[]"
   ]
  },
  {
   "cell_type": "code",
   "execution_count": 294,
   "id": "0944f53c",
   "metadata": {},
   "outputs": [],
   "source": [
    "title_tags=browser.find_elements_by_xpath(\"//h1[@class='h3 lh-condensed']\")\n",
    "for i in title_tags:\n",
    "    if i.text is None :\n",
    "        title.append(\"no rating\") \n",
    "    else:\n",
    "        title.append(i.text)"
   ]
  },
  {
   "cell_type": "code",
   "execution_count": 295,
   "id": "cebafd05",
   "metadata": {},
   "outputs": [
    {
     "data": {
      "text/plain": [
       "['pocketbase / pocketbase',\n",
       " 'WongKinYiu / yolov7',\n",
       " 'All-Cups / aicup22',\n",
       " 'vinta / awesome-python',\n",
       " 'codecrafters-io / build-your-own-x',\n",
       " 'sunface / rust-by-practice',\n",
       " 'qiangmzsx / Software-Engineering-at-Google',\n",
       " 'public-apis / public-apis',\n",
       " 'h5bp / Front-end-Developer-Interview-Questions',\n",
       " 'Developer-Y / cs-video-courses',\n",
       " 'Jarred-Sumner / bun',\n",
       " 'ziglang / zig',\n",
       " 'yangshun / tech-interview-handbook',\n",
       " 'jinfagang / yolov7',\n",
       " 'EbookFoundation / free-programming-books',\n",
       " 'PINTO0309 / PINTO_model_zoo',\n",
       " 'goabstract / Awesome-Design-Tools',\n",
       " 'ossu / computer-science',\n",
       " 'ShareX / ShareX',\n",
       " 'bradtraversy / design-resources-for-developers',\n",
       " 'facebookresearch / fairseq',\n",
       " 'microsoft / Web-Dev-For-Beginners',\n",
       " 'moment / moment',\n",
       " 'sensity-ai / dot',\n",
       " 'sindresorhus / awesome']"
      ]
     },
     "execution_count": 295,
     "metadata": {},
     "output_type": "execute_result"
    }
   ],
   "source": [
    "title"
   ]
  },
  {
   "cell_type": "code",
   "execution_count": 296,
   "id": "f74e741d",
   "metadata": {},
   "outputs": [],
   "source": [
    "description=[]"
   ]
  },
  {
   "cell_type": "code",
   "execution_count": 297,
   "id": "a072722c",
   "metadata": {},
   "outputs": [],
   "source": [
    "description_tags=browser.find_elements_by_xpath(\"//p[@class='col-9 color-text-secondary my-1 pr-4']\")\n",
    "for i in description_tags:\n",
    "    if i.text is None :\n",
    "        description.append(\"no rating\") \n",
    "    else:\n",
    "        description.append(i.text)"
   ]
  },
  {
   "cell_type": "code",
   "execution_count": 298,
   "id": "94455578",
   "metadata": {},
   "outputs": [
    {
     "data": {
      "text/plain": [
       "[]"
      ]
     },
     "execution_count": 298,
     "metadata": {},
     "output_type": "execute_result"
    }
   ],
   "source": [
    "description"
   ]
  },
  {
   "cell_type": "code",
   "execution_count": 299,
   "id": "15bc4f4c",
   "metadata": {},
   "outputs": [],
   "source": [
    "language=[]"
   ]
  },
  {
   "cell_type": "code",
   "execution_count": 300,
   "id": "0cbf50b5",
   "metadata": {},
   "outputs": [],
   "source": [
    "language_tags=browser.find_elements_by_xpath(\"//span[@class='d-inline-block ml-0 mr-3']\")\n",
    "for i in language_tags:\n",
    "    if i.text is None :\n",
    "        language.append(\"no rating\") \n",
    "    else:\n",
    "        language.append(i.text)"
   ]
  },
  {
   "cell_type": "code",
   "execution_count": 301,
   "id": "b05c34fb",
   "metadata": {},
   "outputs": [
    {
     "data": {
      "text/plain": [
       "['Go',\n",
       " 'Python',\n",
       " 'Java',\n",
       " 'Python',\n",
       " 'Rust',\n",
       " 'HTML',\n",
       " 'Python',\n",
       " 'Nunjucks',\n",
       " 'Zig',\n",
       " 'Zig',\n",
       " 'JavaScript',\n",
       " 'Python',\n",
       " 'Python',\n",
       " 'JavaScript',\n",
       " 'C#',\n",
       " 'Python',\n",
       " 'JavaScript',\n",
       " 'JavaScript',\n",
       " 'Python']"
      ]
     },
     "execution_count": 301,
     "metadata": {},
     "output_type": "execute_result"
    }
   ],
   "source": [
    "\n",
    "language"
   ]
  },
  {
   "cell_type": "code",
   "execution_count": 302,
   "id": "45ad20bd",
   "metadata": {},
   "outputs": [],
   "source": [
    "\n",
    "count=[]"
   ]
  },
  {
   "cell_type": "code",
   "execution_count": 303,
   "id": "3dadbc8a",
   "metadata": {},
   "outputs": [],
   "source": [
    "count_tags=browser.find_elements_by_xpath(\"//svg[@class='octicon octicon-star']\")\n",
    "for i in count_tags:\n",
    "    if i.text is None :\n",
    "        count.append(\"no rating\") \n",
    "    else:\n",
    "        count.append(i.text)"
   ]
  },
  {
   "cell_type": "code",
   "execution_count": 304,
   "id": "0c042063",
   "metadata": {},
   "outputs": [
    {
     "data": {
      "text/plain": [
       "[]"
      ]
     },
     "execution_count": 304,
     "metadata": {},
     "output_type": "execute_result"
    }
   ],
   "source": [
    "count[21:]"
   ]
  },
  {
   "cell_type": "code",
   "execution_count": 308,
   "id": "cfc2831c",
   "metadata": {},
   "outputs": [
    {
     "ename": "ValueError",
     "evalue": "Length of values (0) does not match length of index (20)",
     "output_type": "error",
     "traceback": [
      "\u001b[1;31m---------------------------------------------------------------------------\u001b[0m",
      "\u001b[1;31mValueError\u001b[0m                                Traceback (most recent call last)",
      "\u001b[1;32m~\\AppData\\Local\\Temp/ipykernel_29492/4027418294.py\u001b[0m in \u001b[0;36m<module>\u001b[1;34m\u001b[0m\n\u001b[0;32m      2\u001b[0m \u001b[0mgithub\u001b[0m\u001b[1;33m=\u001b[0m\u001b[0mpd\u001b[0m\u001b[1;33m.\u001b[0m\u001b[0mDataFrame\u001b[0m\u001b[1;33m(\u001b[0m\u001b[1;33m{\u001b[0m\u001b[1;33m}\u001b[0m\u001b[1;33m)\u001b[0m\u001b[1;33m\u001b[0m\u001b[1;33m\u001b[0m\u001b[0m\n\u001b[0;32m      3\u001b[0m \u001b[0mgithub\u001b[0m\u001b[1;33m[\u001b[0m\u001b[1;34m'title'\u001b[0m\u001b[1;33m]\u001b[0m\u001b[1;33m=\u001b[0m\u001b[0mtitle\u001b[0m\u001b[1;33m[\u001b[0m\u001b[1;36m0\u001b[0m\u001b[1;33m:\u001b[0m\u001b[1;36m20\u001b[0m\u001b[1;33m]\u001b[0m\u001b[1;33m\u001b[0m\u001b[1;33m\u001b[0m\u001b[0m\n\u001b[1;32m----> 4\u001b[1;33m \u001b[0mgithub\u001b[0m\u001b[1;33m[\u001b[0m\u001b[1;34m'description'\u001b[0m\u001b[1;33m]\u001b[0m\u001b[1;33m=\u001b[0m\u001b[0mdescription\u001b[0m\u001b[1;33m[\u001b[0m\u001b[1;36m0\u001b[0m\u001b[1;33m:\u001b[0m\u001b[1;36m20\u001b[0m\u001b[1;33m]\u001b[0m\u001b[1;33m\u001b[0m\u001b[1;33m\u001b[0m\u001b[0m\n\u001b[0m\u001b[0;32m      5\u001b[0m \u001b[0mgithub\u001b[0m\u001b[1;33m[\u001b[0m\u001b[1;34m'language'\u001b[0m\u001b[1;33m]\u001b[0m\u001b[1;33m=\u001b[0m\u001b[0mlanguage\u001b[0m\u001b[1;33m[\u001b[0m\u001b[1;36m0\u001b[0m\u001b[1;33m:\u001b[0m\u001b[1;36m20\u001b[0m\u001b[1;33m]\u001b[0m\u001b[1;33m\u001b[0m\u001b[1;33m\u001b[0m\u001b[0m\n\u001b[0;32m      6\u001b[0m \u001b[0mgithub\u001b[0m\u001b[1;33m[\u001b[0m\u001b[1;34m'count'\u001b[0m\u001b[1;33m]\u001b[0m\u001b[1;33m=\u001b[0m\u001b[0mcount\u001b[0m\u001b[1;33m[\u001b[0m\u001b[1;36m21\u001b[0m\u001b[1;33m:\u001b[0m\u001b[1;36m41\u001b[0m\u001b[1;33m]\u001b[0m\u001b[1;33m\u001b[0m\u001b[1;33m\u001b[0m\u001b[0m\n",
      "\u001b[1;32mC:\\ProgramData\\Anaconda3\\lib\\site-packages\\pandas\\core\\frame.py\u001b[0m in \u001b[0;36m__setitem__\u001b[1;34m(self, key, value)\u001b[0m\n\u001b[0;32m   3610\u001b[0m         \u001b[1;32melse\u001b[0m\u001b[1;33m:\u001b[0m\u001b[1;33m\u001b[0m\u001b[1;33m\u001b[0m\u001b[0m\n\u001b[0;32m   3611\u001b[0m             \u001b[1;31m# set column\u001b[0m\u001b[1;33m\u001b[0m\u001b[1;33m\u001b[0m\u001b[0m\n\u001b[1;32m-> 3612\u001b[1;33m             \u001b[0mself\u001b[0m\u001b[1;33m.\u001b[0m\u001b[0m_set_item\u001b[0m\u001b[1;33m(\u001b[0m\u001b[0mkey\u001b[0m\u001b[1;33m,\u001b[0m \u001b[0mvalue\u001b[0m\u001b[1;33m)\u001b[0m\u001b[1;33m\u001b[0m\u001b[1;33m\u001b[0m\u001b[0m\n\u001b[0m\u001b[0;32m   3613\u001b[0m \u001b[1;33m\u001b[0m\u001b[0m\n\u001b[0;32m   3614\u001b[0m     \u001b[1;32mdef\u001b[0m \u001b[0m_setitem_slice\u001b[0m\u001b[1;33m(\u001b[0m\u001b[0mself\u001b[0m\u001b[1;33m,\u001b[0m \u001b[0mkey\u001b[0m\u001b[1;33m:\u001b[0m \u001b[0mslice\u001b[0m\u001b[1;33m,\u001b[0m \u001b[0mvalue\u001b[0m\u001b[1;33m)\u001b[0m\u001b[1;33m:\u001b[0m\u001b[1;33m\u001b[0m\u001b[1;33m\u001b[0m\u001b[0m\n",
      "\u001b[1;32mC:\\ProgramData\\Anaconda3\\lib\\site-packages\\pandas\\core\\frame.py\u001b[0m in \u001b[0;36m_set_item\u001b[1;34m(self, key, value)\u001b[0m\n\u001b[0;32m   3782\u001b[0m         \u001b[0mensure\u001b[0m \u001b[0mhomogeneity\u001b[0m\u001b[1;33m.\u001b[0m\u001b[1;33m\u001b[0m\u001b[1;33m\u001b[0m\u001b[0m\n\u001b[0;32m   3783\u001b[0m         \"\"\"\n\u001b[1;32m-> 3784\u001b[1;33m         \u001b[0mvalue\u001b[0m \u001b[1;33m=\u001b[0m \u001b[0mself\u001b[0m\u001b[1;33m.\u001b[0m\u001b[0m_sanitize_column\u001b[0m\u001b[1;33m(\u001b[0m\u001b[0mvalue\u001b[0m\u001b[1;33m)\u001b[0m\u001b[1;33m\u001b[0m\u001b[1;33m\u001b[0m\u001b[0m\n\u001b[0m\u001b[0;32m   3785\u001b[0m \u001b[1;33m\u001b[0m\u001b[0m\n\u001b[0;32m   3786\u001b[0m         if (\n",
      "\u001b[1;32mC:\\ProgramData\\Anaconda3\\lib\\site-packages\\pandas\\core\\frame.py\u001b[0m in \u001b[0;36m_sanitize_column\u001b[1;34m(self, value)\u001b[0m\n\u001b[0;32m   4507\u001b[0m \u001b[1;33m\u001b[0m\u001b[0m\n\u001b[0;32m   4508\u001b[0m         \u001b[1;32mif\u001b[0m \u001b[0mis_list_like\u001b[0m\u001b[1;33m(\u001b[0m\u001b[0mvalue\u001b[0m\u001b[1;33m)\u001b[0m\u001b[1;33m:\u001b[0m\u001b[1;33m\u001b[0m\u001b[1;33m\u001b[0m\u001b[0m\n\u001b[1;32m-> 4509\u001b[1;33m             \u001b[0mcom\u001b[0m\u001b[1;33m.\u001b[0m\u001b[0mrequire_length_match\u001b[0m\u001b[1;33m(\u001b[0m\u001b[0mvalue\u001b[0m\u001b[1;33m,\u001b[0m \u001b[0mself\u001b[0m\u001b[1;33m.\u001b[0m\u001b[0mindex\u001b[0m\u001b[1;33m)\u001b[0m\u001b[1;33m\u001b[0m\u001b[1;33m\u001b[0m\u001b[0m\n\u001b[0m\u001b[0;32m   4510\u001b[0m         \u001b[1;32mreturn\u001b[0m \u001b[0msanitize_array\u001b[0m\u001b[1;33m(\u001b[0m\u001b[0mvalue\u001b[0m\u001b[1;33m,\u001b[0m \u001b[0mself\u001b[0m\u001b[1;33m.\u001b[0m\u001b[0mindex\u001b[0m\u001b[1;33m,\u001b[0m \u001b[0mcopy\u001b[0m\u001b[1;33m=\u001b[0m\u001b[1;32mTrue\u001b[0m\u001b[1;33m,\u001b[0m \u001b[0mallow_2d\u001b[0m\u001b[1;33m=\u001b[0m\u001b[1;32mTrue\u001b[0m\u001b[1;33m)\u001b[0m\u001b[1;33m\u001b[0m\u001b[1;33m\u001b[0m\u001b[0m\n\u001b[0;32m   4511\u001b[0m \u001b[1;33m\u001b[0m\u001b[0m\n",
      "\u001b[1;32mC:\\ProgramData\\Anaconda3\\lib\\site-packages\\pandas\\core\\common.py\u001b[0m in \u001b[0;36mrequire_length_match\u001b[1;34m(data, index)\u001b[0m\n\u001b[0;32m    529\u001b[0m     \"\"\"\n\u001b[0;32m    530\u001b[0m     \u001b[1;32mif\u001b[0m \u001b[0mlen\u001b[0m\u001b[1;33m(\u001b[0m\u001b[0mdata\u001b[0m\u001b[1;33m)\u001b[0m \u001b[1;33m!=\u001b[0m \u001b[0mlen\u001b[0m\u001b[1;33m(\u001b[0m\u001b[0mindex\u001b[0m\u001b[1;33m)\u001b[0m\u001b[1;33m:\u001b[0m\u001b[1;33m\u001b[0m\u001b[1;33m\u001b[0m\u001b[0m\n\u001b[1;32m--> 531\u001b[1;33m         raise ValueError(\n\u001b[0m\u001b[0;32m    532\u001b[0m             \u001b[1;34m\"Length of values \"\u001b[0m\u001b[1;33m\u001b[0m\u001b[1;33m\u001b[0m\u001b[0m\n\u001b[0;32m    533\u001b[0m             \u001b[1;34mf\"({len(data)}) \"\u001b[0m\u001b[1;33m\u001b[0m\u001b[1;33m\u001b[0m\u001b[0m\n",
      "\u001b[1;31mValueError\u001b[0m: Length of values (0) does not match length of index (20)"
     ]
    }
   ],
   "source": [
    "import pandas as pd\n",
    "github=pd.DataFrame({})\n",
    "github['title']=title[0:20]\n",
    "github['description']=description[0:20]\n",
    "github['language']=language[0:20]\n",
    "github['count']=count[21:41]"
   ]
  },
  {
   "cell_type": "code",
   "execution_count": 307,
   "id": "5e97b2d6",
   "metadata": {},
   "outputs": [
    {
     "data": {
      "text/html": [
       "<div>\n",
       "<style scoped>\n",
       "    .dataframe tbody tr th:only-of-type {\n",
       "        vertical-align: middle;\n",
       "    }\n",
       "\n",
       "    .dataframe tbody tr th {\n",
       "        vertical-align: top;\n",
       "    }\n",
       "\n",
       "    .dataframe thead th {\n",
       "        text-align: right;\n",
       "    }\n",
       "</style>\n",
       "<table border=\"1\" class=\"dataframe\">\n",
       "  <thead>\n",
       "    <tr style=\"text-align: right;\">\n",
       "      <th></th>\n",
       "      <th>title</th>\n",
       "    </tr>\n",
       "  </thead>\n",
       "  <tbody>\n",
       "    <tr>\n",
       "      <th>0</th>\n",
       "      <td>pocketbase / pocketbase</td>\n",
       "    </tr>\n",
       "    <tr>\n",
       "      <th>1</th>\n",
       "      <td>WongKinYiu / yolov7</td>\n",
       "    </tr>\n",
       "    <tr>\n",
       "      <th>2</th>\n",
       "      <td>All-Cups / aicup22</td>\n",
       "    </tr>\n",
       "    <tr>\n",
       "      <th>3</th>\n",
       "      <td>vinta / awesome-python</td>\n",
       "    </tr>\n",
       "    <tr>\n",
       "      <th>4</th>\n",
       "      <td>codecrafters-io / build-your-own-x</td>\n",
       "    </tr>\n",
       "    <tr>\n",
       "      <th>5</th>\n",
       "      <td>sunface / rust-by-practice</td>\n",
       "    </tr>\n",
       "    <tr>\n",
       "      <th>6</th>\n",
       "      <td>qiangmzsx / Software-Engineering-at-Google</td>\n",
       "    </tr>\n",
       "    <tr>\n",
       "      <th>7</th>\n",
       "      <td>public-apis / public-apis</td>\n",
       "    </tr>\n",
       "    <tr>\n",
       "      <th>8</th>\n",
       "      <td>h5bp / Front-end-Developer-Interview-Questions</td>\n",
       "    </tr>\n",
       "    <tr>\n",
       "      <th>9</th>\n",
       "      <td>Developer-Y / cs-video-courses</td>\n",
       "    </tr>\n",
       "    <tr>\n",
       "      <th>10</th>\n",
       "      <td>Jarred-Sumner / bun</td>\n",
       "    </tr>\n",
       "    <tr>\n",
       "      <th>11</th>\n",
       "      <td>ziglang / zig</td>\n",
       "    </tr>\n",
       "    <tr>\n",
       "      <th>12</th>\n",
       "      <td>yangshun / tech-interview-handbook</td>\n",
       "    </tr>\n",
       "    <tr>\n",
       "      <th>13</th>\n",
       "      <td>jinfagang / yolov7</td>\n",
       "    </tr>\n",
       "    <tr>\n",
       "      <th>14</th>\n",
       "      <td>EbookFoundation / free-programming-books</td>\n",
       "    </tr>\n",
       "    <tr>\n",
       "      <th>15</th>\n",
       "      <td>PINTO0309 / PINTO_model_zoo</td>\n",
       "    </tr>\n",
       "    <tr>\n",
       "      <th>16</th>\n",
       "      <td>goabstract / Awesome-Design-Tools</td>\n",
       "    </tr>\n",
       "    <tr>\n",
       "      <th>17</th>\n",
       "      <td>ossu / computer-science</td>\n",
       "    </tr>\n",
       "    <tr>\n",
       "      <th>18</th>\n",
       "      <td>ShareX / ShareX</td>\n",
       "    </tr>\n",
       "    <tr>\n",
       "      <th>19</th>\n",
       "      <td>bradtraversy / design-resources-for-developers</td>\n",
       "    </tr>\n",
       "  </tbody>\n",
       "</table>\n",
       "</div>"
      ],
      "text/plain": [
       "                                             title\n",
       "0                          pocketbase / pocketbase\n",
       "1                              WongKinYiu / yolov7\n",
       "2                               All-Cups / aicup22\n",
       "3                           vinta / awesome-python\n",
       "4               codecrafters-io / build-your-own-x\n",
       "5                       sunface / rust-by-practice\n",
       "6       qiangmzsx / Software-Engineering-at-Google\n",
       "7                        public-apis / public-apis\n",
       "8   h5bp / Front-end-Developer-Interview-Questions\n",
       "9                   Developer-Y / cs-video-courses\n",
       "10                             Jarred-Sumner / bun\n",
       "11                                   ziglang / zig\n",
       "12              yangshun / tech-interview-handbook\n",
       "13                              jinfagang / yolov7\n",
       "14        EbookFoundation / free-programming-books\n",
       "15                     PINTO0309 / PINTO_model_zoo\n",
       "16               goabstract / Awesome-Design-Tools\n",
       "17                         ossu / computer-science\n",
       "18                                 ShareX / ShareX\n",
       "19  bradtraversy / design-resources-for-developers"
      ]
     },
     "execution_count": 307,
     "metadata": {},
     "output_type": "execute_result"
    }
   ],
   "source": [
    "github"
   ]
  },
  {
   "cell_type": "raw",
   "id": "9f24096b",
   "metadata": {},
   "source": [
    "#\n",
    "\n",
    "7.\tScrape the details of Data science recruiters from naukri.com. Url = https://www.naukri.com/\n",
    "You have to find the following details:\n",
    "A)\tName\n",
    "B)\tDesignation\n",
    "C)\tCompany\n",
    "D)\tSkills they hire for\n",
    "E)\tLocation\n",
    "Note: - From naukri.com homepage click on the recruiters option and the on the search pane type Data science and click on search. All this should be done through code\n",
    "\n"
   ]
  },
  {
   "cell_type": "code",
   "execution_count": null,
   "id": "3bd11736",
   "metadata": {},
   "outputs": [],
   "source": [
    "import pandas as pd\n",
    "import selenium\n",
    "from selenium import webdriver\n",
    "from selenium.common.exceptions import StaleElementReferenceException, NoSuchElementException"
   ]
  },
  {
   "cell_type": "code",
   "execution_count": 348,
   "id": "76ee0b1b",
   "metadata": {},
   "outputs": [],
   "source": [
    "import requests\n",
    "from selenium import webdriver\n",
    "\n",
    "browser = webdriver.Chrome()\n",
    "\n",
    "browser.get(\"https://www.naukri.com/\")\n",
    "from bs4 import BeautifulSoup"
   ]
  },
  {
   "cell_type": "code",
   "execution_count": 349,
   "id": "870ebbe9",
   "metadata": {},
   "outputs": [
    {
     "ename": "NoSuchElementException",
     "evalue": "Message: no such element: Unable to locate element: {\"method\":\"css selector\",\"selector\":\"[id=\"qsb-keyword-sugg\"]\"}\n  (Session info: chrome=103.0.5060.114)\nStacktrace:\nBacktrace:\n\tOrdinal0 [0x00F5D953+2414931]\n\tOrdinal0 [0x00EEF5E1+1963489]\n\tOrdinal0 [0x00DDC6B8+837304]\n\tOrdinal0 [0x00E09500+1021184]\n\tOrdinal0 [0x00E0979B+1021851]\n\tOrdinal0 [0x00E36502+1205506]\n\tOrdinal0 [0x00E244E4+1131748]\n\tOrdinal0 [0x00E34812+1198098]\n\tOrdinal0 [0x00E242B6+1131190]\n\tOrdinal0 [0x00DFE860+976992]\n\tOrdinal0 [0x00DFF756+980822]\n\tGetHandleVerifier [0x011CCC62+2510274]\n\tGetHandleVerifier [0x011BF760+2455744]\n\tGetHandleVerifier [0x00FEEABA+551962]\n\tGetHandleVerifier [0x00FED916+547446]\n\tOrdinal0 [0x00EF5F3B+1990459]\n\tOrdinal0 [0x00EFA898+2009240]\n\tOrdinal0 [0x00EFA985+2009477]\n\tOrdinal0 [0x00F03AD1+2046673]\n\tBaseThreadInitThunk [0x77216739+25]\n\tRtlGetFullPathName_UEx [0x77D38FEF+1215]\n\tRtlGetFullPathName_UEx [0x77D38FBD+1165]\n",
     "output_type": "error",
     "traceback": [
      "\u001b[1;31m---------------------------------------------------------------------------\u001b[0m",
      "\u001b[1;31mNoSuchElementException\u001b[0m                    Traceback (most recent call last)",
      "\u001b[1;32m~\\AppData\\Local\\Temp/ipykernel_29492/2087876277.py\u001b[0m in \u001b[0;36m<module>\u001b[1;34m\u001b[0m\n\u001b[1;32m----> 1\u001b[1;33m \u001b[0msearch_field_designation\u001b[0m\u001b[1;33m=\u001b[0m\u001b[0mbrowser\u001b[0m\u001b[1;33m.\u001b[0m\u001b[0mfind_element_by_id\u001b[0m\u001b[1;33m(\u001b[0m\u001b[1;34m\"qsb-keyword-sugg\"\u001b[0m\u001b[1;33m)\u001b[0m\u001b[1;33m\u001b[0m\u001b[1;33m\u001b[0m\u001b[0m\n\u001b[0m\u001b[0;32m      2\u001b[0m \u001b[0msearch_field_location\u001b[0m\u001b[1;33m=\u001b[0m\u001b[0mbrowser\u001b[0m\u001b[1;33m.\u001b[0m\u001b[0mfind_element_by_id\u001b[0m\u001b[1;33m(\u001b[0m\u001b[1;34m\"qsb-location-sugg\"\u001b[0m\u001b[1;33m)\u001b[0m\u001b[1;33m\u001b[0m\u001b[1;33m\u001b[0m\u001b[0m\n\u001b[0;32m      3\u001b[0m \u001b[0msearch_field_designation\u001b[0m\u001b[1;33m.\u001b[0m\u001b[0msend_keys\u001b[0m\u001b[1;33m(\u001b[0m\u001b[1;34m\"Data Analyst\"\u001b[0m\u001b[1;33m)\u001b[0m\u001b[1;33m\u001b[0m\u001b[1;33m\u001b[0m\u001b[0m\n\u001b[0;32m      4\u001b[0m \u001b[0msearch_field_location\u001b[0m\u001b[1;33m.\u001b[0m\u001b[0msend_keys\u001b[0m\u001b[1;33m(\u001b[0m\u001b[1;34m\"Bangalore\"\u001b[0m\u001b[1;33m)\u001b[0m\u001b[1;33m\u001b[0m\u001b[1;33m\u001b[0m\u001b[0m\n",
      "\u001b[1;32mC:\\ProgramData\\Anaconda3\\lib\\site-packages\\selenium\\webdriver\\remote\\webdriver.py\u001b[0m in \u001b[0;36mfind_element_by_id\u001b[1;34m(self, id_)\u001b[0m\n\u001b[0;32m    476\u001b[0m             \u001b[0mstacklevel\u001b[0m\u001b[1;33m=\u001b[0m\u001b[1;36m2\u001b[0m\u001b[1;33m,\u001b[0m\u001b[1;33m\u001b[0m\u001b[1;33m\u001b[0m\u001b[0m\n\u001b[0;32m    477\u001b[0m         )\n\u001b[1;32m--> 478\u001b[1;33m         \u001b[1;32mreturn\u001b[0m \u001b[0mself\u001b[0m\u001b[1;33m.\u001b[0m\u001b[0mfind_element\u001b[0m\u001b[1;33m(\u001b[0m\u001b[0mby\u001b[0m\u001b[1;33m=\u001b[0m\u001b[0mBy\u001b[0m\u001b[1;33m.\u001b[0m\u001b[0mID\u001b[0m\u001b[1;33m,\u001b[0m \u001b[0mvalue\u001b[0m\u001b[1;33m=\u001b[0m\u001b[0mid_\u001b[0m\u001b[1;33m)\u001b[0m\u001b[1;33m\u001b[0m\u001b[1;33m\u001b[0m\u001b[0m\n\u001b[0m\u001b[0;32m    479\u001b[0m \u001b[1;33m\u001b[0m\u001b[0m\n\u001b[0;32m    480\u001b[0m     \u001b[1;32mdef\u001b[0m \u001b[0mfind_elements_by_id\u001b[0m\u001b[1;33m(\u001b[0m\u001b[0mself\u001b[0m\u001b[1;33m,\u001b[0m \u001b[0mid_\u001b[0m\u001b[1;33m)\u001b[0m \u001b[1;33m->\u001b[0m \u001b[0mList\u001b[0m\u001b[1;33m[\u001b[0m\u001b[0mWebElement\u001b[0m\u001b[1;33m]\u001b[0m\u001b[1;33m:\u001b[0m\u001b[1;33m\u001b[0m\u001b[1;33m\u001b[0m\u001b[0m\n",
      "\u001b[1;32mC:\\ProgramData\\Anaconda3\\lib\\site-packages\\selenium\\webdriver\\remote\\webdriver.py\u001b[0m in \u001b[0;36mfind_element\u001b[1;34m(self, by, value)\u001b[0m\n\u001b[0;32m   1249\u001b[0m             \u001b[0mvalue\u001b[0m \u001b[1;33m=\u001b[0m \u001b[1;34m'[name=\"%s\"]'\u001b[0m \u001b[1;33m%\u001b[0m \u001b[0mvalue\u001b[0m\u001b[1;33m\u001b[0m\u001b[1;33m\u001b[0m\u001b[0m\n\u001b[0;32m   1250\u001b[0m \u001b[1;33m\u001b[0m\u001b[0m\n\u001b[1;32m-> 1251\u001b[1;33m         return self.execute(Command.FIND_ELEMENT, {\n\u001b[0m\u001b[0;32m   1252\u001b[0m             \u001b[1;34m'using'\u001b[0m\u001b[1;33m:\u001b[0m \u001b[0mby\u001b[0m\u001b[1;33m,\u001b[0m\u001b[1;33m\u001b[0m\u001b[1;33m\u001b[0m\u001b[0m\n\u001b[0;32m   1253\u001b[0m             'value': value})['value']\n",
      "\u001b[1;32mC:\\ProgramData\\Anaconda3\\lib\\site-packages\\selenium\\webdriver\\remote\\webdriver.py\u001b[0m in \u001b[0;36mexecute\u001b[1;34m(self, driver_command, params)\u001b[0m\n\u001b[0;32m    428\u001b[0m         \u001b[0mresponse\u001b[0m \u001b[1;33m=\u001b[0m \u001b[0mself\u001b[0m\u001b[1;33m.\u001b[0m\u001b[0mcommand_executor\u001b[0m\u001b[1;33m.\u001b[0m\u001b[0mexecute\u001b[0m\u001b[1;33m(\u001b[0m\u001b[0mdriver_command\u001b[0m\u001b[1;33m,\u001b[0m \u001b[0mparams\u001b[0m\u001b[1;33m)\u001b[0m\u001b[1;33m\u001b[0m\u001b[1;33m\u001b[0m\u001b[0m\n\u001b[0;32m    429\u001b[0m         \u001b[1;32mif\u001b[0m \u001b[0mresponse\u001b[0m\u001b[1;33m:\u001b[0m\u001b[1;33m\u001b[0m\u001b[1;33m\u001b[0m\u001b[0m\n\u001b[1;32m--> 430\u001b[1;33m             \u001b[0mself\u001b[0m\u001b[1;33m.\u001b[0m\u001b[0merror_handler\u001b[0m\u001b[1;33m.\u001b[0m\u001b[0mcheck_response\u001b[0m\u001b[1;33m(\u001b[0m\u001b[0mresponse\u001b[0m\u001b[1;33m)\u001b[0m\u001b[1;33m\u001b[0m\u001b[1;33m\u001b[0m\u001b[0m\n\u001b[0m\u001b[0;32m    431\u001b[0m             response['value'] = self._unwrap_value(\n\u001b[0;32m    432\u001b[0m                 response.get('value', None))\n",
      "\u001b[1;32mC:\\ProgramData\\Anaconda3\\lib\\site-packages\\selenium\\webdriver\\remote\\errorhandler.py\u001b[0m in \u001b[0;36mcheck_response\u001b[1;34m(self, response)\u001b[0m\n\u001b[0;32m    245\u001b[0m                 \u001b[0malert_text\u001b[0m \u001b[1;33m=\u001b[0m \u001b[0mvalue\u001b[0m\u001b[1;33m[\u001b[0m\u001b[1;34m'alert'\u001b[0m\u001b[1;33m]\u001b[0m\u001b[1;33m.\u001b[0m\u001b[0mget\u001b[0m\u001b[1;33m(\u001b[0m\u001b[1;34m'text'\u001b[0m\u001b[1;33m)\u001b[0m\u001b[1;33m\u001b[0m\u001b[1;33m\u001b[0m\u001b[0m\n\u001b[0;32m    246\u001b[0m             \u001b[1;32mraise\u001b[0m \u001b[0mexception_class\u001b[0m\u001b[1;33m(\u001b[0m\u001b[0mmessage\u001b[0m\u001b[1;33m,\u001b[0m \u001b[0mscreen\u001b[0m\u001b[1;33m,\u001b[0m \u001b[0mstacktrace\u001b[0m\u001b[1;33m,\u001b[0m \u001b[0malert_text\u001b[0m\u001b[1;33m)\u001b[0m  \u001b[1;31m# type: ignore[call-arg]  # mypy is not smart enough here\u001b[0m\u001b[1;33m\u001b[0m\u001b[1;33m\u001b[0m\u001b[0m\n\u001b[1;32m--> 247\u001b[1;33m         \u001b[1;32mraise\u001b[0m \u001b[0mexception_class\u001b[0m\u001b[1;33m(\u001b[0m\u001b[0mmessage\u001b[0m\u001b[1;33m,\u001b[0m \u001b[0mscreen\u001b[0m\u001b[1;33m,\u001b[0m \u001b[0mstacktrace\u001b[0m\u001b[1;33m)\u001b[0m\u001b[1;33m\u001b[0m\u001b[1;33m\u001b[0m\u001b[0m\n\u001b[0m\u001b[0;32m    248\u001b[0m \u001b[1;33m\u001b[0m\u001b[0m\n\u001b[0;32m    249\u001b[0m     \u001b[1;32mdef\u001b[0m \u001b[0m_value_or_default\u001b[0m\u001b[1;33m(\u001b[0m\u001b[0mself\u001b[0m\u001b[1;33m,\u001b[0m \u001b[0mobj\u001b[0m\u001b[1;33m:\u001b[0m \u001b[0mMapping\u001b[0m\u001b[1;33m[\u001b[0m\u001b[0m_KT\u001b[0m\u001b[1;33m,\u001b[0m \u001b[0m_VT\u001b[0m\u001b[1;33m]\u001b[0m\u001b[1;33m,\u001b[0m \u001b[0mkey\u001b[0m\u001b[1;33m:\u001b[0m \u001b[0m_KT\u001b[0m\u001b[1;33m,\u001b[0m \u001b[0mdefault\u001b[0m\u001b[1;33m:\u001b[0m \u001b[0m_VT\u001b[0m\u001b[1;33m)\u001b[0m \u001b[1;33m->\u001b[0m \u001b[0m_VT\u001b[0m\u001b[1;33m:\u001b[0m\u001b[1;33m\u001b[0m\u001b[1;33m\u001b[0m\u001b[0m\n",
      "\u001b[1;31mNoSuchElementException\u001b[0m: Message: no such element: Unable to locate element: {\"method\":\"css selector\",\"selector\":\"[id=\"qsb-keyword-sugg\"]\"}\n  (Session info: chrome=103.0.5060.114)\nStacktrace:\nBacktrace:\n\tOrdinal0 [0x00F5D953+2414931]\n\tOrdinal0 [0x00EEF5E1+1963489]\n\tOrdinal0 [0x00DDC6B8+837304]\n\tOrdinal0 [0x00E09500+1021184]\n\tOrdinal0 [0x00E0979B+1021851]\n\tOrdinal0 [0x00E36502+1205506]\n\tOrdinal0 [0x00E244E4+1131748]\n\tOrdinal0 [0x00E34812+1198098]\n\tOrdinal0 [0x00E242B6+1131190]\n\tOrdinal0 [0x00DFE860+976992]\n\tOrdinal0 [0x00DFF756+980822]\n\tGetHandleVerifier [0x011CCC62+2510274]\n\tGetHandleVerifier [0x011BF760+2455744]\n\tGetHandleVerifier [0x00FEEABA+551962]\n\tGetHandleVerifier [0x00FED916+547446]\n\tOrdinal0 [0x00EF5F3B+1990459]\n\tOrdinal0 [0x00EFA898+2009240]\n\tOrdinal0 [0x00EFA985+2009477]\n\tOrdinal0 [0x00F03AD1+2046673]\n\tBaseThreadInitThunk [0x77216739+25]\n\tRtlGetFullPathName_UEx [0x77D38FEF+1215]\n\tRtlGetFullPathName_UEx [0x77D38FBD+1165]\n"
     ]
    }
   ],
   "source": [
    "search_field_designation=browser.find_element_by_id(\"qsb-keyword-sugg\")\n",
    "search_field_location=browser.find_element_by_id(\"qsb-location-sugg\")\n",
    "search_field_designation.send_keys(\"Data Analyst\")\n",
    "search_field_location.send_keys(\"Bangalore\")"
   ]
  },
  {
   "cell_type": "code",
   "execution_count": null,
   "id": "8682b420",
   "metadata": {},
   "outputs": [],
   "source": [
    "# clicking the search button\n",
    "search_button=browser.find_element_by_xpath(\"//div[@class='search-btn']/button\")\n",
    "search_button.click()"
   ]
  },
  {
   "cell_type": "code",
   "execution_count": null,
   "id": "ef723259",
   "metadata": {},
   "outputs": [],
   "source": [
    "titles=[]"
   ]
  },
  {
   "cell_type": "code",
   "execution_count": null,
   "id": "f3c67017",
   "metadata": {},
   "outputs": [],
   "source": [
    "title_tags=browser.find_elements_by_xpath(\"//a[@class='title fw500 ellipsis']\")\n",
    "for i in name_tags:\n",
    "    if i.text is None :\n",
    "        titles.append(\"no rating\") \n",
    "    else:\n",
    "        titles.append(i.text)"
   ]
  },
  {
   "cell_type": "code",
   "execution_count": 350,
   "id": "a37ecfc7",
   "metadata": {},
   "outputs": [
    {
     "data": {
      "text/plain": [
       "[]"
      ]
     },
     "execution_count": 350,
     "metadata": {},
     "output_type": "execute_result"
    }
   ],
   "source": [
    "titles"
   ]
  },
  {
   "cell_type": "code",
   "execution_count": 351,
   "id": "af334341",
   "metadata": {},
   "outputs": [],
   "source": [
    "company=[]"
   ]
  },
  {
   "cell_type": "code",
   "execution_count": 354,
   "id": "509f812f",
   "metadata": {},
   "outputs": [],
   "source": [
    "company_tags=browser.find_elements_by_xpath(\"//a[@class='subTitle ellipsis fleft']\")\n",
    "for i in company_tags:\n",
    "    if i.text is None :\n",
    "        company.append(\"no rating\") \n",
    "    else:\n",
    "        company.append(i.text)"
   ]
  },
  {
   "cell_type": "code",
   "execution_count": 355,
   "id": "4fa48767",
   "metadata": {},
   "outputs": [
    {
     "data": {
      "text/plain": [
       "[]"
      ]
     },
     "execution_count": 355,
     "metadata": {},
     "output_type": "execute_result"
    }
   ],
   "source": [
    "company"
   ]
  },
  {
   "cell_type": "code",
   "execution_count": 356,
   "id": "2fe0ea82",
   "metadata": {},
   "outputs": [],
   "source": [
    "company=[]"
   ]
  },
  {
   "cell_type": "code",
   "execution_count": 386,
   "id": "39ad051d",
   "metadata": {},
   "outputs": [
    {
     "ename": "SyntaxError",
     "evalue": "invalid syntax (Temp/ipykernel_29492/1063067744.py, line 1)",
     "output_type": "error",
     "traceback": [
      "\u001b[1;36m  File \u001b[1;32m\"C:\\Users\\hamsa\\AppData\\Local\\Temp/ipykernel_29492/1063067744.py\"\u001b[1;36m, line \u001b[1;32m1\u001b[0m\n\u001b[1;33m    <a href=\"https://www.naukri.com/glaxosmithkline-pharmaceuticals-jobs-careers-16369\" class=\"subTitle ellipsis fleft\" target=\"_blank\" title=\"GlaxoSmithKline Pharmaceuticals Limited\">GlaxoSmithKline Pharmaceuticals Limited</a>\u001b[0m\n\u001b[1;37m    ^\u001b[0m\n\u001b[1;31mSyntaxError\u001b[0m\u001b[1;31m:\u001b[0m invalid syntax\n"
     ]
    }
   ],
   "source": [
    "<a href=\"https://www.naukri.com/glaxosmithkline-pharmaceuticals-jobs-careers-16369\" class=\"subTitle ellipsis fleft\" target=\"_blank\" title=\"GlaxoSmithKline Pharmaceuticals Limited\">GlaxoSmithKline Pharmaceuticals Limited</a>\n"
   ]
  },
  {
   "cell_type": "code",
   "execution_count": 382,
   "id": "df9935ba",
   "metadata": {},
   "outputs": [
    {
     "ename": "WebDriverException",
     "evalue": "Message: unknown error: cannot determine loading status\nfrom unknown error: unexpected command response\n  (Session info: chrome=103.0.5060.114)\nStacktrace:\nBacktrace:\n\tOrdinal0 [0x00F5D953+2414931]\n\tOrdinal0 [0x00EEF5E1+1963489]\n\tOrdinal0 [0x00DDC6B8+837304]\n\tOrdinal0 [0x00DCEB34+781108]\n\tOrdinal0 [0x00DCE06A+778346]\n\tOrdinal0 [0x00DCD646+775750]\n\tOrdinal0 [0x00DCC565+771429]\n\tOrdinal0 [0x00DCCB68+772968]\n\tOrdinal0 [0x00DCCAF8+772856]\n\tOrdinal0 [0x00DD2D5A+798042]\n\tOrdinal0 [0x00DCDD3B+777531]\n\tOrdinal0 [0x00DCE265+778853]\n\tOrdinal0 [0x00DCE04F+778319]\n\tOrdinal0 [0x00DCD646+775750]\n\tOrdinal0 [0x00DCC565+771429]\n\tOrdinal0 [0x00DCCB68+772968]\n\tOrdinal0 [0x00DCCAF8+772856]\n\tOrdinal0 [0x00DD27F6+796662]\n\tOrdinal0 [0x00DD2B2A+797482]\n\tOrdinal0 [0x00DCDD3B+777531]\n\tOrdinal0 [0x00DCE265+778853]\n\tOrdinal0 [0x00DCE04F+778319]\n\tOrdinal0 [0x00DCD646+775750]\n\tOrdinal0 [0x00DCC565+771429]\n\tOrdinal0 [0x00DCCB68+772968]\n\tOrdinal0 [0x00DCCAF8+772856]\n\tOrdinal0 [0x00DD27F6+796662]\n\tOrdinal0 [0x00DD2B2A+797482]\n\tOrdinal0 [0x00DCDD3B+777531]\n\tOrdinal0 [0x00DCE265+778853]\n\tOrdinal0 [0x00DCE04F+778319]\n\tOrdinal0 [0x00DCD646+775750]\n\tOrdinal0 [0x00DCC565+771429]\n\tOrdinal0 [0x00DCCB68+772968]\n\tOrdinal0 [0x00DE4AF2+871154]\n\tOrdinal0 [0x00DDEBBB+846779]\n\tOrdinal0 [0x00DDE735+845621]\n\tOrdinal0 [0x00DDEE13+847379]\n\tOrdinal0 [0x00DD7F65+819045]\n\tOrdinal0 [0x00DD851B+820507]\n\tOrdinal0 [0x00DCDD3B+777531]\n\tOrdinal0 [0x00DCE265+778853]\n\tOrdinal0 [0x00DCE04F+778319]\n\tOrdinal0 [0x00DCD646+775750]\n\tOrdinal0 [0x00DCC565+771429]\n\tOrdinal0 [0x00DCCB68+772968]\n\tOrdinal0 [0x00DCCAF8+772856]\n\tOrdinal0 [0x00DD27F6+796662]\n\tOrdinal0 [0x00DD2B2A+797482]\n\tOrdinal0 [0x00DCDD3B+777531]\n\tOrdinal0 [0x00DCE265+778853]\n\tOrdinal0 [0x00DCE04F+778319]\n\tOrdinal0 [0x00DCD646+775750]\n\tOrdinal0 [0x00DCC565+771429]\n\tOrdinal0 [0x00DCCB68+772968]\n\tOrdinal0 [0x00DCCAF8+772856]\n\tOrdinal0 [0x00DD27F6+796662]\n\tOrdinal0 [0x00DD2B2A+797482]\n\tOrdinal0 [0x00DCDD3B+777531]\n\tOrdinal0 [0x00DCE265+778853]\n\tOrdinal0 [0x00DCE04F+778319]\n\tOrdinal0 [0x00DCD646+775750]\n\tOrdinal0 [0x00DCCEBC+773820]\n\tOrdinal0 [0x00DCCD59+773465]\n\tOrdinal0 [0x00DDDA70+842352]\n\tOrdinal0 [0x00E340DB+1196251]\n\tOrdinal0 [0x00E242B6+1131190]\n\tOrdinal0 [0x00DFE860+976992]\n\tOrdinal0 [0x00DFF756+980822]\n\tGetHandleVerifier [0x011CCC62+2510274]\n\tGetHandleVerifier [0x011BF760+2455744]\n\tGetHandleVerifier [0x00FEEABA+551962]\n\tGetHandleVerifier [0x00FED916+547446]\n\tOrdinal0 [0x00EF5F3B+1990459]\n\tOrdinal0 [0x00EFA898+2009240]\n\tOrdinal0 [0x00EFA985+2009477]\n\tOrdinal0 [0x00F03AD1+2046673]\n\tBaseThreadInitThunk [0x77216739+25]\n\tRtlGetFullPathName_UEx [0x77D38FEF+1215]\n\tRtlGetFullPathName_UEx [0x77D38FBD+1165]\n",
     "output_type": "error",
     "traceback": [
      "\u001b[1;31m---------------------------------------------------------------------------\u001b[0m",
      "\u001b[1;31mWebDriverException\u001b[0m                        Traceback (most recent call last)",
      "\u001b[1;32m~\\AppData\\Local\\Temp/ipykernel_29492/3137245688.py\u001b[0m in \u001b[0;36m<module>\u001b[1;34m\u001b[0m\n\u001b[1;32m----> 1\u001b[1;33m \u001b[0mcompany_tags\u001b[0m\u001b[1;33m=\u001b[0m\u001b[0mbrowser\u001b[0m\u001b[1;33m.\u001b[0m\u001b[0mfind_elements_by_xpath\u001b[0m\u001b[1;33m(\u001b[0m\u001b[1;34m\"//a[@class='subTitle ellipsis fleft']\"\u001b[0m\u001b[1;33m)\u001b[0m\u001b[1;33m\u001b[0m\u001b[1;33m\u001b[0m\u001b[0m\n\u001b[0m\u001b[0;32m      2\u001b[0m \u001b[1;32mfor\u001b[0m \u001b[0mi\u001b[0m \u001b[1;32min\u001b[0m \u001b[0mcompany_tags\u001b[0m\u001b[1;33m:\u001b[0m\u001b[1;33m\u001b[0m\u001b[1;33m\u001b[0m\u001b[0m\n\u001b[0;32m      3\u001b[0m     \u001b[1;32mif\u001b[0m \u001b[0mi\u001b[0m\u001b[1;33m.\u001b[0m\u001b[0mtext\u001b[0m \u001b[1;32mis\u001b[0m \u001b[1;32mNone\u001b[0m \u001b[1;33m:\u001b[0m\u001b[1;33m\u001b[0m\u001b[1;33m\u001b[0m\u001b[0m\n\u001b[0;32m      4\u001b[0m         \u001b[0mcompany\u001b[0m\u001b[1;33m.\u001b[0m\u001b[0mappend\u001b[0m\u001b[1;33m(\u001b[0m\u001b[1;34m\"no rating\"\u001b[0m\u001b[1;33m)\u001b[0m\u001b[1;33m\u001b[0m\u001b[1;33m\u001b[0m\u001b[0m\n\u001b[0;32m      5\u001b[0m     \u001b[1;32melse\u001b[0m\u001b[1;33m:\u001b[0m\u001b[1;33m\u001b[0m\u001b[1;33m\u001b[0m\u001b[0m\n",
      "\u001b[1;32mC:\\ProgramData\\Anaconda3\\lib\\site-packages\\selenium\\webdriver\\remote\\webdriver.py\u001b[0m in \u001b[0;36mfind_elements_by_xpath\u001b[1;34m(self, xpath)\u001b[0m\n\u001b[0;32m    547\u001b[0m             \u001b[0mstacklevel\u001b[0m\u001b[1;33m=\u001b[0m\u001b[1;36m2\u001b[0m\u001b[1;33m,\u001b[0m\u001b[1;33m\u001b[0m\u001b[1;33m\u001b[0m\u001b[0m\n\u001b[0;32m    548\u001b[0m         )\n\u001b[1;32m--> 549\u001b[1;33m         \u001b[1;32mreturn\u001b[0m \u001b[0mself\u001b[0m\u001b[1;33m.\u001b[0m\u001b[0mfind_elements\u001b[0m\u001b[1;33m(\u001b[0m\u001b[0mby\u001b[0m\u001b[1;33m=\u001b[0m\u001b[0mBy\u001b[0m\u001b[1;33m.\u001b[0m\u001b[0mXPATH\u001b[0m\u001b[1;33m,\u001b[0m \u001b[0mvalue\u001b[0m\u001b[1;33m=\u001b[0m\u001b[0mxpath\u001b[0m\u001b[1;33m)\u001b[0m\u001b[1;33m\u001b[0m\u001b[1;33m\u001b[0m\u001b[0m\n\u001b[0m\u001b[0;32m    550\u001b[0m \u001b[1;33m\u001b[0m\u001b[0m\n\u001b[0;32m    551\u001b[0m     \u001b[1;32mdef\u001b[0m \u001b[0mfind_element_by_link_text\u001b[0m\u001b[1;33m(\u001b[0m\u001b[0mself\u001b[0m\u001b[1;33m,\u001b[0m \u001b[0mlink_text\u001b[0m\u001b[1;33m)\u001b[0m \u001b[1;33m->\u001b[0m \u001b[0mWebElement\u001b[0m\u001b[1;33m:\u001b[0m\u001b[1;33m\u001b[0m\u001b[1;33m\u001b[0m\u001b[0m\n",
      "\u001b[1;32mC:\\ProgramData\\Anaconda3\\lib\\site-packages\\selenium\\webdriver\\remote\\webdriver.py\u001b[0m in \u001b[0;36mfind_elements\u001b[1;34m(self, by, value)\u001b[0m\n\u001b[0;32m   1282\u001b[0m         \u001b[1;31m# Return empty list if driver returns null\u001b[0m\u001b[1;33m\u001b[0m\u001b[1;33m\u001b[0m\u001b[0m\n\u001b[0;32m   1283\u001b[0m         \u001b[1;31m# See https://github.com/SeleniumHQ/selenium/issues/4555\u001b[0m\u001b[1;33m\u001b[0m\u001b[1;33m\u001b[0m\u001b[0m\n\u001b[1;32m-> 1284\u001b[1;33m         return self.execute(Command.FIND_ELEMENTS, {\n\u001b[0m\u001b[0;32m   1285\u001b[0m             \u001b[1;34m'using'\u001b[0m\u001b[1;33m:\u001b[0m \u001b[0mby\u001b[0m\u001b[1;33m,\u001b[0m\u001b[1;33m\u001b[0m\u001b[1;33m\u001b[0m\u001b[0m\n\u001b[0;32m   1286\u001b[0m             'value': value})['value'] or []\n",
      "\u001b[1;32mC:\\ProgramData\\Anaconda3\\lib\\site-packages\\selenium\\webdriver\\remote\\webdriver.py\u001b[0m in \u001b[0;36mexecute\u001b[1;34m(self, driver_command, params)\u001b[0m\n\u001b[0;32m    428\u001b[0m         \u001b[0mresponse\u001b[0m \u001b[1;33m=\u001b[0m \u001b[0mself\u001b[0m\u001b[1;33m.\u001b[0m\u001b[0mcommand_executor\u001b[0m\u001b[1;33m.\u001b[0m\u001b[0mexecute\u001b[0m\u001b[1;33m(\u001b[0m\u001b[0mdriver_command\u001b[0m\u001b[1;33m,\u001b[0m \u001b[0mparams\u001b[0m\u001b[1;33m)\u001b[0m\u001b[1;33m\u001b[0m\u001b[1;33m\u001b[0m\u001b[0m\n\u001b[0;32m    429\u001b[0m         \u001b[1;32mif\u001b[0m \u001b[0mresponse\u001b[0m\u001b[1;33m:\u001b[0m\u001b[1;33m\u001b[0m\u001b[1;33m\u001b[0m\u001b[0m\n\u001b[1;32m--> 430\u001b[1;33m             \u001b[0mself\u001b[0m\u001b[1;33m.\u001b[0m\u001b[0merror_handler\u001b[0m\u001b[1;33m.\u001b[0m\u001b[0mcheck_response\u001b[0m\u001b[1;33m(\u001b[0m\u001b[0mresponse\u001b[0m\u001b[1;33m)\u001b[0m\u001b[1;33m\u001b[0m\u001b[1;33m\u001b[0m\u001b[0m\n\u001b[0m\u001b[0;32m    431\u001b[0m             response['value'] = self._unwrap_value(\n\u001b[0;32m    432\u001b[0m                 response.get('value', None))\n",
      "\u001b[1;32mC:\\ProgramData\\Anaconda3\\lib\\site-packages\\selenium\\webdriver\\remote\\errorhandler.py\u001b[0m in \u001b[0;36mcheck_response\u001b[1;34m(self, response)\u001b[0m\n\u001b[0;32m    245\u001b[0m                 \u001b[0malert_text\u001b[0m \u001b[1;33m=\u001b[0m \u001b[0mvalue\u001b[0m\u001b[1;33m[\u001b[0m\u001b[1;34m'alert'\u001b[0m\u001b[1;33m]\u001b[0m\u001b[1;33m.\u001b[0m\u001b[0mget\u001b[0m\u001b[1;33m(\u001b[0m\u001b[1;34m'text'\u001b[0m\u001b[1;33m)\u001b[0m\u001b[1;33m\u001b[0m\u001b[1;33m\u001b[0m\u001b[0m\n\u001b[0;32m    246\u001b[0m             \u001b[1;32mraise\u001b[0m \u001b[0mexception_class\u001b[0m\u001b[1;33m(\u001b[0m\u001b[0mmessage\u001b[0m\u001b[1;33m,\u001b[0m \u001b[0mscreen\u001b[0m\u001b[1;33m,\u001b[0m \u001b[0mstacktrace\u001b[0m\u001b[1;33m,\u001b[0m \u001b[0malert_text\u001b[0m\u001b[1;33m)\u001b[0m  \u001b[1;31m# type: ignore[call-arg]  # mypy is not smart enough here\u001b[0m\u001b[1;33m\u001b[0m\u001b[1;33m\u001b[0m\u001b[0m\n\u001b[1;32m--> 247\u001b[1;33m         \u001b[1;32mraise\u001b[0m \u001b[0mexception_class\u001b[0m\u001b[1;33m(\u001b[0m\u001b[0mmessage\u001b[0m\u001b[1;33m,\u001b[0m \u001b[0mscreen\u001b[0m\u001b[1;33m,\u001b[0m \u001b[0mstacktrace\u001b[0m\u001b[1;33m)\u001b[0m\u001b[1;33m\u001b[0m\u001b[1;33m\u001b[0m\u001b[0m\n\u001b[0m\u001b[0;32m    248\u001b[0m \u001b[1;33m\u001b[0m\u001b[0m\n\u001b[0;32m    249\u001b[0m     \u001b[1;32mdef\u001b[0m \u001b[0m_value_or_default\u001b[0m\u001b[1;33m(\u001b[0m\u001b[0mself\u001b[0m\u001b[1;33m,\u001b[0m \u001b[0mobj\u001b[0m\u001b[1;33m:\u001b[0m \u001b[0mMapping\u001b[0m\u001b[1;33m[\u001b[0m\u001b[0m_KT\u001b[0m\u001b[1;33m,\u001b[0m \u001b[0m_VT\u001b[0m\u001b[1;33m]\u001b[0m\u001b[1;33m,\u001b[0m \u001b[0mkey\u001b[0m\u001b[1;33m:\u001b[0m \u001b[0m_KT\u001b[0m\u001b[1;33m,\u001b[0m \u001b[0mdefault\u001b[0m\u001b[1;33m:\u001b[0m \u001b[0m_VT\u001b[0m\u001b[1;33m)\u001b[0m \u001b[1;33m->\u001b[0m \u001b[0m_VT\u001b[0m\u001b[1;33m:\u001b[0m\u001b[1;33m\u001b[0m\u001b[1;33m\u001b[0m\u001b[0m\n",
      "\u001b[1;31mWebDriverException\u001b[0m: Message: unknown error: cannot determine loading status\nfrom unknown error: unexpected command response\n  (Session info: chrome=103.0.5060.114)\nStacktrace:\nBacktrace:\n\tOrdinal0 [0x00F5D953+2414931]\n\tOrdinal0 [0x00EEF5E1+1963489]\n\tOrdinal0 [0x00DDC6B8+837304]\n\tOrdinal0 [0x00DCEB34+781108]\n\tOrdinal0 [0x00DCE06A+778346]\n\tOrdinal0 [0x00DCD646+775750]\n\tOrdinal0 [0x00DCC565+771429]\n\tOrdinal0 [0x00DCCB68+772968]\n\tOrdinal0 [0x00DCCAF8+772856]\n\tOrdinal0 [0x00DD2D5A+798042]\n\tOrdinal0 [0x00DCDD3B+777531]\n\tOrdinal0 [0x00DCE265+778853]\n\tOrdinal0 [0x00DCE04F+778319]\n\tOrdinal0 [0x00DCD646+775750]\n\tOrdinal0 [0x00DCC565+771429]\n\tOrdinal0 [0x00DCCB68+772968]\n\tOrdinal0 [0x00DCCAF8+772856]\n\tOrdinal0 [0x00DD27F6+796662]\n\tOrdinal0 [0x00DD2B2A+797482]\n\tOrdinal0 [0x00DCDD3B+777531]\n\tOrdinal0 [0x00DCE265+778853]\n\tOrdinal0 [0x00DCE04F+778319]\n\tOrdinal0 [0x00DCD646+775750]\n\tOrdinal0 [0x00DCC565+771429]\n\tOrdinal0 [0x00DCCB68+772968]\n\tOrdinal0 [0x00DCCAF8+772856]\n\tOrdinal0 [0x00DD27F6+796662]\n\tOrdinal0 [0x00DD2B2A+797482]\n\tOrdinal0 [0x00DCDD3B+777531]\n\tOrdinal0 [0x00DCE265+778853]\n\tOrdinal0 [0x00DCE04F+778319]\n\tOrdinal0 [0x00DCD646+775750]\n\tOrdinal0 [0x00DCC565+771429]\n\tOrdinal0 [0x00DCCB68+772968]\n\tOrdinal0 [0x00DE4AF2+871154]\n\tOrdinal0 [0x00DDEBBB+846779]\n\tOrdinal0 [0x00DDE735+845621]\n\tOrdinal0 [0x00DDEE13+847379]\n\tOrdinal0 [0x00DD7F65+819045]\n\tOrdinal0 [0x00DD851B+820507]\n\tOrdinal0 [0x00DCDD3B+777531]\n\tOrdinal0 [0x00DCE265+778853]\n\tOrdinal0 [0x00DCE04F+778319]\n\tOrdinal0 [0x00DCD646+775750]\n\tOrdinal0 [0x00DCC565+771429]\n\tOrdinal0 [0x00DCCB68+772968]\n\tOrdinal0 [0x00DCCAF8+772856]\n\tOrdinal0 [0x00DD27F6+796662]\n\tOrdinal0 [0x00DD2B2A+797482]\n\tOrdinal0 [0x00DCDD3B+777531]\n\tOrdinal0 [0x00DCE265+778853]\n\tOrdinal0 [0x00DCE04F+778319]\n\tOrdinal0 [0x00DCD646+775750]\n\tOrdinal0 [0x00DCC565+771429]\n\tOrdinal0 [0x00DCCB68+772968]\n\tOrdinal0 [0x00DCCAF8+772856]\n\tOrdinal0 [0x00DD27F6+796662]\n\tOrdinal0 [0x00DD2B2A+797482]\n\tOrdinal0 [0x00DCDD3B+777531]\n\tOrdinal0 [0x00DCE265+778853]\n\tOrdinal0 [0x00DCE04F+778319]\n\tOrdinal0 [0x00DCD646+775750]\n\tOrdinal0 [0x00DCCEBC+773820]\n\tOrdinal0 [0x00DCCD59+773465]\n\tOrdinal0 [0x00DDDA70+842352]\n\tOrdinal0 [0x00E340DB+1196251]\n\tOrdinal0 [0x00E242B6+1131190]\n\tOrdinal0 [0x00DFE860+976992]\n\tOrdinal0 [0x00DFF756+980822]\n\tGetHandleVerifier [0x011CCC62+2510274]\n\tGetHandleVerifier [0x011BF760+2455744]\n\tGetHandleVerifier [0x00FEEABA+551962]\n\tGetHandleVerifier [0x00FED916+547446]\n\tOrdinal0 [0x00EF5F3B+1990459]\n\tOrdinal0 [0x00EFA898+2009240]\n\tOrdinal0 [0x00EFA985+2009477]\n\tOrdinal0 [0x00F03AD1+2046673]\n\tBaseThreadInitThunk [0x77216739+25]\n\tRtlGetFullPathName_UEx [0x77D38FEF+1215]\n\tRtlGetFullPathName_UEx [0x77D38FBD+1165]\n"
     ]
    }
   ],
   "source": [
    "company_tags=browser.find_elements_by_xpath(\"//a[@class='subTitle ellipsis fleft']\")\n",
    "for i in company_tags:\n",
    "    if i.text is None :\n",
    "        company.append(\"no rating\") \n",
    "    else:\n",
    "        company.append(i.text)"
   ]
  },
  {
   "cell_type": "code",
   "execution_count": 367,
   "id": "135d1d29",
   "metadata": {},
   "outputs": [
    {
     "data": {
      "text/plain": [
       "[]"
      ]
     },
     "execution_count": 367,
     "metadata": {},
     "output_type": "execute_result"
    }
   ],
   "source": [
    "company"
   ]
  },
  {
   "cell_type": "code",
   "execution_count": 368,
   "id": "f2db66b3",
   "metadata": {},
   "outputs": [],
   "source": [
    "skill=[]"
   ]
  },
  {
   "cell_type": "code",
   "execution_count": 369,
   "id": "ba23afa4",
   "metadata": {},
   "outputs": [],
   "source": [
    "skill_tags=browser.find_elements_by_xpath(\"//ul[@class='fleft fs12 grey-text lh16 dot']/li[0]\")\n",
    "for i in skill_tags:\n",
    "    if i.text is None :\n",
    "        skill.append(\"no rating\") \n",
    "    else:\n",
    "        skill.append(i.text)"
   ]
  },
  {
   "cell_type": "code",
   "execution_count": 370,
   "id": "9d3f2278",
   "metadata": {},
   "outputs": [],
   "source": [
    "job_location=[]"
   ]
  },
  {
   "cell_type": "code",
   "execution_count": 371,
   "id": "f932e165",
   "metadata": {},
   "outputs": [
    {
     "data": {
      "text/plain": [
       "[]"
      ]
     },
     "execution_count": 371,
     "metadata": {},
     "output_type": "execute_result"
    }
   ],
   "source": [
    "#scraping the job-location\n",
    "locations=browser.find_elements_by_xpath(\"//li[@class='fleft grey-text br2 placeHolderLi location']/span[1]\")\n",
    "for i in locations:\n",
    "    if i.text is None :\n",
    "        job_location.append(\"--\") \n",
    "    else:\n",
    "        job_location.append(i.text)\n",
    "job_location"
   ]
  },
  {
   "cell_type": "code",
   "execution_count": 372,
   "id": "38371ea7",
   "metadata": {},
   "outputs": [
    {
     "data": {
      "text/html": [
       "<div>\n",
       "<style scoped>\n",
       "    .dataframe tbody tr th:only-of-type {\n",
       "        vertical-align: middle;\n",
       "    }\n",
       "\n",
       "    .dataframe tbody tr th {\n",
       "        vertical-align: top;\n",
       "    }\n",
       "\n",
       "    .dataframe thead th {\n",
       "        text-align: right;\n",
       "    }\n",
       "</style>\n",
       "<table border=\"1\" class=\"dataframe\">\n",
       "  <thead>\n",
       "    <tr style=\"text-align: right;\">\n",
       "      <th></th>\n",
       "      <th>title</th>\n",
       "      <th>company</th>\n",
       "      <th>location</th>\n",
       "      <th>skill</th>\n",
       "    </tr>\n",
       "  </thead>\n",
       "  <tbody>\n",
       "  </tbody>\n",
       "</table>\n",
       "</div>"
      ],
      "text/plain": [
       "Empty DataFrame\n",
       "Columns: [title, company, location, skill]\n",
       "Index: []"
      ]
     },
     "execution_count": 372,
     "metadata": {},
     "output_type": "execute_result"
    }
   ],
   "source": [
    "import pandas as pd\n",
    "naukri=pd.DataFrame({})\n",
    "naukri['title']=titles[0:20]\n",
    "naukri['company']=company[0:20]\n",
    "naukri['location']=job_location[0:20]\n",
    "naukri['skill']=skill[0:20]\n",
    "naukri"
   ]
  },
  {
   "cell_type": "raw",
   "id": "96a3e079",
   "metadata": {},
   "source": [
    "\n",
    "#8.\tScrape the details of Highest selling novels.\n",
    "Url = https://www.theguardian.com/news/datablog/2012/aug/09/best-selling-books-all-time-fifty-shades-grey- compare/\n",
    "You have to find the following details:\n",
    "A)\tBook name\n",
    "B)\tAuthor name\n",
    "C)\tVolumes sold\n",
    "D)\tPublisher\n",
    "E)\tGenre\n"
   ]
  },
  {
   "cell_type": "code",
   "execution_count": 2,
   "id": "a0f98dc4",
   "metadata": {},
   "outputs": [],
   "source": [
    "import pandas as pd\n",
    "import selenium\n",
    "from selenium import webdriver\n",
    "from selenium.common.exceptions import StaleElementReferenceException, NoSuchElementException"
   ]
  },
  {
   "cell_type": "code",
   "execution_count": 3,
   "id": "1fefbacd",
   "metadata": {},
   "outputs": [],
   "source": [
    "import requests\n",
    "from selenium import webdriver\n",
    "\n",
    "browser = webdriver.Chrome()\n",
    "\n",
    "browser.get(\"https://www.theguardian.com/news/datablog/2012/aug/09/best-selling-books-all-time-fifty-shades-grey-compare/\")\n",
    "from bs4 import BeautifulSoup"
   ]
  },
  {
   "cell_type": "code",
   "execution_count": 4,
   "id": "b75c109e",
   "metadata": {},
   "outputs": [],
   "source": [
    "books=[]"
   ]
  },
  {
   "cell_type": "code",
   "execution_count": 5,
   "id": "a703859d",
   "metadata": {},
   "outputs": [
    {
     "name": "stderr",
     "output_type": "stream",
     "text": [
      "C:\\Users\\hamsa\\AppData\\Local\\Temp/ipykernel_19328/1463867140.py:1: DeprecationWarning: find_elements_by_xpath is deprecated. Please use find_elements(by=By.XPATH, value=xpath) instead\n",
      "  book_tags=browser.find_elements_by_xpath(\"//td[@class='left']\")\n"
     ]
    }
   ],
   "source": [
    "book_tags=browser.find_elements_by_xpath(\"//td[@class='left']\")\n",
    "for i in book_tags:\n",
    "    if i.text is None :\n",
    "        books.append(\"no rating\") \n",
    "    else:\n",
    "        books.append(i.text)"
   ]
  },
  {
   "cell_type": "code",
   "execution_count": 6,
   "id": "d9e7119f",
   "metadata": {},
   "outputs": [
    {
     "data": {
      "text/plain": [
       "'1'"
      ]
     },
     "execution_count": 6,
     "metadata": {},
     "output_type": "execute_result"
    }
   ],
   "source": [
    "books.pop(0)"
   ]
  },
  {
   "cell_type": "code",
   "execution_count": 7,
   "id": "721ca7c1",
   "metadata": {},
   "outputs": [
    {
     "data": {
      "text/plain": [
       "'Brown, Dan'"
      ]
     },
     "execution_count": 7,
     "metadata": {},
     "output_type": "execute_result"
    }
   ],
   "source": [
    "books.pop(1)"
   ]
  },
  {
   "cell_type": "code",
   "execution_count": 8,
   "id": "cdcdf5f0",
   "metadata": {},
   "outputs": [
    {
     "data": {
      "text/plain": [
       "'5,094,805'"
      ]
     },
     "execution_count": 8,
     "metadata": {},
     "output_type": "execute_result"
    }
   ],
   "source": [
    "books.pop(1)"
   ]
  },
  {
   "cell_type": "code",
   "execution_count": 9,
   "id": "d4c55476",
   "metadata": {},
   "outputs": [
    {
     "data": {
      "text/plain": [
       "'Transworld'"
      ]
     },
     "execution_count": 9,
     "metadata": {},
     "output_type": "execute_result"
    }
   ],
   "source": [
    "books.pop(1)"
   ]
  },
  {
   "cell_type": "code",
   "execution_count": 11,
   "id": "1398d267",
   "metadata": {},
   "outputs": [
    {
     "data": {
      "text/plain": [
       "'2'"
      ]
     },
     "execution_count": 11,
     "metadata": {},
     "output_type": "execute_result"
    }
   ],
   "source": [
    "books.pop(1)"
   ]
  },
  {
   "cell_type": "code",
   "execution_count": 12,
   "id": "c9760973",
   "metadata": {},
   "outputs": [
    {
     "data": {
      "text/plain": [
       "'4,475,152'"
      ]
     },
     "execution_count": 12,
     "metadata": {},
     "output_type": "execute_result"
    }
   ],
   "source": [
    "books.pop(2)"
   ]
  },
  {
   "cell_type": "code",
   "execution_count": 13,
   "id": "0790a003",
   "metadata": {},
   "outputs": [
    {
     "data": {
      "text/plain": [
       "'Bloomsbury'"
      ]
     },
     "execution_count": 13,
     "metadata": {},
     "output_type": "execute_result"
    }
   ],
   "source": [
    "books.pop(2)"
   ]
  },
  {
   "cell_type": "code",
   "execution_count": 14,
   "id": "e8dd5f8f",
   "metadata": {},
   "outputs": [
    {
     "data": {
      "text/plain": [
       "'3'"
      ]
     },
     "execution_count": 14,
     "metadata": {},
     "output_type": "execute_result"
    }
   ],
   "source": [
    "books.pop(2)"
   ]
  },
  {
   "cell_type": "code",
   "execution_count": 15,
   "id": "0f6b0c6c",
   "metadata": {},
   "outputs": [
    {
     "data": {
      "text/plain": [
       "\"Harry Potter and the Philosopher's Stone\""
      ]
     },
     "execution_count": 15,
     "metadata": {},
     "output_type": "execute_result"
    }
   ],
   "source": [
    "books.pop(2)"
   ]
  },
  {
   "cell_type": "code",
   "execution_count": 16,
   "id": "b83a8331",
   "metadata": {},
   "outputs": [
    {
     "data": {
      "text/plain": [
       "'4,200,654'"
      ]
     },
     "execution_count": 16,
     "metadata": {},
     "output_type": "execute_result"
    }
   ],
   "source": [
    "books.pop(3)"
   ]
  },
  {
   "cell_type": "code",
   "execution_count": 17,
   "id": "e5c0283b",
   "metadata": {},
   "outputs": [
    {
     "data": {
      "text/plain": [
       "'Bloomsbury'"
      ]
     },
     "execution_count": 17,
     "metadata": {},
     "output_type": "execute_result"
    }
   ],
   "source": [
    "books.pop(3)"
   ]
  },
  {
   "cell_type": "code",
   "execution_count": 18,
   "id": "b6c50752",
   "metadata": {},
   "outputs": [
    {
     "data": {
      "text/plain": [
       "'4'"
      ]
     },
     "execution_count": 18,
     "metadata": {},
     "output_type": "execute_result"
    }
   ],
   "source": [
    "books.pop(3)"
   ]
  },
  {
   "cell_type": "code",
   "execution_count": 19,
   "id": "51797436",
   "metadata": {},
   "outputs": [
    {
     "data": {
      "text/plain": [
       "'Harry Potter and the Order of the Phoenix'"
      ]
     },
     "execution_count": 19,
     "metadata": {},
     "output_type": "execute_result"
    }
   ],
   "source": [
    "books.pop(3)"
   ]
  },
  {
   "cell_type": "code",
   "execution_count": 20,
   "id": "90a1addb",
   "metadata": {},
   "outputs": [
    {
     "data": {
      "text/plain": [
       "'4,179,479'"
      ]
     },
     "execution_count": 20,
     "metadata": {},
     "output_type": "execute_result"
    }
   ],
   "source": [
    "books.pop(4)"
   ]
  },
  {
   "cell_type": "code",
   "execution_count": 21,
   "id": "968734de",
   "metadata": {},
   "outputs": [
    {
     "data": {
      "text/plain": [
       "'Bloomsbury'"
      ]
     },
     "execution_count": 21,
     "metadata": {},
     "output_type": "execute_result"
    }
   ],
   "source": [
    "books.pop(4)"
   ]
  },
  {
   "cell_type": "code",
   "execution_count": 22,
   "id": "918ec42a",
   "metadata": {},
   "outputs": [
    {
     "data": {
      "text/plain": [
       "'5'"
      ]
     },
     "execution_count": 22,
     "metadata": {},
     "output_type": "execute_result"
    }
   ],
   "source": [
    "books.pop(4)"
   ]
  },
  {
   "cell_type": "code",
   "execution_count": 23,
   "id": "b17f06b7",
   "metadata": {},
   "outputs": [
    {
     "data": {
      "text/plain": [
       "'Fifty Shades of Grey'"
      ]
     },
     "execution_count": 23,
     "metadata": {},
     "output_type": "execute_result"
    }
   ],
   "source": [
    "books.pop(4)"
   ]
  },
  {
   "cell_type": "code",
   "execution_count": 24,
   "id": "b1bd6c86",
   "metadata": {},
   "outputs": [
    {
     "data": {
      "text/plain": [
       "'3,758,936'"
      ]
     },
     "execution_count": 24,
     "metadata": {},
     "output_type": "execute_result"
    }
   ],
   "source": [
    "books.pop(5)"
   ]
  },
  {
   "cell_type": "code",
   "execution_count": 25,
   "id": "f58b5df2",
   "metadata": {},
   "outputs": [
    {
     "data": {
      "text/plain": [
       "'Random House'"
      ]
     },
     "execution_count": 25,
     "metadata": {},
     "output_type": "execute_result"
    }
   ],
   "source": [
    "books.pop(5)"
   ]
  },
  {
   "cell_type": "code",
   "execution_count": 26,
   "id": "42280c58",
   "metadata": {},
   "outputs": [
    {
     "data": {
      "text/plain": [
       "'6'"
      ]
     },
     "execution_count": 26,
     "metadata": {},
     "output_type": "execute_result"
    }
   ],
   "source": [
    "books.pop(5)"
   ]
  },
  {
   "cell_type": "code",
   "execution_count": 27,
   "id": "d9478886",
   "metadata": {},
   "outputs": [
    {
     "data": {
      "text/plain": [
       "'Harry Potter and the Goblet of Fire'"
      ]
     },
     "execution_count": 27,
     "metadata": {},
     "output_type": "execute_result"
    }
   ],
   "source": [
    "books.pop(5)"
   ]
  },
  {
   "cell_type": "code",
   "execution_count": 28,
   "id": "b3053b22",
   "metadata": {},
   "outputs": [
    {
     "data": {
      "text/plain": [
       "'3,583,215'"
      ]
     },
     "execution_count": 28,
     "metadata": {},
     "output_type": "execute_result"
    }
   ],
   "source": [
    "books.pop(6)"
   ]
  },
  {
   "cell_type": "code",
   "execution_count": 29,
   "id": "27505cec",
   "metadata": {},
   "outputs": [
    {
     "data": {
      "text/plain": [
       "'Bloomsbury'"
      ]
     },
     "execution_count": 29,
     "metadata": {},
     "output_type": "execute_result"
    }
   ],
   "source": [
    "books.pop(6)"
   ]
  },
  {
   "cell_type": "code",
   "execution_count": 30,
   "id": "d0df9468",
   "metadata": {},
   "outputs": [
    {
     "data": {
      "text/plain": [
       "'7'"
      ]
     },
     "execution_count": 30,
     "metadata": {},
     "output_type": "execute_result"
    }
   ],
   "source": [
    "books.pop(6)"
   ]
  },
  {
   "cell_type": "code",
   "execution_count": 31,
   "id": "eaee8898",
   "metadata": {},
   "outputs": [
    {
     "data": {
      "text/plain": [
       "'Harry Potter and the Chamber of Secrets'"
      ]
     },
     "execution_count": 31,
     "metadata": {},
     "output_type": "execute_result"
    }
   ],
   "source": [
    "books.pop(6)"
   ]
  },
  {
   "cell_type": "code",
   "execution_count": 32,
   "id": "f82b45b1",
   "metadata": {},
   "outputs": [
    {
     "data": {
      "text/plain": [
       "'3,484,047'"
      ]
     },
     "execution_count": 32,
     "metadata": {},
     "output_type": "execute_result"
    }
   ],
   "source": [
    "books.pop(7)"
   ]
  },
  {
   "cell_type": "code",
   "execution_count": 33,
   "id": "2870a513",
   "metadata": {},
   "outputs": [
    {
     "data": {
      "text/plain": [
       "'Bloomsbury'"
      ]
     },
     "execution_count": 33,
     "metadata": {},
     "output_type": "execute_result"
    }
   ],
   "source": [
    "books.pop(7)"
   ]
  },
  {
   "cell_type": "code",
   "execution_count": 34,
   "id": "8df964cb",
   "metadata": {},
   "outputs": [
    {
     "data": {
      "text/plain": [
       "'8'"
      ]
     },
     "execution_count": 34,
     "metadata": {},
     "output_type": "execute_result"
    }
   ],
   "source": [
    "books.pop(7)"
   ]
  },
  {
   "cell_type": "code",
   "execution_count": 35,
   "id": "a6c7051b",
   "metadata": {},
   "outputs": [
    {
     "data": {
      "text/plain": [
       "'Harry Potter and the Prisoner of Azkaban'"
      ]
     },
     "execution_count": 35,
     "metadata": {},
     "output_type": "execute_result"
    }
   ],
   "source": [
    "books.pop(7)"
   ]
  },
  {
   "cell_type": "code",
   "execution_count": 36,
   "id": "8b826c1d",
   "metadata": {},
   "outputs": [
    {
     "data": {
      "text/plain": [
       "'3,377,906'"
      ]
     },
     "execution_count": 36,
     "metadata": {},
     "output_type": "execute_result"
    }
   ],
   "source": [
    "books.pop(8)"
   ]
  },
  {
   "cell_type": "code",
   "execution_count": 37,
   "id": "241079ad",
   "metadata": {},
   "outputs": [
    {
     "data": {
      "text/plain": [
       "'Bloomsbury'"
      ]
     },
     "execution_count": 37,
     "metadata": {},
     "output_type": "execute_result"
    }
   ],
   "source": [
    "books.pop(8)"
   ]
  },
  {
   "cell_type": "code",
   "execution_count": 38,
   "id": "158e2def",
   "metadata": {},
   "outputs": [
    {
     "data": {
      "text/plain": [
       "'9'"
      ]
     },
     "execution_count": 38,
     "metadata": {},
     "output_type": "execute_result"
    }
   ],
   "source": [
    "books.pop(8)"
   ]
  },
  {
   "cell_type": "code",
   "execution_count": 39,
   "id": "7a807d7f",
   "metadata": {},
   "outputs": [
    {
     "data": {
      "text/plain": [
       "'Angels and Demons'"
      ]
     },
     "execution_count": 39,
     "metadata": {},
     "output_type": "execute_result"
    }
   ],
   "source": [
    "books.pop(8)"
   ]
  },
  {
   "cell_type": "code",
   "execution_count": 40,
   "id": "a80142b1",
   "metadata": {},
   "outputs": [
    {
     "data": {
      "text/plain": [
       "'3,193,946'"
      ]
     },
     "execution_count": 40,
     "metadata": {},
     "output_type": "execute_result"
    }
   ],
   "source": [
    "books.pop(9)"
   ]
  },
  {
   "cell_type": "code",
   "execution_count": 41,
   "id": "4b57cc73",
   "metadata": {},
   "outputs": [
    {
     "data": {
      "text/plain": [
       "'Transworld'"
      ]
     },
     "execution_count": 41,
     "metadata": {},
     "output_type": "execute_result"
    }
   ],
   "source": [
    "books.pop(9)"
   ]
  },
  {
   "cell_type": "code",
   "execution_count": 42,
   "id": "e27ef2bb",
   "metadata": {},
   "outputs": [
    {
     "data": {
      "text/plain": [
       "'10'"
      ]
     },
     "execution_count": 42,
     "metadata": {},
     "output_type": "execute_result"
    }
   ],
   "source": [
    "books.pop(9)"
   ]
  },
  {
   "cell_type": "code",
   "execution_count": 43,
   "id": "aba6616f",
   "metadata": {},
   "outputs": [
    {
     "data": {
      "text/plain": [
       "\"Harry Potter and the Half-blood Prince:Children's Edition\""
      ]
     },
     "execution_count": 43,
     "metadata": {},
     "output_type": "execute_result"
    }
   ],
   "source": [
    "books.pop(9)"
   ]
  },
  {
   "cell_type": "code",
   "execution_count": 44,
   "id": "1dadc079",
   "metadata": {},
   "outputs": [
    {
     "data": {
      "text/plain": [
       "'2,950,264'"
      ]
     },
     "execution_count": 44,
     "metadata": {},
     "output_type": "execute_result"
    }
   ],
   "source": [
    "books.pop(10)"
   ]
  },
  {
   "cell_type": "code",
   "execution_count": 45,
   "id": "d2a9668b",
   "metadata": {},
   "outputs": [
    {
     "data": {
      "text/plain": [
       "'Bloomsbury'"
      ]
     },
     "execution_count": 45,
     "metadata": {},
     "output_type": "execute_result"
    }
   ],
   "source": [
    "\n",
    "books.pop(10)"
   ]
  },
  {
   "cell_type": "code",
   "execution_count": 46,
   "id": "554b3c0a",
   "metadata": {},
   "outputs": [
    {
     "data": {
      "text/plain": [
       "'11'"
      ]
     },
     "execution_count": 46,
     "metadata": {},
     "output_type": "execute_result"
    }
   ],
   "source": [
    "books.pop(10)"
   ]
  },
  {
   "cell_type": "code",
   "execution_count": 47,
   "id": "93152e68",
   "metadata": {},
   "outputs": [
    {
     "data": {
      "text/plain": [
       "'Fifty Shades Darker'"
      ]
     },
     "execution_count": 47,
     "metadata": {},
     "output_type": "execute_result"
    }
   ],
   "source": [
    "books.pop(10)"
   ]
  },
  {
   "cell_type": "code",
   "execution_count": 48,
   "id": "79a40c27",
   "metadata": {},
   "outputs": [
    {
     "data": {
      "text/plain": [
       "'2,479,784'"
      ]
     },
     "execution_count": 48,
     "metadata": {},
     "output_type": "execute_result"
    }
   ],
   "source": [
    "books.pop(11)"
   ]
  },
  {
   "cell_type": "code",
   "execution_count": 49,
   "id": "ea1b1afc",
   "metadata": {},
   "outputs": [
    {
     "data": {
      "text/plain": [
       "'Random House'"
      ]
     },
     "execution_count": 49,
     "metadata": {},
     "output_type": "execute_result"
    }
   ],
   "source": [
    "books.pop(11)"
   ]
  },
  {
   "cell_type": "code",
   "execution_count": 50,
   "id": "62573ca6",
   "metadata": {},
   "outputs": [
    {
     "data": {
      "text/plain": [
       "'12'"
      ]
     },
     "execution_count": 50,
     "metadata": {},
     "output_type": "execute_result"
    }
   ],
   "source": [
    "books.pop(11)"
   ]
  },
  {
   "cell_type": "code",
   "execution_count": 51,
   "id": "290d898b",
   "metadata": {},
   "outputs": [
    {
     "data": {
      "text/plain": [
       "'Twilight'"
      ]
     },
     "execution_count": 51,
     "metadata": {},
     "output_type": "execute_result"
    }
   ],
   "source": [
    "books.pop(11)"
   ]
  },
  {
   "cell_type": "code",
   "execution_count": 52,
   "id": "d2af9726",
   "metadata": {},
   "outputs": [
    {
     "data": {
      "text/plain": [
       "'2,315,405'"
      ]
     },
     "execution_count": 52,
     "metadata": {},
     "output_type": "execute_result"
    }
   ],
   "source": [
    "books.pop(12)"
   ]
  },
  {
   "cell_type": "code",
   "execution_count": 53,
   "id": "13762714",
   "metadata": {},
   "outputs": [
    {
     "data": {
      "text/plain": [
       "'Little, Brown Book'"
      ]
     },
     "execution_count": 53,
     "metadata": {},
     "output_type": "execute_result"
    }
   ],
   "source": [
    "books.pop(12)"
   ]
  },
  {
   "cell_type": "code",
   "execution_count": 54,
   "id": "b7ec25cb",
   "metadata": {},
   "outputs": [
    {
     "data": {
      "text/plain": [
       "'13'"
      ]
     },
     "execution_count": 54,
     "metadata": {},
     "output_type": "execute_result"
    }
   ],
   "source": [
    "books.pop(12)"
   ]
  },
  {
   "cell_type": "code",
   "execution_count": 55,
   "id": "46fa2daa",
   "metadata": {},
   "outputs": [
    {
     "data": {
      "text/plain": [
       "'Girl with the Dragon Tattoo,The:Millennium Trilogy'"
      ]
     },
     "execution_count": 55,
     "metadata": {},
     "output_type": "execute_result"
    }
   ],
   "source": [
    "books.pop(12)"
   ]
  },
  {
   "cell_type": "code",
   "execution_count": 56,
   "id": "b3223317",
   "metadata": {},
   "outputs": [
    {
     "data": {
      "text/plain": [
       "'2,233,570'"
      ]
     },
     "execution_count": 56,
     "metadata": {},
     "output_type": "execute_result"
    }
   ],
   "source": [
    "books.pop(13)"
   ]
  },
  {
   "cell_type": "code",
   "execution_count": 57,
   "id": "2eec503b",
   "metadata": {},
   "outputs": [
    {
     "data": {
      "text/plain": [
       "'Quercus'"
      ]
     },
     "execution_count": 57,
     "metadata": {},
     "output_type": "execute_result"
    }
   ],
   "source": [
    "books.pop(13)"
   ]
  },
  {
   "cell_type": "code",
   "execution_count": 58,
   "id": "791df5ad",
   "metadata": {},
   "outputs": [
    {
     "data": {
      "text/plain": [
       "'14'"
      ]
     },
     "execution_count": 58,
     "metadata": {},
     "output_type": "execute_result"
    }
   ],
   "source": [
    "books.pop(13)"
   ]
  },
  {
   "cell_type": "code",
   "execution_count": 59,
   "id": "3d0fcd8b",
   "metadata": {},
   "outputs": [
    {
     "data": {
      "text/plain": [
       "'Fifty Shades Freed'"
      ]
     },
     "execution_count": 59,
     "metadata": {},
     "output_type": "execute_result"
    }
   ],
   "source": [
    "books.pop(13)"
   ]
  },
  {
   "cell_type": "code",
   "execution_count": 60,
   "id": "4b9b7ad9",
   "metadata": {},
   "outputs": [
    {
     "data": {
      "text/plain": [
       "'2,193,928'"
      ]
     },
     "execution_count": 60,
     "metadata": {},
     "output_type": "execute_result"
    }
   ],
   "source": [
    "books.pop(14)"
   ]
  },
  {
   "cell_type": "code",
   "execution_count": 61,
   "id": "d1f653a3",
   "metadata": {},
   "outputs": [
    {
     "data": {
      "text/plain": [
       "'Random House'"
      ]
     },
     "execution_count": 61,
     "metadata": {},
     "output_type": "execute_result"
    }
   ],
   "source": [
    "books.pop(14)"
   ]
  },
  {
   "cell_type": "code",
   "execution_count": 62,
   "id": "194900d1",
   "metadata": {},
   "outputs": [
    {
     "data": {
      "text/plain": [
       "'15'"
      ]
     },
     "execution_count": 62,
     "metadata": {},
     "output_type": "execute_result"
    }
   ],
   "source": [
    "books.pop(14)"
   ]
  },
  {
   "cell_type": "code",
   "execution_count": 63,
   "id": "bbcb352a",
   "metadata": {},
   "outputs": [
    {
     "data": {
      "text/plain": [
       "'Lost Symbol,The'"
      ]
     },
     "execution_count": 63,
     "metadata": {},
     "output_type": "execute_result"
    }
   ],
   "source": [
    "books.pop(14)"
   ]
  },
  {
   "cell_type": "code",
   "execution_count": 64,
   "id": "42ffe770",
   "metadata": {},
   "outputs": [
    {
     "data": {
      "text/plain": [
       "'2,183,031'"
      ]
     },
     "execution_count": 64,
     "metadata": {},
     "output_type": "execute_result"
    }
   ],
   "source": [
    "books.pop(15)"
   ]
  },
  {
   "cell_type": "code",
   "execution_count": 65,
   "id": "6729303e",
   "metadata": {},
   "outputs": [
    {
     "data": {
      "text/plain": [
       "'Transworld'"
      ]
     },
     "execution_count": 65,
     "metadata": {},
     "output_type": "execute_result"
    }
   ],
   "source": [
    "books.pop(15)"
   ]
  },
  {
   "cell_type": "code",
   "execution_count": 66,
   "id": "4c1d4f8b",
   "metadata": {},
   "outputs": [
    {
     "data": {
      "text/plain": [
       "'16'"
      ]
     },
     "execution_count": 66,
     "metadata": {},
     "output_type": "execute_result"
    }
   ],
   "source": [
    "books.pop(15)"
   ]
  },
  {
   "cell_type": "code",
   "execution_count": 67,
   "id": "9d65bd7a",
   "metadata": {},
   "outputs": [
    {
     "data": {
      "text/plain": [
       "'New Moon'"
      ]
     },
     "execution_count": 67,
     "metadata": {},
     "output_type": "execute_result"
    }
   ],
   "source": [
    "books.pop(15)"
   ]
  },
  {
   "cell_type": "code",
   "execution_count": 68,
   "id": "6626dd67",
   "metadata": {},
   "outputs": [
    {
     "data": {
      "text/plain": [
       "'2,152,737'"
      ]
     },
     "execution_count": 68,
     "metadata": {},
     "output_type": "execute_result"
    }
   ],
   "source": [
    "books.pop(16)"
   ]
  },
  {
   "cell_type": "code",
   "execution_count": 69,
   "id": "45cd4ecb",
   "metadata": {},
   "outputs": [
    {
     "data": {
      "text/plain": [
       "'Little, Brown Book'"
      ]
     },
     "execution_count": 69,
     "metadata": {},
     "output_type": "execute_result"
    }
   ],
   "source": [
    "books.pop(16)"
   ]
  },
  {
   "cell_type": "code",
   "execution_count": 70,
   "id": "ea9edbe4",
   "metadata": {},
   "outputs": [
    {
     "data": {
      "text/plain": [
       "'17'"
      ]
     },
     "execution_count": 70,
     "metadata": {},
     "output_type": "execute_result"
    }
   ],
   "source": [
    "books.pop(16)"
   ]
  },
  {
   "cell_type": "code",
   "execution_count": 71,
   "id": "32a56b67",
   "metadata": {},
   "outputs": [
    {
     "data": {
      "text/plain": [
       "'Deception Point'"
      ]
     },
     "execution_count": 71,
     "metadata": {},
     "output_type": "execute_result"
    }
   ],
   "source": [
    "books.pop(16)"
   ]
  },
  {
   "cell_type": "code",
   "execution_count": 72,
   "id": "8f729598",
   "metadata": {},
   "outputs": [
    {
     "data": {
      "text/plain": [
       "'2,062,145'"
      ]
     },
     "execution_count": 72,
     "metadata": {},
     "output_type": "execute_result"
    }
   ],
   "source": [
    "books.pop(17)"
   ]
  },
  {
   "cell_type": "code",
   "execution_count": 73,
   "id": "976e7385",
   "metadata": {},
   "outputs": [
    {
     "data": {
      "text/plain": [
       "'Transworld'"
      ]
     },
     "execution_count": 73,
     "metadata": {},
     "output_type": "execute_result"
    }
   ],
   "source": [
    "books.pop(17)"
   ]
  },
  {
   "cell_type": "code",
   "execution_count": 74,
   "id": "80ade91d",
   "metadata": {},
   "outputs": [
    {
     "data": {
      "text/plain": [
       "'18'"
      ]
     },
     "execution_count": 74,
     "metadata": {},
     "output_type": "execute_result"
    }
   ],
   "source": [
    "books.pop(17)"
   ]
  },
  {
   "cell_type": "code",
   "execution_count": 75,
   "id": "ceaf434b",
   "metadata": {},
   "outputs": [
    {
     "data": {
      "text/plain": [
       "'Eclipse'"
      ]
     },
     "execution_count": 75,
     "metadata": {},
     "output_type": "execute_result"
    }
   ],
   "source": [
    "books.pop(17)"
   ]
  },
  {
   "cell_type": "code",
   "execution_count": 76,
   "id": "21ae548d",
   "metadata": {},
   "outputs": [
    {
     "data": {
      "text/plain": [
       "'2,052,876'"
      ]
     },
     "execution_count": 76,
     "metadata": {},
     "output_type": "execute_result"
    }
   ],
   "source": [
    "books.pop(18)"
   ]
  },
  {
   "cell_type": "code",
   "execution_count": 77,
   "id": "120583ad",
   "metadata": {},
   "outputs": [
    {
     "data": {
      "text/plain": [
       "'Little, Brown Book'"
      ]
     },
     "execution_count": 77,
     "metadata": {},
     "output_type": "execute_result"
    }
   ],
   "source": [
    "books.pop(18)"
   ]
  },
  {
   "cell_type": "code",
   "execution_count": 78,
   "id": "308c19bf",
   "metadata": {},
   "outputs": [
    {
     "data": {
      "text/plain": [
       "'19'"
      ]
     },
     "execution_count": 78,
     "metadata": {},
     "output_type": "execute_result"
    }
   ],
   "source": [
    "books.pop(18)"
   ]
  },
  {
   "cell_type": "code",
   "execution_count": 79,
   "id": "90e41618",
   "metadata": {},
   "outputs": [
    {
     "data": {
      "text/plain": [
       "'Lovely Bones,The'"
      ]
     },
     "execution_count": 79,
     "metadata": {},
     "output_type": "execute_result"
    }
   ],
   "source": [
    "books.pop(18)"
   ]
  },
  {
   "cell_type": "code",
   "execution_count": 80,
   "id": "e27fb849",
   "metadata": {},
   "outputs": [
    {
     "data": {
      "text/plain": [
       "'2,005,598'"
      ]
     },
     "execution_count": 80,
     "metadata": {},
     "output_type": "execute_result"
    }
   ],
   "source": [
    "books.pop(19)"
   ]
  },
  {
   "cell_type": "code",
   "execution_count": 81,
   "id": "3966c5f0",
   "metadata": {},
   "outputs": [
    {
     "data": {
      "text/plain": [
       "'Pan Macmillan'"
      ]
     },
     "execution_count": 81,
     "metadata": {},
     "output_type": "execute_result"
    }
   ],
   "source": [
    "books.pop(19)"
   ]
  },
  {
   "cell_type": "code",
   "execution_count": 82,
   "id": "35b9ea53",
   "metadata": {},
   "outputs": [
    {
     "data": {
      "text/plain": [
       "'20'"
      ]
     },
     "execution_count": 82,
     "metadata": {},
     "output_type": "execute_result"
    }
   ],
   "source": [
    "books.pop(19)"
   ]
  },
  {
   "cell_type": "code",
   "execution_count": 83,
   "id": "2e32dd78",
   "metadata": {},
   "outputs": [
    {
     "data": {
      "text/plain": [
       "'Curious Incident of the Dog in the Night-time,The'"
      ]
     },
     "execution_count": 83,
     "metadata": {},
     "output_type": "execute_result"
    }
   ],
   "source": [
    "books.pop(19)"
   ]
  },
  {
   "cell_type": "code",
   "execution_count": 84,
   "id": "a73e8ef2",
   "metadata": {},
   "outputs": [
    {
     "data": {
      "text/plain": [
       "'1,979,552'"
      ]
     },
     "execution_count": 84,
     "metadata": {},
     "output_type": "execute_result"
    }
   ],
   "source": [
    "books.pop(20)"
   ]
  },
  {
   "cell_type": "code",
   "execution_count": 85,
   "id": "5bdefac7",
   "metadata": {},
   "outputs": [
    {
     "data": {
      "text/plain": [
       "'Random House'"
      ]
     },
     "execution_count": 85,
     "metadata": {},
     "output_type": "execute_result"
    }
   ],
   "source": [
    "books.pop(20)"
   ]
  },
  {
   "cell_type": "code",
   "execution_count": 86,
   "id": "7102ec4a",
   "metadata": {},
   "outputs": [
    {
     "data": {
      "text/plain": [
       "'21'"
      ]
     },
     "execution_count": 86,
     "metadata": {},
     "output_type": "execute_result"
    }
   ],
   "source": [
    "books.pop(20)"
   ]
  },
  {
   "cell_type": "code",
   "execution_count": 87,
   "id": "8ea98657",
   "metadata": {},
   "outputs": [
    {
     "data": {
      "text/plain": [
       "'Digital Fortress'"
      ]
     },
     "execution_count": 87,
     "metadata": {},
     "output_type": "execute_result"
    }
   ],
   "source": [
    "\n",
    "books.pop(20)"
   ]
  },
  {
   "cell_type": "code",
   "execution_count": 88,
   "id": "c52d7a1c",
   "metadata": {},
   "outputs": [
    {
     "data": {
      "text/plain": [
       "['Da Vinci Code,The',\n",
       " 'Rowling, J.K.',\n",
       " 'Rowling, J.K.',\n",
       " 'Rowling, J.K.',\n",
       " 'James, E. L.',\n",
       " 'Rowling, J.K.',\n",
       " 'Rowling, J.K.',\n",
       " 'Rowling, J.K.',\n",
       " 'Brown, Dan',\n",
       " 'Rowling, J.K.',\n",
       " 'James, E. L.',\n",
       " 'Meyer, Stephenie',\n",
       " 'Larsson, Stieg',\n",
       " 'James, E. L.',\n",
       " 'Brown, Dan',\n",
       " 'Meyer, Stephenie',\n",
       " 'Brown, Dan',\n",
       " 'Meyer, Stephenie',\n",
       " 'Sebold, Alice',\n",
       " 'Haddon, Mark']"
      ]
     },
     "execution_count": 88,
     "metadata": {},
     "output_type": "execute_result"
    }
   ],
   "source": [
    "books[0:20]"
   ]
  },
  {
   "cell_type": "code",
   "execution_count": 89,
   "id": "59125574",
   "metadata": {},
   "outputs": [],
   "source": [
    "author=[]"
   ]
  },
  {
   "cell_type": "code",
   "execution_count": 90,
   "id": "5e5c3c9e",
   "metadata": {},
   "outputs": [
    {
     "name": "stderr",
     "output_type": "stream",
     "text": [
      "C:\\Users\\hamsa\\AppData\\Local\\Temp/ipykernel_19328/3162954424.py:1: DeprecationWarning: find_elements_by_xpath is deprecated. Please use find_elements(by=By.XPATH, value=xpath) instead\n",
      "  author_tags=browser.find_elements_by_xpath(\"//td[@class='left']\")\n"
     ]
    }
   ],
   "source": [
    "author_tags=browser.find_elements_by_xpath(\"//td[@class='left']\")\n",
    "for i in author_tags:\n",
    "    if i.text is None :\n",
    "        author.append(\"no rating\")\n",
    "    else:\n",
    "        author.append(i.text)"
   ]
  },
  {
   "cell_type": "code",
   "execution_count": 91,
   "id": "1b4dd144",
   "metadata": {},
   "outputs": [
    {
     "data": {
      "text/plain": [
       "['1',\n",
       " 'Da Vinci Code,The',\n",
       " 'Brown, Dan',\n",
       " '5,094,805',\n",
       " 'Transworld',\n",
       " '2',\n",
       " 'Harry Potter and the Deathly Hallows',\n",
       " 'Rowling, J.K.',\n",
       " '4,475,152',\n",
       " 'Bloomsbury',\n",
       " '3',\n",
       " \"Harry Potter and the Philosopher's Stone\",\n",
       " 'Rowling, J.K.',\n",
       " '4,200,654',\n",
       " 'Bloomsbury',\n",
       " '4',\n",
       " 'Harry Potter and the Order of the Phoenix',\n",
       " 'Rowling, J.K.',\n",
       " '4,179,479',\n",
       " 'Bloomsbury',\n",
       " '5',\n",
       " 'Fifty Shades of Grey',\n",
       " 'James, E. L.',\n",
       " '3,758,936',\n",
       " 'Random House',\n",
       " '6',\n",
       " 'Harry Potter and the Goblet of Fire',\n",
       " 'Rowling, J.K.',\n",
       " '3,583,215',\n",
       " 'Bloomsbury',\n",
       " '7',\n",
       " 'Harry Potter and the Chamber of Secrets',\n",
       " 'Rowling, J.K.',\n",
       " '3,484,047',\n",
       " 'Bloomsbury',\n",
       " '8',\n",
       " 'Harry Potter and the Prisoner of Azkaban',\n",
       " 'Rowling, J.K.',\n",
       " '3,377,906',\n",
       " 'Bloomsbury',\n",
       " '9',\n",
       " 'Angels and Demons',\n",
       " 'Brown, Dan',\n",
       " '3,193,946',\n",
       " 'Transworld',\n",
       " '10',\n",
       " \"Harry Potter and the Half-blood Prince:Children's Edition\",\n",
       " 'Rowling, J.K.',\n",
       " '2,950,264',\n",
       " 'Bloomsbury',\n",
       " '11',\n",
       " 'Fifty Shades Darker',\n",
       " 'James, E. L.',\n",
       " '2,479,784',\n",
       " 'Random House',\n",
       " '12',\n",
       " 'Twilight',\n",
       " 'Meyer, Stephenie',\n",
       " '2,315,405',\n",
       " 'Little, Brown Book',\n",
       " '13',\n",
       " 'Girl with the Dragon Tattoo,The:Millennium Trilogy',\n",
       " 'Larsson, Stieg',\n",
       " '2,233,570',\n",
       " 'Quercus',\n",
       " '14',\n",
       " 'Fifty Shades Freed',\n",
       " 'James, E. L.',\n",
       " '2,193,928',\n",
       " 'Random House',\n",
       " '15',\n",
       " 'Lost Symbol,The',\n",
       " 'Brown, Dan',\n",
       " '2,183,031',\n",
       " 'Transworld',\n",
       " '16',\n",
       " 'New Moon',\n",
       " 'Meyer, Stephenie',\n",
       " '2,152,737',\n",
       " 'Little, Brown Book',\n",
       " '17',\n",
       " 'Deception Point',\n",
       " 'Brown, Dan',\n",
       " '2,062,145',\n",
       " 'Transworld',\n",
       " '18',\n",
       " 'Eclipse',\n",
       " 'Meyer, Stephenie',\n",
       " '2,052,876',\n",
       " 'Little, Brown Book',\n",
       " '19',\n",
       " 'Lovely Bones,The',\n",
       " 'Sebold, Alice',\n",
       " '2,005,598',\n",
       " 'Pan Macmillan',\n",
       " '20',\n",
       " 'Curious Incident of the Dog in the Night-time,The',\n",
       " 'Haddon, Mark',\n",
       " '1,979,552',\n",
       " 'Random House',\n",
       " '21',\n",
       " 'Digital Fortress',\n",
       " 'Brown, Dan',\n",
       " '1,928,900',\n",
       " 'Transworld',\n",
       " '22',\n",
       " 'Short History of Nearly Everything,A',\n",
       " 'Bryson, Bill',\n",
       " '1,852,919',\n",
       " 'Transworld',\n",
       " '23',\n",
       " 'Girl Who Played with Fire,The:Millennium Trilogy',\n",
       " 'Larsson, Stieg',\n",
       " '1,814,784',\n",
       " 'Quercus',\n",
       " '24',\n",
       " 'Breaking Dawn',\n",
       " 'Meyer, Stephenie',\n",
       " '1,787,118',\n",
       " 'Little, Brown Book',\n",
       " '25',\n",
       " 'Very Hungry Caterpillar,The:The Very Hungry Caterpillar',\n",
       " 'Carle, Eric',\n",
       " '1,783,535',\n",
       " 'Penguin',\n",
       " '26',\n",
       " 'Gruffalo,The',\n",
       " 'Donaldson, Julia',\n",
       " '1,781,269',\n",
       " 'Pan Macmillan',\n",
       " '27',\n",
       " \"Jamie's 30-Minute Meals\",\n",
       " 'Oliver, Jamie',\n",
       " '1,743,266',\n",
       " 'Penguin',\n",
       " '28',\n",
       " 'Kite Runner,The',\n",
       " 'Hosseini, Khaled',\n",
       " '1,629,119',\n",
       " 'Bloomsbury',\n",
       " '29',\n",
       " 'One Day',\n",
       " 'Nicholls, David',\n",
       " '1,616,068',\n",
       " 'Hodder & Stoughton',\n",
       " '30',\n",
       " 'Thousand Splendid Suns,A',\n",
       " 'Hosseini, Khaled',\n",
       " '1,583,992',\n",
       " 'Bloomsbury',\n",
       " '31',\n",
       " \"Girl Who Kicked the Hornets' Nest,The:Millennium Trilogy\",\n",
       " 'Larsson, Stieg',\n",
       " '1,555,135',\n",
       " 'Quercus',\n",
       " '32',\n",
       " \"Time Traveler's Wife,The\",\n",
       " 'Niffenegger, Audrey',\n",
       " '1,546,886',\n",
       " 'Random House',\n",
       " '33',\n",
       " 'Atonement',\n",
       " 'McEwan, Ian',\n",
       " '1,539,428',\n",
       " 'Random House',\n",
       " '34',\n",
       " \"Bridget Jones's Diary:A Novel\",\n",
       " 'Fielding, Helen',\n",
       " '1,508,205',\n",
       " 'Pan Macmillan',\n",
       " '35',\n",
       " 'World According to Clarkson,The',\n",
       " 'Clarkson, Jeremy',\n",
       " '1,489,403',\n",
       " 'Penguin',\n",
       " '36',\n",
       " \"Captain Corelli's Mandolin\",\n",
       " 'Bernieres, Louis de',\n",
       " '1,352,318',\n",
       " 'Random House',\n",
       " '37',\n",
       " 'Sound of Laughter,The',\n",
       " 'Kay, Peter',\n",
       " '1,310,207',\n",
       " 'Random House',\n",
       " '38',\n",
       " 'Life of Pi',\n",
       " 'Martel, Yann',\n",
       " '1,310,176',\n",
       " 'Canongate',\n",
       " '39',\n",
       " 'Billy Connolly',\n",
       " 'Stephenson, Pamela',\n",
       " '1,231,957',\n",
       " 'HarperCollins',\n",
       " '40',\n",
       " 'Child Called It,A',\n",
       " 'Pelzer, Dave',\n",
       " '1,217,712',\n",
       " 'Orion',\n",
       " '41',\n",
       " \"Gruffalo's Child,The\",\n",
       " 'Donaldson, Julia',\n",
       " '1,208,711',\n",
       " 'Pan Macmillan',\n",
       " '42',\n",
       " \"Angela's Ashes:A Memoir of a Childhood\",\n",
       " 'McCourt, Frank',\n",
       " '1,204,058',\n",
       " 'HarperCollins',\n",
       " '43',\n",
       " 'Birdsong',\n",
       " 'Faulks, Sebastian',\n",
       " '1,184,967',\n",
       " 'Random House',\n",
       " '44',\n",
       " 'Northern Lights:His Dark Materials S.',\n",
       " 'Pullman, Philip',\n",
       " '1,181,503',\n",
       " 'Scholastic Ltd.',\n",
       " '45',\n",
       " 'Labyrinth',\n",
       " 'Mosse, Kate',\n",
       " '1,181,093',\n",
       " 'Orion',\n",
       " '46',\n",
       " 'Harry Potter and the Half-blood Prince',\n",
       " 'Rowling, J.K.',\n",
       " '1,153,181',\n",
       " 'Bloomsbury',\n",
       " '47',\n",
       " 'Help,The',\n",
       " 'Stockett, Kathryn',\n",
       " '1,132,336',\n",
       " 'Penguin',\n",
       " '48',\n",
       " 'Man and Boy',\n",
       " 'Parsons, Tony',\n",
       " '1,130,802',\n",
       " 'HarperCollins',\n",
       " '49',\n",
       " 'Memoirs of a Geisha',\n",
       " 'Golden, Arthur',\n",
       " '1,126,337',\n",
       " 'Random House',\n",
       " '50',\n",
       " \"No.1 Ladies' Detective Agency,The:No.1 Ladies' Detective Agency S.\",\n",
       " 'McCall Smith, Alexander',\n",
       " '1,115,549',\n",
       " 'Little, Brown Book',\n",
       " '51',\n",
       " 'Island,The',\n",
       " 'Hislop, Victoria',\n",
       " '1,108,328',\n",
       " 'Headline',\n",
       " '52',\n",
       " 'PS, I Love You',\n",
       " 'Ahern, Cecelia',\n",
       " '1,107,379',\n",
       " 'HarperCollins',\n",
       " '53',\n",
       " 'You are What You Eat:The Plan That Will Change Your Life',\n",
       " 'McKeith, Gillian',\n",
       " '1,104,403',\n",
       " 'Penguin',\n",
       " '54',\n",
       " 'Shadow of the Wind,The',\n",
       " 'Zafon, Carlos Ruiz',\n",
       " '1,092,349',\n",
       " 'Orion',\n",
       " '55',\n",
       " 'Tales of Beedle the Bard,The',\n",
       " 'Rowling, J.K.',\n",
       " '1,090,847',\n",
       " 'Bloomsbury',\n",
       " '56',\n",
       " 'Broker,The',\n",
       " 'Grisham, John',\n",
       " '1,087,262',\n",
       " 'Random House',\n",
       " '57',\n",
       " \"Dr. Atkins' New Diet Revolution:The No-hunger, Luxurious Weight Loss P\",\n",
       " 'Atkins, Robert C.',\n",
       " '1,054,196',\n",
       " 'Random House',\n",
       " '58',\n",
       " 'Subtle Knife,The:His Dark Materials S.',\n",
       " 'Pullman, Philip',\n",
       " '1,037,160',\n",
       " 'Scholastic Ltd.',\n",
       " '59',\n",
       " 'Eats, Shoots and Leaves:The Zero Tolerance Approach to Punctuation',\n",
       " 'Truss, Lynne',\n",
       " '1,023,688',\n",
       " 'Profile Books Group',\n",
       " '60',\n",
       " \"Delia's How to Cook:(Bk.1)\",\n",
       " 'Smith, Delia',\n",
       " '1,015,956',\n",
       " 'Random House',\n",
       " '61',\n",
       " 'Chocolat',\n",
       " 'Harris, Joanne',\n",
       " '1,009,873',\n",
       " 'Transworld',\n",
       " '62',\n",
       " 'Boy in the Striped Pyjamas,The',\n",
       " 'Boyne, John',\n",
       " '1,004,414',\n",
       " 'Random House Childrens Books G',\n",
       " '63',\n",
       " \"My Sister's Keeper\",\n",
       " 'Picoult, Jodi',\n",
       " '1,003,780',\n",
       " 'Hodder & Stoughton',\n",
       " '64',\n",
       " 'Amber Spyglass,The:His Dark Materials S.',\n",
       " 'Pullman, Philip',\n",
       " '1,002,314',\n",
       " 'Scholastic Ltd.',\n",
       " '65',\n",
       " 'To Kill a Mockingbird',\n",
       " 'Lee, Harper',\n",
       " '998,213',\n",
       " 'Random House',\n",
       " '66',\n",
       " 'Men are from Mars, Women are from Venus:A Practical Guide for Improvin',\n",
       " 'Gray, John',\n",
       " '992,846',\n",
       " 'HarperCollins',\n",
       " '67',\n",
       " 'Dear Fatty',\n",
       " 'French, Dawn',\n",
       " '986,753',\n",
       " 'Random House',\n",
       " '68',\n",
       " 'Short History of Tractors in Ukrainian,A',\n",
       " 'Lewycka, Marina',\n",
       " '986,115',\n",
       " 'Penguin',\n",
       " '69',\n",
       " 'Hannibal',\n",
       " 'Harris, Thomas',\n",
       " '970,509',\n",
       " 'Random House',\n",
       " '70',\n",
       " 'Lord of the Rings,The',\n",
       " 'Tolkien, J. R. R.',\n",
       " '967,466',\n",
       " 'HarperCollins',\n",
       " '71',\n",
       " 'Stupid White Men:...and Other Sorry Excuses for the State of the Natio',\n",
       " 'Moore, Michael',\n",
       " '963,353',\n",
       " 'Penguin',\n",
       " '72',\n",
       " 'Interpretation of Murder,The',\n",
       " 'Rubenfeld, Jed',\n",
       " '962,515',\n",
       " 'Headline',\n",
       " '73',\n",
       " 'Sharon Osbourne Extreme:My Autobiography',\n",
       " 'Osbourne, Sharon',\n",
       " '959,496',\n",
       " 'Little, Brown Book',\n",
       " '74',\n",
       " 'Alchemist,The:A Fable About Following Your Dream',\n",
       " 'Coelho, Paulo',\n",
       " '956,114',\n",
       " 'HarperCollins',\n",
       " '75',\n",
       " \"At My Mother's Knee ...:and Other Low Joints\",\n",
       " \"O'Grady, Paul\",\n",
       " '945,640',\n",
       " 'Transworld',\n",
       " '76',\n",
       " 'Notes from a Small Island',\n",
       " 'Bryson, Bill',\n",
       " '931,312',\n",
       " 'Transworld',\n",
       " '77',\n",
       " 'Return of the Naked Chef,The',\n",
       " 'Oliver, Jamie',\n",
       " '925,425',\n",
       " 'Penguin',\n",
       " '78',\n",
       " 'Bridget Jones: The Edge of Reason',\n",
       " 'Fielding, Helen',\n",
       " '924,695',\n",
       " 'Pan Macmillan',\n",
       " '79',\n",
       " \"Jamie's Italy\",\n",
       " 'Oliver, Jamie',\n",
       " '906,968',\n",
       " 'Penguin',\n",
       " '80',\n",
       " 'I Can Make You Thin',\n",
       " 'McKenna, Paul',\n",
       " '905,086',\n",
       " 'Transworld',\n",
       " '81',\n",
       " 'Down Under',\n",
       " 'Bryson, Bill',\n",
       " '890,847',\n",
       " 'Transworld',\n",
       " '82',\n",
       " 'Summons,The',\n",
       " 'Grisham, John',\n",
       " '869,671',\n",
       " 'Random House',\n",
       " '83',\n",
       " 'Small Island',\n",
       " 'Levy, Andrea',\n",
       " '869,659',\n",
       " 'Headline',\n",
       " '84',\n",
       " 'Nigella Express',\n",
       " 'Lawson, Nigella',\n",
       " '862,602',\n",
       " 'Random House',\n",
       " '85',\n",
       " 'Brick Lane',\n",
       " 'Ali, Monica',\n",
       " '856,540',\n",
       " 'Transworld',\n",
       " '86',\n",
       " \"Memory Keeper's Daughter,The\",\n",
       " 'Edwards, Kim',\n",
       " '845,858',\n",
       " 'Penguin',\n",
       " '87',\n",
       " 'Room on the Broom',\n",
       " 'Donaldson, Julia',\n",
       " '842,535',\n",
       " 'Pan Macmillan',\n",
       " '88',\n",
       " 'About a Boy',\n",
       " 'Hornby, Nick',\n",
       " '828,215',\n",
       " 'Penguin',\n",
       " '89',\n",
       " 'My Booky Wook',\n",
       " 'Brand, Russell',\n",
       " '820,563',\n",
       " 'Hodder & Stoughton',\n",
       " '90',\n",
       " 'God Delusion,The',\n",
       " 'Dawkins, Richard',\n",
       " '816,907',\n",
       " 'Transworld',\n",
       " '91',\n",
       " '\"Beano\" Annual,The',\n",
       " '0',\n",
       " '816,585',\n",
       " 'D.C. Thomson',\n",
       " '92',\n",
       " 'White Teeth',\n",
       " 'Smith, Zadie',\n",
       " '815,586',\n",
       " 'Penguin',\n",
       " '93',\n",
       " 'House at Riverton,The',\n",
       " 'Morton, Kate',\n",
       " '814,370',\n",
       " 'Pan Macmillan',\n",
       " '94',\n",
       " 'Book Thief,The',\n",
       " 'Zusak, Markus',\n",
       " '809,641',\n",
       " 'Transworld',\n",
       " '95',\n",
       " 'Nights of Rain and Stars',\n",
       " 'Binchy, Maeve',\n",
       " '808,900',\n",
       " 'Orion',\n",
       " '96',\n",
       " 'Ghost,The',\n",
       " 'Harris, Robert',\n",
       " '807,311',\n",
       " 'Random House',\n",
       " '97',\n",
       " 'Happy Days with the Naked Chef',\n",
       " 'Oliver, Jamie',\n",
       " '794,201',\n",
       " 'Penguin',\n",
       " '98',\n",
       " 'Hunger Games,The:Hunger Games Trilogy',\n",
       " 'Collins, Suzanne',\n",
       " '792,187',\n",
       " 'Scholastic Ltd.',\n",
       " '99',\n",
       " \"Lost Boy,The:A Foster Child's Search for the Love of a Family\",\n",
       " 'Pelzer, Dave',\n",
       " '791,507',\n",
       " 'Orion',\n",
       " '100',\n",
       " \"Jamie's Ministry of Food:Anyone Can Learn to Cook in 24 Hours\",\n",
       " 'Oliver, Jamie',\n",
       " '791,095',\n",
       " 'Penguin']"
      ]
     },
     "execution_count": 91,
     "metadata": {},
     "output_type": "execute_result"
    }
   ],
   "source": [
    "author"
   ]
  },
  {
   "cell_type": "code",
   "execution_count": 92,
   "id": "adc83151",
   "metadata": {},
   "outputs": [
    {
     "data": {
      "text/plain": [
       "'1'"
      ]
     },
     "execution_count": 92,
     "metadata": {},
     "output_type": "execute_result"
    }
   ],
   "source": [
    "author.pop(0)"
   ]
  },
  {
   "cell_type": "code",
   "execution_count": 93,
   "id": "aa38c8a9",
   "metadata": {},
   "outputs": [
    {
     "data": {
      "text/plain": [
       "'Da Vinci Code,The'"
      ]
     },
     "execution_count": 93,
     "metadata": {},
     "output_type": "execute_result"
    }
   ],
   "source": [
    "author.pop(0)"
   ]
  },
  {
   "cell_type": "code",
   "execution_count": 94,
   "id": "c056828a",
   "metadata": {},
   "outputs": [
    {
     "data": {
      "text/plain": [
       "'5,094,805'"
      ]
     },
     "execution_count": 94,
     "metadata": {},
     "output_type": "execute_result"
    }
   ],
   "source": [
    "author.pop(1)"
   ]
  },
  {
   "cell_type": "code",
   "execution_count": 95,
   "id": "f14ad33b",
   "metadata": {},
   "outputs": [
    {
     "data": {
      "text/plain": [
       "'Transworld'"
      ]
     },
     "execution_count": 95,
     "metadata": {},
     "output_type": "execute_result"
    }
   ],
   "source": [
    "author.pop(1)"
   ]
  },
  {
   "cell_type": "code",
   "execution_count": 96,
   "id": "601aeef6",
   "metadata": {},
   "outputs": [
    {
     "data": {
      "text/plain": [
       "'2'"
      ]
     },
     "execution_count": 96,
     "metadata": {},
     "output_type": "execute_result"
    }
   ],
   "source": [
    "author.pop(1)"
   ]
  },
  {
   "cell_type": "code",
   "execution_count": 97,
   "id": "480d86d3",
   "metadata": {},
   "outputs": [
    {
     "data": {
      "text/plain": [
       "'Harry Potter and the Deathly Hallows'"
      ]
     },
     "execution_count": 97,
     "metadata": {},
     "output_type": "execute_result"
    }
   ],
   "source": [
    "author.pop(1)"
   ]
  },
  {
   "cell_type": "code",
   "execution_count": 98,
   "id": "31571002",
   "metadata": {},
   "outputs": [
    {
     "data": {
      "text/plain": [
       "'4,475,152'"
      ]
     },
     "execution_count": 98,
     "metadata": {},
     "output_type": "execute_result"
    }
   ],
   "source": [
    "author.pop(2)"
   ]
  },
  {
   "cell_type": "code",
   "execution_count": 99,
   "id": "c79c2ece",
   "metadata": {},
   "outputs": [
    {
     "data": {
      "text/plain": [
       "'Bloomsbury'"
      ]
     },
     "execution_count": 99,
     "metadata": {},
     "output_type": "execute_result"
    }
   ],
   "source": [
    "author.pop(2)"
   ]
  },
  {
   "cell_type": "code",
   "execution_count": 100,
   "id": "5cce0f55",
   "metadata": {},
   "outputs": [
    {
     "data": {
      "text/plain": [
       "'3'"
      ]
     },
     "execution_count": 100,
     "metadata": {},
     "output_type": "execute_result"
    }
   ],
   "source": [
    "author.pop(2)"
   ]
  },
  {
   "cell_type": "code",
   "execution_count": 101,
   "id": "58f8e5af",
   "metadata": {},
   "outputs": [
    {
     "data": {
      "text/plain": [
       "\"Harry Potter and the Philosopher's Stone\""
      ]
     },
     "execution_count": 101,
     "metadata": {},
     "output_type": "execute_result"
    }
   ],
   "source": [
    "author.pop(2)"
   ]
  },
  {
   "cell_type": "code",
   "execution_count": 102,
   "id": "fa43bfb0",
   "metadata": {},
   "outputs": [
    {
     "data": {
      "text/plain": [
       "'4,200,654'"
      ]
     },
     "execution_count": 102,
     "metadata": {},
     "output_type": "execute_result"
    }
   ],
   "source": [
    "author.pop(3)"
   ]
  },
  {
   "cell_type": "code",
   "execution_count": 103,
   "id": "801fa72a",
   "metadata": {},
   "outputs": [
    {
     "data": {
      "text/plain": [
       "'Bloomsbury'"
      ]
     },
     "execution_count": 103,
     "metadata": {},
     "output_type": "execute_result"
    }
   ],
   "source": [
    "author.pop(3)"
   ]
  },
  {
   "cell_type": "code",
   "execution_count": 104,
   "id": "2d5eaadd",
   "metadata": {},
   "outputs": [
    {
     "data": {
      "text/plain": [
       "'4'"
      ]
     },
     "execution_count": 104,
     "metadata": {},
     "output_type": "execute_result"
    }
   ],
   "source": [
    "author.pop(3)"
   ]
  },
  {
   "cell_type": "code",
   "execution_count": 105,
   "id": "e6056938",
   "metadata": {},
   "outputs": [
    {
     "data": {
      "text/plain": [
       "'Harry Potter and the Order of the Phoenix'"
      ]
     },
     "execution_count": 105,
     "metadata": {},
     "output_type": "execute_result"
    }
   ],
   "source": [
    "author.pop(3)"
   ]
  },
  {
   "cell_type": "code",
   "execution_count": 106,
   "id": "0138be96",
   "metadata": {},
   "outputs": [
    {
     "data": {
      "text/plain": [
       "'4,179,479'"
      ]
     },
     "execution_count": 106,
     "metadata": {},
     "output_type": "execute_result"
    }
   ],
   "source": [
    "author.pop(4)"
   ]
  },
  {
   "cell_type": "code",
   "execution_count": 107,
   "id": "ac61eafa",
   "metadata": {},
   "outputs": [
    {
     "data": {
      "text/plain": [
       "'Bloomsbury'"
      ]
     },
     "execution_count": 107,
     "metadata": {},
     "output_type": "execute_result"
    }
   ],
   "source": [
    "author.pop(4)"
   ]
  },
  {
   "cell_type": "code",
   "execution_count": 108,
   "id": "c21de85c",
   "metadata": {},
   "outputs": [
    {
     "data": {
      "text/plain": [
       "'5'"
      ]
     },
     "execution_count": 108,
     "metadata": {},
     "output_type": "execute_result"
    }
   ],
   "source": [
    "author.pop(4)"
   ]
  },
  {
   "cell_type": "code",
   "execution_count": 109,
   "id": "173b1d5c",
   "metadata": {},
   "outputs": [
    {
     "data": {
      "text/plain": [
       "'Fifty Shades of Grey'"
      ]
     },
     "execution_count": 109,
     "metadata": {},
     "output_type": "execute_result"
    }
   ],
   "source": [
    "author.pop(4)"
   ]
  },
  {
   "cell_type": "code",
   "execution_count": 110,
   "id": "8f898235",
   "metadata": {},
   "outputs": [
    {
     "data": {
      "text/plain": [
       "'3,758,936'"
      ]
     },
     "execution_count": 110,
     "metadata": {},
     "output_type": "execute_result"
    }
   ],
   "source": [
    "author.pop(5)"
   ]
  },
  {
   "cell_type": "code",
   "execution_count": 111,
   "id": "3445792c",
   "metadata": {},
   "outputs": [
    {
     "data": {
      "text/plain": [
       "'Random House'"
      ]
     },
     "execution_count": 111,
     "metadata": {},
     "output_type": "execute_result"
    }
   ],
   "source": [
    "author.pop(5)"
   ]
  },
  {
   "cell_type": "code",
   "execution_count": 112,
   "id": "b607a1d1",
   "metadata": {},
   "outputs": [
    {
     "data": {
      "text/plain": [
       "'6'"
      ]
     },
     "execution_count": 112,
     "metadata": {},
     "output_type": "execute_result"
    }
   ],
   "source": [
    "author.pop(5)"
   ]
  },
  {
   "cell_type": "code",
   "execution_count": 113,
   "id": "cb5dbbd2",
   "metadata": {},
   "outputs": [
    {
     "data": {
      "text/plain": [
       "'Harry Potter and the Goblet of Fire'"
      ]
     },
     "execution_count": 113,
     "metadata": {},
     "output_type": "execute_result"
    }
   ],
   "source": [
    "author.pop(5)"
   ]
  },
  {
   "cell_type": "code",
   "execution_count": 114,
   "id": "95a7f843",
   "metadata": {},
   "outputs": [
    {
     "data": {
      "text/plain": [
       "'3,583,215'"
      ]
     },
     "execution_count": 114,
     "metadata": {},
     "output_type": "execute_result"
    }
   ],
   "source": [
    "author.pop(6)"
   ]
  },
  {
   "cell_type": "code",
   "execution_count": 115,
   "id": "20be9ee7",
   "metadata": {},
   "outputs": [
    {
     "data": {
      "text/plain": [
       "'Bloomsbury'"
      ]
     },
     "execution_count": 115,
     "metadata": {},
     "output_type": "execute_result"
    }
   ],
   "source": [
    "\n",
    "author.pop(6)"
   ]
  },
  {
   "cell_type": "code",
   "execution_count": 116,
   "id": "43998f10",
   "metadata": {},
   "outputs": [
    {
     "data": {
      "text/plain": [
       "'7'"
      ]
     },
     "execution_count": 116,
     "metadata": {},
     "output_type": "execute_result"
    }
   ],
   "source": [
    "author.pop(6)"
   ]
  },
  {
   "cell_type": "code",
   "execution_count": 117,
   "id": "c7d27dd1",
   "metadata": {},
   "outputs": [
    {
     "data": {
      "text/plain": [
       "'Harry Potter and the Chamber of Secrets'"
      ]
     },
     "execution_count": 117,
     "metadata": {},
     "output_type": "execute_result"
    }
   ],
   "source": [
    "author.pop(6)"
   ]
  },
  {
   "cell_type": "code",
   "execution_count": 118,
   "id": "e79bc23c",
   "metadata": {},
   "outputs": [
    {
     "data": {
      "text/plain": [
       "'3,484,047'"
      ]
     },
     "execution_count": 118,
     "metadata": {},
     "output_type": "execute_result"
    }
   ],
   "source": [
    "author.pop(7)"
   ]
  },
  {
   "cell_type": "code",
   "execution_count": 119,
   "id": "600d4e6f",
   "metadata": {},
   "outputs": [
    {
     "data": {
      "text/plain": [
       "'Bloomsbury'"
      ]
     },
     "execution_count": 119,
     "metadata": {},
     "output_type": "execute_result"
    }
   ],
   "source": [
    "author.pop(7)"
   ]
  },
  {
   "cell_type": "code",
   "execution_count": 120,
   "id": "ba527349",
   "metadata": {},
   "outputs": [
    {
     "data": {
      "text/plain": [
       "'8'"
      ]
     },
     "execution_count": 120,
     "metadata": {},
     "output_type": "execute_result"
    }
   ],
   "source": [
    "author.pop(7)"
   ]
  },
  {
   "cell_type": "code",
   "execution_count": 121,
   "id": "8c0e42de",
   "metadata": {},
   "outputs": [
    {
     "data": {
      "text/plain": [
       "'Harry Potter and the Prisoner of Azkaban'"
      ]
     },
     "execution_count": 121,
     "metadata": {},
     "output_type": "execute_result"
    }
   ],
   "source": [
    "author.pop(7)"
   ]
  },
  {
   "cell_type": "code",
   "execution_count": 122,
   "id": "7ccfb900",
   "metadata": {},
   "outputs": [
    {
     "data": {
      "text/plain": [
       "'3,377,906'"
      ]
     },
     "execution_count": 122,
     "metadata": {},
     "output_type": "execute_result"
    }
   ],
   "source": [
    "author.pop(8)"
   ]
  },
  {
   "cell_type": "code",
   "execution_count": 123,
   "id": "44275e01",
   "metadata": {},
   "outputs": [
    {
     "data": {
      "text/plain": [
       "'Bloomsbury'"
      ]
     },
     "execution_count": 123,
     "metadata": {},
     "output_type": "execute_result"
    }
   ],
   "source": [
    "author.pop(8)"
   ]
  },
  {
   "cell_type": "code",
   "execution_count": 124,
   "id": "d142608b",
   "metadata": {},
   "outputs": [
    {
     "data": {
      "text/plain": [
       "'9'"
      ]
     },
     "execution_count": 124,
     "metadata": {},
     "output_type": "execute_result"
    }
   ],
   "source": [
    "author.pop(8)"
   ]
  },
  {
   "cell_type": "code",
   "execution_count": 125,
   "id": "1142aa94",
   "metadata": {},
   "outputs": [
    {
     "data": {
      "text/plain": [
       "'Angels and Demons'"
      ]
     },
     "execution_count": 125,
     "metadata": {},
     "output_type": "execute_result"
    }
   ],
   "source": [
    "author.pop(8)"
   ]
  },
  {
   "cell_type": "code",
   "execution_count": 126,
   "id": "dc0fcc3d",
   "metadata": {},
   "outputs": [
    {
     "data": {
      "text/plain": [
       "'3,193,946'"
      ]
     },
     "execution_count": 126,
     "metadata": {},
     "output_type": "execute_result"
    }
   ],
   "source": [
    "author.pop(9)"
   ]
  },
  {
   "cell_type": "code",
   "execution_count": 127,
   "id": "654cdfd6",
   "metadata": {},
   "outputs": [
    {
     "data": {
      "text/plain": [
       "'Transworld'"
      ]
     },
     "execution_count": 127,
     "metadata": {},
     "output_type": "execute_result"
    }
   ],
   "source": [
    "author.pop(9)"
   ]
  },
  {
   "cell_type": "code",
   "execution_count": 128,
   "id": "c9a79af3",
   "metadata": {},
   "outputs": [
    {
     "data": {
      "text/plain": [
       "'10'"
      ]
     },
     "execution_count": 128,
     "metadata": {},
     "output_type": "execute_result"
    }
   ],
   "source": [
    "author.pop(9)"
   ]
  },
  {
   "cell_type": "code",
   "execution_count": 129,
   "id": "4460d6d3",
   "metadata": {},
   "outputs": [
    {
     "data": {
      "text/plain": [
       "\"Harry Potter and the Half-blood Prince:Children's Edition\""
      ]
     },
     "execution_count": 129,
     "metadata": {},
     "output_type": "execute_result"
    }
   ],
   "source": [
    "\n",
    "author.pop(9)"
   ]
  },
  {
   "cell_type": "code",
   "execution_count": 130,
   "id": "1ede45b8",
   "metadata": {},
   "outputs": [
    {
     "data": {
      "text/plain": [
       "'2,950,264'"
      ]
     },
     "execution_count": 130,
     "metadata": {},
     "output_type": "execute_result"
    }
   ],
   "source": [
    "author.pop(10)"
   ]
  },
  {
   "cell_type": "code",
   "execution_count": 131,
   "id": "6f1d2244",
   "metadata": {},
   "outputs": [
    {
     "data": {
      "text/plain": [
       "'Bloomsbury'"
      ]
     },
     "execution_count": 131,
     "metadata": {},
     "output_type": "execute_result"
    }
   ],
   "source": [
    "author.pop(10)"
   ]
  },
  {
   "cell_type": "code",
   "execution_count": 132,
   "id": "7bfc25e9",
   "metadata": {},
   "outputs": [
    {
     "data": {
      "text/plain": [
       "'11'"
      ]
     },
     "execution_count": 132,
     "metadata": {},
     "output_type": "execute_result"
    }
   ],
   "source": [
    "author.pop(10)"
   ]
  },
  {
   "cell_type": "code",
   "execution_count": 133,
   "id": "6d5d3479",
   "metadata": {},
   "outputs": [
    {
     "data": {
      "text/plain": [
       "'Fifty Shades Darker'"
      ]
     },
     "execution_count": 133,
     "metadata": {},
     "output_type": "execute_result"
    }
   ],
   "source": [
    "author.pop(10)"
   ]
  },
  {
   "cell_type": "code",
   "execution_count": 134,
   "id": "c6bb7604",
   "metadata": {},
   "outputs": [
    {
     "data": {
      "text/plain": [
       "'2,479,784'"
      ]
     },
     "execution_count": 134,
     "metadata": {},
     "output_type": "execute_result"
    }
   ],
   "source": [
    "author.pop(11)"
   ]
  },
  {
   "cell_type": "code",
   "execution_count": 135,
   "id": "68c4eeb1",
   "metadata": {},
   "outputs": [
    {
     "data": {
      "text/plain": [
       "'Random House'"
      ]
     },
     "execution_count": 135,
     "metadata": {},
     "output_type": "execute_result"
    }
   ],
   "source": [
    "author.pop(11)"
   ]
  },
  {
   "cell_type": "code",
   "execution_count": 136,
   "id": "3369fedb",
   "metadata": {},
   "outputs": [
    {
     "data": {
      "text/plain": [
       "'12'"
      ]
     },
     "execution_count": 136,
     "metadata": {},
     "output_type": "execute_result"
    }
   ],
   "source": [
    "author.pop(11)"
   ]
  },
  {
   "cell_type": "code",
   "execution_count": 137,
   "id": "fca49a83",
   "metadata": {},
   "outputs": [
    {
     "data": {
      "text/plain": [
       "'Twilight'"
      ]
     },
     "execution_count": 137,
     "metadata": {},
     "output_type": "execute_result"
    }
   ],
   "source": [
    "author.pop(11)"
   ]
  },
  {
   "cell_type": "code",
   "execution_count": 138,
   "id": "705149d1",
   "metadata": {},
   "outputs": [
    {
     "data": {
      "text/plain": [
       "'2,315,405'"
      ]
     },
     "execution_count": 138,
     "metadata": {},
     "output_type": "execute_result"
    }
   ],
   "source": [
    "author.pop(12)"
   ]
  },
  {
   "cell_type": "code",
   "execution_count": 139,
   "id": "1681c0b0",
   "metadata": {},
   "outputs": [
    {
     "data": {
      "text/plain": [
       "'Little, Brown Book'"
      ]
     },
     "execution_count": 139,
     "metadata": {},
     "output_type": "execute_result"
    }
   ],
   "source": [
    "author.pop(12)"
   ]
  },
  {
   "cell_type": "code",
   "execution_count": 140,
   "id": "d0426bf5",
   "metadata": {},
   "outputs": [
    {
     "data": {
      "text/plain": [
       "'13'"
      ]
     },
     "execution_count": 140,
     "metadata": {},
     "output_type": "execute_result"
    }
   ],
   "source": [
    "author.pop(12)"
   ]
  },
  {
   "cell_type": "code",
   "execution_count": 141,
   "id": "f31ec6ee",
   "metadata": {},
   "outputs": [
    {
     "data": {
      "text/plain": [
       "'Girl with the Dragon Tattoo,The:Millennium Trilogy'"
      ]
     },
     "execution_count": 141,
     "metadata": {},
     "output_type": "execute_result"
    }
   ],
   "source": [
    "author.pop(12)"
   ]
  },
  {
   "cell_type": "code",
   "execution_count": 142,
   "id": "97be7be5",
   "metadata": {},
   "outputs": [
    {
     "data": {
      "text/plain": [
       "'2,233,570'"
      ]
     },
     "execution_count": 142,
     "metadata": {},
     "output_type": "execute_result"
    }
   ],
   "source": [
    "author.pop(13)"
   ]
  },
  {
   "cell_type": "code",
   "execution_count": 143,
   "id": "9ed6e0aa",
   "metadata": {},
   "outputs": [
    {
     "data": {
      "text/plain": [
       "'Quercus'"
      ]
     },
     "execution_count": 143,
     "metadata": {},
     "output_type": "execute_result"
    }
   ],
   "source": [
    "author.pop(13)"
   ]
  },
  {
   "cell_type": "code",
   "execution_count": 144,
   "id": "981e40e6",
   "metadata": {},
   "outputs": [
    {
     "data": {
      "text/plain": [
       "'14'"
      ]
     },
     "execution_count": 144,
     "metadata": {},
     "output_type": "execute_result"
    }
   ],
   "source": [
    "author.pop(13)"
   ]
  },
  {
   "cell_type": "code",
   "execution_count": 145,
   "id": "3984db08",
   "metadata": {},
   "outputs": [
    {
     "data": {
      "text/plain": [
       "'Fifty Shades Freed'"
      ]
     },
     "execution_count": 145,
     "metadata": {},
     "output_type": "execute_result"
    }
   ],
   "source": [
    "author.pop(13)"
   ]
  },
  {
   "cell_type": "code",
   "execution_count": 146,
   "id": "6876746c",
   "metadata": {},
   "outputs": [
    {
     "data": {
      "text/plain": [
       "'2,193,928'"
      ]
     },
     "execution_count": 146,
     "metadata": {},
     "output_type": "execute_result"
    }
   ],
   "source": [
    "author.pop(14)"
   ]
  },
  {
   "cell_type": "code",
   "execution_count": 147,
   "id": "74f7f79a",
   "metadata": {},
   "outputs": [
    {
     "data": {
      "text/plain": [
       "'Random House'"
      ]
     },
     "execution_count": 147,
     "metadata": {},
     "output_type": "execute_result"
    }
   ],
   "source": [
    "author.pop(14)"
   ]
  },
  {
   "cell_type": "code",
   "execution_count": 148,
   "id": "5d6a2098",
   "metadata": {},
   "outputs": [
    {
     "data": {
      "text/plain": [
       "'15'"
      ]
     },
     "execution_count": 148,
     "metadata": {},
     "output_type": "execute_result"
    }
   ],
   "source": [
    "author.pop(14)"
   ]
  },
  {
   "cell_type": "code",
   "execution_count": 149,
   "id": "f18801e0",
   "metadata": {},
   "outputs": [
    {
     "data": {
      "text/plain": [
       "'Lost Symbol,The'"
      ]
     },
     "execution_count": 149,
     "metadata": {},
     "output_type": "execute_result"
    }
   ],
   "source": [
    "author.pop(14)"
   ]
  },
  {
   "cell_type": "code",
   "execution_count": 150,
   "id": "f10f5cf9",
   "metadata": {},
   "outputs": [
    {
     "data": {
      "text/plain": [
       "'2,183,031'"
      ]
     },
     "execution_count": 150,
     "metadata": {},
     "output_type": "execute_result"
    }
   ],
   "source": [
    "author.pop(15)"
   ]
  },
  {
   "cell_type": "code",
   "execution_count": 151,
   "id": "b05a0dc9",
   "metadata": {},
   "outputs": [
    {
     "data": {
      "text/plain": [
       "'Transworld'"
      ]
     },
     "execution_count": 151,
     "metadata": {},
     "output_type": "execute_result"
    }
   ],
   "source": [
    "author.pop(15)"
   ]
  },
  {
   "cell_type": "code",
   "execution_count": 152,
   "id": "f18d9154",
   "metadata": {},
   "outputs": [
    {
     "data": {
      "text/plain": [
       "'16'"
      ]
     },
     "execution_count": 152,
     "metadata": {},
     "output_type": "execute_result"
    }
   ],
   "source": [
    "author.pop(15)"
   ]
  },
  {
   "cell_type": "code",
   "execution_count": 153,
   "id": "857f0a20",
   "metadata": {},
   "outputs": [
    {
     "data": {
      "text/plain": [
       "'New Moon'"
      ]
     },
     "execution_count": 153,
     "metadata": {},
     "output_type": "execute_result"
    }
   ],
   "source": [
    "author.pop(15)"
   ]
  },
  {
   "cell_type": "code",
   "execution_count": 154,
   "id": "e961601f",
   "metadata": {},
   "outputs": [
    {
     "data": {
      "text/plain": [
       "'2,152,737'"
      ]
     },
     "execution_count": 154,
     "metadata": {},
     "output_type": "execute_result"
    }
   ],
   "source": [
    "author.pop(16)"
   ]
  },
  {
   "cell_type": "code",
   "execution_count": 155,
   "id": "9c48b3f2",
   "metadata": {},
   "outputs": [
    {
     "data": {
      "text/plain": [
       "'Little, Brown Book'"
      ]
     },
     "execution_count": 155,
     "metadata": {},
     "output_type": "execute_result"
    }
   ],
   "source": [
    "author.pop(16)"
   ]
  },
  {
   "cell_type": "code",
   "execution_count": 156,
   "id": "702ed3f3",
   "metadata": {},
   "outputs": [
    {
     "data": {
      "text/plain": [
       "'17'"
      ]
     },
     "execution_count": 156,
     "metadata": {},
     "output_type": "execute_result"
    }
   ],
   "source": [
    "author.pop(16)"
   ]
  },
  {
   "cell_type": "code",
   "execution_count": 157,
   "id": "ed5ae40e",
   "metadata": {},
   "outputs": [
    {
     "data": {
      "text/plain": [
       "'Deception Point'"
      ]
     },
     "execution_count": 157,
     "metadata": {},
     "output_type": "execute_result"
    }
   ],
   "source": [
    "author.pop(16)"
   ]
  },
  {
   "cell_type": "code",
   "execution_count": 158,
   "id": "94a7d0ac",
   "metadata": {},
   "outputs": [
    {
     "data": {
      "text/plain": [
       "'2,062,145'"
      ]
     },
     "execution_count": 158,
     "metadata": {},
     "output_type": "execute_result"
    }
   ],
   "source": [
    "author.pop(17)"
   ]
  },
  {
   "cell_type": "code",
   "execution_count": 159,
   "id": "5222dc7d",
   "metadata": {},
   "outputs": [
    {
     "data": {
      "text/plain": [
       "'Transworld'"
      ]
     },
     "execution_count": 159,
     "metadata": {},
     "output_type": "execute_result"
    }
   ],
   "source": [
    "author.pop(17)"
   ]
  },
  {
   "cell_type": "code",
   "execution_count": 160,
   "id": "10a270f2",
   "metadata": {},
   "outputs": [
    {
     "data": {
      "text/plain": [
       "'18'"
      ]
     },
     "execution_count": 160,
     "metadata": {},
     "output_type": "execute_result"
    }
   ],
   "source": [
    "author.pop(17)"
   ]
  },
  {
   "cell_type": "code",
   "execution_count": 161,
   "id": "929909ba",
   "metadata": {},
   "outputs": [
    {
     "data": {
      "text/plain": [
       "'Eclipse'"
      ]
     },
     "execution_count": 161,
     "metadata": {},
     "output_type": "execute_result"
    }
   ],
   "source": [
    "author.pop(17)"
   ]
  },
  {
   "cell_type": "code",
   "execution_count": 162,
   "id": "99055c21",
   "metadata": {},
   "outputs": [
    {
     "data": {
      "text/plain": [
       "'2,052,876'"
      ]
     },
     "execution_count": 162,
     "metadata": {},
     "output_type": "execute_result"
    }
   ],
   "source": [
    "author.pop(18)"
   ]
  },
  {
   "cell_type": "code",
   "execution_count": 163,
   "id": "0c2bf553",
   "metadata": {},
   "outputs": [
    {
     "data": {
      "text/plain": [
       "'Little, Brown Book'"
      ]
     },
     "execution_count": 163,
     "metadata": {},
     "output_type": "execute_result"
    }
   ],
   "source": [
    "author.pop(18)"
   ]
  },
  {
   "cell_type": "code",
   "execution_count": 164,
   "id": "61e914c5",
   "metadata": {},
   "outputs": [
    {
     "data": {
      "text/plain": [
       "'19'"
      ]
     },
     "execution_count": 164,
     "metadata": {},
     "output_type": "execute_result"
    }
   ],
   "source": [
    "author.pop(18)"
   ]
  },
  {
   "cell_type": "code",
   "execution_count": 165,
   "id": "062771d0",
   "metadata": {},
   "outputs": [
    {
     "data": {
      "text/plain": [
       "'Lovely Bones,The'"
      ]
     },
     "execution_count": 165,
     "metadata": {},
     "output_type": "execute_result"
    }
   ],
   "source": [
    "author.pop(18)"
   ]
  },
  {
   "cell_type": "code",
   "execution_count": 166,
   "id": "05a63dc4",
   "metadata": {},
   "outputs": [
    {
     "data": {
      "text/plain": [
       "'2,005,598'"
      ]
     },
     "execution_count": 166,
     "metadata": {},
     "output_type": "execute_result"
    }
   ],
   "source": [
    "author.pop(19)"
   ]
  },
  {
   "cell_type": "code",
   "execution_count": 167,
   "id": "ec0c8ce6",
   "metadata": {},
   "outputs": [
    {
     "data": {
      "text/plain": [
       "'Pan Macmillan'"
      ]
     },
     "execution_count": 167,
     "metadata": {},
     "output_type": "execute_result"
    }
   ],
   "source": [
    "author.pop(19)"
   ]
  },
  {
   "cell_type": "code",
   "execution_count": 168,
   "id": "69a88d6a",
   "metadata": {},
   "outputs": [
    {
     "data": {
      "text/plain": [
       "'20'"
      ]
     },
     "execution_count": 168,
     "metadata": {},
     "output_type": "execute_result"
    }
   ],
   "source": [
    "\n",
    "author.pop(19)"
   ]
  },
  {
   "cell_type": "code",
   "execution_count": 169,
   "id": "5f9ceee3",
   "metadata": {},
   "outputs": [
    {
     "data": {
      "text/plain": [
       "'Curious Incident of the Dog in the Night-time,The'"
      ]
     },
     "execution_count": 169,
     "metadata": {},
     "output_type": "execute_result"
    }
   ],
   "source": [
    "author.pop(19)"
   ]
  },
  {
   "cell_type": "code",
   "execution_count": 170,
   "id": "a353cf72",
   "metadata": {},
   "outputs": [
    {
     "data": {
      "text/plain": [
       "'1,979,552'"
      ]
     },
     "execution_count": 170,
     "metadata": {},
     "output_type": "execute_result"
    }
   ],
   "source": [
    "author.pop(20)"
   ]
  },
  {
   "cell_type": "code",
   "execution_count": 171,
   "id": "7829f01d",
   "metadata": {},
   "outputs": [
    {
     "data": {
      "text/plain": [
       "'Random House'"
      ]
     },
     "execution_count": 171,
     "metadata": {},
     "output_type": "execute_result"
    }
   ],
   "source": [
    "author.pop(20)"
   ]
  },
  {
   "cell_type": "code",
   "execution_count": 172,
   "id": "4d918b96",
   "metadata": {},
   "outputs": [
    {
     "data": {
      "text/plain": [
       "'21'"
      ]
     },
     "execution_count": 172,
     "metadata": {},
     "output_type": "execute_result"
    }
   ],
   "source": [
    "author.pop(20)"
   ]
  },
  {
   "cell_type": "code",
   "execution_count": 173,
   "id": "8c1d6317",
   "metadata": {},
   "outputs": [
    {
     "data": {
      "text/plain": [
       "'Digital Fortress'"
      ]
     },
     "execution_count": 173,
     "metadata": {},
     "output_type": "execute_result"
    }
   ],
   "source": [
    "author.pop(20)"
   ]
  },
  {
   "cell_type": "code",
   "execution_count": 174,
   "id": "4c236a81",
   "metadata": {},
   "outputs": [
    {
     "data": {
      "text/plain": [
       "['Brown, Dan',\n",
       " 'Rowling, J.K.',\n",
       " 'Rowling, J.K.',\n",
       " 'Rowling, J.K.',\n",
       " 'James, E. L.',\n",
       " 'Rowling, J.K.',\n",
       " 'Rowling, J.K.',\n",
       " 'Rowling, J.K.',\n",
       " 'Brown, Dan',\n",
       " 'Rowling, J.K.',\n",
       " 'James, E. L.',\n",
       " 'Meyer, Stephenie',\n",
       " 'Larsson, Stieg',\n",
       " 'James, E. L.',\n",
       " 'Brown, Dan',\n",
       " 'Meyer, Stephenie',\n",
       " 'Brown, Dan',\n",
       " 'Meyer, Stephenie',\n",
       " 'Sebold, Alice',\n",
       " 'Haddon, Mark']"
      ]
     },
     "execution_count": 174,
     "metadata": {},
     "output_type": "execute_result"
    }
   ],
   "source": [
    "author[0:20]"
   ]
  },
  {
   "cell_type": "code",
   "execution_count": 175,
   "id": "e24cf3ae",
   "metadata": {},
   "outputs": [
    {
     "data": {
      "text/plain": [
       "['Brown, Dan',\n",
       " 'Rowling, J.K.',\n",
       " 'Rowling, J.K.',\n",
       " 'Rowling, J.K.',\n",
       " 'James, E. L.',\n",
       " 'Rowling, J.K.',\n",
       " 'Rowling, J.K.',\n",
       " 'Rowling, J.K.',\n",
       " 'Brown, Dan',\n",
       " 'Rowling, J.K.',\n",
       " 'James, E. L.',\n",
       " 'Meyer, Stephenie',\n",
       " 'Larsson, Stieg',\n",
       " 'James, E. L.',\n",
       " 'Brown, Dan',\n",
       " 'Meyer, Stephenie',\n",
       " 'Brown, Dan',\n",
       " 'Meyer, Stephenie',\n",
       " 'Sebold, Alice',\n",
       " 'Haddon, Mark']"
      ]
     },
     "execution_count": 175,
     "metadata": {},
     "output_type": "execute_result"
    }
   ],
   "source": [
    "author[0:20]"
   ]
  },
  {
   "cell_type": "code",
   "execution_count": 176,
   "id": "db879d07",
   "metadata": {},
   "outputs": [],
   "source": [
    "volume=[]"
   ]
  },
  {
   "cell_type": "code",
   "execution_count": 177,
   "id": "cdaf7a09",
   "metadata": {},
   "outputs": [
    {
     "name": "stderr",
     "output_type": "stream",
     "text": [
      "C:\\Users\\hamsa\\AppData\\Local\\Temp/ipykernel_19328/3346901027.py:1: DeprecationWarning: find_elements_by_xpath is deprecated. Please use find_elements(by=By.XPATH, value=xpath) instead\n",
      "  volume_tags=browser.find_elements_by_xpath(\"//td[@class='left']\")\n"
     ]
    }
   ],
   "source": [
    "volume_tags=browser.find_elements_by_xpath(\"//td[@class='left']\")\n",
    "for i in volume_tags:\n",
    "    if i.text is None :\n",
    "        volume.append(\"no rating\") \n",
    "    else:\n",
    "        volume.append(i.text)"
   ]
  },
  {
   "cell_type": "code",
   "execution_count": 178,
   "id": "73b67b0f",
   "metadata": {},
   "outputs": [
    {
     "data": {
      "text/plain": [
       "'1'"
      ]
     },
     "execution_count": 178,
     "metadata": {},
     "output_type": "execute_result"
    }
   ],
   "source": [
    "volume.pop(0)"
   ]
  },
  {
   "cell_type": "code",
   "execution_count": 179,
   "id": "9eb8a105",
   "metadata": {},
   "outputs": [
    {
     "data": {
      "text/plain": [
       "'Da Vinci Code,The'"
      ]
     },
     "execution_count": 179,
     "metadata": {},
     "output_type": "execute_result"
    }
   ],
   "source": [
    "volume.pop(0)"
   ]
  },
  {
   "cell_type": "code",
   "execution_count": 180,
   "id": "15db153e",
   "metadata": {},
   "outputs": [
    {
     "data": {
      "text/plain": [
       "'Brown, Dan'"
      ]
     },
     "execution_count": 180,
     "metadata": {},
     "output_type": "execute_result"
    }
   ],
   "source": [
    "\n",
    "volume.pop(0)"
   ]
  },
  {
   "cell_type": "code",
   "execution_count": 181,
   "id": "966d1ba1",
   "metadata": {},
   "outputs": [
    {
     "data": {
      "text/plain": [
       "'Transworld'"
      ]
     },
     "execution_count": 181,
     "metadata": {},
     "output_type": "execute_result"
    }
   ],
   "source": [
    "volume.pop(1)"
   ]
  },
  {
   "cell_type": "code",
   "execution_count": 182,
   "id": "41d25f18",
   "metadata": {},
   "outputs": [
    {
     "data": {
      "text/plain": [
       "'2'"
      ]
     },
     "execution_count": 182,
     "metadata": {},
     "output_type": "execute_result"
    }
   ],
   "source": [
    "volume.pop(1)"
   ]
  },
  {
   "cell_type": "code",
   "execution_count": 183,
   "id": "60074f13",
   "metadata": {},
   "outputs": [
    {
     "data": {
      "text/plain": [
       "'Harry Potter and the Deathly Hallows'"
      ]
     },
     "execution_count": 183,
     "metadata": {},
     "output_type": "execute_result"
    }
   ],
   "source": [
    "volume.pop(1)"
   ]
  },
  {
   "cell_type": "code",
   "execution_count": 184,
   "id": "a48304bc",
   "metadata": {},
   "outputs": [
    {
     "data": {
      "text/plain": [
       "'Rowling, J.K.'"
      ]
     },
     "execution_count": 184,
     "metadata": {},
     "output_type": "execute_result"
    }
   ],
   "source": [
    "volume.pop(1)"
   ]
  },
  {
   "cell_type": "code",
   "execution_count": 185,
   "id": "b5346a00",
   "metadata": {},
   "outputs": [
    {
     "data": {
      "text/plain": [
       "'Bloomsbury'"
      ]
     },
     "execution_count": 185,
     "metadata": {},
     "output_type": "execute_result"
    }
   ],
   "source": [
    "volume.pop(2)"
   ]
  },
  {
   "cell_type": "code",
   "execution_count": 186,
   "id": "02dd824d",
   "metadata": {},
   "outputs": [
    {
     "data": {
      "text/plain": [
       "'3'"
      ]
     },
     "execution_count": 186,
     "metadata": {},
     "output_type": "execute_result"
    }
   ],
   "source": [
    "volume.pop(2)"
   ]
  },
  {
   "cell_type": "code",
   "execution_count": 187,
   "id": "6cb39222",
   "metadata": {},
   "outputs": [
    {
     "data": {
      "text/plain": [
       "\"Harry Potter and the Philosopher's Stone\""
      ]
     },
     "execution_count": 187,
     "metadata": {},
     "output_type": "execute_result"
    }
   ],
   "source": [
    "volume.pop(2)"
   ]
  },
  {
   "cell_type": "code",
   "execution_count": 188,
   "id": "aa53dee6",
   "metadata": {},
   "outputs": [
    {
     "data": {
      "text/plain": [
       "'Rowling, J.K.'"
      ]
     },
     "execution_count": 188,
     "metadata": {},
     "output_type": "execute_result"
    }
   ],
   "source": [
    "volume.pop(2)"
   ]
  },
  {
   "cell_type": "code",
   "execution_count": 189,
   "id": "bb14f127",
   "metadata": {},
   "outputs": [
    {
     "data": {
      "text/plain": [
       "'Bloomsbury'"
      ]
     },
     "execution_count": 189,
     "metadata": {},
     "output_type": "execute_result"
    }
   ],
   "source": [
    "volume.pop(3)"
   ]
  },
  {
   "cell_type": "code",
   "execution_count": 190,
   "id": "1a2383a7",
   "metadata": {},
   "outputs": [
    {
     "data": {
      "text/plain": [
       "'4'"
      ]
     },
     "execution_count": 190,
     "metadata": {},
     "output_type": "execute_result"
    }
   ],
   "source": [
    "volume.pop(3)"
   ]
  },
  {
   "cell_type": "code",
   "execution_count": 191,
   "id": "e8ba08cd",
   "metadata": {},
   "outputs": [
    {
     "data": {
      "text/plain": [
       "'Harry Potter and the Order of the Phoenix'"
      ]
     },
     "execution_count": 191,
     "metadata": {},
     "output_type": "execute_result"
    }
   ],
   "source": [
    "volume.pop(3)"
   ]
  },
  {
   "cell_type": "code",
   "execution_count": 192,
   "id": "3a34b28d",
   "metadata": {},
   "outputs": [
    {
     "data": {
      "text/plain": [
       "'Rowling, J.K.'"
      ]
     },
     "execution_count": 192,
     "metadata": {},
     "output_type": "execute_result"
    }
   ],
   "source": [
    "volume.pop(3)"
   ]
  },
  {
   "cell_type": "code",
   "execution_count": 193,
   "id": "711b9370",
   "metadata": {},
   "outputs": [
    {
     "data": {
      "text/plain": [
       "'Bloomsbury'"
      ]
     },
     "execution_count": 193,
     "metadata": {},
     "output_type": "execute_result"
    }
   ],
   "source": [
    "volume.pop(4)"
   ]
  },
  {
   "cell_type": "code",
   "execution_count": 194,
   "id": "037316c3",
   "metadata": {},
   "outputs": [
    {
     "data": {
      "text/plain": [
       "'5'"
      ]
     },
     "execution_count": 194,
     "metadata": {},
     "output_type": "execute_result"
    }
   ],
   "source": [
    "volume.pop(4)"
   ]
  },
  {
   "cell_type": "code",
   "execution_count": 195,
   "id": "29db8e16",
   "metadata": {},
   "outputs": [
    {
     "data": {
      "text/plain": [
       "'Fifty Shades of Grey'"
      ]
     },
     "execution_count": 195,
     "metadata": {},
     "output_type": "execute_result"
    }
   ],
   "source": [
    "volume.pop(4)"
   ]
  },
  {
   "cell_type": "code",
   "execution_count": 196,
   "id": "bd8c8ac0",
   "metadata": {},
   "outputs": [
    {
     "data": {
      "text/plain": [
       "'James, E. L.'"
      ]
     },
     "execution_count": 196,
     "metadata": {},
     "output_type": "execute_result"
    }
   ],
   "source": [
    "volume.pop(4)"
   ]
  },
  {
   "cell_type": "code",
   "execution_count": 197,
   "id": "541edb2f",
   "metadata": {},
   "outputs": [
    {
     "data": {
      "text/plain": [
       "'Random House'"
      ]
     },
     "execution_count": 197,
     "metadata": {},
     "output_type": "execute_result"
    }
   ],
   "source": [
    "volume.pop(5)"
   ]
  },
  {
   "cell_type": "code",
   "execution_count": 198,
   "id": "12cc3b20",
   "metadata": {},
   "outputs": [
    {
     "data": {
      "text/plain": [
       "'6'"
      ]
     },
     "execution_count": 198,
     "metadata": {},
     "output_type": "execute_result"
    }
   ],
   "source": [
    "volume.pop(5)"
   ]
  },
  {
   "cell_type": "code",
   "execution_count": 199,
   "id": "200f3d64",
   "metadata": {},
   "outputs": [
    {
     "data": {
      "text/plain": [
       "'Harry Potter and the Goblet of Fire'"
      ]
     },
     "execution_count": 199,
     "metadata": {},
     "output_type": "execute_result"
    }
   ],
   "source": [
    "volume.pop(5)"
   ]
  },
  {
   "cell_type": "code",
   "execution_count": 200,
   "id": "f1175be7",
   "metadata": {},
   "outputs": [
    {
     "data": {
      "text/plain": [
       "'Rowling, J.K.'"
      ]
     },
     "execution_count": 200,
     "metadata": {},
     "output_type": "execute_result"
    }
   ],
   "source": [
    "volume.pop(5)"
   ]
  },
  {
   "cell_type": "code",
   "execution_count": 201,
   "id": "97b0556f",
   "metadata": {},
   "outputs": [
    {
     "data": {
      "text/plain": [
       "'Bloomsbury'"
      ]
     },
     "execution_count": 201,
     "metadata": {},
     "output_type": "execute_result"
    }
   ],
   "source": [
    "volume.pop(6)"
   ]
  },
  {
   "cell_type": "code",
   "execution_count": 202,
   "id": "fe6cce0c",
   "metadata": {},
   "outputs": [
    {
     "data": {
      "text/plain": [
       "'7'"
      ]
     },
     "execution_count": 202,
     "metadata": {},
     "output_type": "execute_result"
    }
   ],
   "source": [
    "\n",
    "volume.pop(6)"
   ]
  },
  {
   "cell_type": "code",
   "execution_count": 203,
   "id": "e0f74a48",
   "metadata": {},
   "outputs": [
    {
     "data": {
      "text/plain": [
       "'Harry Potter and the Chamber of Secrets'"
      ]
     },
     "execution_count": 203,
     "metadata": {},
     "output_type": "execute_result"
    }
   ],
   "source": [
    "volume.pop(6)"
   ]
  },
  {
   "cell_type": "code",
   "execution_count": 204,
   "id": "91afe450",
   "metadata": {},
   "outputs": [
    {
     "data": {
      "text/plain": [
       "'Rowling, J.K.'"
      ]
     },
     "execution_count": 204,
     "metadata": {},
     "output_type": "execute_result"
    }
   ],
   "source": [
    "volume.pop(6)"
   ]
  },
  {
   "cell_type": "code",
   "execution_count": 205,
   "id": "190149cb",
   "metadata": {},
   "outputs": [
    {
     "data": {
      "text/plain": [
       "'Bloomsbury'"
      ]
     },
     "execution_count": 205,
     "metadata": {},
     "output_type": "execute_result"
    }
   ],
   "source": [
    "volume.pop(7)"
   ]
  },
  {
   "cell_type": "code",
   "execution_count": 206,
   "id": "90badeb6",
   "metadata": {},
   "outputs": [
    {
     "data": {
      "text/plain": [
       "'8'"
      ]
     },
     "execution_count": 206,
     "metadata": {},
     "output_type": "execute_result"
    }
   ],
   "source": [
    "volume.pop(7)"
   ]
  },
  {
   "cell_type": "code",
   "execution_count": 207,
   "id": "3e157570",
   "metadata": {},
   "outputs": [
    {
     "data": {
      "text/plain": [
       "'Harry Potter and the Prisoner of Azkaban'"
      ]
     },
     "execution_count": 207,
     "metadata": {},
     "output_type": "execute_result"
    }
   ],
   "source": [
    "volume.pop(7)"
   ]
  },
  {
   "cell_type": "code",
   "execution_count": 208,
   "id": "fd556248",
   "metadata": {},
   "outputs": [
    {
     "data": {
      "text/plain": [
       "'Rowling, J.K.'"
      ]
     },
     "execution_count": 208,
     "metadata": {},
     "output_type": "execute_result"
    }
   ],
   "source": [
    "volume.pop(7)"
   ]
  },
  {
   "cell_type": "code",
   "execution_count": 209,
   "id": "4ecfc864",
   "metadata": {},
   "outputs": [
    {
     "data": {
      "text/plain": [
       "'Bloomsbury'"
      ]
     },
     "execution_count": 209,
     "metadata": {},
     "output_type": "execute_result"
    }
   ],
   "source": [
    "volume.pop(8)"
   ]
  },
  {
   "cell_type": "code",
   "execution_count": 210,
   "id": "ab22716b",
   "metadata": {},
   "outputs": [
    {
     "data": {
      "text/plain": [
       "'9'"
      ]
     },
     "execution_count": 210,
     "metadata": {},
     "output_type": "execute_result"
    }
   ],
   "source": [
    "volume.pop(8)"
   ]
  },
  {
   "cell_type": "code",
   "execution_count": 211,
   "id": "8c5fcb1a",
   "metadata": {},
   "outputs": [
    {
     "data": {
      "text/plain": [
       "'Angels and Demons'"
      ]
     },
     "execution_count": 211,
     "metadata": {},
     "output_type": "execute_result"
    }
   ],
   "source": [
    "volume.pop(8)"
   ]
  },
  {
   "cell_type": "code",
   "execution_count": 212,
   "id": "5955c398",
   "metadata": {},
   "outputs": [
    {
     "data": {
      "text/plain": [
       "'Brown, Dan'"
      ]
     },
     "execution_count": 212,
     "metadata": {},
     "output_type": "execute_result"
    }
   ],
   "source": [
    "volume.pop(8)"
   ]
  },
  {
   "cell_type": "code",
   "execution_count": 213,
   "id": "7c304b73",
   "metadata": {},
   "outputs": [
    {
     "data": {
      "text/plain": [
       "'Transworld'"
      ]
     },
     "execution_count": 213,
     "metadata": {},
     "output_type": "execute_result"
    }
   ],
   "source": [
    "volume.pop(9)"
   ]
  },
  {
   "cell_type": "code",
   "execution_count": 214,
   "id": "fd068279",
   "metadata": {},
   "outputs": [
    {
     "data": {
      "text/plain": [
       "'10'"
      ]
     },
     "execution_count": 214,
     "metadata": {},
     "output_type": "execute_result"
    }
   ],
   "source": [
    "volume.pop(9)"
   ]
  },
  {
   "cell_type": "code",
   "execution_count": 215,
   "id": "e382b0c8",
   "metadata": {},
   "outputs": [
    {
     "data": {
      "text/plain": [
       "\"Harry Potter and the Half-blood Prince:Children's Edition\""
      ]
     },
     "execution_count": 215,
     "metadata": {},
     "output_type": "execute_result"
    }
   ],
   "source": [
    "volume.pop(9)"
   ]
  },
  {
   "cell_type": "code",
   "execution_count": 216,
   "id": "bfa6b98c",
   "metadata": {},
   "outputs": [
    {
     "data": {
      "text/plain": [
       "'Rowling, J.K.'"
      ]
     },
     "execution_count": 216,
     "metadata": {},
     "output_type": "execute_result"
    }
   ],
   "source": [
    "volume.pop(9)"
   ]
  },
  {
   "cell_type": "code",
   "execution_count": 217,
   "id": "740b6074",
   "metadata": {},
   "outputs": [
    {
     "data": {
      "text/plain": [
       "'Bloomsbury'"
      ]
     },
     "execution_count": 217,
     "metadata": {},
     "output_type": "execute_result"
    }
   ],
   "source": [
    "volume.pop(10)"
   ]
  },
  {
   "cell_type": "code",
   "execution_count": 218,
   "id": "a16e3052",
   "metadata": {},
   "outputs": [
    {
     "data": {
      "text/plain": [
       "'11'"
      ]
     },
     "execution_count": 218,
     "metadata": {},
     "output_type": "execute_result"
    }
   ],
   "source": [
    "volume.pop(10)"
   ]
  },
  {
   "cell_type": "code",
   "execution_count": 219,
   "id": "eb1560c0",
   "metadata": {},
   "outputs": [
    {
     "data": {
      "text/plain": [
       "'Fifty Shades Darker'"
      ]
     },
     "execution_count": 219,
     "metadata": {},
     "output_type": "execute_result"
    }
   ],
   "source": [
    "volume.pop(10)"
   ]
  },
  {
   "cell_type": "code",
   "execution_count": 220,
   "id": "54995b8b",
   "metadata": {},
   "outputs": [
    {
     "data": {
      "text/plain": [
       "'James, E. L.'"
      ]
     },
     "execution_count": 220,
     "metadata": {},
     "output_type": "execute_result"
    }
   ],
   "source": [
    "volume.pop(10)"
   ]
  },
  {
   "cell_type": "code",
   "execution_count": 221,
   "id": "1293e484",
   "metadata": {},
   "outputs": [
    {
     "data": {
      "text/plain": [
       "'Random House'"
      ]
     },
     "execution_count": 221,
     "metadata": {},
     "output_type": "execute_result"
    }
   ],
   "source": [
    "volume.pop(11)"
   ]
  },
  {
   "cell_type": "code",
   "execution_count": 222,
   "id": "9dc265b9",
   "metadata": {},
   "outputs": [
    {
     "data": {
      "text/plain": [
       "'12'"
      ]
     },
     "execution_count": 222,
     "metadata": {},
     "output_type": "execute_result"
    }
   ],
   "source": [
    "volume.pop(11)"
   ]
  },
  {
   "cell_type": "code",
   "execution_count": 223,
   "id": "9fc3906a",
   "metadata": {},
   "outputs": [
    {
     "data": {
      "text/plain": [
       "'Twilight'"
      ]
     },
     "execution_count": 223,
     "metadata": {},
     "output_type": "execute_result"
    }
   ],
   "source": [
    "volume.pop(11)"
   ]
  },
  {
   "cell_type": "code",
   "execution_count": 224,
   "id": "69eb7c17",
   "metadata": {},
   "outputs": [
    {
     "data": {
      "text/plain": [
       "'Meyer, Stephenie'"
      ]
     },
     "execution_count": 224,
     "metadata": {},
     "output_type": "execute_result"
    }
   ],
   "source": [
    "volume.pop(11)"
   ]
  },
  {
   "cell_type": "code",
   "execution_count": 225,
   "id": "46f7a719",
   "metadata": {},
   "outputs": [
    {
     "data": {
      "text/plain": [
       "'Little, Brown Book'"
      ]
     },
     "execution_count": 225,
     "metadata": {},
     "output_type": "execute_result"
    }
   ],
   "source": [
    "volume.pop(12)"
   ]
  },
  {
   "cell_type": "code",
   "execution_count": 226,
   "id": "424511d8",
   "metadata": {},
   "outputs": [
    {
     "data": {
      "text/plain": [
       "'13'"
      ]
     },
     "execution_count": 226,
     "metadata": {},
     "output_type": "execute_result"
    }
   ],
   "source": [
    "volume.pop(12)"
   ]
  },
  {
   "cell_type": "code",
   "execution_count": 227,
   "id": "9cccfceb",
   "metadata": {},
   "outputs": [
    {
     "data": {
      "text/plain": [
       "'Girl with the Dragon Tattoo,The:Millennium Trilogy'"
      ]
     },
     "execution_count": 227,
     "metadata": {},
     "output_type": "execute_result"
    }
   ],
   "source": [
    "volume.pop(12)"
   ]
  },
  {
   "cell_type": "code",
   "execution_count": 228,
   "id": "dfb65c3a",
   "metadata": {},
   "outputs": [
    {
     "data": {
      "text/plain": [
       "'Larsson, Stieg'"
      ]
     },
     "execution_count": 228,
     "metadata": {},
     "output_type": "execute_result"
    }
   ],
   "source": [
    "volume.pop(12)"
   ]
  },
  {
   "cell_type": "code",
   "execution_count": 229,
   "id": "08dd9e59",
   "metadata": {},
   "outputs": [
    {
     "data": {
      "text/plain": [
       "'Quercus'"
      ]
     },
     "execution_count": 229,
     "metadata": {},
     "output_type": "execute_result"
    }
   ],
   "source": [
    "volume.pop(13)"
   ]
  },
  {
   "cell_type": "code",
   "execution_count": 230,
   "id": "304b726c",
   "metadata": {},
   "outputs": [
    {
     "data": {
      "text/plain": [
       "'14'"
      ]
     },
     "execution_count": 230,
     "metadata": {},
     "output_type": "execute_result"
    }
   ],
   "source": [
    "volume.pop(13)"
   ]
  },
  {
   "cell_type": "code",
   "execution_count": 231,
   "id": "901f4b0b",
   "metadata": {},
   "outputs": [
    {
     "data": {
      "text/plain": [
       "'Fifty Shades Freed'"
      ]
     },
     "execution_count": 231,
     "metadata": {},
     "output_type": "execute_result"
    }
   ],
   "source": [
    "volume.pop(13)"
   ]
  },
  {
   "cell_type": "code",
   "execution_count": 232,
   "id": "7212a630",
   "metadata": {},
   "outputs": [
    {
     "data": {
      "text/plain": [
       "'James, E. L.'"
      ]
     },
     "execution_count": 232,
     "metadata": {},
     "output_type": "execute_result"
    }
   ],
   "source": [
    "volume.pop(13)"
   ]
  },
  {
   "cell_type": "code",
   "execution_count": 233,
   "id": "ecfa00e2",
   "metadata": {},
   "outputs": [
    {
     "data": {
      "text/plain": [
       "'Random House'"
      ]
     },
     "execution_count": 233,
     "metadata": {},
     "output_type": "execute_result"
    }
   ],
   "source": [
    "volume.pop(14)"
   ]
  },
  {
   "cell_type": "code",
   "execution_count": 234,
   "id": "5e7ca437",
   "metadata": {},
   "outputs": [
    {
     "data": {
      "text/plain": [
       "'15'"
      ]
     },
     "execution_count": 234,
     "metadata": {},
     "output_type": "execute_result"
    }
   ],
   "source": [
    "volume.pop(14)"
   ]
  },
  {
   "cell_type": "code",
   "execution_count": 235,
   "id": "dc5a7fd7",
   "metadata": {},
   "outputs": [
    {
     "data": {
      "text/plain": [
       "'Lost Symbol,The'"
      ]
     },
     "execution_count": 235,
     "metadata": {},
     "output_type": "execute_result"
    }
   ],
   "source": [
    "volume.pop(14)"
   ]
  },
  {
   "cell_type": "code",
   "execution_count": 236,
   "id": "ab6cf63f",
   "metadata": {},
   "outputs": [
    {
     "data": {
      "text/plain": [
       "'Brown, Dan'"
      ]
     },
     "execution_count": 236,
     "metadata": {},
     "output_type": "execute_result"
    }
   ],
   "source": [
    "volume.pop(14)"
   ]
  },
  {
   "cell_type": "code",
   "execution_count": 237,
   "id": "4ccb41b9",
   "metadata": {},
   "outputs": [
    {
     "data": {
      "text/plain": [
       "'Transworld'"
      ]
     },
     "execution_count": 237,
     "metadata": {},
     "output_type": "execute_result"
    }
   ],
   "source": [
    "volume.pop(15)"
   ]
  },
  {
   "cell_type": "code",
   "execution_count": 238,
   "id": "670fe91d",
   "metadata": {},
   "outputs": [
    {
     "data": {
      "text/plain": [
       "'16'"
      ]
     },
     "execution_count": 238,
     "metadata": {},
     "output_type": "execute_result"
    }
   ],
   "source": [
    "volume.pop(15)"
   ]
  },
  {
   "cell_type": "code",
   "execution_count": 239,
   "id": "419916b0",
   "metadata": {},
   "outputs": [
    {
     "data": {
      "text/plain": [
       "'New Moon'"
      ]
     },
     "execution_count": 239,
     "metadata": {},
     "output_type": "execute_result"
    }
   ],
   "source": [
    "volume.pop(15)"
   ]
  },
  {
   "cell_type": "code",
   "execution_count": 240,
   "id": "7c0f9d8c",
   "metadata": {},
   "outputs": [
    {
     "data": {
      "text/plain": [
       "'Meyer, Stephenie'"
      ]
     },
     "execution_count": 240,
     "metadata": {},
     "output_type": "execute_result"
    }
   ],
   "source": [
    "volume.pop(15)"
   ]
  },
  {
   "cell_type": "code",
   "execution_count": 241,
   "id": "9abde78e",
   "metadata": {},
   "outputs": [
    {
     "data": {
      "text/plain": [
       "'Little, Brown Book'"
      ]
     },
     "execution_count": 241,
     "metadata": {},
     "output_type": "execute_result"
    }
   ],
   "source": [
    "volume.pop(16)"
   ]
  },
  {
   "cell_type": "code",
   "execution_count": 242,
   "id": "5e1e45c7",
   "metadata": {},
   "outputs": [
    {
     "data": {
      "text/plain": [
       "'17'"
      ]
     },
     "execution_count": 242,
     "metadata": {},
     "output_type": "execute_result"
    }
   ],
   "source": [
    "volume.pop(16)"
   ]
  },
  {
   "cell_type": "code",
   "execution_count": 243,
   "id": "f06aff1a",
   "metadata": {},
   "outputs": [
    {
     "data": {
      "text/plain": [
       "'Deception Point'"
      ]
     },
     "execution_count": 243,
     "metadata": {},
     "output_type": "execute_result"
    }
   ],
   "source": [
    "volume.pop(16)"
   ]
  },
  {
   "cell_type": "code",
   "execution_count": 244,
   "id": "56a41cf4",
   "metadata": {},
   "outputs": [
    {
     "data": {
      "text/plain": [
       "'Brown, Dan'"
      ]
     },
     "execution_count": 244,
     "metadata": {},
     "output_type": "execute_result"
    }
   ],
   "source": [
    "volume.pop(16)"
   ]
  },
  {
   "cell_type": "code",
   "execution_count": 245,
   "id": "e6fe4e01",
   "metadata": {},
   "outputs": [
    {
     "data": {
      "text/plain": [
       "'Transworld'"
      ]
     },
     "execution_count": 245,
     "metadata": {},
     "output_type": "execute_result"
    }
   ],
   "source": [
    "volume.pop(17)"
   ]
  },
  {
   "cell_type": "code",
   "execution_count": 246,
   "id": "71361a09",
   "metadata": {},
   "outputs": [
    {
     "data": {
      "text/plain": [
       "'18'"
      ]
     },
     "execution_count": 246,
     "metadata": {},
     "output_type": "execute_result"
    }
   ],
   "source": [
    "volume.pop(17)"
   ]
  },
  {
   "cell_type": "code",
   "execution_count": 247,
   "id": "b84006a9",
   "metadata": {},
   "outputs": [
    {
     "data": {
      "text/plain": [
       "'Eclipse'"
      ]
     },
     "execution_count": 247,
     "metadata": {},
     "output_type": "execute_result"
    }
   ],
   "source": [
    "volume.pop(17)"
   ]
  },
  {
   "cell_type": "code",
   "execution_count": 248,
   "id": "fce7ff36",
   "metadata": {},
   "outputs": [
    {
     "data": {
      "text/plain": [
       "'Meyer, Stephenie'"
      ]
     },
     "execution_count": 248,
     "metadata": {},
     "output_type": "execute_result"
    }
   ],
   "source": [
    "volume.pop(17)"
   ]
  },
  {
   "cell_type": "code",
   "execution_count": 249,
   "id": "ce76e38d",
   "metadata": {},
   "outputs": [
    {
     "data": {
      "text/plain": [
       "'Little, Brown Book'"
      ]
     },
     "execution_count": 249,
     "metadata": {},
     "output_type": "execute_result"
    }
   ],
   "source": [
    "volume.pop(18)"
   ]
  },
  {
   "cell_type": "code",
   "execution_count": 250,
   "id": "64175443",
   "metadata": {},
   "outputs": [
    {
     "data": {
      "text/plain": [
       "'19'"
      ]
     },
     "execution_count": 250,
     "metadata": {},
     "output_type": "execute_result"
    }
   ],
   "source": [
    "volume.pop(18)"
   ]
  },
  {
   "cell_type": "code",
   "execution_count": 251,
   "id": "4682fb8b",
   "metadata": {},
   "outputs": [
    {
     "data": {
      "text/plain": [
       "'Lovely Bones,The'"
      ]
     },
     "execution_count": 251,
     "metadata": {},
     "output_type": "execute_result"
    }
   ],
   "source": [
    "volume.pop(18)"
   ]
  },
  {
   "cell_type": "code",
   "execution_count": 252,
   "id": "b744e642",
   "metadata": {},
   "outputs": [
    {
     "data": {
      "text/plain": [
       "'Sebold, Alice'"
      ]
     },
     "execution_count": 252,
     "metadata": {},
     "output_type": "execute_result"
    }
   ],
   "source": [
    "volume.pop(18)"
   ]
  },
  {
   "cell_type": "code",
   "execution_count": 253,
   "id": "85c31c29",
   "metadata": {},
   "outputs": [
    {
     "data": {
      "text/plain": [
       "'Pan Macmillan'"
      ]
     },
     "execution_count": 253,
     "metadata": {},
     "output_type": "execute_result"
    }
   ],
   "source": [
    "volume.pop(19)"
   ]
  },
  {
   "cell_type": "code",
   "execution_count": 254,
   "id": "ba4e79c7",
   "metadata": {},
   "outputs": [
    {
     "data": {
      "text/plain": [
       "'20'"
      ]
     },
     "execution_count": 254,
     "metadata": {},
     "output_type": "execute_result"
    }
   ],
   "source": [
    "volume.pop(19)"
   ]
  },
  {
   "cell_type": "code",
   "execution_count": 255,
   "id": "61e6b03c",
   "metadata": {},
   "outputs": [
    {
     "data": {
      "text/plain": [
       "'Curious Incident of the Dog in the Night-time,The'"
      ]
     },
     "execution_count": 255,
     "metadata": {},
     "output_type": "execute_result"
    }
   ],
   "source": [
    "volume.pop(19)"
   ]
  },
  {
   "cell_type": "code",
   "execution_count": 256,
   "id": "36bcd59b",
   "metadata": {},
   "outputs": [
    {
     "data": {
      "text/plain": [
       "'Haddon, Mark'"
      ]
     },
     "execution_count": 256,
     "metadata": {},
     "output_type": "execute_result"
    }
   ],
   "source": [
    "volume.pop(19)"
   ]
  },
  {
   "cell_type": "code",
   "execution_count": 257,
   "id": "de7ae0b0",
   "metadata": {},
   "outputs": [
    {
     "data": {
      "text/plain": [
       "'Random House'"
      ]
     },
     "execution_count": 257,
     "metadata": {},
     "output_type": "execute_result"
    }
   ],
   "source": [
    "volume.pop(20)"
   ]
  },
  {
   "cell_type": "code",
   "execution_count": 258,
   "id": "4c96cfb9",
   "metadata": {},
   "outputs": [
    {
     "data": {
      "text/plain": [
       "'21'"
      ]
     },
     "execution_count": 258,
     "metadata": {},
     "output_type": "execute_result"
    }
   ],
   "source": [
    "volume.pop(20)"
   ]
  },
  {
   "cell_type": "code",
   "execution_count": 259,
   "id": "4d4a742f",
   "metadata": {},
   "outputs": [
    {
     "data": {
      "text/plain": [
       "'Digital Fortress'"
      ]
     },
     "execution_count": 259,
     "metadata": {},
     "output_type": "execute_result"
    }
   ],
   "source": [
    "volume.pop(20)"
   ]
  },
  {
   "cell_type": "code",
   "execution_count": 260,
   "id": "5a41154b",
   "metadata": {},
   "outputs": [
    {
     "data": {
      "text/plain": [
       "['5,094,805',\n",
       " '4,475,152',\n",
       " '4,200,654',\n",
       " '4,179,479',\n",
       " '3,758,936',\n",
       " '3,583,215',\n",
       " '3,484,047',\n",
       " '3,377,906',\n",
       " '3,193,946',\n",
       " '2,950,264',\n",
       " '2,479,784',\n",
       " '2,315,405',\n",
       " '2,233,570',\n",
       " '2,193,928',\n",
       " '2,183,031',\n",
       " '2,152,737',\n",
       " '2,062,145',\n",
       " '2,052,876',\n",
       " '2,005,598',\n",
       " '1,979,552']"
      ]
     },
     "execution_count": 260,
     "metadata": {},
     "output_type": "execute_result"
    }
   ],
   "source": [
    "volume[0:20]"
   ]
  },
  {
   "cell_type": "code",
   "execution_count": 261,
   "id": "a708dbd5",
   "metadata": {},
   "outputs": [],
   "source": [
    "publisher=[]"
   ]
  },
  {
   "cell_type": "code",
   "execution_count": 262,
   "id": "7500195e",
   "metadata": {},
   "outputs": [
    {
     "name": "stderr",
     "output_type": "stream",
     "text": [
      "C:\\Users\\hamsa\\AppData\\Local\\Temp/ipykernel_19328/488239590.py:1: DeprecationWarning: find_elements_by_xpath is deprecated. Please use find_elements(by=By.XPATH, value=xpath) instead\n",
      "  publisher_tags=browser.find_elements_by_xpath(\"//td[@class='left']\")\n"
     ]
    }
   ],
   "source": [
    "publisher_tags=browser.find_elements_by_xpath(\"//td[@class='left']\")\n",
    "for i in publisher_tags:\n",
    "    if i.text is None :\n",
    "        publisher.append(\"no rating\") \n",
    "    else:\n",
    "        publisher.append(i.text)"
   ]
  },
  {
   "cell_type": "code",
   "execution_count": 263,
   "id": "42ac3955",
   "metadata": {},
   "outputs": [
    {
     "data": {
      "text/plain": [
       "'1'"
      ]
     },
     "execution_count": 263,
     "metadata": {},
     "output_type": "execute_result"
    }
   ],
   "source": [
    "publisher.pop(0)"
   ]
  },
  {
   "cell_type": "code",
   "execution_count": 264,
   "id": "29d178cb",
   "metadata": {},
   "outputs": [
    {
     "data": {
      "text/plain": [
       "'Da Vinci Code,The'"
      ]
     },
     "execution_count": 264,
     "metadata": {},
     "output_type": "execute_result"
    }
   ],
   "source": [
    "publisher.pop(0)"
   ]
  },
  {
   "cell_type": "code",
   "execution_count": 265,
   "id": "09afea77",
   "metadata": {},
   "outputs": [
    {
     "data": {
      "text/plain": [
       "'Brown, Dan'"
      ]
     },
     "execution_count": 265,
     "metadata": {},
     "output_type": "execute_result"
    }
   ],
   "source": [
    "publisher.pop(0)"
   ]
  },
  {
   "cell_type": "code",
   "execution_count": 266,
   "id": "b0582580",
   "metadata": {},
   "outputs": [
    {
     "data": {
      "text/plain": [
       "'5,094,805'"
      ]
     },
     "execution_count": 266,
     "metadata": {},
     "output_type": "execute_result"
    }
   ],
   "source": [
    "publisher.pop(0)"
   ]
  },
  {
   "cell_type": "code",
   "execution_count": 267,
   "id": "3c701dea",
   "metadata": {},
   "outputs": [
    {
     "data": {
      "text/plain": [
       "'2'"
      ]
     },
     "execution_count": 267,
     "metadata": {},
     "output_type": "execute_result"
    }
   ],
   "source": [
    "publisher.pop(1)"
   ]
  },
  {
   "cell_type": "code",
   "execution_count": 268,
   "id": "b9b65bf4",
   "metadata": {},
   "outputs": [
    {
     "data": {
      "text/plain": [
       "'Harry Potter and the Deathly Hallows'"
      ]
     },
     "execution_count": 268,
     "metadata": {},
     "output_type": "execute_result"
    }
   ],
   "source": [
    "publisher.pop(1)"
   ]
  },
  {
   "cell_type": "code",
   "execution_count": 269,
   "id": "19cd3904",
   "metadata": {},
   "outputs": [
    {
     "data": {
      "text/plain": [
       "'Rowling, J.K.'"
      ]
     },
     "execution_count": 269,
     "metadata": {},
     "output_type": "execute_result"
    }
   ],
   "source": [
    "publisher.pop(1)"
   ]
  },
  {
   "cell_type": "code",
   "execution_count": 270,
   "id": "e1cd8852",
   "metadata": {},
   "outputs": [
    {
     "data": {
      "text/plain": [
       "'4,475,152'"
      ]
     },
     "execution_count": 270,
     "metadata": {},
     "output_type": "execute_result"
    }
   ],
   "source": [
    "publisher.pop(1)"
   ]
  },
  {
   "cell_type": "code",
   "execution_count": 271,
   "id": "df214a68",
   "metadata": {},
   "outputs": [
    {
     "data": {
      "text/plain": [
       "'3'"
      ]
     },
     "execution_count": 271,
     "metadata": {},
     "output_type": "execute_result"
    }
   ],
   "source": [
    "publisher.pop(2)"
   ]
  },
  {
   "cell_type": "code",
   "execution_count": 272,
   "id": "f0dd956d",
   "metadata": {},
   "outputs": [
    {
     "data": {
      "text/plain": [
       "\"Harry Potter and the Philosopher's Stone\""
      ]
     },
     "execution_count": 272,
     "metadata": {},
     "output_type": "execute_result"
    }
   ],
   "source": [
    "publisher.pop(2)"
   ]
  },
  {
   "cell_type": "code",
   "execution_count": 273,
   "id": "01dd19c1",
   "metadata": {},
   "outputs": [
    {
     "data": {
      "text/plain": [
       "'Rowling, J.K.'"
      ]
     },
     "execution_count": 273,
     "metadata": {},
     "output_type": "execute_result"
    }
   ],
   "source": [
    "publisher.pop(2)"
   ]
  },
  {
   "cell_type": "code",
   "execution_count": 274,
   "id": "bd303332",
   "metadata": {},
   "outputs": [
    {
     "data": {
      "text/plain": [
       "'4,200,654'"
      ]
     },
     "execution_count": 274,
     "metadata": {},
     "output_type": "execute_result"
    }
   ],
   "source": [
    "publisher.pop(2)"
   ]
  },
  {
   "cell_type": "code",
   "execution_count": 275,
   "id": "30815e70",
   "metadata": {},
   "outputs": [
    {
     "data": {
      "text/plain": [
       "'4'"
      ]
     },
     "execution_count": 275,
     "metadata": {},
     "output_type": "execute_result"
    }
   ],
   "source": [
    "publisher.pop(3)"
   ]
  },
  {
   "cell_type": "code",
   "execution_count": 276,
   "id": "660122ee",
   "metadata": {},
   "outputs": [
    {
     "data": {
      "text/plain": [
       "'Harry Potter and the Order of the Phoenix'"
      ]
     },
     "execution_count": 276,
     "metadata": {},
     "output_type": "execute_result"
    }
   ],
   "source": [
    "publisher.pop(3)"
   ]
  },
  {
   "cell_type": "code",
   "execution_count": 277,
   "id": "1ff662cc",
   "metadata": {},
   "outputs": [
    {
     "data": {
      "text/plain": [
       "'Rowling, J.K.'"
      ]
     },
     "execution_count": 277,
     "metadata": {},
     "output_type": "execute_result"
    }
   ],
   "source": [
    "publisher.pop(3)"
   ]
  },
  {
   "cell_type": "code",
   "execution_count": 278,
   "id": "c54fd283",
   "metadata": {},
   "outputs": [
    {
     "data": {
      "text/plain": [
       "'4,179,479'"
      ]
     },
     "execution_count": 278,
     "metadata": {},
     "output_type": "execute_result"
    }
   ],
   "source": [
    "publisher.pop(3)"
   ]
  },
  {
   "cell_type": "code",
   "execution_count": 279,
   "id": "a439ca58",
   "metadata": {},
   "outputs": [
    {
     "data": {
      "text/plain": [
       "'5'"
      ]
     },
     "execution_count": 279,
     "metadata": {},
     "output_type": "execute_result"
    }
   ],
   "source": [
    "publisher.pop(4)"
   ]
  },
  {
   "cell_type": "code",
   "execution_count": 280,
   "id": "fef322ca",
   "metadata": {},
   "outputs": [
    {
     "data": {
      "text/plain": [
       "'Fifty Shades of Grey'"
      ]
     },
     "execution_count": 280,
     "metadata": {},
     "output_type": "execute_result"
    }
   ],
   "source": [
    "publisher.pop(4)"
   ]
  },
  {
   "cell_type": "code",
   "execution_count": 281,
   "id": "26adb995",
   "metadata": {},
   "outputs": [
    {
     "data": {
      "text/plain": [
       "'James, E. L.'"
      ]
     },
     "execution_count": 281,
     "metadata": {},
     "output_type": "execute_result"
    }
   ],
   "source": [
    "publisher.pop(4)"
   ]
  },
  {
   "cell_type": "code",
   "execution_count": 282,
   "id": "eb89816c",
   "metadata": {},
   "outputs": [
    {
     "data": {
      "text/plain": [
       "'3,758,936'"
      ]
     },
     "execution_count": 282,
     "metadata": {},
     "output_type": "execute_result"
    }
   ],
   "source": [
    "publisher.pop(4)"
   ]
  },
  {
   "cell_type": "code",
   "execution_count": 283,
   "id": "e80da69f",
   "metadata": {},
   "outputs": [
    {
     "data": {
      "text/plain": [
       "'6'"
      ]
     },
     "execution_count": 283,
     "metadata": {},
     "output_type": "execute_result"
    }
   ],
   "source": [
    "publisher.pop(5)"
   ]
  },
  {
   "cell_type": "code",
   "execution_count": 284,
   "id": "860fdf73",
   "metadata": {},
   "outputs": [
    {
     "data": {
      "text/plain": [
       "'Harry Potter and the Goblet of Fire'"
      ]
     },
     "execution_count": 284,
     "metadata": {},
     "output_type": "execute_result"
    }
   ],
   "source": [
    "publisher.pop(5)"
   ]
  },
  {
   "cell_type": "code",
   "execution_count": 285,
   "id": "59208c5f",
   "metadata": {},
   "outputs": [
    {
     "data": {
      "text/plain": [
       "'Rowling, J.K.'"
      ]
     },
     "execution_count": 285,
     "metadata": {},
     "output_type": "execute_result"
    }
   ],
   "source": [
    "publisher.pop(5)"
   ]
  },
  {
   "cell_type": "code",
   "execution_count": 286,
   "id": "ad1da659",
   "metadata": {},
   "outputs": [
    {
     "data": {
      "text/plain": [
       "'3,583,215'"
      ]
     },
     "execution_count": 286,
     "metadata": {},
     "output_type": "execute_result"
    }
   ],
   "source": [
    "publisher.pop(5)"
   ]
  },
  {
   "cell_type": "code",
   "execution_count": 287,
   "id": "2e7d826b",
   "metadata": {},
   "outputs": [
    {
     "data": {
      "text/plain": [
       "'7'"
      ]
     },
     "execution_count": 287,
     "metadata": {},
     "output_type": "execute_result"
    }
   ],
   "source": [
    "publisher.pop(6)"
   ]
  },
  {
   "cell_type": "code",
   "execution_count": 288,
   "id": "b55a5043",
   "metadata": {},
   "outputs": [
    {
     "data": {
      "text/plain": [
       "'Harry Potter and the Chamber of Secrets'"
      ]
     },
     "execution_count": 288,
     "metadata": {},
     "output_type": "execute_result"
    }
   ],
   "source": [
    "publisher.pop(6)"
   ]
  },
  {
   "cell_type": "code",
   "execution_count": 289,
   "id": "e0cca895",
   "metadata": {},
   "outputs": [
    {
     "data": {
      "text/plain": [
       "'Rowling, J.K.'"
      ]
     },
     "execution_count": 289,
     "metadata": {},
     "output_type": "execute_result"
    }
   ],
   "source": [
    "publisher.pop(6)"
   ]
  },
  {
   "cell_type": "code",
   "execution_count": 290,
   "id": "3eefc8cc",
   "metadata": {},
   "outputs": [
    {
     "data": {
      "text/plain": [
       "'3,484,047'"
      ]
     },
     "execution_count": 290,
     "metadata": {},
     "output_type": "execute_result"
    }
   ],
   "source": [
    "publisher.pop(6)"
   ]
  },
  {
   "cell_type": "code",
   "execution_count": 291,
   "id": "2186aaf6",
   "metadata": {},
   "outputs": [
    {
     "data": {
      "text/plain": [
       "'8'"
      ]
     },
     "execution_count": 291,
     "metadata": {},
     "output_type": "execute_result"
    }
   ],
   "source": [
    "publisher.pop(7)"
   ]
  },
  {
   "cell_type": "code",
   "execution_count": 292,
   "id": "ebaaedbd",
   "metadata": {},
   "outputs": [
    {
     "data": {
      "text/plain": [
       "'Harry Potter and the Prisoner of Azkaban'"
      ]
     },
     "execution_count": 292,
     "metadata": {},
     "output_type": "execute_result"
    }
   ],
   "source": [
    "publisher.pop(7)"
   ]
  },
  {
   "cell_type": "code",
   "execution_count": 293,
   "id": "0bd216f1",
   "metadata": {},
   "outputs": [
    {
     "data": {
      "text/plain": [
       "'Rowling, J.K.'"
      ]
     },
     "execution_count": 293,
     "metadata": {},
     "output_type": "execute_result"
    }
   ],
   "source": [
    "publisher.pop(7)"
   ]
  },
  {
   "cell_type": "code",
   "execution_count": 294,
   "id": "ee619a93",
   "metadata": {},
   "outputs": [
    {
     "data": {
      "text/plain": [
       "'3,377,906'"
      ]
     },
     "execution_count": 294,
     "metadata": {},
     "output_type": "execute_result"
    }
   ],
   "source": [
    "publisher.pop(7)"
   ]
  },
  {
   "cell_type": "code",
   "execution_count": 295,
   "id": "163e2083",
   "metadata": {},
   "outputs": [
    {
     "data": {
      "text/plain": [
       "'9'"
      ]
     },
     "execution_count": 295,
     "metadata": {},
     "output_type": "execute_result"
    }
   ],
   "source": [
    "publisher.pop(8)\n"
   ]
  },
  {
   "cell_type": "code",
   "execution_count": 296,
   "id": "3ba3cbd2",
   "metadata": {},
   "outputs": [
    {
     "data": {
      "text/plain": [
       "'Angels and Demons'"
      ]
     },
     "execution_count": 296,
     "metadata": {},
     "output_type": "execute_result"
    }
   ],
   "source": [
    "publisher.pop(8)\n"
   ]
  },
  {
   "cell_type": "code",
   "execution_count": 297,
   "id": "d17acc58",
   "metadata": {},
   "outputs": [
    {
     "data": {
      "text/plain": [
       "'Brown, Dan'"
      ]
     },
     "execution_count": 297,
     "metadata": {},
     "output_type": "execute_result"
    }
   ],
   "source": [
    "publisher.pop(8)\n"
   ]
  },
  {
   "cell_type": "code",
   "execution_count": 298,
   "id": "34a89915",
   "metadata": {},
   "outputs": [
    {
     "data": {
      "text/plain": [
       "'3,193,946'"
      ]
     },
     "execution_count": 298,
     "metadata": {},
     "output_type": "execute_result"
    }
   ],
   "source": [
    "publisher.pop(8)\n"
   ]
  },
  {
   "cell_type": "code",
   "execution_count": 299,
   "id": "0a562da7",
   "metadata": {},
   "outputs": [
    {
     "data": {
      "text/plain": [
       "'10'"
      ]
     },
     "execution_count": 299,
     "metadata": {},
     "output_type": "execute_result"
    }
   ],
   "source": [
    "publisher.pop(9)"
   ]
  },
  {
   "cell_type": "code",
   "execution_count": 300,
   "id": "44e694d6",
   "metadata": {},
   "outputs": [
    {
     "data": {
      "text/plain": [
       "\"Harry Potter and the Half-blood Prince:Children's Edition\""
      ]
     },
     "execution_count": 300,
     "metadata": {},
     "output_type": "execute_result"
    }
   ],
   "source": [
    "publisher.pop(9)"
   ]
  },
  {
   "cell_type": "code",
   "execution_count": 301,
   "id": "b2b85fb4",
   "metadata": {},
   "outputs": [
    {
     "data": {
      "text/plain": [
       "'Rowling, J.K.'"
      ]
     },
     "execution_count": 301,
     "metadata": {},
     "output_type": "execute_result"
    }
   ],
   "source": [
    "publisher.pop(9)"
   ]
  },
  {
   "cell_type": "code",
   "execution_count": 302,
   "id": "39dc018f",
   "metadata": {},
   "outputs": [
    {
     "data": {
      "text/plain": [
       "'2,950,264'"
      ]
     },
     "execution_count": 302,
     "metadata": {},
     "output_type": "execute_result"
    }
   ],
   "source": [
    "publisher.pop(9)"
   ]
  },
  {
   "cell_type": "code",
   "execution_count": 303,
   "id": "3e7eae85",
   "metadata": {},
   "outputs": [
    {
     "data": {
      "text/plain": [
       "'11'"
      ]
     },
     "execution_count": 303,
     "metadata": {},
     "output_type": "execute_result"
    }
   ],
   "source": [
    "publisher.pop(10)\n"
   ]
  },
  {
   "cell_type": "code",
   "execution_count": 304,
   "id": "9ae0aaa5",
   "metadata": {},
   "outputs": [
    {
     "data": {
      "text/plain": [
       "'Fifty Shades Darker'"
      ]
     },
     "execution_count": 304,
     "metadata": {},
     "output_type": "execute_result"
    }
   ],
   "source": [
    "publisher.pop(10)\n"
   ]
  },
  {
   "cell_type": "code",
   "execution_count": 305,
   "id": "89394b3a",
   "metadata": {},
   "outputs": [
    {
     "data": {
      "text/plain": [
       "'James, E. L.'"
      ]
     },
     "execution_count": 305,
     "metadata": {},
     "output_type": "execute_result"
    }
   ],
   "source": [
    "publisher.pop(10)\n"
   ]
  },
  {
   "cell_type": "code",
   "execution_count": 306,
   "id": "aa7c0966",
   "metadata": {},
   "outputs": [
    {
     "data": {
      "text/plain": [
       "'2,479,784'"
      ]
     },
     "execution_count": 306,
     "metadata": {},
     "output_type": "execute_result"
    }
   ],
   "source": [
    "publisher.pop(10)\n"
   ]
  },
  {
   "cell_type": "code",
   "execution_count": 307,
   "id": "f58e3f2c",
   "metadata": {},
   "outputs": [
    {
     "data": {
      "text/plain": [
       "'12'"
      ]
     },
     "execution_count": 307,
     "metadata": {},
     "output_type": "execute_result"
    }
   ],
   "source": [
    "publisher.pop(11)\n"
   ]
  },
  {
   "cell_type": "code",
   "execution_count": 308,
   "id": "a3cda399",
   "metadata": {},
   "outputs": [
    {
     "data": {
      "text/plain": [
       "'Twilight'"
      ]
     },
     "execution_count": 308,
     "metadata": {},
     "output_type": "execute_result"
    }
   ],
   "source": [
    "publisher.pop(11)\n"
   ]
  },
  {
   "cell_type": "code",
   "execution_count": 309,
   "id": "29091cbb",
   "metadata": {},
   "outputs": [
    {
     "data": {
      "text/plain": [
       "'Meyer, Stephenie'"
      ]
     },
     "execution_count": 309,
     "metadata": {},
     "output_type": "execute_result"
    }
   ],
   "source": [
    "publisher.pop(11)\n"
   ]
  },
  {
   "cell_type": "code",
   "execution_count": 310,
   "id": "e11e58f6",
   "metadata": {},
   "outputs": [
    {
     "data": {
      "text/plain": [
       "'2,315,405'"
      ]
     },
     "execution_count": 310,
     "metadata": {},
     "output_type": "execute_result"
    }
   ],
   "source": [
    "publisher.pop(11)\n"
   ]
  },
  {
   "cell_type": "code",
   "execution_count": 311,
   "id": "8232db99",
   "metadata": {},
   "outputs": [
    {
     "data": {
      "text/plain": [
       "'13'"
      ]
     },
     "execution_count": 311,
     "metadata": {},
     "output_type": "execute_result"
    }
   ],
   "source": [
    "publisher.pop(12)"
   ]
  },
  {
   "cell_type": "code",
   "execution_count": 312,
   "id": "1e78d8f5",
   "metadata": {},
   "outputs": [
    {
     "data": {
      "text/plain": [
       "'Girl with the Dragon Tattoo,The:Millennium Trilogy'"
      ]
     },
     "execution_count": 312,
     "metadata": {},
     "output_type": "execute_result"
    }
   ],
   "source": [
    "publisher.pop(12)"
   ]
  },
  {
   "cell_type": "code",
   "execution_count": 313,
   "id": "eb9d15ae",
   "metadata": {},
   "outputs": [
    {
     "data": {
      "text/plain": [
       "'Larsson, Stieg'"
      ]
     },
     "execution_count": 313,
     "metadata": {},
     "output_type": "execute_result"
    }
   ],
   "source": [
    "publisher.pop(12)"
   ]
  },
  {
   "cell_type": "code",
   "execution_count": 314,
   "id": "9de53243",
   "metadata": {},
   "outputs": [
    {
     "data": {
      "text/plain": [
       "'2,233,570'"
      ]
     },
     "execution_count": 314,
     "metadata": {},
     "output_type": "execute_result"
    }
   ],
   "source": [
    "publisher.pop(12)"
   ]
  },
  {
   "cell_type": "code",
   "execution_count": 315,
   "id": "c7232741",
   "metadata": {},
   "outputs": [
    {
     "data": {
      "text/plain": [
       "'14'"
      ]
     },
     "execution_count": 315,
     "metadata": {},
     "output_type": "execute_result"
    }
   ],
   "source": [
    "publisher.pop(13)"
   ]
  },
  {
   "cell_type": "code",
   "execution_count": 316,
   "id": "fb13ecec",
   "metadata": {},
   "outputs": [
    {
     "data": {
      "text/plain": [
       "'Fifty Shades Freed'"
      ]
     },
     "execution_count": 316,
     "metadata": {},
     "output_type": "execute_result"
    }
   ],
   "source": [
    "publisher.pop(13)"
   ]
  },
  {
   "cell_type": "code",
   "execution_count": 317,
   "id": "0eafcc92",
   "metadata": {},
   "outputs": [
    {
     "data": {
      "text/plain": [
       "'James, E. L.'"
      ]
     },
     "execution_count": 317,
     "metadata": {},
     "output_type": "execute_result"
    }
   ],
   "source": [
    "publisher.pop(13)"
   ]
  },
  {
   "cell_type": "code",
   "execution_count": 318,
   "id": "ff2626b6",
   "metadata": {},
   "outputs": [
    {
     "data": {
      "text/plain": [
       "'2,193,928'"
      ]
     },
     "execution_count": 318,
     "metadata": {},
     "output_type": "execute_result"
    }
   ],
   "source": [
    "publisher.pop(13)"
   ]
  },
  {
   "cell_type": "code",
   "execution_count": 319,
   "id": "2223b2c0",
   "metadata": {},
   "outputs": [
    {
     "data": {
      "text/plain": [
       "'15'"
      ]
     },
     "execution_count": 319,
     "metadata": {},
     "output_type": "execute_result"
    }
   ],
   "source": [
    "publisher.pop(14)"
   ]
  },
  {
   "cell_type": "code",
   "execution_count": 320,
   "id": "56a75b36",
   "metadata": {},
   "outputs": [
    {
     "data": {
      "text/plain": [
       "'Lost Symbol,The'"
      ]
     },
     "execution_count": 320,
     "metadata": {},
     "output_type": "execute_result"
    }
   ],
   "source": [
    "publisher.pop(14)"
   ]
  },
  {
   "cell_type": "code",
   "execution_count": 321,
   "id": "d2a8d730",
   "metadata": {},
   "outputs": [
    {
     "data": {
      "text/plain": [
       "'Brown, Dan'"
      ]
     },
     "execution_count": 321,
     "metadata": {},
     "output_type": "execute_result"
    }
   ],
   "source": [
    "publisher.pop(14)"
   ]
  },
  {
   "cell_type": "code",
   "execution_count": 322,
   "id": "903fe9be",
   "metadata": {},
   "outputs": [
    {
     "data": {
      "text/plain": [
       "'2,183,031'"
      ]
     },
     "execution_count": 322,
     "metadata": {},
     "output_type": "execute_result"
    }
   ],
   "source": [
    "publisher.pop(14)"
   ]
  },
  {
   "cell_type": "code",
   "execution_count": 323,
   "id": "ea7ce065",
   "metadata": {},
   "outputs": [
    {
     "data": {
      "text/plain": [
       "'16'"
      ]
     },
     "execution_count": 323,
     "metadata": {},
     "output_type": "execute_result"
    }
   ],
   "source": [
    "publisher.pop(15)"
   ]
  },
  {
   "cell_type": "code",
   "execution_count": 324,
   "id": "d5e09652",
   "metadata": {},
   "outputs": [
    {
     "data": {
      "text/plain": [
       "'New Moon'"
      ]
     },
     "execution_count": 324,
     "metadata": {},
     "output_type": "execute_result"
    }
   ],
   "source": [
    "publisher.pop(15)"
   ]
  },
  {
   "cell_type": "code",
   "execution_count": 325,
   "id": "77a7ecb0",
   "metadata": {},
   "outputs": [
    {
     "data": {
      "text/plain": [
       "'Meyer, Stephenie'"
      ]
     },
     "execution_count": 325,
     "metadata": {},
     "output_type": "execute_result"
    }
   ],
   "source": [
    "publisher.pop(15)"
   ]
  },
  {
   "cell_type": "code",
   "execution_count": 326,
   "id": "d5ae1472",
   "metadata": {},
   "outputs": [
    {
     "data": {
      "text/plain": [
       "'2,152,737'"
      ]
     },
     "execution_count": 326,
     "metadata": {},
     "output_type": "execute_result"
    }
   ],
   "source": [
    "publisher.pop(15)"
   ]
  },
  {
   "cell_type": "code",
   "execution_count": 327,
   "id": "465b534e",
   "metadata": {},
   "outputs": [
    {
     "data": {
      "text/plain": [
       "'17'"
      ]
     },
     "execution_count": 327,
     "metadata": {},
     "output_type": "execute_result"
    }
   ],
   "source": [
    "publisher.pop(16)"
   ]
  },
  {
   "cell_type": "code",
   "execution_count": 328,
   "id": "6ec96d41",
   "metadata": {},
   "outputs": [
    {
     "data": {
      "text/plain": [
       "'Deception Point'"
      ]
     },
     "execution_count": 328,
     "metadata": {},
     "output_type": "execute_result"
    }
   ],
   "source": [
    "publisher.pop(16)"
   ]
  },
  {
   "cell_type": "code",
   "execution_count": 329,
   "id": "89dd4ebb",
   "metadata": {},
   "outputs": [
    {
     "data": {
      "text/plain": [
       "'Brown, Dan'"
      ]
     },
     "execution_count": 329,
     "metadata": {},
     "output_type": "execute_result"
    }
   ],
   "source": [
    "publisher.pop(16)"
   ]
  },
  {
   "cell_type": "code",
   "execution_count": 330,
   "id": "9ef6af00",
   "metadata": {},
   "outputs": [
    {
     "data": {
      "text/plain": [
       "'2,062,145'"
      ]
     },
     "execution_count": 330,
     "metadata": {},
     "output_type": "execute_result"
    }
   ],
   "source": [
    "publisher.pop(16)"
   ]
  },
  {
   "cell_type": "code",
   "execution_count": 331,
   "id": "8c722c1f",
   "metadata": {},
   "outputs": [
    {
     "data": {
      "text/plain": [
       "'18'"
      ]
     },
     "execution_count": 331,
     "metadata": {},
     "output_type": "execute_result"
    }
   ],
   "source": [
    "publisher.pop(17)"
   ]
  },
  {
   "cell_type": "code",
   "execution_count": 332,
   "id": "fd5b0d8c",
   "metadata": {},
   "outputs": [
    {
     "data": {
      "text/plain": [
       "'Eclipse'"
      ]
     },
     "execution_count": 332,
     "metadata": {},
     "output_type": "execute_result"
    }
   ],
   "source": [
    "publisher.pop(17)"
   ]
  },
  {
   "cell_type": "code",
   "execution_count": 333,
   "id": "7624d1c5",
   "metadata": {},
   "outputs": [
    {
     "data": {
      "text/plain": [
       "'Meyer, Stephenie'"
      ]
     },
     "execution_count": 333,
     "metadata": {},
     "output_type": "execute_result"
    }
   ],
   "source": [
    "publisher.pop(17)"
   ]
  },
  {
   "cell_type": "code",
   "execution_count": 334,
   "id": "df8f1dec",
   "metadata": {},
   "outputs": [
    {
     "data": {
      "text/plain": [
       "'2,052,876'"
      ]
     },
     "execution_count": 334,
     "metadata": {},
     "output_type": "execute_result"
    }
   ],
   "source": [
    "publisher.pop(17)"
   ]
  },
  {
   "cell_type": "code",
   "execution_count": 335,
   "id": "a6f37f0f",
   "metadata": {},
   "outputs": [
    {
     "data": {
      "text/plain": [
       "'19'"
      ]
     },
     "execution_count": 335,
     "metadata": {},
     "output_type": "execute_result"
    }
   ],
   "source": [
    "publisher.pop(18)"
   ]
  },
  {
   "cell_type": "code",
   "execution_count": 336,
   "id": "f31e55e6",
   "metadata": {},
   "outputs": [
    {
     "data": {
      "text/plain": [
       "'Lovely Bones,The'"
      ]
     },
     "execution_count": 336,
     "metadata": {},
     "output_type": "execute_result"
    }
   ],
   "source": [
    "publisher.pop(18)"
   ]
  },
  {
   "cell_type": "code",
   "execution_count": 337,
   "id": "5baf4c8e",
   "metadata": {},
   "outputs": [
    {
     "data": {
      "text/plain": [
       "'Sebold, Alice'"
      ]
     },
     "execution_count": 337,
     "metadata": {},
     "output_type": "execute_result"
    }
   ],
   "source": [
    "publisher.pop(18)"
   ]
  },
  {
   "cell_type": "code",
   "execution_count": 338,
   "id": "e22305ca",
   "metadata": {},
   "outputs": [
    {
     "data": {
      "text/plain": [
       "'2,005,598'"
      ]
     },
     "execution_count": 338,
     "metadata": {},
     "output_type": "execute_result"
    }
   ],
   "source": [
    "publisher.pop(18)"
   ]
  },
  {
   "cell_type": "code",
   "execution_count": 339,
   "id": "47b25c8d",
   "metadata": {},
   "outputs": [
    {
     "data": {
      "text/plain": [
       "'20'"
      ]
     },
     "execution_count": 339,
     "metadata": {},
     "output_type": "execute_result"
    }
   ],
   "source": [
    "publisher.pop(19)"
   ]
  },
  {
   "cell_type": "code",
   "execution_count": 340,
   "id": "3034f399",
   "metadata": {},
   "outputs": [
    {
     "data": {
      "text/plain": [
       "'Curious Incident of the Dog in the Night-time,The'"
      ]
     },
     "execution_count": 340,
     "metadata": {},
     "output_type": "execute_result"
    }
   ],
   "source": [
    "publisher.pop(19)"
   ]
  },
  {
   "cell_type": "code",
   "execution_count": 341,
   "id": "c70b3a3b",
   "metadata": {},
   "outputs": [
    {
     "data": {
      "text/plain": [
       "'Haddon, Mark'"
      ]
     },
     "execution_count": 341,
     "metadata": {},
     "output_type": "execute_result"
    }
   ],
   "source": [
    "publisher.pop(19)"
   ]
  },
  {
   "cell_type": "code",
   "execution_count": 342,
   "id": "b12c8df0",
   "metadata": {},
   "outputs": [
    {
     "data": {
      "text/plain": [
       "'1,979,552'"
      ]
     },
     "execution_count": 342,
     "metadata": {},
     "output_type": "execute_result"
    }
   ],
   "source": [
    "publisher.pop(19)"
   ]
  },
  {
   "cell_type": "code",
   "execution_count": 343,
   "id": "42cc02a9",
   "metadata": {},
   "outputs": [
    {
     "data": {
      "text/plain": [
       "'21'"
      ]
     },
     "execution_count": 343,
     "metadata": {},
     "output_type": "execute_result"
    }
   ],
   "source": [
    "publisher.pop(20)"
   ]
  },
  {
   "cell_type": "code",
   "execution_count": 344,
   "id": "49ac2ee3",
   "metadata": {},
   "outputs": [
    {
     "data": {
      "text/plain": [
       "'Digital Fortress'"
      ]
     },
     "execution_count": 344,
     "metadata": {},
     "output_type": "execute_result"
    }
   ],
   "source": [
    "publisher.pop(20)"
   ]
  },
  {
   "cell_type": "code",
   "execution_count": 345,
   "id": "07e524fb",
   "metadata": {},
   "outputs": [
    {
     "data": {
      "text/plain": [
       "'Brown, Dan'"
      ]
     },
     "execution_count": 345,
     "metadata": {},
     "output_type": "execute_result"
    }
   ],
   "source": [
    "publisher.pop(20)"
   ]
  },
  {
   "cell_type": "code",
   "execution_count": 346,
   "id": "2ddb38bc",
   "metadata": {},
   "outputs": [
    {
     "data": {
      "text/plain": [
       "'1,928,900'"
      ]
     },
     "execution_count": 346,
     "metadata": {},
     "output_type": "execute_result"
    }
   ],
   "source": [
    "publisher.pop(20)"
   ]
  },
  {
   "cell_type": "code",
   "execution_count": 347,
   "id": "99fcb76a",
   "metadata": {},
   "outputs": [
    {
     "data": {
      "text/plain": [
       "'22'"
      ]
     },
     "execution_count": 347,
     "metadata": {},
     "output_type": "execute_result"
    }
   ],
   "source": [
    "publisher.pop(21)"
   ]
  },
  {
   "cell_type": "code",
   "execution_count": 348,
   "id": "482abaee",
   "metadata": {},
   "outputs": [
    {
     "data": {
      "text/plain": [
       "'Short History of Nearly Everything,A'"
      ]
     },
     "execution_count": 348,
     "metadata": {},
     "output_type": "execute_result"
    }
   ],
   "source": [
    "publisher.pop(21)"
   ]
  },
  {
   "cell_type": "code",
   "execution_count": 349,
   "id": "11371ab9",
   "metadata": {},
   "outputs": [
    {
     "data": {
      "text/plain": [
       "'Bryson, Bill'"
      ]
     },
     "execution_count": 349,
     "metadata": {},
     "output_type": "execute_result"
    }
   ],
   "source": [
    "publisher.pop(21)"
   ]
  },
  {
   "cell_type": "code",
   "execution_count": 350,
   "id": "918cf6c5",
   "metadata": {},
   "outputs": [
    {
     "data": {
      "text/plain": [
       "'1,852,919'"
      ]
     },
     "execution_count": 350,
     "metadata": {},
     "output_type": "execute_result"
    }
   ],
   "source": [
    "publisher.pop(21)"
   ]
  },
  {
   "cell_type": "code",
   "execution_count": 351,
   "id": "3abd6cc8",
   "metadata": {},
   "outputs": [
    {
     "data": {
      "text/plain": [
       "['Transworld',\n",
       " 'Bloomsbury',\n",
       " 'Bloomsbury',\n",
       " 'Bloomsbury',\n",
       " 'Random House',\n",
       " 'Bloomsbury',\n",
       " 'Bloomsbury',\n",
       " 'Bloomsbury',\n",
       " 'Transworld',\n",
       " 'Bloomsbury',\n",
       " 'Random House',\n",
       " 'Little, Brown Book',\n",
       " 'Quercus',\n",
       " 'Random House',\n",
       " 'Transworld',\n",
       " 'Little, Brown Book',\n",
       " 'Transworld',\n",
       " 'Little, Brown Book',\n",
       " 'Pan Macmillan',\n",
       " 'Random House']"
      ]
     },
     "execution_count": 351,
     "metadata": {},
     "output_type": "execute_result"
    }
   ],
   "source": [
    "publisher[0:20]"
   ]
  },
  {
   "cell_type": "code",
   "execution_count": 361,
   "id": "903eea73",
   "metadata": {},
   "outputs": [],
   "source": [
    "genre=[]"
   ]
  },
  {
   "cell_type": "code",
   "execution_count": 362,
   "id": "1c32478b",
   "metadata": {},
   "outputs": [
    {
     "ename": "SyntaxError",
     "evalue": "invalid syntax (Temp/ipykernel_19328/2293968143.py, line 1)",
     "output_type": "error",
     "traceback": [
      "\u001b[1;36m  File \u001b[1;32m\"C:\\Users\\hamsa\\AppData\\Local\\Temp/ipykernel_19328/2293968143.py\"\u001b[1;36m, line \u001b[1;32m1\u001b[0m\n\u001b[1;33m    <td id=\"table-cell-10943-0-0\" class=\"left\" style=\"color: #000000\"> 1 </td>\u001b[0m\n\u001b[1;37m    ^\u001b[0m\n\u001b[1;31mSyntaxError\u001b[0m\u001b[1;31m:\u001b[0m invalid syntax\n"
     ]
    }
   ],
   "source": [
    "<td id=\"table-cell-10943-0-0\" class=\"left\" style=\"color: #000000\"> 1 </td>"
   ]
  },
  {
   "cell_type": "code",
   "execution_count": 363,
   "id": "2c625b84",
   "metadata": {},
   "outputs": [
    {
     "name": "stderr",
     "output_type": "stream",
     "text": [
      "C:\\Users\\hamsa\\AppData\\Local\\Temp/ipykernel_19328/3187598671.py:1: DeprecationWarning: find_elements_by_xpath is deprecated. Please use find_elements(by=By.XPATH, value=xpath) instead\n",
      "  genre_tags=browser.find_elements_by_xpath(\"//td[@id='table-cell-10943-20-5']\")\n"
     ]
    }
   ],
   "source": [
    "genre_tags=browser.find_elements_by_xpath(\"//td[@id='table-cell-10943-20-5']\")\n",
    "for i in genre_tags:\n",
    "    if i.text is None :\n",
    "        genre.append(\"no rating\") \n",
    "    else:\n",
    "        genre.append(i.text)"
   ]
  },
  {
   "cell_type": "code",
   "execution_count": 364,
   "id": "66ba2371",
   "metadata": {},
   "outputs": [
    {
     "data": {
      "text/plain": [
       "['Crime, Thriller & Adventure']"
      ]
     },
     "execution_count": 364,
     "metadata": {},
     "output_type": "execute_result"
    }
   ],
   "source": [
    "genre"
   ]
  },
  {
   "cell_type": "code",
   "execution_count": 365,
   "id": "b53ddd66",
   "metadata": {},
   "outputs": [
    {
     "data": {
      "text/plain": [
       "['Crime, Thriller & Adventure']"
      ]
     },
     "execution_count": 365,
     "metadata": {},
     "output_type": "execute_result"
    }
   ],
   "source": [
    "genre[0:20]"
   ]
  },
  {
   "cell_type": "code",
   "execution_count": 367,
   "id": "ff08d642",
   "metadata": {},
   "outputs": [
    {
     "ename": "ValueError",
     "evalue": "Length of values (1) does not match length of index (20)",
     "output_type": "error",
     "traceback": [
      "\u001b[1;31m---------------------------------------------------------------------------\u001b[0m",
      "\u001b[1;31mValueError\u001b[0m                                Traceback (most recent call last)",
      "\u001b[1;32m~\\AppData\\Local\\Temp/ipykernel_19328/1166435369.py\u001b[0m in \u001b[0;36m<module>\u001b[1;34m\u001b[0m\n\u001b[0;32m      5\u001b[0m \u001b[0mguardian\u001b[0m\u001b[1;33m[\u001b[0m\u001b[1;34m'volume'\u001b[0m\u001b[1;33m]\u001b[0m\u001b[1;33m=\u001b[0m\u001b[0mvolume\u001b[0m\u001b[1;33m[\u001b[0m\u001b[1;36m0\u001b[0m\u001b[1;33m:\u001b[0m\u001b[1;36m20\u001b[0m\u001b[1;33m]\u001b[0m\u001b[1;33m\u001b[0m\u001b[1;33m\u001b[0m\u001b[0m\n\u001b[0;32m      6\u001b[0m \u001b[0mguardian\u001b[0m\u001b[1;33m[\u001b[0m\u001b[1;34m'publisher'\u001b[0m\u001b[1;33m]\u001b[0m\u001b[1;33m=\u001b[0m\u001b[0mpublisher\u001b[0m\u001b[1;33m[\u001b[0m\u001b[1;36m0\u001b[0m\u001b[1;33m:\u001b[0m\u001b[1;36m20\u001b[0m\u001b[1;33m]\u001b[0m\u001b[1;33m\u001b[0m\u001b[1;33m\u001b[0m\u001b[0m\n\u001b[1;32m----> 7\u001b[1;33m \u001b[0mguardian\u001b[0m\u001b[1;33m[\u001b[0m\u001b[1;34m'genre'\u001b[0m\u001b[1;33m]\u001b[0m\u001b[1;33m=\u001b[0m\u001b[0mgenre\u001b[0m\u001b[1;33m[\u001b[0m\u001b[1;36m0\u001b[0m\u001b[1;33m:\u001b[0m\u001b[1;36m20\u001b[0m\u001b[1;33m]\u001b[0m\u001b[1;33m\u001b[0m\u001b[1;33m\u001b[0m\u001b[0m\n\u001b[0m\u001b[0;32m      8\u001b[0m \u001b[0mguardian\u001b[0m\u001b[1;33m\u001b[0m\u001b[1;33m\u001b[0m\u001b[0m\n",
      "\u001b[1;32mC:\\ProgramData\\Anaconda3\\lib\\site-packages\\pandas\\core\\frame.py\u001b[0m in \u001b[0;36m__setitem__\u001b[1;34m(self, key, value)\u001b[0m\n\u001b[0;32m   3610\u001b[0m         \u001b[1;32melse\u001b[0m\u001b[1;33m:\u001b[0m\u001b[1;33m\u001b[0m\u001b[1;33m\u001b[0m\u001b[0m\n\u001b[0;32m   3611\u001b[0m             \u001b[1;31m# set column\u001b[0m\u001b[1;33m\u001b[0m\u001b[1;33m\u001b[0m\u001b[0m\n\u001b[1;32m-> 3612\u001b[1;33m             \u001b[0mself\u001b[0m\u001b[1;33m.\u001b[0m\u001b[0m_set_item\u001b[0m\u001b[1;33m(\u001b[0m\u001b[0mkey\u001b[0m\u001b[1;33m,\u001b[0m \u001b[0mvalue\u001b[0m\u001b[1;33m)\u001b[0m\u001b[1;33m\u001b[0m\u001b[1;33m\u001b[0m\u001b[0m\n\u001b[0m\u001b[0;32m   3613\u001b[0m \u001b[1;33m\u001b[0m\u001b[0m\n\u001b[0;32m   3614\u001b[0m     \u001b[1;32mdef\u001b[0m \u001b[0m_setitem_slice\u001b[0m\u001b[1;33m(\u001b[0m\u001b[0mself\u001b[0m\u001b[1;33m,\u001b[0m \u001b[0mkey\u001b[0m\u001b[1;33m:\u001b[0m \u001b[0mslice\u001b[0m\u001b[1;33m,\u001b[0m \u001b[0mvalue\u001b[0m\u001b[1;33m)\u001b[0m\u001b[1;33m:\u001b[0m\u001b[1;33m\u001b[0m\u001b[1;33m\u001b[0m\u001b[0m\n",
      "\u001b[1;32mC:\\ProgramData\\Anaconda3\\lib\\site-packages\\pandas\\core\\frame.py\u001b[0m in \u001b[0;36m_set_item\u001b[1;34m(self, key, value)\u001b[0m\n\u001b[0;32m   3782\u001b[0m         \u001b[0mensure\u001b[0m \u001b[0mhomogeneity\u001b[0m\u001b[1;33m.\u001b[0m\u001b[1;33m\u001b[0m\u001b[1;33m\u001b[0m\u001b[0m\n\u001b[0;32m   3783\u001b[0m         \"\"\"\n\u001b[1;32m-> 3784\u001b[1;33m         \u001b[0mvalue\u001b[0m \u001b[1;33m=\u001b[0m \u001b[0mself\u001b[0m\u001b[1;33m.\u001b[0m\u001b[0m_sanitize_column\u001b[0m\u001b[1;33m(\u001b[0m\u001b[0mvalue\u001b[0m\u001b[1;33m)\u001b[0m\u001b[1;33m\u001b[0m\u001b[1;33m\u001b[0m\u001b[0m\n\u001b[0m\u001b[0;32m   3785\u001b[0m \u001b[1;33m\u001b[0m\u001b[0m\n\u001b[0;32m   3786\u001b[0m         if (\n",
      "\u001b[1;32mC:\\ProgramData\\Anaconda3\\lib\\site-packages\\pandas\\core\\frame.py\u001b[0m in \u001b[0;36m_sanitize_column\u001b[1;34m(self, value)\u001b[0m\n\u001b[0;32m   4507\u001b[0m \u001b[1;33m\u001b[0m\u001b[0m\n\u001b[0;32m   4508\u001b[0m         \u001b[1;32mif\u001b[0m \u001b[0mis_list_like\u001b[0m\u001b[1;33m(\u001b[0m\u001b[0mvalue\u001b[0m\u001b[1;33m)\u001b[0m\u001b[1;33m:\u001b[0m\u001b[1;33m\u001b[0m\u001b[1;33m\u001b[0m\u001b[0m\n\u001b[1;32m-> 4509\u001b[1;33m             \u001b[0mcom\u001b[0m\u001b[1;33m.\u001b[0m\u001b[0mrequire_length_match\u001b[0m\u001b[1;33m(\u001b[0m\u001b[0mvalue\u001b[0m\u001b[1;33m,\u001b[0m \u001b[0mself\u001b[0m\u001b[1;33m.\u001b[0m\u001b[0mindex\u001b[0m\u001b[1;33m)\u001b[0m\u001b[1;33m\u001b[0m\u001b[1;33m\u001b[0m\u001b[0m\n\u001b[0m\u001b[0;32m   4510\u001b[0m         \u001b[1;32mreturn\u001b[0m \u001b[0msanitize_array\u001b[0m\u001b[1;33m(\u001b[0m\u001b[0mvalue\u001b[0m\u001b[1;33m,\u001b[0m \u001b[0mself\u001b[0m\u001b[1;33m.\u001b[0m\u001b[0mindex\u001b[0m\u001b[1;33m,\u001b[0m \u001b[0mcopy\u001b[0m\u001b[1;33m=\u001b[0m\u001b[1;32mTrue\u001b[0m\u001b[1;33m,\u001b[0m \u001b[0mallow_2d\u001b[0m\u001b[1;33m=\u001b[0m\u001b[1;32mTrue\u001b[0m\u001b[1;33m)\u001b[0m\u001b[1;33m\u001b[0m\u001b[1;33m\u001b[0m\u001b[0m\n\u001b[0;32m   4511\u001b[0m \u001b[1;33m\u001b[0m\u001b[0m\n",
      "\u001b[1;32mC:\\ProgramData\\Anaconda3\\lib\\site-packages\\pandas\\core\\common.py\u001b[0m in \u001b[0;36mrequire_length_match\u001b[1;34m(data, index)\u001b[0m\n\u001b[0;32m    529\u001b[0m     \"\"\"\n\u001b[0;32m    530\u001b[0m     \u001b[1;32mif\u001b[0m \u001b[0mlen\u001b[0m\u001b[1;33m(\u001b[0m\u001b[0mdata\u001b[0m\u001b[1;33m)\u001b[0m \u001b[1;33m!=\u001b[0m \u001b[0mlen\u001b[0m\u001b[1;33m(\u001b[0m\u001b[0mindex\u001b[0m\u001b[1;33m)\u001b[0m\u001b[1;33m:\u001b[0m\u001b[1;33m\u001b[0m\u001b[1;33m\u001b[0m\u001b[0m\n\u001b[1;32m--> 531\u001b[1;33m         raise ValueError(\n\u001b[0m\u001b[0;32m    532\u001b[0m             \u001b[1;34m\"Length of values \"\u001b[0m\u001b[1;33m\u001b[0m\u001b[1;33m\u001b[0m\u001b[0m\n\u001b[0;32m    533\u001b[0m             \u001b[1;34mf\"({len(data)}) \"\u001b[0m\u001b[1;33m\u001b[0m\u001b[1;33m\u001b[0m\u001b[0m\n",
      "\u001b[1;31mValueError\u001b[0m: Length of values (1) does not match length of index (20)"
     ]
    }
   ],
   "source": [
    "import pandas as pd\n",
    "guardian=pd.DataFrame({})\n",
    "guardian['author']=author[0:20]\n",
    "guardian['book']=books[0:20]\n",
    "guardian['volume']=volume[0:20]\n",
    "guardian['publisher']=publisher[0:20]\n",
    "guardian['genre']=genre[0:20]\n",
    "guardian"
   ]
  },
  {
   "cell_type": "raw",
   "id": "58cdb9f8",
   "metadata": {},
   "source": [
    "#\n",
    "\n",
    "9.\tScrape the details most watched tv series of all time from imdb.com. Url = https://www.imdb.com/list/ls095964455/\n",
    "You have to find the following details:\n",
    "A)\tName\n",
    "B)\tYear span\n",
    "C)\tGenre\n",
    "D)\tRun time\n",
    "E)\tRatings\n",
    "F)\tVotes\n"
   ]
  },
  {
   "cell_type": "code",
   "execution_count": 368,
   "id": "49a81722",
   "metadata": {},
   "outputs": [],
   "source": [
    "\n",
    "import pandas as pd\n",
    "import selenium\n",
    "from selenium import webdriver\n",
    "from selenium.common.exceptions import StaleElementReferenceException, NoSuchElementException"
   ]
  },
  {
   "cell_type": "code",
   "execution_count": 369,
   "id": "97dd8391",
   "metadata": {},
   "outputs": [],
   "source": [
    "import requests\n",
    "from selenium import webdriver\n",
    "\n",
    "browser = webdriver.Chrome()\n",
    "\n",
    "browser.get(\"https://www.imdb.com/list/ls095964455/\")\n",
    "from bs4 import BeautifulSoup"
   ]
  },
  {
   "cell_type": "code",
   "execution_count": 370,
   "id": "6fdb00ee",
   "metadata": {},
   "outputs": [],
   "source": [
    "names=[]"
   ]
  },
  {
   "cell_type": "code",
   "execution_count": 371,
   "id": "90c1cb71",
   "metadata": {},
   "outputs": [
    {
     "name": "stderr",
     "output_type": "stream",
     "text": [
      "C:\\Users\\hamsa\\AppData\\Local\\Temp/ipykernel_19328/597610653.py:1: DeprecationWarning: find_elements_by_xpath is deprecated. Please use find_elements(by=By.XPATH, value=xpath) instead\n",
      "  name_tags=browser.find_elements_by_xpath(\"//a[@href='/title/tt2193021/?ref_=ttls_li_tt']\")\n"
     ]
    }
   ],
   "source": [
    "name_tags=browser.find_elements_by_xpath(\"//a[@href='/title/tt2193021/?ref_=ttls_li_tt']\")\n",
    "for i in name_tags:\n",
    "    if i.text is None :\n",
    "        names.append(\"no rating\") \n",
    "    else:\n",
    "        names.append(i.text)"
   ]
  },
  {
   "cell_type": "code",
   "execution_count": 372,
   "id": "1820bbc3",
   "metadata": {},
   "outputs": [
    {
     "data": {
      "text/plain": [
       "['Arrow']"
      ]
     },
     "execution_count": 372,
     "metadata": {},
     "output_type": "execute_result"
    }
   ],
   "source": [
    "names"
   ]
  },
  {
   "cell_type": "code",
   "execution_count": 373,
   "id": "bbf8e12d",
   "metadata": {},
   "outputs": [],
   "source": [
    "year=[]"
   ]
  },
  {
   "cell_type": "code",
   "execution_count": 374,
   "id": "8036d6f2",
   "metadata": {},
   "outputs": [
    {
     "name": "stderr",
     "output_type": "stream",
     "text": [
      "C:\\Users\\hamsa\\AppData\\Local\\Temp/ipykernel_19328/4228166199.py:1: DeprecationWarning: find_elements_by_xpath is deprecated. Please use find_elements(by=By.XPATH, value=xpath) instead\n",
      "  year_tags=browser.find_elements_by_xpath(\"//span[@class='lister-item-year text-muted unbold']\")\n"
     ]
    }
   ],
   "source": [
    "year_tags=browser.find_elements_by_xpath(\"//span[@class='lister-item-year text-muted unbold']\")\n",
    "for i in year_tags:\n",
    "    if i.text is None :\n",
    "        year.append(\"no rating\") \n",
    "    else:\n",
    "        year.append(i.text)"
   ]
  },
  {
   "cell_type": "code",
   "execution_count": 375,
   "id": "2d8dc214",
   "metadata": {},
   "outputs": [
    {
     "data": {
      "text/plain": [
       "['(2011–2019)',\n",
       " '(2016– )',\n",
       " '(2010–2022)',\n",
       " '(2017–2020)',\n",
       " '(2014–2020)',\n",
       " '(2013–2019)',\n",
       " '(2017–2022)',\n",
       " '(2005– )',\n",
       " '(2014– )',\n",
       " '(2012–2020)']"
      ]
     },
     "execution_count": 375,
     "metadata": {},
     "output_type": "execute_result"
    }
   ],
   "source": [
    "year[0:10]"
   ]
  },
  {
   "cell_type": "code",
   "execution_count": 376,
   "id": "4d6a12fb",
   "metadata": {},
   "outputs": [],
   "source": [
    "genre=[]"
   ]
  },
  {
   "cell_type": "code",
   "execution_count": 377,
   "id": "597523bf",
   "metadata": {},
   "outputs": [
    {
     "name": "stderr",
     "output_type": "stream",
     "text": [
      "C:\\Users\\hamsa\\AppData\\Local\\Temp/ipykernel_19328/4197743509.py:1: DeprecationWarning: find_elements_by_xpath is deprecated. Please use find_elements(by=By.XPATH, value=xpath) instead\n",
      "  genre_tags=browser.find_elements_by_xpath(\"//span[@class='genre']\")\n"
     ]
    }
   ],
   "source": [
    "genre_tags=browser.find_elements_by_xpath(\"//span[@class='genre']\")\n",
    "for i in genre_tags:\n",
    "    if i.text is None :\n",
    "        genre.append(\"no rating\") \n",
    "    else:\n",
    "        genre.append(i.text)"
   ]
  },
  {
   "cell_type": "code",
   "execution_count": 378,
   "id": "6079f55e",
   "metadata": {},
   "outputs": [
    {
     "data": {
      "text/plain": [
       "['Action, Adventure, Drama',\n",
       " 'Drama, Fantasy, Horror',\n",
       " 'Drama, Horror, Thriller',\n",
       " 'Drama, Mystery, Thriller',\n",
       " 'Drama, Mystery, Sci-Fi',\n",
       " 'Comedy, Crime, Drama',\n",
       " 'Crime, Drama, Mystery',\n",
       " 'Drama, Romance',\n",
       " 'Action, Adventure, Drama',\n",
       " 'Action, Adventure, Crime']"
      ]
     },
     "execution_count": 378,
     "metadata": {},
     "output_type": "execute_result"
    }
   ],
   "source": [
    "genre[0:10]"
   ]
  },
  {
   "cell_type": "code",
   "execution_count": 379,
   "id": "0beded12",
   "metadata": {},
   "outputs": [],
   "source": [
    "runtime=[]"
   ]
  },
  {
   "cell_type": "code",
   "execution_count": 380,
   "id": "c4a0cecc",
   "metadata": {},
   "outputs": [
    {
     "name": "stderr",
     "output_type": "stream",
     "text": [
      "C:\\Users\\hamsa\\AppData\\Local\\Temp/ipykernel_19328/726389388.py:1: DeprecationWarning: find_elements_by_xpath is deprecated. Please use find_elements(by=By.XPATH, value=xpath) instead\n",
      "  runtime_tags=browser.find_elements_by_xpath(\"//span[@class='runtime']\")\n"
     ]
    }
   ],
   "source": [
    "runtime_tags=browser.find_elements_by_xpath(\"//span[@class='runtime']\")\n",
    "for i in runtime_tags:\n",
    "    if i.text is None :\n",
    "        runtime.append(\"no rating\") \n",
    "    else:\n",
    "        runtime.append(i.text)"
   ]
  },
  {
   "cell_type": "code",
   "execution_count": 381,
   "id": "6938d1a7",
   "metadata": {},
   "outputs": [
    {
     "data": {
      "text/plain": [
       "['57 min',\n",
       " '51 min',\n",
       " '44 min',\n",
       " '60 min',\n",
       " '43 min',\n",
       " '59 min',\n",
       " '45 min',\n",
       " '41 min',\n",
       " '43 min',\n",
       " '42 min']"
      ]
     },
     "execution_count": 381,
     "metadata": {},
     "output_type": "execute_result"
    }
   ],
   "source": [
    "runtime[0:10]"
   ]
  },
  {
   "cell_type": "code",
   "execution_count": 382,
   "id": "42874c65",
   "metadata": {},
   "outputs": [],
   "source": [
    "rating=[]"
   ]
  },
  {
   "cell_type": "code",
   "execution_count": 383,
   "id": "d4ad4050",
   "metadata": {},
   "outputs": [
    {
     "name": "stderr",
     "output_type": "stream",
     "text": [
      "C:\\Users\\hamsa\\AppData\\Local\\Temp/ipykernel_19328/2217403016.py:1: DeprecationWarning: find_elements_by_xpath is deprecated. Please use find_elements(by=By.XPATH, value=xpath) instead\n",
      "  rating_tags=browser.find_elements_by_xpath(\"//span[@class='ipl-rating-star__rating']\")\n"
     ]
    }
   ],
   "source": [
    "rating_tags=browser.find_elements_by_xpath(\"//span[@class='ipl-rating-star__rating']\")\n",
    "for i in rating_tags:\n",
    "    if i.text is None :\n",
    "        rating.append(\"no rating\") \n",
    "    else:\n",
    "        rating.append(i.text)"
   ]
  },
  {
   "cell_type": "code",
   "execution_count": 384,
   "id": "8d7e9e19",
   "metadata": {},
   "outputs": [
    {
     "data": {
      "text/plain": [
       "['9.2',\n",
       " '',\n",
       " 'Rate',\n",
       " '',\n",
       " '',\n",
       " '',\n",
       " '',\n",
       " '',\n",
       " '',\n",
       " '',\n",
       " '',\n",
       " '',\n",
       " '',\n",
       " '',\n",
       " '',\n",
       " '',\n",
       " '',\n",
       " '',\n",
       " '',\n",
       " '',\n",
       " '',\n",
       " '',\n",
       " '',\n",
       " '8.7',\n",
       " '',\n",
       " 'Rate',\n",
       " '',\n",
       " '',\n",
       " '',\n",
       " '',\n",
       " '',\n",
       " '',\n",
       " '',\n",
       " '',\n",
       " '',\n",
       " '',\n",
       " '',\n",
       " '',\n",
       " '',\n",
       " '',\n",
       " '',\n",
       " '',\n",
       " '',\n",
       " '',\n",
       " '',\n",
       " '',\n",
       " '8.2',\n",
       " '',\n",
       " 'Rate',\n",
       " '',\n",
       " '',\n",
       " '',\n",
       " '',\n",
       " '',\n",
       " '',\n",
       " '',\n",
       " '',\n",
       " '',\n",
       " '',\n",
       " '',\n",
       " '',\n",
       " '',\n",
       " '',\n",
       " '',\n",
       " '',\n",
       " '',\n",
       " '',\n",
       " '',\n",
       " '',\n",
       " '7.5',\n",
       " '',\n",
       " 'Rate',\n",
       " '',\n",
       " '',\n",
       " '',\n",
       " '',\n",
       " '',\n",
       " '',\n",
       " '',\n",
       " '',\n",
       " '',\n",
       " '',\n",
       " '',\n",
       " '',\n",
       " '',\n",
       " '',\n",
       " '',\n",
       " '',\n",
       " '',\n",
       " '',\n",
       " '',\n",
       " '',\n",
       " '7.6',\n",
       " '',\n",
       " 'Rate',\n",
       " '',\n",
       " '',\n",
       " '',\n",
       " '',\n",
       " '',\n",
       " '',\n",
       " '',\n",
       " '',\n",
       " '',\n",
       " '',\n",
       " '',\n",
       " '',\n",
       " '',\n",
       " '',\n",
       " '',\n",
       " '',\n",
       " '',\n",
       " '',\n",
       " '',\n",
       " '',\n",
       " '8.1',\n",
       " '',\n",
       " 'Rate',\n",
       " '',\n",
       " '',\n",
       " '',\n",
       " '',\n",
       " '',\n",
       " '',\n",
       " '',\n",
       " '',\n",
       " '',\n",
       " '',\n",
       " '',\n",
       " '',\n",
       " '',\n",
       " '',\n",
       " '',\n",
       " '',\n",
       " '',\n",
       " '',\n",
       " '',\n",
       " '',\n",
       " '6.6',\n",
       " '',\n",
       " 'Rate',\n",
       " '',\n",
       " '',\n",
       " '',\n",
       " '',\n",
       " '',\n",
       " '',\n",
       " '',\n",
       " '',\n",
       " '',\n",
       " '',\n",
       " '',\n",
       " '',\n",
       " '',\n",
       " '',\n",
       " '',\n",
       " '',\n",
       " '',\n",
       " '',\n",
       " '',\n",
       " '',\n",
       " '7.6',\n",
       " '',\n",
       " 'Rate',\n",
       " '',\n",
       " '',\n",
       " '',\n",
       " '',\n",
       " '',\n",
       " '',\n",
       " '',\n",
       " '',\n",
       " '',\n",
       " '',\n",
       " '',\n",
       " '',\n",
       " '',\n",
       " '',\n",
       " '',\n",
       " '',\n",
       " '',\n",
       " '',\n",
       " '',\n",
       " '',\n",
       " '7.6',\n",
       " '',\n",
       " 'Rate',\n",
       " '',\n",
       " '',\n",
       " '',\n",
       " '',\n",
       " '',\n",
       " '',\n",
       " '',\n",
       " '',\n",
       " '',\n",
       " '',\n",
       " '',\n",
       " '',\n",
       " '',\n",
       " '',\n",
       " '',\n",
       " '',\n",
       " '',\n",
       " '',\n",
       " '',\n",
       " '',\n",
       " '7.5',\n",
       " '',\n",
       " 'Rate',\n",
       " '',\n",
       " '',\n",
       " '',\n",
       " '',\n",
       " '',\n",
       " '',\n",
       " '',\n",
       " '',\n",
       " '',\n",
       " '',\n",
       " '',\n",
       " '',\n",
       " '',\n",
       " '',\n",
       " '',\n",
       " '',\n",
       " '',\n",
       " '',\n",
       " '',\n",
       " '',\n",
       " '8.2',\n",
       " '',\n",
       " 'Rate',\n",
       " '',\n",
       " '',\n",
       " '',\n",
       " '',\n",
       " '',\n",
       " '',\n",
       " '',\n",
       " '',\n",
       " '',\n",
       " '',\n",
       " '',\n",
       " '',\n",
       " '',\n",
       " '',\n",
       " '',\n",
       " '',\n",
       " '',\n",
       " '',\n",
       " '',\n",
       " '',\n",
       " '8.2',\n",
       " '',\n",
       " 'Rate',\n",
       " '',\n",
       " '',\n",
       " '',\n",
       " '',\n",
       " '',\n",
       " '',\n",
       " '',\n",
       " '',\n",
       " '',\n",
       " '',\n",
       " '',\n",
       " '',\n",
       " '',\n",
       " '',\n",
       " '',\n",
       " '',\n",
       " '',\n",
       " '',\n",
       " '',\n",
       " '',\n",
       " '8.8',\n",
       " '',\n",
       " 'Rate',\n",
       " '',\n",
       " '',\n",
       " '',\n",
       " '',\n",
       " '',\n",
       " '',\n",
       " '',\n",
       " '',\n",
       " '',\n",
       " '',\n",
       " '',\n",
       " '',\n",
       " '',\n",
       " '',\n",
       " '',\n",
       " '',\n",
       " '',\n",
       " '',\n",
       " '',\n",
       " '',\n",
       " '9.1',\n",
       " '',\n",
       " 'Rate',\n",
       " '',\n",
       " '',\n",
       " '',\n",
       " '',\n",
       " '',\n",
       " '',\n",
       " '',\n",
       " '',\n",
       " '',\n",
       " '',\n",
       " '',\n",
       " '',\n",
       " '',\n",
       " '',\n",
       " '',\n",
       " '',\n",
       " '',\n",
       " '',\n",
       " '',\n",
       " '',\n",
       " '8.5',\n",
       " '',\n",
       " 'Rate',\n",
       " '',\n",
       " '',\n",
       " '',\n",
       " '',\n",
       " '',\n",
       " '',\n",
       " '',\n",
       " '',\n",
       " '',\n",
       " '',\n",
       " '',\n",
       " '',\n",
       " '',\n",
       " '',\n",
       " '',\n",
       " '',\n",
       " '',\n",
       " '',\n",
       " '',\n",
       " '',\n",
       " '7.4',\n",
       " '',\n",
       " 'Rate',\n",
       " '',\n",
       " '',\n",
       " '',\n",
       " '',\n",
       " '',\n",
       " '',\n",
       " '',\n",
       " '',\n",
       " '',\n",
       " '',\n",
       " '',\n",
       " '',\n",
       " '',\n",
       " '',\n",
       " '',\n",
       " '',\n",
       " '',\n",
       " '',\n",
       " '',\n",
       " '',\n",
       " '7.7',\n",
       " '',\n",
       " 'Rate',\n",
       " '',\n",
       " '',\n",
       " '',\n",
       " '',\n",
       " '',\n",
       " '',\n",
       " '',\n",
       " '',\n",
       " '',\n",
       " '',\n",
       " '',\n",
       " '',\n",
       " '',\n",
       " '',\n",
       " '',\n",
       " '',\n",
       " '',\n",
       " '',\n",
       " '',\n",
       " '',\n",
       " '8',\n",
       " '',\n",
       " 'Rate',\n",
       " '',\n",
       " '',\n",
       " '',\n",
       " '',\n",
       " '',\n",
       " '',\n",
       " '',\n",
       " '',\n",
       " '',\n",
       " '',\n",
       " '',\n",
       " '',\n",
       " '',\n",
       " '',\n",
       " '',\n",
       " '',\n",
       " '',\n",
       " '',\n",
       " '',\n",
       " '',\n",
       " '9.5',\n",
       " '',\n",
       " 'Rate',\n",
       " '',\n",
       " '',\n",
       " '',\n",
       " '',\n",
       " '',\n",
       " '',\n",
       " '',\n",
       " '',\n",
       " '',\n",
       " '',\n",
       " '',\n",
       " '',\n",
       " '',\n",
       " '',\n",
       " '',\n",
       " '',\n",
       " '',\n",
       " '',\n",
       " '',\n",
       " '',\n",
       " '8.1',\n",
       " '',\n",
       " 'Rate',\n",
       " '',\n",
       " '',\n",
       " '',\n",
       " '',\n",
       " '',\n",
       " '',\n",
       " '',\n",
       " '',\n",
       " '',\n",
       " '',\n",
       " '',\n",
       " '',\n",
       " '',\n",
       " '',\n",
       " '',\n",
       " '',\n",
       " '',\n",
       " '',\n",
       " '',\n",
       " '',\n",
       " '8.4',\n",
       " '',\n",
       " 'Rate',\n",
       " '',\n",
       " '',\n",
       " '',\n",
       " '',\n",
       " '',\n",
       " '',\n",
       " '',\n",
       " '',\n",
       " '',\n",
       " '',\n",
       " '',\n",
       " '',\n",
       " '',\n",
       " '',\n",
       " '',\n",
       " '',\n",
       " '',\n",
       " '',\n",
       " '',\n",
       " '',\n",
       " '8.3',\n",
       " '',\n",
       " 'Rate',\n",
       " '',\n",
       " '',\n",
       " '',\n",
       " '',\n",
       " '',\n",
       " '',\n",
       " '',\n",
       " '',\n",
       " '',\n",
       " '',\n",
       " '',\n",
       " '',\n",
       " '',\n",
       " '',\n",
       " '',\n",
       " '',\n",
       " '',\n",
       " '',\n",
       " '',\n",
       " '',\n",
       " '8.1',\n",
       " '',\n",
       " 'Rate',\n",
       " '',\n",
       " '',\n",
       " '',\n",
       " '',\n",
       " '',\n",
       " '',\n",
       " '',\n",
       " '',\n",
       " '',\n",
       " '',\n",
       " '',\n",
       " '',\n",
       " '',\n",
       " '',\n",
       " '',\n",
       " '',\n",
       " '',\n",
       " '',\n",
       " '',\n",
       " '',\n",
       " '7.7',\n",
       " '',\n",
       " 'Rate',\n",
       " '',\n",
       " '',\n",
       " '',\n",
       " '',\n",
       " '',\n",
       " '',\n",
       " '',\n",
       " '',\n",
       " '',\n",
       " '',\n",
       " '',\n",
       " '',\n",
       " '',\n",
       " '',\n",
       " '',\n",
       " '',\n",
       " '',\n",
       " '',\n",
       " '',\n",
       " '',\n",
       " '8.7',\n",
       " '',\n",
       " 'Rate',\n",
       " '',\n",
       " '',\n",
       " '',\n",
       " '',\n",
       " '',\n",
       " '',\n",
       " '',\n",
       " '',\n",
       " '',\n",
       " '',\n",
       " '',\n",
       " '',\n",
       " '',\n",
       " '',\n",
       " '',\n",
       " '',\n",
       " '',\n",
       " '',\n",
       " '',\n",
       " '',\n",
       " '7.7',\n",
       " '',\n",
       " 'Rate',\n",
       " '',\n",
       " '',\n",
       " '',\n",
       " '',\n",
       " '',\n",
       " '',\n",
       " '',\n",
       " '',\n",
       " '',\n",
       " '',\n",
       " '',\n",
       " '',\n",
       " '',\n",
       " '',\n",
       " '',\n",
       " '',\n",
       " '',\n",
       " '',\n",
       " '',\n",
       " '',\n",
       " '8.8',\n",
       " '',\n",
       " 'Rate',\n",
       " '',\n",
       " '',\n",
       " '',\n",
       " '',\n",
       " '',\n",
       " '',\n",
       " '',\n",
       " '',\n",
       " '',\n",
       " '',\n",
       " '',\n",
       " '',\n",
       " '',\n",
       " '',\n",
       " '',\n",
       " '',\n",
       " '',\n",
       " '',\n",
       " '',\n",
       " '',\n",
       " '8.6',\n",
       " '',\n",
       " 'Rate',\n",
       " '',\n",
       " '',\n",
       " '',\n",
       " '',\n",
       " '',\n",
       " '',\n",
       " '',\n",
       " '',\n",
       " '',\n",
       " '',\n",
       " '',\n",
       " '',\n",
       " '',\n",
       " '',\n",
       " '',\n",
       " '',\n",
       " '',\n",
       " '',\n",
       " '',\n",
       " '',\n",
       " '8.9',\n",
       " '',\n",
       " 'Rate',\n",
       " '',\n",
       " '',\n",
       " '',\n",
       " '',\n",
       " '',\n",
       " '',\n",
       " '',\n",
       " '',\n",
       " '',\n",
       " '',\n",
       " '',\n",
       " '',\n",
       " '',\n",
       " '',\n",
       " '',\n",
       " '',\n",
       " '',\n",
       " '',\n",
       " '',\n",
       " '',\n",
       " '8.3',\n",
       " '',\n",
       " 'Rate',\n",
       " '',\n",
       " '',\n",
       " '',\n",
       " '',\n",
       " '',\n",
       " '',\n",
       " '',\n",
       " '',\n",
       " '',\n",
       " '',\n",
       " '',\n",
       " '',\n",
       " '',\n",
       " '',\n",
       " '',\n",
       " '',\n",
       " '',\n",
       " '',\n",
       " '',\n",
       " '',\n",
       " '8.5',\n",
       " '',\n",
       " 'Rate',\n",
       " '',\n",
       " '',\n",
       " '',\n",
       " '',\n",
       " '',\n",
       " '',\n",
       " '',\n",
       " '',\n",
       " '',\n",
       " '',\n",
       " '',\n",
       " '',\n",
       " '',\n",
       " '',\n",
       " '',\n",
       " '',\n",
       " '',\n",
       " '',\n",
       " '',\n",
       " '',\n",
       " '8.6',\n",
       " '',\n",
       " 'Rate',\n",
       " '',\n",
       " '',\n",
       " '',\n",
       " '',\n",
       " '',\n",
       " '',\n",
       " '',\n",
       " '',\n",
       " '',\n",
       " '',\n",
       " '',\n",
       " '',\n",
       " '',\n",
       " '',\n",
       " '',\n",
       " '',\n",
       " '',\n",
       " '',\n",
       " '',\n",
       " '',\n",
       " '8.3',\n",
       " '',\n",
       " 'Rate',\n",
       " '',\n",
       " '',\n",
       " '',\n",
       " '',\n",
       " '',\n",
       " '',\n",
       " '',\n",
       " '',\n",
       " '',\n",
       " '',\n",
       " '',\n",
       " '',\n",
       " '',\n",
       " '',\n",
       " '',\n",
       " '',\n",
       " '',\n",
       " '',\n",
       " '',\n",
       " '',\n",
       " '6.2',\n",
       " '',\n",
       " 'Rate',\n",
       " '',\n",
       " '',\n",
       " '',\n",
       " '',\n",
       " '',\n",
       " '',\n",
       " '',\n",
       " '',\n",
       " '',\n",
       " '',\n",
       " '',\n",
       " '',\n",
       " '',\n",
       " '',\n",
       " '',\n",
       " '',\n",
       " '',\n",
       " '',\n",
       " '',\n",
       " '',\n",
       " '7.4',\n",
       " '',\n",
       " 'Rate',\n",
       " '',\n",
       " '',\n",
       " '',\n",
       " '',\n",
       " '',\n",
       " '',\n",
       " '',\n",
       " '',\n",
       " '',\n",
       " '',\n",
       " '',\n",
       " '',\n",
       " '',\n",
       " '',\n",
       " '',\n",
       " '',\n",
       " '',\n",
       " '',\n",
       " '',\n",
       " '',\n",
       " '8.2',\n",
       " '',\n",
       " 'Rate',\n",
       " '',\n",
       " '',\n",
       " '',\n",
       " '',\n",
       " '',\n",
       " '',\n",
       " '',\n",
       " '',\n",
       " '',\n",
       " '',\n",
       " '',\n",
       " '',\n",
       " '',\n",
       " '',\n",
       " '',\n",
       " '',\n",
       " '',\n",
       " '',\n",
       " '',\n",
       " '',\n",
       " '7.8',\n",
       " '',\n",
       " 'Rate',\n",
       " '',\n",
       " '',\n",
       " '',\n",
       " '',\n",
       " '',\n",
       " '',\n",
       " '',\n",
       " '',\n",
       " '',\n",
       " '',\n",
       " '',\n",
       " '',\n",
       " '',\n",
       " '',\n",
       " '',\n",
       " '',\n",
       " '',\n",
       " '',\n",
       " '',\n",
       " '',\n",
       " '8.6',\n",
       " '',\n",
       " 'Rate',\n",
       " '',\n",
       " '',\n",
       " '',\n",
       " '',\n",
       " '',\n",
       " '',\n",
       " '',\n",
       " '',\n",
       " '',\n",
       " '',\n",
       " '',\n",
       " '',\n",
       " '',\n",
       " '',\n",
       " '',\n",
       " '',\n",
       " '',\n",
       " '',\n",
       " '',\n",
       " '',\n",
       " '7.9',\n",
       " '',\n",
       " 'Rate',\n",
       " '',\n",
       " '',\n",
       " '',\n",
       " '',\n",
       " '',\n",
       " '',\n",
       " '',\n",
       " '',\n",
       " '',\n",
       " '',\n",
       " '',\n",
       " '',\n",
       " '',\n",
       " '',\n",
       " '',\n",
       " '',\n",
       " '',\n",
       " '',\n",
       " '',\n",
       " '',\n",
       " '8.5',\n",
       " '',\n",
       " 'Rate',\n",
       " '',\n",
       " '',\n",
       " '',\n",
       " '',\n",
       " '',\n",
       " '',\n",
       " '',\n",
       " '',\n",
       " '',\n",
       " '',\n",
       " '',\n",
       " '',\n",
       " '',\n",
       " '',\n",
       " '',\n",
       " '',\n",
       " '',\n",
       " '',\n",
       " '',\n",
       " '',\n",
       " '9.2',\n",
       " '',\n",
       " 'Rate',\n",
       " '',\n",
       " '',\n",
       " '',\n",
       " '',\n",
       " '',\n",
       " '',\n",
       " '',\n",
       " '',\n",
       " '',\n",
       " '',\n",
       " '',\n",
       " '',\n",
       " '',\n",
       " '',\n",
       " '',\n",
       " '',\n",
       " '',\n",
       " '',\n",
       " '',\n",
       " '',\n",
       " '6.5',\n",
       " '',\n",
       " 'Rate',\n",
       " '',\n",
       " '',\n",
       " '',\n",
       " '',\n",
       " '',\n",
       " '',\n",
       " '',\n",
       " '',\n",
       " '',\n",
       " '',\n",
       " '',\n",
       " '',\n",
       " '',\n",
       " '',\n",
       " '',\n",
       " '',\n",
       " '',\n",
       " '',\n",
       " '',\n",
       " '',\n",
       " '8.1',\n",
       " '',\n",
       " 'Rate',\n",
       " '',\n",
       " '',\n",
       " '',\n",
       " '',\n",
       " '',\n",
       " '',\n",
       " '',\n",
       " '',\n",
       " '',\n",
       " '',\n",
       " '',\n",
       " '',\n",
       " '',\n",
       " '',\n",
       " '',\n",
       " '',\n",
       " '',\n",
       " '',\n",
       " '',\n",
       " '',\n",
       " '8.7',\n",
       " '',\n",
       " 'Rate',\n",
       " '',\n",
       " '',\n",
       " '',\n",
       " '',\n",
       " '',\n",
       " '',\n",
       " '',\n",
       " '',\n",
       " ...]"
      ]
     },
     "execution_count": 384,
     "metadata": {},
     "output_type": "execute_result"
    }
   ],
   "source": [
    "rating"
   ]
  },
  {
   "cell_type": "code",
   "execution_count": 564,
   "id": "6ca682d1",
   "metadata": {},
   "outputs": [
    {
     "data": {
      "text/plain": [
       "'8.2'"
      ]
     },
     "execution_count": 564,
     "metadata": {},
     "output_type": "execute_result"
    }
   ],
   "source": [
    "rating.pop(1)"
   ]
  },
  {
   "cell_type": "code",
   "execution_count": 565,
   "id": "5d315663",
   "metadata": {},
   "outputs": [
    {
     "data": {
      "text/plain": [
       "''"
      ]
     },
     "execution_count": 565,
     "metadata": {},
     "output_type": "execute_result"
    }
   ],
   "source": [
    "rating.pop(1)"
   ]
  },
  {
   "cell_type": "code",
   "execution_count": 566,
   "id": "ddcf04d0",
   "metadata": {},
   "outputs": [
    {
     "data": {
      "text/plain": [
       "''"
      ]
     },
     "execution_count": 566,
     "metadata": {},
     "output_type": "execute_result"
    }
   ],
   "source": [
    "rating.pop(1)"
   ]
  },
  {
   "cell_type": "code",
   "execution_count": 567,
   "id": "f4f1ff5a",
   "metadata": {},
   "outputs": [
    {
     "data": {
      "text/plain": [
       "''"
      ]
     },
     "execution_count": 567,
     "metadata": {},
     "output_type": "execute_result"
    }
   ],
   "source": [
    "rating.pop(1)"
   ]
  },
  {
   "cell_type": "code",
   "execution_count": 568,
   "id": "193b5f49",
   "metadata": {},
   "outputs": [
    {
     "data": {
      "text/plain": [
       "''"
      ]
     },
     "execution_count": 568,
     "metadata": {},
     "output_type": "execute_result"
    }
   ],
   "source": [
    "rating.pop(1)"
   ]
  },
  {
   "cell_type": "code",
   "execution_count": 569,
   "id": "32c8e1e7",
   "metadata": {},
   "outputs": [
    {
     "data": {
      "text/plain": [
       "''"
      ]
     },
     "execution_count": 569,
     "metadata": {},
     "output_type": "execute_result"
    }
   ],
   "source": [
    "rating.pop(1)"
   ]
  },
  {
   "cell_type": "code",
   "execution_count": 570,
   "id": "d49e9ad7",
   "metadata": {},
   "outputs": [
    {
     "data": {
      "text/plain": [
       "''"
      ]
     },
     "execution_count": 570,
     "metadata": {},
     "output_type": "execute_result"
    }
   ],
   "source": [
    "rating.pop(1)"
   ]
  },
  {
   "cell_type": "code",
   "execution_count": 571,
   "id": "aedafe0b",
   "metadata": {},
   "outputs": [
    {
     "data": {
      "text/plain": [
       "''"
      ]
     },
     "execution_count": 571,
     "metadata": {},
     "output_type": "execute_result"
    }
   ],
   "source": [
    "rating.pop(1)"
   ]
  },
  {
   "cell_type": "code",
   "execution_count": 572,
   "id": "61c4c02c",
   "metadata": {},
   "outputs": [
    {
     "data": {
      "text/plain": [
       "''"
      ]
     },
     "execution_count": 572,
     "metadata": {},
     "output_type": "execute_result"
    }
   ],
   "source": [
    "rating.pop(1)"
   ]
  },
  {
   "cell_type": "code",
   "execution_count": 573,
   "id": "3ca56da6",
   "metadata": {},
   "outputs": [
    {
     "data": {
      "text/plain": [
       "''"
      ]
     },
     "execution_count": 573,
     "metadata": {},
     "output_type": "execute_result"
    }
   ],
   "source": [
    "rating.pop(1)"
   ]
  },
  {
   "cell_type": "code",
   "execution_count": 574,
   "id": "ba351bb9",
   "metadata": {},
   "outputs": [
    {
     "data": {
      "text/plain": [
       "''"
      ]
     },
     "execution_count": 574,
     "metadata": {},
     "output_type": "execute_result"
    }
   ],
   "source": [
    "rating.pop(1)"
   ]
  },
  {
   "cell_type": "code",
   "execution_count": 575,
   "id": "42a7524b",
   "metadata": {},
   "outputs": [
    {
     "data": {
      "text/plain": [
       "''"
      ]
     },
     "execution_count": 575,
     "metadata": {},
     "output_type": "execute_result"
    }
   ],
   "source": [
    "rating.pop(1)"
   ]
  },
  {
   "cell_type": "code",
   "execution_count": 576,
   "id": "a3d7234f",
   "metadata": {},
   "outputs": [
    {
     "data": {
      "text/plain": [
       "''"
      ]
     },
     "execution_count": 576,
     "metadata": {},
     "output_type": "execute_result"
    }
   ],
   "source": [
    "rating.pop(1)"
   ]
  },
  {
   "cell_type": "code",
   "execution_count": 577,
   "id": "565fa630",
   "metadata": {},
   "outputs": [
    {
     "data": {
      "text/plain": [
       "''"
      ]
     },
     "execution_count": 577,
     "metadata": {},
     "output_type": "execute_result"
    }
   ],
   "source": [
    "rating.pop(1)"
   ]
  },
  {
   "cell_type": "code",
   "execution_count": 578,
   "id": "4b82981d",
   "metadata": {},
   "outputs": [
    {
     "data": {
      "text/plain": [
       "'7.6'"
      ]
     },
     "execution_count": 578,
     "metadata": {},
     "output_type": "execute_result"
    }
   ],
   "source": [
    "rating.pop(1)"
   ]
  },
  {
   "cell_type": "code",
   "execution_count": 579,
   "id": "9d5765fa",
   "metadata": {},
   "outputs": [
    {
     "data": {
      "text/plain": [
       "''"
      ]
     },
     "execution_count": 579,
     "metadata": {},
     "output_type": "execute_result"
    }
   ],
   "source": [
    "rating.pop(1)"
   ]
  },
  {
   "cell_type": "code",
   "execution_count": 580,
   "id": "76732962",
   "metadata": {},
   "outputs": [
    {
     "data": {
      "text/plain": [
       "'Rate'"
      ]
     },
     "execution_count": 580,
     "metadata": {},
     "output_type": "execute_result"
    }
   ],
   "source": [
    "rating.pop(1)"
   ]
  },
  {
   "cell_type": "code",
   "execution_count": 581,
   "id": "7727a4df",
   "metadata": {},
   "outputs": [
    {
     "data": {
      "text/plain": [
       "''"
      ]
     },
     "execution_count": 581,
     "metadata": {},
     "output_type": "execute_result"
    }
   ],
   "source": [
    "rating.pop(1)"
   ]
  },
  {
   "cell_type": "code",
   "execution_count": 582,
   "id": "f08e0d05",
   "metadata": {},
   "outputs": [
    {
     "data": {
      "text/plain": [
       "''"
      ]
     },
     "execution_count": 582,
     "metadata": {},
     "output_type": "execute_result"
    }
   ],
   "source": [
    "rating.pop(1)"
   ]
  },
  {
   "cell_type": "code",
   "execution_count": 583,
   "id": "58ce8b2f",
   "metadata": {},
   "outputs": [
    {
     "data": {
      "text/plain": [
       "''"
      ]
     },
     "execution_count": 583,
     "metadata": {},
     "output_type": "execute_result"
    }
   ],
   "source": [
    "rating.pop(1)"
   ]
  },
  {
   "cell_type": "code",
   "execution_count": 584,
   "id": "601a8b9f",
   "metadata": {},
   "outputs": [
    {
     "data": {
      "text/plain": [
       "''"
      ]
     },
     "execution_count": 584,
     "metadata": {},
     "output_type": "execute_result"
    }
   ],
   "source": [
    "rating.pop(1)"
   ]
  },
  {
   "cell_type": "code",
   "execution_count": 585,
   "id": "f5fb743b",
   "metadata": {},
   "outputs": [
    {
     "data": {
      "text/plain": [
       "''"
      ]
     },
     "execution_count": 585,
     "metadata": {},
     "output_type": "execute_result"
    }
   ],
   "source": [
    "rating.pop(1)"
   ]
  },
  {
   "cell_type": "code",
   "execution_count": 586,
   "id": "b01b4f4e",
   "metadata": {},
   "outputs": [
    {
     "data": {
      "text/plain": [
       "''"
      ]
     },
     "execution_count": 586,
     "metadata": {},
     "output_type": "execute_result"
    }
   ],
   "source": [
    "rating.pop(2)"
   ]
  },
  {
   "cell_type": "code",
   "execution_count": 587,
   "id": "62edab1d",
   "metadata": {},
   "outputs": [
    {
     "data": {
      "text/plain": [
       "''"
      ]
     },
     "execution_count": 587,
     "metadata": {},
     "output_type": "execute_result"
    }
   ],
   "source": [
    "rating.pop(2)"
   ]
  },
  {
   "cell_type": "code",
   "execution_count": 588,
   "id": "ab4a121e",
   "metadata": {},
   "outputs": [
    {
     "data": {
      "text/plain": [
       "''"
      ]
     },
     "execution_count": 588,
     "metadata": {},
     "output_type": "execute_result"
    }
   ],
   "source": [
    "rating.pop(2)"
   ]
  },
  {
   "cell_type": "code",
   "execution_count": 589,
   "id": "3de1fd75",
   "metadata": {},
   "outputs": [
    {
     "data": {
      "text/plain": [
       "''"
      ]
     },
     "execution_count": 589,
     "metadata": {},
     "output_type": "execute_result"
    }
   ],
   "source": [
    "rating.pop(2)"
   ]
  },
  {
   "cell_type": "code",
   "execution_count": 590,
   "id": "8225e27b",
   "metadata": {},
   "outputs": [
    {
     "data": {
      "text/plain": [
       "''"
      ]
     },
     "execution_count": 590,
     "metadata": {},
     "output_type": "execute_result"
    }
   ],
   "source": [
    "rating.pop(2)"
   ]
  },
  {
   "cell_type": "code",
   "execution_count": 591,
   "id": "19c4245b",
   "metadata": {},
   "outputs": [
    {
     "data": {
      "text/plain": [
       "''"
      ]
     },
     "execution_count": 591,
     "metadata": {},
     "output_type": "execute_result"
    }
   ],
   "source": [
    "rating.pop(2)"
   ]
  },
  {
   "cell_type": "code",
   "execution_count": 592,
   "id": "e96c8d29",
   "metadata": {},
   "outputs": [
    {
     "data": {
      "text/plain": [
       "''"
      ]
     },
     "execution_count": 592,
     "metadata": {},
     "output_type": "execute_result"
    }
   ],
   "source": [
    "rating.pop(2)"
   ]
  },
  {
   "cell_type": "code",
   "execution_count": 593,
   "id": "cfaaa697",
   "metadata": {},
   "outputs": [
    {
     "data": {
      "text/plain": [
       "''"
      ]
     },
     "execution_count": 593,
     "metadata": {},
     "output_type": "execute_result"
    }
   ],
   "source": [
    "rating.pop(2)"
   ]
  },
  {
   "cell_type": "code",
   "execution_count": 594,
   "id": "690ac3de",
   "metadata": {},
   "outputs": [
    {
     "data": {
      "text/plain": [
       "''"
      ]
     },
     "execution_count": 594,
     "metadata": {},
     "output_type": "execute_result"
    }
   ],
   "source": [
    "rating.pop(2)"
   ]
  },
  {
   "cell_type": "code",
   "execution_count": 595,
   "id": "80851969",
   "metadata": {},
   "outputs": [
    {
     "data": {
      "text/plain": [
       "''"
      ]
     },
     "execution_count": 595,
     "metadata": {},
     "output_type": "execute_result"
    }
   ],
   "source": [
    "rating.pop(2)"
   ]
  },
  {
   "cell_type": "code",
   "execution_count": 596,
   "id": "8c4d905f",
   "metadata": {},
   "outputs": [
    {
     "data": {
      "text/plain": [
       "''"
      ]
     },
     "execution_count": 596,
     "metadata": {},
     "output_type": "execute_result"
    }
   ],
   "source": [
    "rating.pop(2)"
   ]
  },
  {
   "cell_type": "code",
   "execution_count": 597,
   "id": "4e81f364",
   "metadata": {},
   "outputs": [
    {
     "data": {
      "text/plain": [
       "''"
      ]
     },
     "execution_count": 597,
     "metadata": {},
     "output_type": "execute_result"
    }
   ],
   "source": [
    "rating.pop(2)"
   ]
  },
  {
   "cell_type": "code",
   "execution_count": 598,
   "id": "a2247bf9",
   "metadata": {},
   "outputs": [
    {
     "data": {
      "text/plain": [
       "''"
      ]
     },
     "execution_count": 598,
     "metadata": {},
     "output_type": "execute_result"
    }
   ],
   "source": [
    "rating.pop(2)"
   ]
  },
  {
   "cell_type": "code",
   "execution_count": null,
   "id": "6b75b305",
   "metadata": {},
   "outputs": [],
   "source": [
    "rating.pop(2)"
   ]
  },
  {
   "cell_type": "code",
   "execution_count": null,
   "id": "4bf2cb0d",
   "metadata": {},
   "outputs": [],
   "source": [
    "rating.pop(2)"
   ]
  },
  {
   "cell_type": "code",
   "execution_count": null,
   "id": "a78dfeea",
   "metadata": {},
   "outputs": [],
   "source": [
    "rating.pop(2)"
   ]
  },
  {
   "cell_type": "code",
   "execution_count": null,
   "id": "240dc4a0",
   "metadata": {},
   "outputs": [],
   "source": [
    "rating.pop(2)"
   ]
  },
  {
   "cell_type": "code",
   "execution_count": null,
   "id": "5ad822c7",
   "metadata": {},
   "outputs": [],
   "source": [
    "rating.pop(2)"
   ]
  },
  {
   "cell_type": "code",
   "execution_count": null,
   "id": "6d9de23e",
   "metadata": {},
   "outputs": [],
   "source": [
    "rating.pop(2)"
   ]
  },
  {
   "cell_type": "code",
   "execution_count": null,
   "id": "b3476ca4",
   "metadata": {},
   "outputs": [],
   "source": [
    "rating.pop(2)"
   ]
  },
  {
   "cell_type": "code",
   "execution_count": null,
   "id": "d84707fb",
   "metadata": {},
   "outputs": [],
   "source": [
    "rating.pop(2)"
   ]
  },
  {
   "cell_type": "code",
   "execution_count": null,
   "id": "e7a28379",
   "metadata": {},
   "outputs": [],
   "source": [
    "rating.pop(2)"
   ]
  },
  {
   "cell_type": "code",
   "execution_count": null,
   "id": "e8164ca7",
   "metadata": {},
   "outputs": [],
   "source": [
    "rating.pop(3)"
   ]
  },
  {
   "cell_type": "code",
   "execution_count": null,
   "id": "d8eb26b5",
   "metadata": {},
   "outputs": [],
   "source": [
    "rating.pop(3)"
   ]
  },
  {
   "cell_type": "code",
   "execution_count": null,
   "id": "9fd501c0",
   "metadata": {},
   "outputs": [],
   "source": [
    "rating.pop(3)"
   ]
  },
  {
   "cell_type": "code",
   "execution_count": null,
   "id": "ac594365",
   "metadata": {},
   "outputs": [],
   "source": [
    "rating.pop(3)"
   ]
  },
  {
   "cell_type": "code",
   "execution_count": null,
   "id": "c7785473",
   "metadata": {},
   "outputs": [],
   "source": [
    "rating.pop(3)"
   ]
  },
  {
   "cell_type": "code",
   "execution_count": null,
   "id": "4de5de06",
   "metadata": {},
   "outputs": [],
   "source": [
    "rating.pop(3)"
   ]
  },
  {
   "cell_type": "code",
   "execution_count": null,
   "id": "090f6e8e",
   "metadata": {},
   "outputs": [],
   "source": [
    "rating.pop(3)"
   ]
  },
  {
   "cell_type": "code",
   "execution_count": null,
   "id": "654cc1f4",
   "metadata": {},
   "outputs": [],
   "source": [
    "rating.pop(3)"
   ]
  },
  {
   "cell_type": "code",
   "execution_count": null,
   "id": "28aec6c5",
   "metadata": {},
   "outputs": [],
   "source": [
    "rating.pop(3)"
   ]
  },
  {
   "cell_type": "code",
   "execution_count": null,
   "id": "5a0c491b",
   "metadata": {},
   "outputs": [],
   "source": [
    "rating.pop(3)"
   ]
  },
  {
   "cell_type": "code",
   "execution_count": null,
   "id": "7061abff",
   "metadata": {},
   "outputs": [],
   "source": [
    "rating.pop(3)"
   ]
  },
  {
   "cell_type": "code",
   "execution_count": null,
   "id": "cd210764",
   "metadata": {},
   "outputs": [],
   "source": [
    "rating.pop(3)"
   ]
  },
  {
   "cell_type": "code",
   "execution_count": null,
   "id": "d07f3d68",
   "metadata": {},
   "outputs": [],
   "source": [
    "rating.pop(3)"
   ]
  },
  {
   "cell_type": "code",
   "execution_count": null,
   "id": "30fc650a",
   "metadata": {},
   "outputs": [],
   "source": [
    "rating.pop(3)"
   ]
  },
  {
   "cell_type": "code",
   "execution_count": null,
   "id": "cf69ffaa",
   "metadata": {},
   "outputs": [],
   "source": [
    "rating.pop(3)"
   ]
  },
  {
   "cell_type": "code",
   "execution_count": null,
   "id": "d5c9a9b5",
   "metadata": {},
   "outputs": [],
   "source": [
    "rating.pop(3)"
   ]
  },
  {
   "cell_type": "code",
   "execution_count": null,
   "id": "ce0c1f6f",
   "metadata": {},
   "outputs": [],
   "source": [
    "rating.pop(3)"
   ]
  },
  {
   "cell_type": "code",
   "execution_count": null,
   "id": "a60bb869",
   "metadata": {},
   "outputs": [],
   "source": [
    "rating.pop(3)"
   ]
  },
  {
   "cell_type": "code",
   "execution_count": null,
   "id": "08edd5f1",
   "metadata": {},
   "outputs": [],
   "source": [
    "rating.pop(3)"
   ]
  },
  {
   "cell_type": "code",
   "execution_count": null,
   "id": "3f41d3ac",
   "metadata": {},
   "outputs": [],
   "source": [
    "rating.pop(3)"
   ]
  },
  {
   "cell_type": "code",
   "execution_count": null,
   "id": "fddf83dc",
   "metadata": {},
   "outputs": [],
   "source": [
    "rating.pop(3)."
   ]
  },
  {
   "cell_type": "code",
   "execution_count": null,
   "id": "d4532f32",
   "metadata": {},
   "outputs": [],
   "source": [
    "rating.pop(3)"
   ]
  },
  {
   "cell_type": "code",
   "execution_count": 406,
   "id": "2dc3b69b",
   "metadata": {},
   "outputs": [
    {
     "data": {
      "text/plain": [
       "''"
      ]
     },
     "execution_count": 406,
     "metadata": {},
     "output_type": "execute_result"
    }
   ],
   "source": [
    "rating.pop(4)"
   ]
  },
  {
   "cell_type": "code",
   "execution_count": 407,
   "id": "2d8d50ee",
   "metadata": {},
   "outputs": [
    {
     "data": {
      "text/plain": [
       "'Rate'"
      ]
     },
     "execution_count": 407,
     "metadata": {},
     "output_type": "execute_result"
    }
   ],
   "source": [
    "rating.pop(4)"
   ]
  },
  {
   "cell_type": "code",
   "execution_count": 408,
   "id": "b6f9ba27",
   "metadata": {},
   "outputs": [
    {
     "data": {
      "text/plain": [
       "''"
      ]
     },
     "execution_count": 408,
     "metadata": {},
     "output_type": "execute_result"
    }
   ],
   "source": [
    "rating.pop(4)"
   ]
  },
  {
   "cell_type": "code",
   "execution_count": 409,
   "id": "671b0187",
   "metadata": {},
   "outputs": [
    {
     "data": {
      "text/plain": [
       "''"
      ]
     },
     "execution_count": 409,
     "metadata": {},
     "output_type": "execute_result"
    }
   ],
   "source": [
    "rating.pop(4)"
   ]
  },
  {
   "cell_type": "code",
   "execution_count": 410,
   "id": "f548ee03",
   "metadata": {},
   "outputs": [
    {
     "data": {
      "text/plain": [
       "''"
      ]
     },
     "execution_count": 410,
     "metadata": {},
     "output_type": "execute_result"
    }
   ],
   "source": [
    "rating.pop(4)"
   ]
  },
  {
   "cell_type": "code",
   "execution_count": 411,
   "id": "42bb3e77",
   "metadata": {},
   "outputs": [
    {
     "data": {
      "text/plain": [
       "''"
      ]
     },
     "execution_count": 411,
     "metadata": {},
     "output_type": "execute_result"
    }
   ],
   "source": [
    "rating.pop(4)"
   ]
  },
  {
   "cell_type": "code",
   "execution_count": 412,
   "id": "1b3a05d1",
   "metadata": {},
   "outputs": [
    {
     "data": {
      "text/plain": [
       "''"
      ]
     },
     "execution_count": 412,
     "metadata": {},
     "output_type": "execute_result"
    }
   ],
   "source": [
    "rating.pop(4)"
   ]
  },
  {
   "cell_type": "code",
   "execution_count": 413,
   "id": "76009734",
   "metadata": {},
   "outputs": [
    {
     "data": {
      "text/plain": [
       "''"
      ]
     },
     "execution_count": 413,
     "metadata": {},
     "output_type": "execute_result"
    }
   ],
   "source": [
    "rating.pop(4)"
   ]
  },
  {
   "cell_type": "code",
   "execution_count": 414,
   "id": "9e090832",
   "metadata": {},
   "outputs": [
    {
     "data": {
      "text/plain": [
       "''"
      ]
     },
     "execution_count": 414,
     "metadata": {},
     "output_type": "execute_result"
    }
   ],
   "source": [
    "rating.pop(4)"
   ]
  },
  {
   "cell_type": "code",
   "execution_count": 415,
   "id": "7350c761",
   "metadata": {},
   "outputs": [
    {
     "data": {
      "text/plain": [
       "''"
      ]
     },
     "execution_count": 415,
     "metadata": {},
     "output_type": "execute_result"
    }
   ],
   "source": [
    "rating.pop(4)"
   ]
  },
  {
   "cell_type": "code",
   "execution_count": 416,
   "id": "6123861b",
   "metadata": {},
   "outputs": [
    {
     "data": {
      "text/plain": [
       "''"
      ]
     },
     "execution_count": 416,
     "metadata": {},
     "output_type": "execute_result"
    }
   ],
   "source": [
    "rating.pop(4)"
   ]
  },
  {
   "cell_type": "code",
   "execution_count": 417,
   "id": "36e0011f",
   "metadata": {},
   "outputs": [
    {
     "data": {
      "text/plain": [
       "''"
      ]
     },
     "execution_count": 417,
     "metadata": {},
     "output_type": "execute_result"
    }
   ],
   "source": [
    "rating.pop(4)"
   ]
  },
  {
   "cell_type": "code",
   "execution_count": 418,
   "id": "959f250b",
   "metadata": {},
   "outputs": [
    {
     "data": {
      "text/plain": [
       "''"
      ]
     },
     "execution_count": 418,
     "metadata": {},
     "output_type": "execute_result"
    }
   ],
   "source": [
    "rating.pop(4)"
   ]
  },
  {
   "cell_type": "code",
   "execution_count": 419,
   "id": "eb05cf98",
   "metadata": {},
   "outputs": [
    {
     "data": {
      "text/plain": [
       "''"
      ]
     },
     "execution_count": 419,
     "metadata": {},
     "output_type": "execute_result"
    }
   ],
   "source": [
    "rating.pop(4)"
   ]
  },
  {
   "cell_type": "code",
   "execution_count": 420,
   "id": "af4c7a79",
   "metadata": {},
   "outputs": [
    {
     "data": {
      "text/plain": [
       "''"
      ]
     },
     "execution_count": 420,
     "metadata": {},
     "output_type": "execute_result"
    }
   ],
   "source": [
    "rating.pop(4)"
   ]
  },
  {
   "cell_type": "code",
   "execution_count": 421,
   "id": "bc8dfbe9",
   "metadata": {},
   "outputs": [
    {
     "data": {
      "text/plain": [
       "''"
      ]
     },
     "execution_count": 421,
     "metadata": {},
     "output_type": "execute_result"
    }
   ],
   "source": [
    "rating.pop(4)"
   ]
  },
  {
   "cell_type": "code",
   "execution_count": 422,
   "id": "e0a8d2fb",
   "metadata": {},
   "outputs": [
    {
     "data": {
      "text/plain": [
       "''"
      ]
     },
     "execution_count": 422,
     "metadata": {},
     "output_type": "execute_result"
    }
   ],
   "source": [
    "rating.pop(4)"
   ]
  },
  {
   "cell_type": "code",
   "execution_count": 423,
   "id": "fd94f407",
   "metadata": {},
   "outputs": [
    {
     "data": {
      "text/plain": [
       "''"
      ]
     },
     "execution_count": 423,
     "metadata": {},
     "output_type": "execute_result"
    }
   ],
   "source": [
    "rating.pop(4)"
   ]
  },
  {
   "cell_type": "code",
   "execution_count": 424,
   "id": "ff372274",
   "metadata": {},
   "outputs": [
    {
     "data": {
      "text/plain": [
       "''"
      ]
     },
     "execution_count": 424,
     "metadata": {},
     "output_type": "execute_result"
    }
   ],
   "source": [
    "rating.pop(4)"
   ]
  },
  {
   "cell_type": "code",
   "execution_count": 425,
   "id": "32a69f87",
   "metadata": {},
   "outputs": [
    {
     "data": {
      "text/plain": [
       "''"
      ]
     },
     "execution_count": 425,
     "metadata": {},
     "output_type": "execute_result"
    }
   ],
   "source": [
    "rating.pop(4)"
   ]
  },
  {
   "cell_type": "code",
   "execution_count": 426,
   "id": "5fbc62c2",
   "metadata": {},
   "outputs": [
    {
     "data": {
      "text/plain": [
       "''"
      ]
     },
     "execution_count": 426,
     "metadata": {},
     "output_type": "execute_result"
    }
   ],
   "source": [
    "rating.pop(4)"
   ]
  },
  {
   "cell_type": "code",
   "execution_count": 427,
   "id": "052ddf40",
   "metadata": {},
   "outputs": [
    {
     "data": {
      "text/plain": [
       "''"
      ]
     },
     "execution_count": 427,
     "metadata": {},
     "output_type": "execute_result"
    }
   ],
   "source": [
    "rating.pop(4)"
   ]
  },
  {
   "cell_type": "code",
   "execution_count": 428,
   "id": "79be2de8",
   "metadata": {},
   "outputs": [
    {
     "data": {
      "text/plain": [
       "''"
      ]
     },
     "execution_count": 428,
     "metadata": {},
     "output_type": "execute_result"
    }
   ],
   "source": [
    "rating.pop(5)"
   ]
  },
  {
   "cell_type": "code",
   "execution_count": 429,
   "id": "524e0475",
   "metadata": {},
   "outputs": [
    {
     "data": {
      "text/plain": [
       "'Rate'"
      ]
     },
     "execution_count": 429,
     "metadata": {},
     "output_type": "execute_result"
    }
   ],
   "source": [
    "rating.pop(5)"
   ]
  },
  {
   "cell_type": "code",
   "execution_count": 430,
   "id": "3744c701",
   "metadata": {},
   "outputs": [
    {
     "data": {
      "text/plain": [
       "''"
      ]
     },
     "execution_count": 430,
     "metadata": {},
     "output_type": "execute_result"
    }
   ],
   "source": [
    "rating.pop(5)"
   ]
  },
  {
   "cell_type": "code",
   "execution_count": 431,
   "id": "9e8c4cd8",
   "metadata": {},
   "outputs": [
    {
     "data": {
      "text/plain": [
       "''"
      ]
     },
     "execution_count": 431,
     "metadata": {},
     "output_type": "execute_result"
    }
   ],
   "source": [
    "rating.pop(5)"
   ]
  },
  {
   "cell_type": "code",
   "execution_count": 432,
   "id": "76ee940f",
   "metadata": {},
   "outputs": [
    {
     "data": {
      "text/plain": [
       "''"
      ]
     },
     "execution_count": 432,
     "metadata": {},
     "output_type": "execute_result"
    }
   ],
   "source": [
    "rating.pop(5)"
   ]
  },
  {
   "cell_type": "code",
   "execution_count": 433,
   "id": "7fdd396d",
   "metadata": {},
   "outputs": [
    {
     "data": {
      "text/plain": [
       "''"
      ]
     },
     "execution_count": 433,
     "metadata": {},
     "output_type": "execute_result"
    }
   ],
   "source": [
    "rating.pop(5)"
   ]
  },
  {
   "cell_type": "code",
   "execution_count": 434,
   "id": "e72ac062",
   "metadata": {},
   "outputs": [
    {
     "data": {
      "text/plain": [
       "''"
      ]
     },
     "execution_count": 434,
     "metadata": {},
     "output_type": "execute_result"
    }
   ],
   "source": [
    "rating.pop(5)"
   ]
  },
  {
   "cell_type": "code",
   "execution_count": 435,
   "id": "372723db",
   "metadata": {},
   "outputs": [
    {
     "data": {
      "text/plain": [
       "''"
      ]
     },
     "execution_count": 435,
     "metadata": {},
     "output_type": "execute_result"
    }
   ],
   "source": [
    "rating.pop(5)"
   ]
  },
  {
   "cell_type": "code",
   "execution_count": 436,
   "id": "e859e8af",
   "metadata": {},
   "outputs": [
    {
     "data": {
      "text/plain": [
       "''"
      ]
     },
     "execution_count": 436,
     "metadata": {},
     "output_type": "execute_result"
    }
   ],
   "source": [
    "rating.pop(5)"
   ]
  },
  {
   "cell_type": "code",
   "execution_count": 437,
   "id": "290bd9a8",
   "metadata": {},
   "outputs": [
    {
     "data": {
      "text/plain": [
       "''"
      ]
     },
     "execution_count": 437,
     "metadata": {},
     "output_type": "execute_result"
    }
   ],
   "source": [
    "rating.pop(5)"
   ]
  },
  {
   "cell_type": "code",
   "execution_count": 438,
   "id": "0efb9956",
   "metadata": {},
   "outputs": [
    {
     "data": {
      "text/plain": [
       "''"
      ]
     },
     "execution_count": 438,
     "metadata": {},
     "output_type": "execute_result"
    }
   ],
   "source": [
    "rating.pop(5)"
   ]
  },
  {
   "cell_type": "code",
   "execution_count": 439,
   "id": "e861bb00",
   "metadata": {},
   "outputs": [
    {
     "data": {
      "text/plain": [
       "''"
      ]
     },
     "execution_count": 439,
     "metadata": {},
     "output_type": "execute_result"
    }
   ],
   "source": [
    "rating.pop(5)"
   ]
  },
  {
   "cell_type": "code",
   "execution_count": 440,
   "id": "6a50b077",
   "metadata": {},
   "outputs": [
    {
     "data": {
      "text/plain": [
       "''"
      ]
     },
     "execution_count": 440,
     "metadata": {},
     "output_type": "execute_result"
    }
   ],
   "source": [
    "rating.pop(5)"
   ]
  },
  {
   "cell_type": "code",
   "execution_count": 441,
   "id": "3f78563c",
   "metadata": {},
   "outputs": [
    {
     "data": {
      "text/plain": [
       "''"
      ]
     },
     "execution_count": 441,
     "metadata": {},
     "output_type": "execute_result"
    }
   ],
   "source": [
    "rating.pop(5)"
   ]
  },
  {
   "cell_type": "code",
   "execution_count": 442,
   "id": "6ccc6bf0",
   "metadata": {},
   "outputs": [
    {
     "data": {
      "text/plain": [
       "''"
      ]
     },
     "execution_count": 442,
     "metadata": {},
     "output_type": "execute_result"
    }
   ],
   "source": [
    "rating.pop(5)"
   ]
  },
  {
   "cell_type": "code",
   "execution_count": 443,
   "id": "b28b3db6",
   "metadata": {},
   "outputs": [
    {
     "data": {
      "text/plain": [
       "''"
      ]
     },
     "execution_count": 443,
     "metadata": {},
     "output_type": "execute_result"
    }
   ],
   "source": [
    "rating.pop(5)"
   ]
  },
  {
   "cell_type": "code",
   "execution_count": 444,
   "id": "b6af0991",
   "metadata": {},
   "outputs": [
    {
     "data": {
      "text/plain": [
       "''"
      ]
     },
     "execution_count": 444,
     "metadata": {},
     "output_type": "execute_result"
    }
   ],
   "source": [
    "rating.pop(5)"
   ]
  },
  {
   "cell_type": "code",
   "execution_count": 445,
   "id": "660ebbb3",
   "metadata": {},
   "outputs": [
    {
     "data": {
      "text/plain": [
       "''"
      ]
     },
     "execution_count": 445,
     "metadata": {},
     "output_type": "execute_result"
    }
   ],
   "source": [
    "rating.pop(5)"
   ]
  },
  {
   "cell_type": "code",
   "execution_count": 446,
   "id": "4d04e088",
   "metadata": {},
   "outputs": [
    {
     "data": {
      "text/plain": [
       "''"
      ]
     },
     "execution_count": 446,
     "metadata": {},
     "output_type": "execute_result"
    }
   ],
   "source": [
    "rating.pop(5)"
   ]
  },
  {
   "cell_type": "code",
   "execution_count": 447,
   "id": "6e2506f8",
   "metadata": {},
   "outputs": [
    {
     "data": {
      "text/plain": [
       "''"
      ]
     },
     "execution_count": 447,
     "metadata": {},
     "output_type": "execute_result"
    }
   ],
   "source": [
    "rating.pop(5)"
   ]
  },
  {
   "cell_type": "code",
   "execution_count": 448,
   "id": "5a1ead7f",
   "metadata": {},
   "outputs": [
    {
     "data": {
      "text/plain": [
       "''"
      ]
     },
     "execution_count": 448,
     "metadata": {},
     "output_type": "execute_result"
    }
   ],
   "source": [
    "rating.pop(5)"
   ]
  },
  {
   "cell_type": "code",
   "execution_count": 449,
   "id": "4badca80",
   "metadata": {},
   "outputs": [
    {
     "data": {
      "text/plain": [
       "''"
      ]
     },
     "execution_count": 449,
     "metadata": {},
     "output_type": "execute_result"
    }
   ],
   "source": [
    "rating.pop(5)"
   ]
  },
  {
   "cell_type": "code",
   "execution_count": 450,
   "id": "b1118aac",
   "metadata": {},
   "outputs": [
    {
     "data": {
      "text/plain": [
       "''"
      ]
     },
     "execution_count": 450,
     "metadata": {},
     "output_type": "execute_result"
    }
   ],
   "source": [
    "rating.pop(6)"
   ]
  },
  {
   "cell_type": "code",
   "execution_count": 451,
   "id": "ab1ff744",
   "metadata": {},
   "outputs": [
    {
     "data": {
      "text/plain": [
       "'Rate'"
      ]
     },
     "execution_count": 451,
     "metadata": {},
     "output_type": "execute_result"
    }
   ],
   "source": [
    "rating.pop(6)"
   ]
  },
  {
   "cell_type": "code",
   "execution_count": 452,
   "id": "3b47207e",
   "metadata": {},
   "outputs": [
    {
     "data": {
      "text/plain": [
       "''"
      ]
     },
     "execution_count": 452,
     "metadata": {},
     "output_type": "execute_result"
    }
   ],
   "source": [
    "rating.pop(6)"
   ]
  },
  {
   "cell_type": "code",
   "execution_count": 453,
   "id": "ad534649",
   "metadata": {},
   "outputs": [
    {
     "data": {
      "text/plain": [
       "''"
      ]
     },
     "execution_count": 453,
     "metadata": {},
     "output_type": "execute_result"
    }
   ],
   "source": [
    "rating.pop(6)"
   ]
  },
  {
   "cell_type": "code",
   "execution_count": 454,
   "id": "b2eb7c82",
   "metadata": {},
   "outputs": [
    {
     "data": {
      "text/plain": [
       "''"
      ]
     },
     "execution_count": 454,
     "metadata": {},
     "output_type": "execute_result"
    }
   ],
   "source": [
    "rating.pop(6)"
   ]
  },
  {
   "cell_type": "code",
   "execution_count": 455,
   "id": "17162291",
   "metadata": {},
   "outputs": [
    {
     "data": {
      "text/plain": [
       "''"
      ]
     },
     "execution_count": 455,
     "metadata": {},
     "output_type": "execute_result"
    }
   ],
   "source": [
    "rating.pop(6)"
   ]
  },
  {
   "cell_type": "code",
   "execution_count": 456,
   "id": "30ae2559",
   "metadata": {},
   "outputs": [
    {
     "data": {
      "text/plain": [
       "''"
      ]
     },
     "execution_count": 456,
     "metadata": {},
     "output_type": "execute_result"
    }
   ],
   "source": [
    "rating.pop(6)"
   ]
  },
  {
   "cell_type": "code",
   "execution_count": 457,
   "id": "d26e950a",
   "metadata": {},
   "outputs": [
    {
     "data": {
      "text/plain": [
       "''"
      ]
     },
     "execution_count": 457,
     "metadata": {},
     "output_type": "execute_result"
    }
   ],
   "source": [
    "rating.pop(6)"
   ]
  },
  {
   "cell_type": "code",
   "execution_count": 458,
   "id": "147853f4",
   "metadata": {},
   "outputs": [
    {
     "data": {
      "text/plain": [
       "''"
      ]
     },
     "execution_count": 458,
     "metadata": {},
     "output_type": "execute_result"
    }
   ],
   "source": [
    "rating.pop(6)"
   ]
  },
  {
   "cell_type": "code",
   "execution_count": 459,
   "id": "d943fa40",
   "metadata": {},
   "outputs": [
    {
     "data": {
      "text/plain": [
       "''"
      ]
     },
     "execution_count": 459,
     "metadata": {},
     "output_type": "execute_result"
    }
   ],
   "source": [
    "rating.pop(6)"
   ]
  },
  {
   "cell_type": "code",
   "execution_count": 460,
   "id": "632b7f74",
   "metadata": {},
   "outputs": [
    {
     "data": {
      "text/plain": [
       "''"
      ]
     },
     "execution_count": 460,
     "metadata": {},
     "output_type": "execute_result"
    }
   ],
   "source": [
    "rating.pop(6)"
   ]
  },
  {
   "cell_type": "code",
   "execution_count": 461,
   "id": "c0d28236",
   "metadata": {},
   "outputs": [
    {
     "data": {
      "text/plain": [
       "''"
      ]
     },
     "execution_count": 461,
     "metadata": {},
     "output_type": "execute_result"
    }
   ],
   "source": [
    "rating.pop(6)"
   ]
  },
  {
   "cell_type": "code",
   "execution_count": 462,
   "id": "4fdb9ea5",
   "metadata": {},
   "outputs": [
    {
     "data": {
      "text/plain": [
       "''"
      ]
     },
     "execution_count": 462,
     "metadata": {},
     "output_type": "execute_result"
    }
   ],
   "source": [
    "rating.pop(6)"
   ]
  },
  {
   "cell_type": "code",
   "execution_count": 463,
   "id": "f421481b",
   "metadata": {},
   "outputs": [
    {
     "data": {
      "text/plain": [
       "''"
      ]
     },
     "execution_count": 463,
     "metadata": {},
     "output_type": "execute_result"
    }
   ],
   "source": [
    "rating.pop(6)"
   ]
  },
  {
   "cell_type": "code",
   "execution_count": 464,
   "id": "f2e8d3ec",
   "metadata": {},
   "outputs": [
    {
     "data": {
      "text/plain": [
       "''"
      ]
     },
     "execution_count": 464,
     "metadata": {},
     "output_type": "execute_result"
    }
   ],
   "source": [
    "rating.pop(6)"
   ]
  },
  {
   "cell_type": "code",
   "execution_count": 465,
   "id": "8b706a1c",
   "metadata": {},
   "outputs": [
    {
     "data": {
      "text/plain": [
       "''"
      ]
     },
     "execution_count": 465,
     "metadata": {},
     "output_type": "execute_result"
    }
   ],
   "source": [
    "rating.pop(6)"
   ]
  },
  {
   "cell_type": "code",
   "execution_count": 466,
   "id": "e58eaf09",
   "metadata": {},
   "outputs": [
    {
     "data": {
      "text/plain": [
       "''"
      ]
     },
     "execution_count": 466,
     "metadata": {},
     "output_type": "execute_result"
    }
   ],
   "source": [
    "rating.pop(6)"
   ]
  },
  {
   "cell_type": "code",
   "execution_count": 467,
   "id": "1b5064cb",
   "metadata": {},
   "outputs": [
    {
     "data": {
      "text/plain": [
       "''"
      ]
     },
     "execution_count": 467,
     "metadata": {},
     "output_type": "execute_result"
    }
   ],
   "source": [
    "rating.pop(6)"
   ]
  },
  {
   "cell_type": "code",
   "execution_count": 468,
   "id": "d4ab53a8",
   "metadata": {},
   "outputs": [
    {
     "data": {
      "text/plain": [
       "''"
      ]
     },
     "execution_count": 468,
     "metadata": {},
     "output_type": "execute_result"
    }
   ],
   "source": [
    "rating.pop(6)"
   ]
  },
  {
   "cell_type": "code",
   "execution_count": 469,
   "id": "66947466",
   "metadata": {},
   "outputs": [
    {
     "data": {
      "text/plain": [
       "''"
      ]
     },
     "execution_count": 469,
     "metadata": {},
     "output_type": "execute_result"
    }
   ],
   "source": [
    "rating.pop(6)"
   ]
  },
  {
   "cell_type": "code",
   "execution_count": 470,
   "id": "61fa47be",
   "metadata": {},
   "outputs": [
    {
     "data": {
      "text/plain": [
       "''"
      ]
     },
     "execution_count": 470,
     "metadata": {},
     "output_type": "execute_result"
    }
   ],
   "source": [
    "rating.pop(6)"
   ]
  },
  {
   "cell_type": "code",
   "execution_count": 471,
   "id": "152b754b",
   "metadata": {},
   "outputs": [
    {
     "data": {
      "text/plain": [
       "''"
      ]
     },
     "execution_count": 471,
     "metadata": {},
     "output_type": "execute_result"
    }
   ],
   "source": [
    "rating.pop(6)"
   ]
  },
  {
   "cell_type": "code",
   "execution_count": 472,
   "id": "d38150ca",
   "metadata": {},
   "outputs": [
    {
     "data": {
      "text/plain": [
       "''"
      ]
     },
     "execution_count": 472,
     "metadata": {},
     "output_type": "execute_result"
    }
   ],
   "source": [
    "rating.pop(7)"
   ]
  },
  {
   "cell_type": "code",
   "execution_count": 473,
   "id": "e283a8b6",
   "metadata": {},
   "outputs": [
    {
     "data": {
      "text/plain": [
       "'Rate'"
      ]
     },
     "execution_count": 473,
     "metadata": {},
     "output_type": "execute_result"
    }
   ],
   "source": [
    "rating.pop(7)"
   ]
  },
  {
   "cell_type": "code",
   "execution_count": 474,
   "id": "f3affe4e",
   "metadata": {},
   "outputs": [
    {
     "data": {
      "text/plain": [
       "''"
      ]
     },
     "execution_count": 474,
     "metadata": {},
     "output_type": "execute_result"
    }
   ],
   "source": [
    "rating.pop(7)"
   ]
  },
  {
   "cell_type": "code",
   "execution_count": 475,
   "id": "44aa2085",
   "metadata": {},
   "outputs": [
    {
     "data": {
      "text/plain": [
       "''"
      ]
     },
     "execution_count": 475,
     "metadata": {},
     "output_type": "execute_result"
    }
   ],
   "source": [
    "rating.pop(7)"
   ]
  },
  {
   "cell_type": "code",
   "execution_count": 476,
   "id": "a143881e",
   "metadata": {},
   "outputs": [
    {
     "data": {
      "text/plain": [
       "''"
      ]
     },
     "execution_count": 476,
     "metadata": {},
     "output_type": "execute_result"
    }
   ],
   "source": [
    "rating.pop(7)"
   ]
  },
  {
   "cell_type": "code",
   "execution_count": 477,
   "id": "2fe17478",
   "metadata": {},
   "outputs": [
    {
     "data": {
      "text/plain": [
       "''"
      ]
     },
     "execution_count": 477,
     "metadata": {},
     "output_type": "execute_result"
    }
   ],
   "source": [
    "rating.pop(7)"
   ]
  },
  {
   "cell_type": "code",
   "execution_count": 478,
   "id": "e04ee26f",
   "metadata": {},
   "outputs": [
    {
     "data": {
      "text/plain": [
       "''"
      ]
     },
     "execution_count": 478,
     "metadata": {},
     "output_type": "execute_result"
    }
   ],
   "source": [
    "rating.pop(7)"
   ]
  },
  {
   "cell_type": "code",
   "execution_count": 479,
   "id": "4239d20a",
   "metadata": {},
   "outputs": [
    {
     "data": {
      "text/plain": [
       "''"
      ]
     },
     "execution_count": 479,
     "metadata": {},
     "output_type": "execute_result"
    }
   ],
   "source": [
    "rating.pop(7)"
   ]
  },
  {
   "cell_type": "code",
   "execution_count": 480,
   "id": "e667b7c3",
   "metadata": {},
   "outputs": [
    {
     "data": {
      "text/plain": [
       "''"
      ]
     },
     "execution_count": 480,
     "metadata": {},
     "output_type": "execute_result"
    }
   ],
   "source": [
    "rating.pop(7)"
   ]
  },
  {
   "cell_type": "code",
   "execution_count": 481,
   "id": "f7db6cf8",
   "metadata": {},
   "outputs": [
    {
     "data": {
      "text/plain": [
       "''"
      ]
     },
     "execution_count": 481,
     "metadata": {},
     "output_type": "execute_result"
    }
   ],
   "source": [
    "rating.pop(7)"
   ]
  },
  {
   "cell_type": "code",
   "execution_count": 482,
   "id": "001261b8",
   "metadata": {},
   "outputs": [
    {
     "data": {
      "text/plain": [
       "''"
      ]
     },
     "execution_count": 482,
     "metadata": {},
     "output_type": "execute_result"
    }
   ],
   "source": [
    "rating.pop(7)"
   ]
  },
  {
   "cell_type": "code",
   "execution_count": 483,
   "id": "a5687ec1",
   "metadata": {},
   "outputs": [
    {
     "data": {
      "text/plain": [
       "''"
      ]
     },
     "execution_count": 483,
     "metadata": {},
     "output_type": "execute_result"
    }
   ],
   "source": [
    "rating.pop(7)"
   ]
  },
  {
   "cell_type": "code",
   "execution_count": 484,
   "id": "3623f4af",
   "metadata": {},
   "outputs": [
    {
     "data": {
      "text/plain": [
       "''"
      ]
     },
     "execution_count": 484,
     "metadata": {},
     "output_type": "execute_result"
    }
   ],
   "source": [
    "rating.pop(7)"
   ]
  },
  {
   "cell_type": "code",
   "execution_count": 485,
   "id": "3e124cb1",
   "metadata": {},
   "outputs": [
    {
     "data": {
      "text/plain": [
       "''"
      ]
     },
     "execution_count": 485,
     "metadata": {},
     "output_type": "execute_result"
    }
   ],
   "source": [
    "rating.pop(7)"
   ]
  },
  {
   "cell_type": "code",
   "execution_count": 486,
   "id": "e553abd1",
   "metadata": {},
   "outputs": [
    {
     "data": {
      "text/plain": [
       "''"
      ]
     },
     "execution_count": 486,
     "metadata": {},
     "output_type": "execute_result"
    }
   ],
   "source": [
    "rating.pop(7)"
   ]
  },
  {
   "cell_type": "code",
   "execution_count": 487,
   "id": "0e6f6d69",
   "metadata": {},
   "outputs": [
    {
     "data": {
      "text/plain": [
       "''"
      ]
     },
     "execution_count": 487,
     "metadata": {},
     "output_type": "execute_result"
    }
   ],
   "source": [
    "rating.pop(7)"
   ]
  },
  {
   "cell_type": "code",
   "execution_count": 488,
   "id": "37030d96",
   "metadata": {},
   "outputs": [
    {
     "data": {
      "text/plain": [
       "''"
      ]
     },
     "execution_count": 488,
     "metadata": {},
     "output_type": "execute_result"
    }
   ],
   "source": [
    "rating.pop(7)"
   ]
  },
  {
   "cell_type": "code",
   "execution_count": 489,
   "id": "0773a20c",
   "metadata": {},
   "outputs": [
    {
     "data": {
      "text/plain": [
       "''"
      ]
     },
     "execution_count": 489,
     "metadata": {},
     "output_type": "execute_result"
    }
   ],
   "source": [
    "rating.pop(7)"
   ]
  },
  {
   "cell_type": "code",
   "execution_count": 490,
   "id": "bc38e746",
   "metadata": {},
   "outputs": [
    {
     "data": {
      "text/plain": [
       "''"
      ]
     },
     "execution_count": 490,
     "metadata": {},
     "output_type": "execute_result"
    }
   ],
   "source": [
    "rating.pop(7)"
   ]
  },
  {
   "cell_type": "code",
   "execution_count": 491,
   "id": "347fd6e3",
   "metadata": {},
   "outputs": [
    {
     "data": {
      "text/plain": [
       "''"
      ]
     },
     "execution_count": 491,
     "metadata": {},
     "output_type": "execute_result"
    }
   ],
   "source": [
    "rating.pop(7)"
   ]
  },
  {
   "cell_type": "code",
   "execution_count": 492,
   "id": "fe671a94",
   "metadata": {},
   "outputs": [
    {
     "data": {
      "text/plain": [
       "''"
      ]
     },
     "execution_count": 492,
     "metadata": {},
     "output_type": "execute_result"
    }
   ],
   "source": [
    "rating.pop(7)"
   ]
  },
  {
   "cell_type": "code",
   "execution_count": 493,
   "id": "7f6a3712",
   "metadata": {},
   "outputs": [
    {
     "data": {
      "text/plain": [
       "''"
      ]
     },
     "execution_count": 493,
     "metadata": {},
     "output_type": "execute_result"
    }
   ],
   "source": [
    "rating.pop(7)"
   ]
  },
  {
   "cell_type": "code",
   "execution_count": 494,
   "id": "a5734966",
   "metadata": {},
   "outputs": [
    {
     "data": {
      "text/plain": [
       "''"
      ]
     },
     "execution_count": 494,
     "metadata": {},
     "output_type": "execute_result"
    }
   ],
   "source": [
    "rating.pop(8)"
   ]
  },
  {
   "cell_type": "code",
   "execution_count": 495,
   "id": "c0be3932",
   "metadata": {},
   "outputs": [
    {
     "data": {
      "text/plain": [
       "'Rate'"
      ]
     },
     "execution_count": 495,
     "metadata": {},
     "output_type": "execute_result"
    }
   ],
   "source": [
    "rating.pop(8)"
   ]
  },
  {
   "cell_type": "code",
   "execution_count": 496,
   "id": "28bdeabf",
   "metadata": {},
   "outputs": [
    {
     "data": {
      "text/plain": [
       "''"
      ]
     },
     "execution_count": 496,
     "metadata": {},
     "output_type": "execute_result"
    }
   ],
   "source": [
    "rating.pop(8)"
   ]
  },
  {
   "cell_type": "code",
   "execution_count": 497,
   "id": "4035fc79",
   "metadata": {},
   "outputs": [
    {
     "data": {
      "text/plain": [
       "''"
      ]
     },
     "execution_count": 497,
     "metadata": {},
     "output_type": "execute_result"
    }
   ],
   "source": [
    "rating.pop(8)"
   ]
  },
  {
   "cell_type": "code",
   "execution_count": 498,
   "id": "d7470637",
   "metadata": {},
   "outputs": [
    {
     "data": {
      "text/plain": [
       "''"
      ]
     },
     "execution_count": 498,
     "metadata": {},
     "output_type": "execute_result"
    }
   ],
   "source": [
    "rating.pop(8)"
   ]
  },
  {
   "cell_type": "code",
   "execution_count": 499,
   "id": "e55fa756",
   "metadata": {},
   "outputs": [
    {
     "data": {
      "text/plain": [
       "''"
      ]
     },
     "execution_count": 499,
     "metadata": {},
     "output_type": "execute_result"
    }
   ],
   "source": [
    "rating.pop(8)"
   ]
  },
  {
   "cell_type": "code",
   "execution_count": 500,
   "id": "a75bc3ec",
   "metadata": {},
   "outputs": [
    {
     "data": {
      "text/plain": [
       "''"
      ]
     },
     "execution_count": 500,
     "metadata": {},
     "output_type": "execute_result"
    }
   ],
   "source": [
    "rating.pop(8)"
   ]
  },
  {
   "cell_type": "code",
   "execution_count": 501,
   "id": "6f6097df",
   "metadata": {},
   "outputs": [
    {
     "data": {
      "text/plain": [
       "''"
      ]
     },
     "execution_count": 501,
     "metadata": {},
     "output_type": "execute_result"
    }
   ],
   "source": [
    "rating.pop(8)"
   ]
  },
  {
   "cell_type": "code",
   "execution_count": 502,
   "id": "8abfc2e2",
   "metadata": {},
   "outputs": [
    {
     "data": {
      "text/plain": [
       "''"
      ]
     },
     "execution_count": 502,
     "metadata": {},
     "output_type": "execute_result"
    }
   ],
   "source": [
    "rating.pop(8)"
   ]
  },
  {
   "cell_type": "code",
   "execution_count": 503,
   "id": "08b7ab9e",
   "metadata": {},
   "outputs": [
    {
     "data": {
      "text/plain": [
       "''"
      ]
     },
     "execution_count": 503,
     "metadata": {},
     "output_type": "execute_result"
    }
   ],
   "source": [
    "rating.pop(8)"
   ]
  },
  {
   "cell_type": "code",
   "execution_count": 504,
   "id": "4e98c48e",
   "metadata": {},
   "outputs": [
    {
     "data": {
      "text/plain": [
       "''"
      ]
     },
     "execution_count": 504,
     "metadata": {},
     "output_type": "execute_result"
    }
   ],
   "source": [
    "rating.pop(8)"
   ]
  },
  {
   "cell_type": "code",
   "execution_count": 505,
   "id": "79105eaf",
   "metadata": {},
   "outputs": [
    {
     "data": {
      "text/plain": [
       "''"
      ]
     },
     "execution_count": 505,
     "metadata": {},
     "output_type": "execute_result"
    }
   ],
   "source": [
    "rating.pop(8)"
   ]
  },
  {
   "cell_type": "code",
   "execution_count": 506,
   "id": "8064aaad",
   "metadata": {},
   "outputs": [
    {
     "data": {
      "text/plain": [
       "''"
      ]
     },
     "execution_count": 506,
     "metadata": {},
     "output_type": "execute_result"
    }
   ],
   "source": [
    "rating.pop(8)"
   ]
  },
  {
   "cell_type": "code",
   "execution_count": 507,
   "id": "922eef1f",
   "metadata": {},
   "outputs": [
    {
     "data": {
      "text/plain": [
       "''"
      ]
     },
     "execution_count": 507,
     "metadata": {},
     "output_type": "execute_result"
    }
   ],
   "source": [
    "rating.pop(8)"
   ]
  },
  {
   "cell_type": "code",
   "execution_count": 508,
   "id": "84e5ae66",
   "metadata": {},
   "outputs": [
    {
     "data": {
      "text/plain": [
       "''"
      ]
     },
     "execution_count": 508,
     "metadata": {},
     "output_type": "execute_result"
    }
   ],
   "source": [
    "rating.pop(8)"
   ]
  },
  {
   "cell_type": "code",
   "execution_count": 509,
   "id": "a9e33c6f",
   "metadata": {},
   "outputs": [
    {
     "data": {
      "text/plain": [
       "''"
      ]
     },
     "execution_count": 509,
     "metadata": {},
     "output_type": "execute_result"
    }
   ],
   "source": [
    "rating.pop(8)"
   ]
  },
  {
   "cell_type": "code",
   "execution_count": 510,
   "id": "26892dcb",
   "metadata": {},
   "outputs": [
    {
     "data": {
      "text/plain": [
       "''"
      ]
     },
     "execution_count": 510,
     "metadata": {},
     "output_type": "execute_result"
    }
   ],
   "source": [
    "rating.pop(8)"
   ]
  },
  {
   "cell_type": "code",
   "execution_count": 511,
   "id": "5948b1e6",
   "metadata": {},
   "outputs": [
    {
     "data": {
      "text/plain": [
       "''"
      ]
     },
     "execution_count": 511,
     "metadata": {},
     "output_type": "execute_result"
    }
   ],
   "source": [
    "rating.pop(8)"
   ]
  },
  {
   "cell_type": "code",
   "execution_count": 512,
   "id": "bd2478c3",
   "metadata": {},
   "outputs": [
    {
     "data": {
      "text/plain": [
       "''"
      ]
     },
     "execution_count": 512,
     "metadata": {},
     "output_type": "execute_result"
    }
   ],
   "source": [
    "rating.pop(8)"
   ]
  },
  {
   "cell_type": "code",
   "execution_count": 513,
   "id": "c6c8711f",
   "metadata": {},
   "outputs": [
    {
     "data": {
      "text/plain": [
       "''"
      ]
     },
     "execution_count": 513,
     "metadata": {},
     "output_type": "execute_result"
    }
   ],
   "source": [
    "rating.pop(8)"
   ]
  },
  {
   "cell_type": "code",
   "execution_count": 514,
   "id": "6539d961",
   "metadata": {},
   "outputs": [
    {
     "data": {
      "text/plain": [
       "''"
      ]
     },
     "execution_count": 514,
     "metadata": {},
     "output_type": "execute_result"
    }
   ],
   "source": [
    "rating.pop(8)"
   ]
  },
  {
   "cell_type": "code",
   "execution_count": 515,
   "id": "5dd1a7df",
   "metadata": {},
   "outputs": [
    {
     "data": {
      "text/plain": [
       "''"
      ]
     },
     "execution_count": 515,
     "metadata": {},
     "output_type": "execute_result"
    }
   ],
   "source": [
    "rating.pop(8)"
   ]
  },
  {
   "cell_type": "code",
   "execution_count": 516,
   "id": "69cbf9e6",
   "metadata": {},
   "outputs": [
    {
     "data": {
      "text/plain": [
       "''"
      ]
     },
     "execution_count": 516,
     "metadata": {},
     "output_type": "execute_result"
    }
   ],
   "source": [
    "rating.pop(9)"
   ]
  },
  {
   "cell_type": "code",
   "execution_count": 517,
   "id": "ed65ae72",
   "metadata": {},
   "outputs": [
    {
     "data": {
      "text/plain": [
       "'Rate'"
      ]
     },
     "execution_count": 517,
     "metadata": {},
     "output_type": "execute_result"
    }
   ],
   "source": [
    "rating.pop(9)"
   ]
  },
  {
   "cell_type": "code",
   "execution_count": 518,
   "id": "6fa4e71a",
   "metadata": {},
   "outputs": [
    {
     "data": {
      "text/plain": [
       "''"
      ]
     },
     "execution_count": 518,
     "metadata": {},
     "output_type": "execute_result"
    }
   ],
   "source": [
    "rating.pop(9)"
   ]
  },
  {
   "cell_type": "code",
   "execution_count": 519,
   "id": "1ba6ca07",
   "metadata": {},
   "outputs": [
    {
     "data": {
      "text/plain": [
       "''"
      ]
     },
     "execution_count": 519,
     "metadata": {},
     "output_type": "execute_result"
    }
   ],
   "source": [
    "rating.pop(9)"
   ]
  },
  {
   "cell_type": "code",
   "execution_count": 520,
   "id": "c300b00a",
   "metadata": {},
   "outputs": [
    {
     "data": {
      "text/plain": [
       "''"
      ]
     },
     "execution_count": 520,
     "metadata": {},
     "output_type": "execute_result"
    }
   ],
   "source": [
    "rating.pop(9)"
   ]
  },
  {
   "cell_type": "code",
   "execution_count": 521,
   "id": "a320376a",
   "metadata": {},
   "outputs": [
    {
     "data": {
      "text/plain": [
       "''"
      ]
     },
     "execution_count": 521,
     "metadata": {},
     "output_type": "execute_result"
    }
   ],
   "source": [
    "rating.pop(9)"
   ]
  },
  {
   "cell_type": "code",
   "execution_count": 522,
   "id": "4d4d8fae",
   "metadata": {},
   "outputs": [
    {
     "data": {
      "text/plain": [
       "''"
      ]
     },
     "execution_count": 522,
     "metadata": {},
     "output_type": "execute_result"
    }
   ],
   "source": [
    "rating.pop(9)"
   ]
  },
  {
   "cell_type": "code",
   "execution_count": 523,
   "id": "d5c1b10b",
   "metadata": {},
   "outputs": [
    {
     "data": {
      "text/plain": [
       "''"
      ]
     },
     "execution_count": 523,
     "metadata": {},
     "output_type": "execute_result"
    }
   ],
   "source": [
    "rating.pop(9)"
   ]
  },
  {
   "cell_type": "code",
   "execution_count": 524,
   "id": "a7284865",
   "metadata": {},
   "outputs": [
    {
     "data": {
      "text/plain": [
       "''"
      ]
     },
     "execution_count": 524,
     "metadata": {},
     "output_type": "execute_result"
    }
   ],
   "source": [
    "rating.pop(9)"
   ]
  },
  {
   "cell_type": "code",
   "execution_count": 525,
   "id": "332eb9f3",
   "metadata": {},
   "outputs": [
    {
     "data": {
      "text/plain": [
       "''"
      ]
     },
     "execution_count": 525,
     "metadata": {},
     "output_type": "execute_result"
    }
   ],
   "source": [
    "rating.pop(9)"
   ]
  },
  {
   "cell_type": "code",
   "execution_count": 526,
   "id": "d7d56bfd",
   "metadata": {},
   "outputs": [
    {
     "data": {
      "text/plain": [
       "''"
      ]
     },
     "execution_count": 526,
     "metadata": {},
     "output_type": "execute_result"
    }
   ],
   "source": [
    "rating.pop(9)"
   ]
  },
  {
   "cell_type": "code",
   "execution_count": 527,
   "id": "729aa8af",
   "metadata": {},
   "outputs": [
    {
     "data": {
      "text/plain": [
       "''"
      ]
     },
     "execution_count": 527,
     "metadata": {},
     "output_type": "execute_result"
    }
   ],
   "source": [
    "rating.pop(9)"
   ]
  },
  {
   "cell_type": "code",
   "execution_count": 528,
   "id": "c06f107a",
   "metadata": {},
   "outputs": [
    {
     "data": {
      "text/plain": [
       "''"
      ]
     },
     "execution_count": 528,
     "metadata": {},
     "output_type": "execute_result"
    }
   ],
   "source": [
    "rating.pop(9)"
   ]
  },
  {
   "cell_type": "code",
   "execution_count": 529,
   "id": "799896e4",
   "metadata": {},
   "outputs": [
    {
     "data": {
      "text/plain": [
       "''"
      ]
     },
     "execution_count": 529,
     "metadata": {},
     "output_type": "execute_result"
    }
   ],
   "source": [
    "rating.pop(9)"
   ]
  },
  {
   "cell_type": "code",
   "execution_count": 530,
   "id": "12bf961d",
   "metadata": {},
   "outputs": [
    {
     "data": {
      "text/plain": [
       "''"
      ]
     },
     "execution_count": 530,
     "metadata": {},
     "output_type": "execute_result"
    }
   ],
   "source": [
    "rating.pop(9)"
   ]
  },
  {
   "cell_type": "code",
   "execution_count": 531,
   "id": "54b88572",
   "metadata": {},
   "outputs": [
    {
     "data": {
      "text/plain": [
       "''"
      ]
     },
     "execution_count": 531,
     "metadata": {},
     "output_type": "execute_result"
    }
   ],
   "source": [
    "rating.pop(10)"
   ]
  },
  {
   "cell_type": "code",
   "execution_count": 532,
   "id": "b53dd28e",
   "metadata": {},
   "outputs": [
    {
     "data": {
      "text/plain": [
       "''"
      ]
     },
     "execution_count": 532,
     "metadata": {},
     "output_type": "execute_result"
    }
   ],
   "source": [
    "rating.pop(10)"
   ]
  },
  {
   "cell_type": "code",
   "execution_count": 533,
   "id": "e00d3279",
   "metadata": {},
   "outputs": [
    {
     "data": {
      "text/plain": [
       "''"
      ]
     },
     "execution_count": 533,
     "metadata": {},
     "output_type": "execute_result"
    }
   ],
   "source": [
    "rating.pop(10)"
   ]
  },
  {
   "cell_type": "code",
   "execution_count": 534,
   "id": "a4128788",
   "metadata": {},
   "outputs": [
    {
     "data": {
      "text/plain": [
       "''"
      ]
     },
     "execution_count": 534,
     "metadata": {},
     "output_type": "execute_result"
    }
   ],
   "source": [
    "rating.pop(10)"
   ]
  },
  {
   "cell_type": "code",
   "execution_count": 535,
   "id": "f80a761b",
   "metadata": {},
   "outputs": [
    {
     "data": {
      "text/plain": [
       "''"
      ]
     },
     "execution_count": 535,
     "metadata": {},
     "output_type": "execute_result"
    }
   ],
   "source": [
    "rating.pop(10)"
   ]
  },
  {
   "cell_type": "code",
   "execution_count": 536,
   "id": "f5a6de7b",
   "metadata": {},
   "outputs": [
    {
     "data": {
      "text/plain": [
       "''"
      ]
     },
     "execution_count": 536,
     "metadata": {},
     "output_type": "execute_result"
    }
   ],
   "source": [
    "rating.pop(10)"
   ]
  },
  {
   "cell_type": "code",
   "execution_count": 537,
   "id": "ccf2d048",
   "metadata": {},
   "outputs": [
    {
     "data": {
      "text/plain": [
       "''"
      ]
     },
     "execution_count": 537,
     "metadata": {},
     "output_type": "execute_result"
    }
   ],
   "source": [
    "rating.pop(11)"
   ]
  },
  {
   "cell_type": "code",
   "execution_count": 538,
   "id": "f4a4ad66",
   "metadata": {},
   "outputs": [
    {
     "data": {
      "text/plain": [
       "'Rate'"
      ]
     },
     "execution_count": 538,
     "metadata": {},
     "output_type": "execute_result"
    }
   ],
   "source": [
    "rating.pop(11)"
   ]
  },
  {
   "cell_type": "code",
   "execution_count": 539,
   "id": "04c81a28",
   "metadata": {},
   "outputs": [
    {
     "data": {
      "text/plain": [
       "''"
      ]
     },
     "execution_count": 539,
     "metadata": {},
     "output_type": "execute_result"
    }
   ],
   "source": [
    "rating.pop(9)"
   ]
  },
  {
   "cell_type": "code",
   "execution_count": 540,
   "id": "a5d79c7c",
   "metadata": {},
   "outputs": [
    {
     "data": {
      "text/plain": [
       "['9.2', '', '', '8.7', '8.2', '7.5', '7.6', '8.1', '6.6', '7.6']"
      ]
     },
     "execution_count": 540,
     "metadata": {},
     "output_type": "execute_result"
    }
   ],
   "source": [
    "rating[0:10]"
   ]
  },
  {
   "cell_type": "code",
   "execution_count": 604,
   "id": "d076aa8c",
   "metadata": {},
   "outputs": [],
   "source": [
    "votes=[]"
   ]
  },
  {
   "cell_type": "code",
   "execution_count": 601,
   "id": "90b03347",
   "metadata": {},
   "outputs": [
    {
     "name": "stderr",
     "output_type": "stream",
     "text": [
      "C:\\Users\\hamsa\\AppData\\Local\\Temp/ipykernel_19328/3893642565.py:1: DeprecationWarning: find_elements_by_xpath is deprecated. Please use find_elements(by=By.XPATH, value=xpath) instead\n",
      "  voting_tags=browser.find_elements_by_xpath(\"//span[@name='nv']\")\n"
     ]
    }
   ],
   "source": [
    "voting_tags=browser.find_elements_by_xpath(\"//span[@name='nv']\")\n",
    "for i in voting_tags:\n",
    "    if i.text is None :\n",
    "        votes.append(\"no rating\") \n",
    "    else:\n",
    "        votes.append(i.text)"
   ]
  },
  {
   "cell_type": "code",
   "execution_count": 602,
   "id": "271c9624",
   "metadata": {},
   "outputs": [
    {
     "data": {
      "text/plain": [
       "['2,006,280',\n",
       " '1,079,874',\n",
       " '953,951',\n",
       " '285,133',\n",
       " '244,857',\n",
       " '297,437',\n",
       " '140,679',\n",
       " '297,953',\n",
       " '340,277',\n",
       " '427,367']"
      ]
     },
     "execution_count": 602,
     "metadata": {},
     "output_type": "execute_result"
    }
   ],
   "source": [
    "votes[0:10]"
   ]
  },
  {
   "cell_type": "code",
   "execution_count": 603,
   "id": "6806e6f8",
   "metadata": {},
   "outputs": [
    {
     "ename": "ValueError",
     "evalue": "Length of values (5) does not match length of index (1)",
     "output_type": "error",
     "traceback": [
      "\u001b[1;31m---------------------------------------------------------------------------\u001b[0m",
      "\u001b[1;31mValueError\u001b[0m                                Traceback (most recent call last)",
      "\u001b[1;32m~\\AppData\\Local\\Temp/ipykernel_19328/1582931528.py\u001b[0m in \u001b[0;36m<module>\u001b[1;34m\u001b[0m\n\u001b[0;32m      2\u001b[0m \u001b[0midmb\u001b[0m\u001b[1;33m=\u001b[0m\u001b[0mpd\u001b[0m\u001b[1;33m.\u001b[0m\u001b[0mDataFrame\u001b[0m\u001b[1;33m(\u001b[0m\u001b[1;33m{\u001b[0m\u001b[1;33m}\u001b[0m\u001b[1;33m)\u001b[0m\u001b[1;33m\u001b[0m\u001b[1;33m\u001b[0m\u001b[0m\n\u001b[0;32m      3\u001b[0m \u001b[0midmb\u001b[0m\u001b[1;33m[\u001b[0m\u001b[1;34m'names'\u001b[0m\u001b[1;33m]\u001b[0m\u001b[1;33m=\u001b[0m\u001b[0mnames\u001b[0m\u001b[1;33m[\u001b[0m\u001b[1;36m0\u001b[0m\u001b[1;33m:\u001b[0m\u001b[1;36m5\u001b[0m\u001b[1;33m]\u001b[0m\u001b[1;33m\u001b[0m\u001b[1;33m\u001b[0m\u001b[0m\n\u001b[1;32m----> 4\u001b[1;33m \u001b[0midmb\u001b[0m\u001b[1;33m[\u001b[0m\u001b[1;34m'genre'\u001b[0m\u001b[1;33m]\u001b[0m\u001b[1;33m=\u001b[0m\u001b[0mgenre\u001b[0m\u001b[1;33m[\u001b[0m\u001b[1;36m0\u001b[0m\u001b[1;33m:\u001b[0m\u001b[1;36m5\u001b[0m\u001b[1;33m]\u001b[0m\u001b[1;33m\u001b[0m\u001b[1;33m\u001b[0m\u001b[0m\n\u001b[0m\u001b[0;32m      5\u001b[0m \u001b[0midmb\u001b[0m\u001b[1;33m[\u001b[0m\u001b[1;34m'rating'\u001b[0m\u001b[1;33m]\u001b[0m\u001b[1;33m=\u001b[0m\u001b[0mrating\u001b[0m\u001b[1;33m[\u001b[0m\u001b[1;36m0\u001b[0m\u001b[1;33m:\u001b[0m\u001b[1;36m5\u001b[0m\u001b[1;33m]\u001b[0m\u001b[1;33m\u001b[0m\u001b[1;33m\u001b[0m\u001b[0m\n\u001b[0;32m      6\u001b[0m \u001b[0midmb\u001b[0m\u001b[1;33m[\u001b[0m\u001b[1;34m'votes'\u001b[0m\u001b[1;33m]\u001b[0m\u001b[1;33m=\u001b[0m\u001b[0mvotes\u001b[0m\u001b[1;33m[\u001b[0m\u001b[1;36m0\u001b[0m\u001b[1;33m:\u001b[0m\u001b[1;36m5\u001b[0m\u001b[1;33m]\u001b[0m\u001b[1;33m\u001b[0m\u001b[1;33m\u001b[0m\u001b[0m\n",
      "\u001b[1;32mC:\\ProgramData\\Anaconda3\\lib\\site-packages\\pandas\\core\\frame.py\u001b[0m in \u001b[0;36m__setitem__\u001b[1;34m(self, key, value)\u001b[0m\n\u001b[0;32m   3610\u001b[0m         \u001b[1;32melse\u001b[0m\u001b[1;33m:\u001b[0m\u001b[1;33m\u001b[0m\u001b[1;33m\u001b[0m\u001b[0m\n\u001b[0;32m   3611\u001b[0m             \u001b[1;31m# set column\u001b[0m\u001b[1;33m\u001b[0m\u001b[1;33m\u001b[0m\u001b[0m\n\u001b[1;32m-> 3612\u001b[1;33m             \u001b[0mself\u001b[0m\u001b[1;33m.\u001b[0m\u001b[0m_set_item\u001b[0m\u001b[1;33m(\u001b[0m\u001b[0mkey\u001b[0m\u001b[1;33m,\u001b[0m \u001b[0mvalue\u001b[0m\u001b[1;33m)\u001b[0m\u001b[1;33m\u001b[0m\u001b[1;33m\u001b[0m\u001b[0m\n\u001b[0m\u001b[0;32m   3613\u001b[0m \u001b[1;33m\u001b[0m\u001b[0m\n\u001b[0;32m   3614\u001b[0m     \u001b[1;32mdef\u001b[0m \u001b[0m_setitem_slice\u001b[0m\u001b[1;33m(\u001b[0m\u001b[0mself\u001b[0m\u001b[1;33m,\u001b[0m \u001b[0mkey\u001b[0m\u001b[1;33m:\u001b[0m \u001b[0mslice\u001b[0m\u001b[1;33m,\u001b[0m \u001b[0mvalue\u001b[0m\u001b[1;33m)\u001b[0m\u001b[1;33m:\u001b[0m\u001b[1;33m\u001b[0m\u001b[1;33m\u001b[0m\u001b[0m\n",
      "\u001b[1;32mC:\\ProgramData\\Anaconda3\\lib\\site-packages\\pandas\\core\\frame.py\u001b[0m in \u001b[0;36m_set_item\u001b[1;34m(self, key, value)\u001b[0m\n\u001b[0;32m   3782\u001b[0m         \u001b[0mensure\u001b[0m \u001b[0mhomogeneity\u001b[0m\u001b[1;33m.\u001b[0m\u001b[1;33m\u001b[0m\u001b[1;33m\u001b[0m\u001b[0m\n\u001b[0;32m   3783\u001b[0m         \"\"\"\n\u001b[1;32m-> 3784\u001b[1;33m         \u001b[0mvalue\u001b[0m \u001b[1;33m=\u001b[0m \u001b[0mself\u001b[0m\u001b[1;33m.\u001b[0m\u001b[0m_sanitize_column\u001b[0m\u001b[1;33m(\u001b[0m\u001b[0mvalue\u001b[0m\u001b[1;33m)\u001b[0m\u001b[1;33m\u001b[0m\u001b[1;33m\u001b[0m\u001b[0m\n\u001b[0m\u001b[0;32m   3785\u001b[0m \u001b[1;33m\u001b[0m\u001b[0m\n\u001b[0;32m   3786\u001b[0m         if (\n",
      "\u001b[1;32mC:\\ProgramData\\Anaconda3\\lib\\site-packages\\pandas\\core\\frame.py\u001b[0m in \u001b[0;36m_sanitize_column\u001b[1;34m(self, value)\u001b[0m\n\u001b[0;32m   4507\u001b[0m \u001b[1;33m\u001b[0m\u001b[0m\n\u001b[0;32m   4508\u001b[0m         \u001b[1;32mif\u001b[0m \u001b[0mis_list_like\u001b[0m\u001b[1;33m(\u001b[0m\u001b[0mvalue\u001b[0m\u001b[1;33m)\u001b[0m\u001b[1;33m:\u001b[0m\u001b[1;33m\u001b[0m\u001b[1;33m\u001b[0m\u001b[0m\n\u001b[1;32m-> 4509\u001b[1;33m             \u001b[0mcom\u001b[0m\u001b[1;33m.\u001b[0m\u001b[0mrequire_length_match\u001b[0m\u001b[1;33m(\u001b[0m\u001b[0mvalue\u001b[0m\u001b[1;33m,\u001b[0m \u001b[0mself\u001b[0m\u001b[1;33m.\u001b[0m\u001b[0mindex\u001b[0m\u001b[1;33m)\u001b[0m\u001b[1;33m\u001b[0m\u001b[1;33m\u001b[0m\u001b[0m\n\u001b[0m\u001b[0;32m   4510\u001b[0m         \u001b[1;32mreturn\u001b[0m \u001b[0msanitize_array\u001b[0m\u001b[1;33m(\u001b[0m\u001b[0mvalue\u001b[0m\u001b[1;33m,\u001b[0m \u001b[0mself\u001b[0m\u001b[1;33m.\u001b[0m\u001b[0mindex\u001b[0m\u001b[1;33m,\u001b[0m \u001b[0mcopy\u001b[0m\u001b[1;33m=\u001b[0m\u001b[1;32mTrue\u001b[0m\u001b[1;33m,\u001b[0m \u001b[0mallow_2d\u001b[0m\u001b[1;33m=\u001b[0m\u001b[1;32mTrue\u001b[0m\u001b[1;33m)\u001b[0m\u001b[1;33m\u001b[0m\u001b[1;33m\u001b[0m\u001b[0m\n\u001b[0;32m   4511\u001b[0m \u001b[1;33m\u001b[0m\u001b[0m\n",
      "\u001b[1;32mC:\\ProgramData\\Anaconda3\\lib\\site-packages\\pandas\\core\\common.py\u001b[0m in \u001b[0;36mrequire_length_match\u001b[1;34m(data, index)\u001b[0m\n\u001b[0;32m    529\u001b[0m     \"\"\"\n\u001b[0;32m    530\u001b[0m     \u001b[1;32mif\u001b[0m \u001b[0mlen\u001b[0m\u001b[1;33m(\u001b[0m\u001b[0mdata\u001b[0m\u001b[1;33m)\u001b[0m \u001b[1;33m!=\u001b[0m \u001b[0mlen\u001b[0m\u001b[1;33m(\u001b[0m\u001b[0mindex\u001b[0m\u001b[1;33m)\u001b[0m\u001b[1;33m:\u001b[0m\u001b[1;33m\u001b[0m\u001b[1;33m\u001b[0m\u001b[0m\n\u001b[1;32m--> 531\u001b[1;33m         raise ValueError(\n\u001b[0m\u001b[0;32m    532\u001b[0m             \u001b[1;34m\"Length of values \"\u001b[0m\u001b[1;33m\u001b[0m\u001b[1;33m\u001b[0m\u001b[0m\n\u001b[0;32m    533\u001b[0m             \u001b[1;34mf\"({len(data)}) \"\u001b[0m\u001b[1;33m\u001b[0m\u001b[1;33m\u001b[0m\u001b[0m\n",
      "\u001b[1;31mValueError\u001b[0m: Length of values (5) does not match length of index (1)"
     ]
    }
   ],
   "source": [
    "import pandas as pd\n",
    "idmb=pd.DataFrame({})\n",
    "idmb['names']=names[0:5]\n",
    "idmb['genre']=genre[0:5]\n",
    "idmb['rating']=rating[0:5]\n",
    "idmb['votes']=votes[0:5]\n",
    "idmb['year']=year[0:5]"
   ]
  },
  {
   "cell_type": "code",
   "execution_count": 606,
   "id": "2d9642de",
   "metadata": {},
   "outputs": [
    {
     "data": {
      "text/html": [
       "<div>\n",
       "<style scoped>\n",
       "    .dataframe tbody tr th:only-of-type {\n",
       "        vertical-align: middle;\n",
       "    }\n",
       "\n",
       "    .dataframe tbody tr th {\n",
       "        vertical-align: top;\n",
       "    }\n",
       "\n",
       "    .dataframe thead th {\n",
       "        text-align: right;\n",
       "    }\n",
       "</style>\n",
       "<table border=\"1\" class=\"dataframe\">\n",
       "  <thead>\n",
       "    <tr style=\"text-align: right;\">\n",
       "      <th></th>\n",
       "      <th>names</th>\n",
       "    </tr>\n",
       "  </thead>\n",
       "  <tbody>\n",
       "    <tr>\n",
       "      <th>0</th>\n",
       "      <td>Arrow</td>\n",
       "    </tr>\n",
       "  </tbody>\n",
       "</table>\n",
       "</div>"
      ],
      "text/plain": [
       "   names\n",
       "0  Arrow"
      ]
     },
     "execution_count": 606,
     "metadata": {},
     "output_type": "execute_result"
    }
   ],
   "source": [
    "idmb"
   ]
  },
  {
   "cell_type": "raw",
   "id": "f1658b35",
   "metadata": {},
   "source": [
    "\n",
    "\n",
    "#\n",
    "\n",
    "6.\tScrape the details of top 100 songs on billiboard.com. Url = https:/www.billboard.com/\n",
    "You have to find the following details:\n",
    "A)\tSong name\n",
    "B)\tArtist name\n",
    "C)\tLast week rank\n",
    "D)\tPeak rank\n",
    "E)\tWeeks on board\n",
    "Note: - From the home page you have to click on the charts option then hot 100-page link through code.\n"
   ]
  },
  {
   "cell_type": "code",
   "execution_count": 608,
   "id": "b01664ef",
   "metadata": {},
   "outputs": [
    {
     "ename": "ModuleNotFoundError",
     "evalue": "No module named 'spotipy'",
     "output_type": "error",
     "traceback": [
      "\u001b[1;31m---------------------------------------------------------------------------\u001b[0m",
      "\u001b[1;31mModuleNotFoundError\u001b[0m                       Traceback (most recent call last)",
      "\u001b[1;32m~\\AppData\\Local\\Temp/ipykernel_19328/8884534.py\u001b[0m in \u001b[0;36m<module>\u001b[1;34m\u001b[0m\n\u001b[0;32m      1\u001b[0m \u001b[1;32mfrom\u001b[0m \u001b[0memail\u001b[0m \u001b[1;32mimport\u001b[0m \u001b[0mheader\u001b[0m\u001b[1;33m\u001b[0m\u001b[1;33m\u001b[0m\u001b[0m\n\u001b[1;32m----> 2\u001b[1;33m \u001b[1;32mimport\u001b[0m \u001b[0mspotipy\u001b[0m\u001b[1;33m\u001b[0m\u001b[1;33m\u001b[0m\u001b[0m\n\u001b[0m\u001b[0;32m      3\u001b[0m \u001b[1;32mfrom\u001b[0m \u001b[0mspotipy\u001b[0m\u001b[1;33m.\u001b[0m\u001b[0moauth2\u001b[0m \u001b[1;32mimport\u001b[0m \u001b[0mSpotifyOAuth\u001b[0m\u001b[1;33m\u001b[0m\u001b[1;33m\u001b[0m\u001b[0m\n\u001b[0;32m      4\u001b[0m \u001b[1;32mfrom\u001b[0m \u001b[0mbs4\u001b[0m \u001b[1;32mimport\u001b[0m \u001b[0mBeautifulSoup\u001b[0m\u001b[1;33m\u001b[0m\u001b[1;33m\u001b[0m\u001b[0m\n\u001b[0;32m      5\u001b[0m \u001b[1;32mimport\u001b[0m \u001b[0mrequests\u001b[0m\u001b[1;33m\u001b[0m\u001b[1;33m\u001b[0m\u001b[0m\n",
      "\u001b[1;31mModuleNotFoundError\u001b[0m: No module named 'spotipy'"
     ]
    }
   ],
   "source": [
    "from email import header\n",
    "import spotipy\n",
    "from spotipy.oauth2 import SpotifyOAuth\n",
    "from bs4 import BeautifulSoup\n",
    "import requests\n",
    "\n",
    "url=\"https://www.billboard.com/charts/hot-100/\"\n",
    "\n",
    "date=input(\"what year you would like to travel to in YYY-MM-DD\")\n",
    "#**********************************************Code Dealing with Getting authenticated with Spotify API*************************************\n",
    "CLIENT_ID=\"29b4aa34873d43e7a5fb0133a098c832\"\n",
    "CLIENT_SECRET=\"63c8b9a9dbe747f8814d4143b83c56be\"\n",
    "\n",
    "scope = \"playlist-modify-private\"\n",
    "\n",
    "sp = spotipy.Spotify(auth_manager=SpotifyOAuth(client_id=CLIENT_ID,client_secret=CLIENT_SECRET,redirect_uri=\"http://example.com\",scope=scope))\n",
    "\n",
    "USER_ID=sp.current_user()['display_name']\n",
    "\n",
    "#********************************************Code Dealing with Getting Billiboard Data In desirable form************************************\n",
    "response=requests.get(url=url+date)\n",
    "webpage=response.text\n",
    "\n",
    "soup=BeautifulSoup(webpage,\"html.parser\")\n",
    "raw_songs=soup.find_all(name=\"h3\",id=\"title-of-a-story\",class_=\"c-title\")\n",
    "\n",
    "songs=[song.getText() for song in raw_songs]\n",
    "del songs[0:6]\n",
    "start=1\n",
    "end=start+3\n",
    "while (end<len(songs)):\n",
    "    del songs[start:end]\n",
    "    start=start+1\n",
    "    end=start+3\n",
    "\n",
    "del songs[len(songs)-4:len(songs)]\n",
    "\n",
    "final_songs=[song.split(\"\\n\")[1] for song in songs]\n",
    "\n",
    "#*****************************************Code Dealing with Getting url of every Song from Spotify API************************************\n",
    "songs_uri=[]\n",
    "for song in final_songs:\n",
    "    string_to_search=\"track:\"+song+\" year:\"+date[0:4]\n",
    "    result = sp.search(q=string_to_search, type=\"track\")\n",
    "    \n",
    "    try:\n",
    "        uri=result[\"tracks\"][\"items\"][0][\"uri\"]\n",
    "        songs_uri.append(uri)\n",
    "    except IndexError:\n",
    "        print(f\"{song} does not exist in Spotify\")\n",
    "\n",
    "#creating playlist\n",
    "PLAYLIST_ID=sp.user_playlist_create(user=USER_ID,name=f\"{date} Billiboard 100\", public=False,collaborative=False, description='Top 100 songs')[\"id\"]\n",
    "\n",
    "#adding tracks to the playlist\n",
    "sp.playlist_add_items(playlist_id=PLAYLIST_ID, items=songs_uri, position=None)\n"
   ]
  },
  {
   "cell_type": "raw",
   "id": "98a19030",
   "metadata": {},
   "source": [
    "\n",
    "#\n",
    "\n",
    "10.\tDetails of Datasets from UCI machine learning repositories. Url = https://archive.ics.uci.edu/\n",
    "You have to find the following details:\n",
    "A)\tDataset name\n",
    "B)\tData type\n",
    "C)\tTask\n",
    "D)\tAttribute type\n",
    "E)\tNo of instances\n",
    "F)\tNo of attribute\n",
    "G)\tYear\n",
    "Note: - from the home page you have to go to the ShowAllDataset page through code.\n"
   ]
  },
  {
   "cell_type": "markdown",
   "id": "12105107",
   "metadata": {},
   "source": [
    "# Notebook for crawling the UCI Machine Learning repository website + Convinient functions for downloading, summarizing or viewing information about various datasets"
   ]
  },
  {
   "cell_type": "code",
   "execution_count": 625,
   "id": "5c791edb",
   "metadata": {},
   "outputs": [],
   "source": [
    "import pandas as pd\n",
    "import numpy as np\n",
    "import matplotlib.pyplot as plt\n",
    "import re\n",
    "import requests\n",
    "import os"
   ]
  },
  {
   "cell_type": "code",
   "execution_count": 626,
   "id": "ed2f5871",
   "metadata": {},
   "outputs": [
    {
     "name": "stdout",
     "output_type": "stream",
     "text": [
      "Opening the file connection...\n"
     ]
    },
    {
     "ename": "HTTPError",
     "evalue": "HTTP Error 404: Not Found",
     "output_type": "error",
     "traceback": [
      "\u001b[1;31m---------------------------------------------------------------------------\u001b[0m",
      "\u001b[1;31mHTTPError\u001b[0m                                 Traceback (most recent call last)",
      "\u001b[1;32m~\\AppData\\Local\\Temp/ipykernel_19328/30607957.py\u001b[0m in \u001b[0;36m<module>\u001b[1;34m\u001b[0m\n\u001b[0;32m     11\u001b[0m \u001b[0murl\u001b[0m \u001b[1;33m=\u001b[0m \u001b[1;34m'https://archive.ics.uci.edu/ml/datasets.html?format=&task=&att=&area=&numAtt=&numIns=&type=&sort=nameUp&view=list'\u001b[0m\u001b[1;33m\u001b[0m\u001b[1;33m\u001b[0m\u001b[0m\n\u001b[0;32m     12\u001b[0m \u001b[0mprint\u001b[0m\u001b[1;33m(\u001b[0m\u001b[1;34m\"Opening the file connection...\"\u001b[0m\u001b[1;33m)\u001b[0m\u001b[1;33m\u001b[0m\u001b[1;33m\u001b[0m\u001b[0m\n\u001b[1;32m---> 13\u001b[1;33m \u001b[0muh\u001b[0m\u001b[1;33m=\u001b[0m \u001b[0murllib\u001b[0m\u001b[1;33m.\u001b[0m\u001b[0mrequest\u001b[0m\u001b[1;33m.\u001b[0m\u001b[0murlopen\u001b[0m\u001b[1;33m(\u001b[0m\u001b[0murl\u001b[0m\u001b[1;33m,\u001b[0m \u001b[0mcontext\u001b[0m\u001b[1;33m=\u001b[0m\u001b[0mctx\u001b[0m\u001b[1;33m)\u001b[0m\u001b[1;33m\u001b[0m\u001b[1;33m\u001b[0m\u001b[0m\n\u001b[0m\u001b[0;32m     14\u001b[0m \u001b[0mprint\u001b[0m\u001b[1;33m(\u001b[0m\u001b[1;34m\"HTTP status\"\u001b[0m\u001b[1;33m,\u001b[0m\u001b[0muh\u001b[0m\u001b[1;33m.\u001b[0m\u001b[0mgetcode\u001b[0m\u001b[1;33m(\u001b[0m\u001b[1;33m)\u001b[0m\u001b[1;33m)\u001b[0m\u001b[1;33m\u001b[0m\u001b[1;33m\u001b[0m\u001b[0m\n\u001b[0;32m     15\u001b[0m \u001b[0mhtml\u001b[0m \u001b[1;33m=\u001b[0m\u001b[0muh\u001b[0m\u001b[1;33m.\u001b[0m\u001b[0mread\u001b[0m\u001b[1;33m(\u001b[0m\u001b[1;33m)\u001b[0m\u001b[1;33m\u001b[0m\u001b[1;33m\u001b[0m\u001b[0m\n",
      "\u001b[1;32mC:\\ProgramData\\Anaconda3\\lib\\urllib\\request.py\u001b[0m in \u001b[0;36murlopen\u001b[1;34m(url, data, timeout, cafile, capath, cadefault, context)\u001b[0m\n\u001b[0;32m    212\u001b[0m     \u001b[1;32melse\u001b[0m\u001b[1;33m:\u001b[0m\u001b[1;33m\u001b[0m\u001b[1;33m\u001b[0m\u001b[0m\n\u001b[0;32m    213\u001b[0m         \u001b[0mopener\u001b[0m \u001b[1;33m=\u001b[0m \u001b[0m_opener\u001b[0m\u001b[1;33m\u001b[0m\u001b[1;33m\u001b[0m\u001b[0m\n\u001b[1;32m--> 214\u001b[1;33m     \u001b[1;32mreturn\u001b[0m \u001b[0mopener\u001b[0m\u001b[1;33m.\u001b[0m\u001b[0mopen\u001b[0m\u001b[1;33m(\u001b[0m\u001b[0murl\u001b[0m\u001b[1;33m,\u001b[0m \u001b[0mdata\u001b[0m\u001b[1;33m,\u001b[0m \u001b[0mtimeout\u001b[0m\u001b[1;33m)\u001b[0m\u001b[1;33m\u001b[0m\u001b[1;33m\u001b[0m\u001b[0m\n\u001b[0m\u001b[0;32m    215\u001b[0m \u001b[1;33m\u001b[0m\u001b[0m\n\u001b[0;32m    216\u001b[0m \u001b[1;32mdef\u001b[0m \u001b[0minstall_opener\u001b[0m\u001b[1;33m(\u001b[0m\u001b[0mopener\u001b[0m\u001b[1;33m)\u001b[0m\u001b[1;33m:\u001b[0m\u001b[1;33m\u001b[0m\u001b[1;33m\u001b[0m\u001b[0m\n",
      "\u001b[1;32mC:\\ProgramData\\Anaconda3\\lib\\urllib\\request.py\u001b[0m in \u001b[0;36mopen\u001b[1;34m(self, fullurl, data, timeout)\u001b[0m\n\u001b[0;32m    521\u001b[0m         \u001b[1;32mfor\u001b[0m \u001b[0mprocessor\u001b[0m \u001b[1;32min\u001b[0m \u001b[0mself\u001b[0m\u001b[1;33m.\u001b[0m\u001b[0mprocess_response\u001b[0m\u001b[1;33m.\u001b[0m\u001b[0mget\u001b[0m\u001b[1;33m(\u001b[0m\u001b[0mprotocol\u001b[0m\u001b[1;33m,\u001b[0m \u001b[1;33m[\u001b[0m\u001b[1;33m]\u001b[0m\u001b[1;33m)\u001b[0m\u001b[1;33m:\u001b[0m\u001b[1;33m\u001b[0m\u001b[1;33m\u001b[0m\u001b[0m\n\u001b[0;32m    522\u001b[0m             \u001b[0mmeth\u001b[0m \u001b[1;33m=\u001b[0m \u001b[0mgetattr\u001b[0m\u001b[1;33m(\u001b[0m\u001b[0mprocessor\u001b[0m\u001b[1;33m,\u001b[0m \u001b[0mmeth_name\u001b[0m\u001b[1;33m)\u001b[0m\u001b[1;33m\u001b[0m\u001b[1;33m\u001b[0m\u001b[0m\n\u001b[1;32m--> 523\u001b[1;33m             \u001b[0mresponse\u001b[0m \u001b[1;33m=\u001b[0m \u001b[0mmeth\u001b[0m\u001b[1;33m(\u001b[0m\u001b[0mreq\u001b[0m\u001b[1;33m,\u001b[0m \u001b[0mresponse\u001b[0m\u001b[1;33m)\u001b[0m\u001b[1;33m\u001b[0m\u001b[1;33m\u001b[0m\u001b[0m\n\u001b[0m\u001b[0;32m    524\u001b[0m \u001b[1;33m\u001b[0m\u001b[0m\n\u001b[0;32m    525\u001b[0m         \u001b[1;32mreturn\u001b[0m \u001b[0mresponse\u001b[0m\u001b[1;33m\u001b[0m\u001b[1;33m\u001b[0m\u001b[0m\n",
      "\u001b[1;32mC:\\ProgramData\\Anaconda3\\lib\\urllib\\request.py\u001b[0m in \u001b[0;36mhttp_response\u001b[1;34m(self, request, response)\u001b[0m\n\u001b[0;32m    630\u001b[0m         \u001b[1;31m# request was successfully received, understood, and accepted.\u001b[0m\u001b[1;33m\u001b[0m\u001b[1;33m\u001b[0m\u001b[0m\n\u001b[0;32m    631\u001b[0m         \u001b[1;32mif\u001b[0m \u001b[1;32mnot\u001b[0m \u001b[1;33m(\u001b[0m\u001b[1;36m200\u001b[0m \u001b[1;33m<=\u001b[0m \u001b[0mcode\u001b[0m \u001b[1;33m<\u001b[0m \u001b[1;36m300\u001b[0m\u001b[1;33m)\u001b[0m\u001b[1;33m:\u001b[0m\u001b[1;33m\u001b[0m\u001b[1;33m\u001b[0m\u001b[0m\n\u001b[1;32m--> 632\u001b[1;33m             response = self.parent.error(\n\u001b[0m\u001b[0;32m    633\u001b[0m                 'http', request, response, code, msg, hdrs)\n\u001b[0;32m    634\u001b[0m \u001b[1;33m\u001b[0m\u001b[0m\n",
      "\u001b[1;32mC:\\ProgramData\\Anaconda3\\lib\\urllib\\request.py\u001b[0m in \u001b[0;36merror\u001b[1;34m(self, proto, *args)\u001b[0m\n\u001b[0;32m    559\u001b[0m         \u001b[1;32mif\u001b[0m \u001b[0mhttp_err\u001b[0m\u001b[1;33m:\u001b[0m\u001b[1;33m\u001b[0m\u001b[1;33m\u001b[0m\u001b[0m\n\u001b[0;32m    560\u001b[0m             \u001b[0margs\u001b[0m \u001b[1;33m=\u001b[0m \u001b[1;33m(\u001b[0m\u001b[0mdict\u001b[0m\u001b[1;33m,\u001b[0m \u001b[1;34m'default'\u001b[0m\u001b[1;33m,\u001b[0m \u001b[1;34m'http_error_default'\u001b[0m\u001b[1;33m)\u001b[0m \u001b[1;33m+\u001b[0m \u001b[0morig_args\u001b[0m\u001b[1;33m\u001b[0m\u001b[1;33m\u001b[0m\u001b[0m\n\u001b[1;32m--> 561\u001b[1;33m             \u001b[1;32mreturn\u001b[0m \u001b[0mself\u001b[0m\u001b[1;33m.\u001b[0m\u001b[0m_call_chain\u001b[0m\u001b[1;33m(\u001b[0m\u001b[1;33m*\u001b[0m\u001b[0margs\u001b[0m\u001b[1;33m)\u001b[0m\u001b[1;33m\u001b[0m\u001b[1;33m\u001b[0m\u001b[0m\n\u001b[0m\u001b[0;32m    562\u001b[0m \u001b[1;33m\u001b[0m\u001b[0m\n\u001b[0;32m    563\u001b[0m \u001b[1;31m# XXX probably also want an abstract factory that knows when it makes\u001b[0m\u001b[1;33m\u001b[0m\u001b[1;33m\u001b[0m\u001b[0m\n",
      "\u001b[1;32mC:\\ProgramData\\Anaconda3\\lib\\urllib\\request.py\u001b[0m in \u001b[0;36m_call_chain\u001b[1;34m(self, chain, kind, meth_name, *args)\u001b[0m\n\u001b[0;32m    492\u001b[0m         \u001b[1;32mfor\u001b[0m \u001b[0mhandler\u001b[0m \u001b[1;32min\u001b[0m \u001b[0mhandlers\u001b[0m\u001b[1;33m:\u001b[0m\u001b[1;33m\u001b[0m\u001b[1;33m\u001b[0m\u001b[0m\n\u001b[0;32m    493\u001b[0m             \u001b[0mfunc\u001b[0m \u001b[1;33m=\u001b[0m \u001b[0mgetattr\u001b[0m\u001b[1;33m(\u001b[0m\u001b[0mhandler\u001b[0m\u001b[1;33m,\u001b[0m \u001b[0mmeth_name\u001b[0m\u001b[1;33m)\u001b[0m\u001b[1;33m\u001b[0m\u001b[1;33m\u001b[0m\u001b[0m\n\u001b[1;32m--> 494\u001b[1;33m             \u001b[0mresult\u001b[0m \u001b[1;33m=\u001b[0m \u001b[0mfunc\u001b[0m\u001b[1;33m(\u001b[0m\u001b[1;33m*\u001b[0m\u001b[0margs\u001b[0m\u001b[1;33m)\u001b[0m\u001b[1;33m\u001b[0m\u001b[1;33m\u001b[0m\u001b[0m\n\u001b[0m\u001b[0;32m    495\u001b[0m             \u001b[1;32mif\u001b[0m \u001b[0mresult\u001b[0m \u001b[1;32mis\u001b[0m \u001b[1;32mnot\u001b[0m \u001b[1;32mNone\u001b[0m\u001b[1;33m:\u001b[0m\u001b[1;33m\u001b[0m\u001b[1;33m\u001b[0m\u001b[0m\n\u001b[0;32m    496\u001b[0m                 \u001b[1;32mreturn\u001b[0m \u001b[0mresult\u001b[0m\u001b[1;33m\u001b[0m\u001b[1;33m\u001b[0m\u001b[0m\n",
      "\u001b[1;32mC:\\ProgramData\\Anaconda3\\lib\\urllib\\request.py\u001b[0m in \u001b[0;36mhttp_error_default\u001b[1;34m(self, req, fp, code, msg, hdrs)\u001b[0m\n\u001b[0;32m    639\u001b[0m \u001b[1;32mclass\u001b[0m \u001b[0mHTTPDefaultErrorHandler\u001b[0m\u001b[1;33m(\u001b[0m\u001b[0mBaseHandler\u001b[0m\u001b[1;33m)\u001b[0m\u001b[1;33m:\u001b[0m\u001b[1;33m\u001b[0m\u001b[1;33m\u001b[0m\u001b[0m\n\u001b[0;32m    640\u001b[0m     \u001b[1;32mdef\u001b[0m \u001b[0mhttp_error_default\u001b[0m\u001b[1;33m(\u001b[0m\u001b[0mself\u001b[0m\u001b[1;33m,\u001b[0m \u001b[0mreq\u001b[0m\u001b[1;33m,\u001b[0m \u001b[0mfp\u001b[0m\u001b[1;33m,\u001b[0m \u001b[0mcode\u001b[0m\u001b[1;33m,\u001b[0m \u001b[0mmsg\u001b[0m\u001b[1;33m,\u001b[0m \u001b[0mhdrs\u001b[0m\u001b[1;33m)\u001b[0m\u001b[1;33m:\u001b[0m\u001b[1;33m\u001b[0m\u001b[1;33m\u001b[0m\u001b[0m\n\u001b[1;32m--> 641\u001b[1;33m         \u001b[1;32mraise\u001b[0m \u001b[0mHTTPError\u001b[0m\u001b[1;33m(\u001b[0m\u001b[0mreq\u001b[0m\u001b[1;33m.\u001b[0m\u001b[0mfull_url\u001b[0m\u001b[1;33m,\u001b[0m \u001b[0mcode\u001b[0m\u001b[1;33m,\u001b[0m \u001b[0mmsg\u001b[0m\u001b[1;33m,\u001b[0m \u001b[0mhdrs\u001b[0m\u001b[1;33m,\u001b[0m \u001b[0mfp\u001b[0m\u001b[1;33m)\u001b[0m\u001b[1;33m\u001b[0m\u001b[1;33m\u001b[0m\u001b[0m\n\u001b[0m\u001b[0;32m    642\u001b[0m \u001b[1;33m\u001b[0m\u001b[0m\n\u001b[0;32m    643\u001b[0m \u001b[1;32mclass\u001b[0m \u001b[0mHTTPRedirectHandler\u001b[0m\u001b[1;33m(\u001b[0m\u001b[0mBaseHandler\u001b[0m\u001b[1;33m)\u001b[0m\u001b[1;33m:\u001b[0m\u001b[1;33m\u001b[0m\u001b[1;33m\u001b[0m\u001b[0m\n",
      "\u001b[1;31mHTTPError\u001b[0m: HTTP Error 404: Not Found"
     ]
    }
   ],
   "source": [
    "import urllib.request, urllib.parse, urllib.error\n",
    "from bs4 import BeautifulSoup\n",
    "import ssl\n",
    "\n",
    "# Ignore SSL certificate errors\n",
    "ctx = ssl.create_default_context()\n",
    "ctx.check_hostname = False\n",
    "ctx.verify_mode = ssl.CERT_NONE\n",
    "\n",
    "# Read the HTML from the URL and pass on to BeautifulSoup\n",
    "url = 'https://archive.ics.uci.edu/ml/datasets.html?format=&task=&att=&area=&numAtt=&numIns=&type=&sort=nameUp&view=list'\n",
    "print(\"Opening the file connection...\")\n",
    "uh= urllib.request.urlopen(url, context=ctx)\n",
    "print(\"HTTP status\",uh.getcode())\n",
    "html =uh.read()\n",
    "print(f\"Reading done. Total {len(html)} characters read.\")\n",
    "\n",
    "# Soupify!\n",
    "soup = BeautifulSoup(html, 'html5lib')"
   ]
  },
  {
   "cell_type": "code",
   "execution_count": null,
   "id": "bf9c54a8",
   "metadata": {},
   "outputs": [],
   "source": [
    "lst=[]\n",
    "for tag in soup.find_all('p'):\n",
    "    lst.append(tag.contents)\n",
    "\n",
    "i=0\n",
    "description_dict={}\n",
    "dataset_list=[]\n",
    "for l in lst:\n",
    "    if len(l)>2:\n",
    "        if str(l[1]).find('datasets/')!=-1:\n",
    "            string=str(l[1])\n",
    "            s=re.search('\">.*</a>',string)\n",
    "            x,y=s.span()\n",
    "            description_dict[string[x+2:y-4]]=(l[2])[2:]\n",
    "            s=re.search(\"\\\".*\\\"\",string)\n",
    "            x,y=s.span()\n",
    "            dataset_list.append(string[x+10:y-1])\n",
    "            i+=1\n",
    "print(f\"{i} datasets read\")"
   ]
  },
  {
   "cell_type": "code",
   "execution_count": null,
   "id": "5afffb29",
   "metadata": {},
   "outputs": [],
   "source": [
    "def dataset_page_crawl(dataset):\n",
    "    dataset_dict={}\n",
    "    baseurl='https://archive.ics.uci.edu/ml/datasets/'\n",
    "    url = baseurl+dataset\n",
    "    dataset_dict['Dataset Page']=url\n",
    "    #print(\"Opening the page:\", url)\n",
    "    try:\n",
    "        uh= urllib.request.urlopen(url, context=ctx)\n",
    "        html =uh.read().decode()\n",
    "        soup=BeautifulSoup(html,'html5lib')\n",
    "        #print(soup.text[:200])\n",
    "        if soup.text.find(\"does not appear to exist\")!=-1:\n",
    "            print(f\"{dataset} not found\")\n",
    "            return None\n",
    "        else:\n",
    "            dataurls = []\n",
    "            for pclass in soup.find_all('p'):\n",
    "                if (pclass.get_text().find('Abstract: '))!=-1:\n",
    "                    dataset_dict['Abstract']=str(pclass.get_text())[len('Abstract: '):]\n",
    "                    break # Breaking here is crucial. Otherwise the loop will progress through other p tags\n",
    "                    # and put 'Not found' in the Abstract field\n",
    "                else:\n",
    "                    dataset_dict['Abstract']='Not found!'\n",
    "            for link in soup.find_all('a'):\n",
    "                if link.attrs['href'].find('machine-learning-databases')!=-1:\n",
    "                    a=link.attrs['href']\n",
    "                    a=a[2:]\n",
    "                    dataurl=\"https://archive.ics.uci.edu/ml/\"+a\n",
    "                    dataurls.append(dataurl)\n",
    "            \n",
    "            # After finishing the for-loop with a-tags, the first dataurl is added to the dictionary \n",
    "            dataset_dict['dataurl']=dataurls[0]\n",
    "            \n",
    "        return dataset_dict\n",
    "    except:\n",
    "        print(\"Could not retrieve\")\n",
    "        return None"
   ]
  },
  {
   "cell_type": "code",
   "execution_count": null,
   "id": "90aefca4",
   "metadata": {},
   "outputs": [],
   "source": [
    "i=0\n",
    "baseurl='https://archive.ics.uci.edu/ml/datasets/'\n",
    "dataset_dicts=[]\n",
    "for dataset in dataset_list:\n",
    "    a=dataset_page_crawl(dataset)\n",
    "    if a!=None:\n",
    "        dataset_dicts.append(a)\n",
    "        i+=1\n",
    "        print(f\"Dataset {i} processed\",end=', ')\n",
    "\n",
    "print(\"\\nTotal datasets analyzed: \",i)"
   ]
  },
  {
   "cell_type": "code",
   "execution_count": 627,
   "id": "bb526412",
   "metadata": {},
   "outputs": [],
   "source": [
    "df_dataset = pd.DataFrame(data=dataset_dicts)"
   ]
  },
  {
   "cell_type": "code",
   "execution_count": 628,
   "id": "a455e9fa",
   "metadata": {},
   "outputs": [
    {
     "ename": "NameError",
     "evalue": "name 'description_dict' is not defined",
     "output_type": "error",
     "traceback": [
      "\u001b[1;31m---------------------------------------------------------------------------\u001b[0m",
      "\u001b[1;31mNameError\u001b[0m                                 Traceback (most recent call last)",
      "\u001b[1;32m~\\AppData\\Local\\Temp/ipykernel_19328/78833370.py\u001b[0m in \u001b[0;36m<module>\u001b[1;34m\u001b[0m\n\u001b[1;32m----> 1\u001b[1;33m \u001b[0mdf_description\u001b[0m\u001b[1;33m=\u001b[0m\u001b[0mpd\u001b[0m\u001b[1;33m.\u001b[0m\u001b[0mDataFrame\u001b[0m\u001b[1;33m(\u001b[0m\u001b[0mdata\u001b[0m\u001b[1;33m=\u001b[0m\u001b[0mlist\u001b[0m\u001b[1;33m(\u001b[0m\u001b[0mdescription_dict\u001b[0m\u001b[1;33m.\u001b[0m\u001b[0mitems\u001b[0m\u001b[1;33m(\u001b[0m\u001b[1;33m)\u001b[0m\u001b[1;33m)\u001b[0m\u001b[1;33m,\u001b[0m\u001b[0mcolumns\u001b[0m\u001b[1;33m=\u001b[0m\u001b[1;33m[\u001b[0m\u001b[1;34m'Dataset'\u001b[0m\u001b[1;33m,\u001b[0m\u001b[1;34m'Abstract'\u001b[0m\u001b[1;33m]\u001b[0m\u001b[1;33m)\u001b[0m\u001b[1;33m\u001b[0m\u001b[1;33m\u001b[0m\u001b[0m\n\u001b[0m",
      "\u001b[1;31mNameError\u001b[0m: name 'description_dict' is not defined"
     ]
    }
   ],
   "source": [
    "df_description=pd.DataFrame(data=list(description_dict.items()),columns=['Dataset','Abstract'])\n"
   ]
  },
  {
   "cell_type": "code",
   "execution_count": 629,
   "id": "3886c0a7",
   "metadata": {},
   "outputs": [
    {
     "ename": "NameError",
     "evalue": "name 'df_description' is not defined",
     "output_type": "error",
     "traceback": [
      "\u001b[1;31m---------------------------------------------------------------------------\u001b[0m",
      "\u001b[1;31mNameError\u001b[0m                                 Traceback (most recent call last)",
      "\u001b[1;32m~\\AppData\\Local\\Temp/ipykernel_19328/1967391846.py\u001b[0m in \u001b[0;36m<module>\u001b[1;34m\u001b[0m\n\u001b[1;32m----> 1\u001b[1;33m \u001b[0mdf_joined\u001b[0m\u001b[1;33m=\u001b[0m\u001b[0mdf_description\u001b[0m\u001b[1;33m.\u001b[0m\u001b[0mmerge\u001b[0m\u001b[1;33m(\u001b[0m\u001b[0mdf_dataset\u001b[0m\u001b[1;33m,\u001b[0m\u001b[0mon\u001b[0m\u001b[1;33m=\u001b[0m\u001b[1;34m'Abstract'\u001b[0m\u001b[1;33m)\u001b[0m\u001b[1;33m\u001b[0m\u001b[1;33m\u001b[0m\u001b[0m\n\u001b[0m\u001b[0;32m      2\u001b[0m \u001b[0mdf_joined\u001b[0m\u001b[1;33m\u001b[0m\u001b[1;33m\u001b[0m\u001b[0m\n",
      "\u001b[1;31mNameError\u001b[0m: name 'df_description' is not defined"
     ]
    }
   ],
   "source": [
    "df_joined=df_description.merge(df_dataset,on='Abstract')\n",
    "df_joined"
   ]
  },
  {
   "cell_type": "code",
   "execution_count": null,
   "id": "ed6dee88",
   "metadata": {},
   "outputs": [],
   "source": []
  },
  {
   "cell_type": "code",
   "execution_count": null,
   "id": "5fa58027",
   "metadata": {},
   "outputs": [],
   "source": []
  }
 ],
 "metadata": {
  "kernelspec": {
   "display_name": "Python 3 (ipykernel)",
   "language": "python",
   "name": "python3"
  },
  "language_info": {
   "codemirror_mode": {
    "name": "ipython",
    "version": 3
   },
   "file_extension": ".py",
   "mimetype": "text/x-python",
   "name": "python",
   "nbconvert_exporter": "python",
   "pygments_lexer": "ipython3",
   "version": "3.9.7"
  }
 },
 "nbformat": 4,
 "nbformat_minor": 5
}
